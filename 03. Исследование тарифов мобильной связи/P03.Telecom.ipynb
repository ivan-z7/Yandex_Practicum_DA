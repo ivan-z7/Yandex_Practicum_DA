{
 "cells": [
  {
   "cell_type": "markdown",
   "metadata": {},
   "source": [
    "# Исследование тарифов сотовой связи\n",
    "\n",
    "Для анализа предоставлена выборка клиентов оператора сотовой связи за год.\n",
    "\n",
    "Задача: определить какой тариф из двух более выгоден (приносит больше прибыли), на основе анализа поведения клиентов.\n"
   ]
  },
  {
   "cell_type": "markdown",
   "metadata": {},
   "source": [
    "## Изучение данных "
   ]
  },
  {
   "cell_type": "markdown",
   "metadata": {},
   "source": [
    "Импортируем необходимые для проекта библиотеки:"
   ]
  },
  {
   "cell_type": "code",
   "execution_count": 1,
   "metadata": {},
   "outputs": [],
   "source": [
    "import pandas as pd\n",
    "import numpy as np\n",
    "import math\n",
    "import matplotlib.pyplot as plt \n",
    "from scipy import stats as st\n"
   ]
  },
  {
   "cell_type": "markdown",
   "metadata": {},
   "source": [
    "Информация содержится в пяти таблицах. Прочитаем их и сохраним в отдельных переменных **df** с добавлением описания в названии. Чтобы провести предварительную оценку данных, посмотрим первые строки и общую информацию."
   ]
  },
  {
   "cell_type": "code",
   "execution_count": 2,
   "metadata": {},
   "outputs": [
    {
     "data": {
      "text/html": [
       "<div>\n",
       "<style scoped>\n",
       "    .dataframe tbody tr th:only-of-type {\n",
       "        vertical-align: middle;\n",
       "    }\n",
       "\n",
       "    .dataframe tbody tr th {\n",
       "        vertical-align: top;\n",
       "    }\n",
       "\n",
       "    .dataframe thead th {\n",
       "        text-align: right;\n",
       "    }\n",
       "</style>\n",
       "<table border=\"1\" class=\"dataframe\">\n",
       "  <thead>\n",
       "    <tr style=\"text-align: right;\">\n",
       "      <th></th>\n",
       "      <th>id</th>\n",
       "      <th>call_date</th>\n",
       "      <th>duration</th>\n",
       "      <th>user_id</th>\n",
       "    </tr>\n",
       "  </thead>\n",
       "  <tbody>\n",
       "    <tr>\n",
       "      <td>28808</td>\n",
       "      <td>1072_134</td>\n",
       "      <td>2018-04-14</td>\n",
       "      <td>3.38</td>\n",
       "      <td>1072</td>\n",
       "    </tr>\n",
       "    <tr>\n",
       "      <td>189537</td>\n",
       "      <td>1466_552</td>\n",
       "      <td>2018-08-12</td>\n",
       "      <td>5.89</td>\n",
       "      <td>1466</td>\n",
       "    </tr>\n",
       "    <tr>\n",
       "      <td>161341</td>\n",
       "      <td>1396_42</td>\n",
       "      <td>2018-09-01</td>\n",
       "      <td>6.81</td>\n",
       "      <td>1396</td>\n",
       "    </tr>\n",
       "    <tr>\n",
       "      <td>131981</td>\n",
       "      <td>1339_310</td>\n",
       "      <td>2018-10-11</td>\n",
       "      <td>0.00</td>\n",
       "      <td>1339</td>\n",
       "    </tr>\n",
       "    <tr>\n",
       "      <td>145882</td>\n",
       "      <td>1372_60</td>\n",
       "      <td>2018-08-11</td>\n",
       "      <td>13.12</td>\n",
       "      <td>1372</td>\n",
       "    </tr>\n",
       "    <tr>\n",
       "      <td>34969</td>\n",
       "      <td>1086_518</td>\n",
       "      <td>2018-05-25</td>\n",
       "      <td>0.00</td>\n",
       "      <td>1086</td>\n",
       "    </tr>\n",
       "    <tr>\n",
       "      <td>117284</td>\n",
       "      <td>1301_176</td>\n",
       "      <td>2018-12-02</td>\n",
       "      <td>0.00</td>\n",
       "      <td>1301</td>\n",
       "    </tr>\n",
       "    <tr>\n",
       "      <td>182590</td>\n",
       "      <td>1454_342</td>\n",
       "      <td>2018-07-09</td>\n",
       "      <td>10.53</td>\n",
       "      <td>1454</td>\n",
       "    </tr>\n",
       "    <tr>\n",
       "      <td>62869</td>\n",
       "      <td>1158_427</td>\n",
       "      <td>2018-09-23</td>\n",
       "      <td>3.19</td>\n",
       "      <td>1158</td>\n",
       "    </tr>\n",
       "    <tr>\n",
       "      <td>115350</td>\n",
       "      <td>1296_163</td>\n",
       "      <td>2018-06-30</td>\n",
       "      <td>13.41</td>\n",
       "      <td>1296</td>\n",
       "    </tr>\n",
       "  </tbody>\n",
       "</table>\n",
       "</div>"
      ],
      "text/plain": [
       "              id   call_date  duration  user_id\n",
       "28808   1072_134  2018-04-14      3.38     1072\n",
       "189537  1466_552  2018-08-12      5.89     1466\n",
       "161341   1396_42  2018-09-01      6.81     1396\n",
       "131981  1339_310  2018-10-11      0.00     1339\n",
       "145882   1372_60  2018-08-11     13.12     1372\n",
       "34969   1086_518  2018-05-25      0.00     1086\n",
       "117284  1301_176  2018-12-02      0.00     1301\n",
       "182590  1454_342  2018-07-09     10.53     1454\n",
       "62869   1158_427  2018-09-23      3.19     1158\n",
       "115350  1296_163  2018-06-30     13.41     1296"
      ]
     },
     "metadata": {},
     "output_type": "display_data"
    },
    {
     "name": "stdout",
     "output_type": "stream",
     "text": [
      "<class 'pandas.core.frame.DataFrame'>\n",
      "RangeIndex: 202607 entries, 0 to 202606\n",
      "Data columns (total 4 columns):\n",
      "id           202607 non-null object\n",
      "call_date    202607 non-null object\n",
      "duration     202607 non-null float64\n",
      "user_id      202607 non-null int64\n",
      "dtypes: float64(1), int64(1), object(2)\n",
      "memory usage: 6.2+ MB\n"
     ]
    }
   ],
   "source": [
    "df_calls = pd.read_csv('/datasets/calls.csv')\n",
    "pd.set_option(\"display.max_columns\", None) #для отображения всех столбцов\n",
    "\n",
    "display(df_calls.sample(10))\n",
    "df_calls.info()"
   ]
  },
  {
   "cell_type": "markdown",
   "metadata": {},
   "source": [
    "Таблица **df_calls** состоит из 4 столбцов разного типа: \n",
    "- id — уникальный номер звонка\n",
    "- call_date — дата звонка\n",
    "- duration — длительность звонка в минутах\n",
    "- user_id — идентификатор пользователя, сделавшего звонок\n",
    "\n",
    "Пропуски отсутствуют. Проблем с названиями столбцов нет. \n",
    "\n",
    "Нужно изменить формат у столбца с датой звонка. Также мы округляем звонки в большую сторону до минут, поэтому в дальнейшем столбец `duration` округлим до целого в большую сторону и поменяем формат на *int*."
   ]
  },
  {
   "cell_type": "code",
   "execution_count": 3,
   "metadata": {},
   "outputs": [
    {
     "data": {
      "text/html": [
       "<div>\n",
       "<style scoped>\n",
       "    .dataframe tbody tr th:only-of-type {\n",
       "        vertical-align: middle;\n",
       "    }\n",
       "\n",
       "    .dataframe tbody tr th {\n",
       "        vertical-align: top;\n",
       "    }\n",
       "\n",
       "    .dataframe thead th {\n",
       "        text-align: right;\n",
       "    }\n",
       "</style>\n",
       "<table border=\"1\" class=\"dataframe\">\n",
       "  <thead>\n",
       "    <tr style=\"text-align: right;\">\n",
       "      <th></th>\n",
       "      <th>Unnamed: 0</th>\n",
       "      <th>id</th>\n",
       "      <th>mb_used</th>\n",
       "      <th>session_date</th>\n",
       "      <th>user_id</th>\n",
       "    </tr>\n",
       "  </thead>\n",
       "  <tbody>\n",
       "    <tr>\n",
       "      <td>36804</td>\n",
       "      <td>36804</td>\n",
       "      <td>1127_154</td>\n",
       "      <td>606.96</td>\n",
       "      <td>2018-07-29</td>\n",
       "      <td>1127</td>\n",
       "    </tr>\n",
       "    <tr>\n",
       "      <td>18078</td>\n",
       "      <td>18078</td>\n",
       "      <td>1063_99</td>\n",
       "      <td>312.16</td>\n",
       "      <td>2018-08-08</td>\n",
       "      <td>1063</td>\n",
       "    </tr>\n",
       "    <tr>\n",
       "      <td>98079</td>\n",
       "      <td>98079</td>\n",
       "      <td>1330_287</td>\n",
       "      <td>350.90</td>\n",
       "      <td>2018-07-24</td>\n",
       "      <td>1330</td>\n",
       "    </tr>\n",
       "    <tr>\n",
       "      <td>9176</td>\n",
       "      <td>9176</td>\n",
       "      <td>1032_256</td>\n",
       "      <td>996.17</td>\n",
       "      <td>2018-03-12</td>\n",
       "      <td>1032</td>\n",
       "    </tr>\n",
       "    <tr>\n",
       "      <td>126612</td>\n",
       "      <td>126612</td>\n",
       "      <td>1425_141</td>\n",
       "      <td>121.48</td>\n",
       "      <td>2018-06-14</td>\n",
       "      <td>1425</td>\n",
       "    </tr>\n",
       "    <tr>\n",
       "      <td>63163</td>\n",
       "      <td>63163</td>\n",
       "      <td>1215_69</td>\n",
       "      <td>0.00</td>\n",
       "      <td>2018-09-03</td>\n",
       "      <td>1215</td>\n",
       "    </tr>\n",
       "    <tr>\n",
       "      <td>62080</td>\n",
       "      <td>62080</td>\n",
       "      <td>1210_189</td>\n",
       "      <td>206.17</td>\n",
       "      <td>2018-09-21</td>\n",
       "      <td>1210</td>\n",
       "    </tr>\n",
       "    <tr>\n",
       "      <td>53731</td>\n",
       "      <td>53731</td>\n",
       "      <td>1180_222</td>\n",
       "      <td>357.90</td>\n",
       "      <td>2018-05-09</td>\n",
       "      <td>1180</td>\n",
       "    </tr>\n",
       "    <tr>\n",
       "      <td>70811</td>\n",
       "      <td>70811</td>\n",
       "      <td>1240_479</td>\n",
       "      <td>637.17</td>\n",
       "      <td>2018-03-02</td>\n",
       "      <td>1240</td>\n",
       "    </tr>\n",
       "    <tr>\n",
       "      <td>62215</td>\n",
       "      <td>62215</td>\n",
       "      <td>1211_48</td>\n",
       "      <td>0.00</td>\n",
       "      <td>2018-11-09</td>\n",
       "      <td>1211</td>\n",
       "    </tr>\n",
       "  </tbody>\n",
       "</table>\n",
       "</div>"
      ],
      "text/plain": [
       "        Unnamed: 0        id  mb_used session_date  user_id\n",
       "36804        36804  1127_154   606.96   2018-07-29     1127\n",
       "18078        18078   1063_99   312.16   2018-08-08     1063\n",
       "98079        98079  1330_287   350.90   2018-07-24     1330\n",
       "9176          9176  1032_256   996.17   2018-03-12     1032\n",
       "126612      126612  1425_141   121.48   2018-06-14     1425\n",
       "63163        63163   1215_69     0.00   2018-09-03     1215\n",
       "62080        62080  1210_189   206.17   2018-09-21     1210\n",
       "53731        53731  1180_222   357.90   2018-05-09     1180\n",
       "70811        70811  1240_479   637.17   2018-03-02     1240\n",
       "62215        62215   1211_48     0.00   2018-11-09     1211"
      ]
     },
     "metadata": {},
     "output_type": "display_data"
    },
    {
     "name": "stdout",
     "output_type": "stream",
     "text": [
      "<class 'pandas.core.frame.DataFrame'>\n",
      "RangeIndex: 149396 entries, 0 to 149395\n",
      "Data columns (total 5 columns):\n",
      "Unnamed: 0      149396 non-null int64\n",
      "id              149396 non-null object\n",
      "mb_used         149396 non-null float64\n",
      "session_date    149396 non-null object\n",
      "user_id         149396 non-null int64\n",
      "dtypes: float64(1), int64(2), object(2)\n",
      "memory usage: 5.7+ MB\n"
     ]
    }
   ],
   "source": [
    "df_internet = pd.read_csv('/datasets/internet.csv')\n",
    "\n",
    "display(df_internet.sample(10))\n",
    "df_internet.info()"
   ]
  },
  {
   "cell_type": "markdown",
   "metadata": {},
   "source": [
    "Таблица **df_internet** состоит из 5 столбцов разного типа: \n",
    "- id — уникальный номер сессии\n",
    "- mb_used — объём потраченного за сессию интернет-трафика (в мегабайтах)\n",
    "- session_date — дата интернет-сессии\n",
    "- user_id — идентификатор пользователя\n",
    "\n",
    "Также, похоже, что индекс дублируется в отдельном столбце.\n",
    "\n",
    "\n",
    "Пропуски отсутствуют. Проблем с названиями столбцов нет. \n",
    "\n",
    "Нужно изменить формат у столбца с датой интернет сессии. Трафик оставляем с текущим типом, округлим после получения сводных сумм за месяц.\n"
   ]
  },
  {
   "cell_type": "code",
   "execution_count": 4,
   "metadata": {},
   "outputs": [
    {
     "data": {
      "text/html": [
       "<div>\n",
       "<style scoped>\n",
       "    .dataframe tbody tr th:only-of-type {\n",
       "        vertical-align: middle;\n",
       "    }\n",
       "\n",
       "    .dataframe tbody tr th {\n",
       "        vertical-align: top;\n",
       "    }\n",
       "\n",
       "    .dataframe thead th {\n",
       "        text-align: right;\n",
       "    }\n",
       "</style>\n",
       "<table border=\"1\" class=\"dataframe\">\n",
       "  <thead>\n",
       "    <tr style=\"text-align: right;\">\n",
       "      <th></th>\n",
       "      <th>id</th>\n",
       "      <th>message_date</th>\n",
       "      <th>user_id</th>\n",
       "    </tr>\n",
       "  </thead>\n",
       "  <tbody>\n",
       "    <tr>\n",
       "      <td>55024</td>\n",
       "      <td>1244_190</td>\n",
       "      <td>2018-08-02</td>\n",
       "      <td>1244</td>\n",
       "    </tr>\n",
       "    <tr>\n",
       "      <td>120091</td>\n",
       "      <td>1485_57</td>\n",
       "      <td>2018-12-31</td>\n",
       "      <td>1485</td>\n",
       "    </tr>\n",
       "    <tr>\n",
       "      <td>13246</td>\n",
       "      <td>1055_212</td>\n",
       "      <td>2018-10-18</td>\n",
       "      <td>1055</td>\n",
       "    </tr>\n",
       "    <tr>\n",
       "      <td>39834</td>\n",
       "      <td>1170_24</td>\n",
       "      <td>2018-12-21</td>\n",
       "      <td>1170</td>\n",
       "    </tr>\n",
       "    <tr>\n",
       "      <td>19855</td>\n",
       "      <td>1088_145</td>\n",
       "      <td>2018-12-02</td>\n",
       "      <td>1088</td>\n",
       "    </tr>\n",
       "    <tr>\n",
       "      <td>121047</td>\n",
       "      <td>1490_269</td>\n",
       "      <td>2018-06-01</td>\n",
       "      <td>1490</td>\n",
       "    </tr>\n",
       "    <tr>\n",
       "      <td>1228</td>\n",
       "      <td>1004_282</td>\n",
       "      <td>2018-10-25</td>\n",
       "      <td>1004</td>\n",
       "    </tr>\n",
       "    <tr>\n",
       "      <td>83267</td>\n",
       "      <td>1346_178</td>\n",
       "      <td>2018-10-27</td>\n",
       "      <td>1346</td>\n",
       "    </tr>\n",
       "    <tr>\n",
       "      <td>33593</td>\n",
       "      <td>1146_391</td>\n",
       "      <td>2018-10-18</td>\n",
       "      <td>1146</td>\n",
       "    </tr>\n",
       "    <tr>\n",
       "      <td>22111</td>\n",
       "      <td>1092_392</td>\n",
       "      <td>2018-12-01</td>\n",
       "      <td>1092</td>\n",
       "    </tr>\n",
       "  </tbody>\n",
       "</table>\n",
       "</div>"
      ],
      "text/plain": [
       "              id message_date  user_id\n",
       "55024   1244_190   2018-08-02     1244\n",
       "120091   1485_57   2018-12-31     1485\n",
       "13246   1055_212   2018-10-18     1055\n",
       "39834    1170_24   2018-12-21     1170\n",
       "19855   1088_145   2018-12-02     1088\n",
       "121047  1490_269   2018-06-01     1490\n",
       "1228    1004_282   2018-10-25     1004\n",
       "83267   1346_178   2018-10-27     1346\n",
       "33593   1146_391   2018-10-18     1146\n",
       "22111   1092_392   2018-12-01     1092"
      ]
     },
     "metadata": {},
     "output_type": "display_data"
    },
    {
     "name": "stdout",
     "output_type": "stream",
     "text": [
      "<class 'pandas.core.frame.DataFrame'>\n",
      "RangeIndex: 123036 entries, 0 to 123035\n",
      "Data columns (total 3 columns):\n",
      "id              123036 non-null object\n",
      "message_date    123036 non-null object\n",
      "user_id         123036 non-null int64\n",
      "dtypes: int64(1), object(2)\n",
      "memory usage: 2.8+ MB\n"
     ]
    }
   ],
   "source": [
    "df_messages = pd.read_csv('/datasets/messages.csv')\n",
    "\n",
    "display(df_messages.sample(10))\n",
    "df_messages.info()"
   ]
  },
  {
   "cell_type": "markdown",
   "metadata": {},
   "source": [
    "\n",
    "Таблица **df_messages** состоит из 3 столбцов разного типа и 123 036 строк: \n",
    "- id — уникальный номер сообщения\n",
    "- message_date — дата сообщения\n",
    "- user_id — идентификатор пользователя, отправившего сообщение\n",
    "\n",
    "Пропуски отсутствуют. Проблем с названиями столбцов нет. \n",
    "\n",
    "Нужно изменить формат у столбца с датой сообщения, так же, как в предыдущих таблицах. "
   ]
  },
  {
   "cell_type": "code",
   "execution_count": 5,
   "metadata": {},
   "outputs": [
    {
     "data": {
      "text/html": [
       "<div>\n",
       "<style scoped>\n",
       "    .dataframe tbody tr th:only-of-type {\n",
       "        vertical-align: middle;\n",
       "    }\n",
       "\n",
       "    .dataframe tbody tr th {\n",
       "        vertical-align: top;\n",
       "    }\n",
       "\n",
       "    .dataframe thead th {\n",
       "        text-align: right;\n",
       "    }\n",
       "</style>\n",
       "<table border=\"1\" class=\"dataframe\">\n",
       "  <thead>\n",
       "    <tr style=\"text-align: right;\">\n",
       "      <th></th>\n",
       "      <th>messages_included</th>\n",
       "      <th>mb_per_month_included</th>\n",
       "      <th>minutes_included</th>\n",
       "      <th>rub_monthly_fee</th>\n",
       "      <th>rub_per_gb</th>\n",
       "      <th>rub_per_message</th>\n",
       "      <th>rub_per_minute</th>\n",
       "      <th>tariff_name</th>\n",
       "    </tr>\n",
       "  </thead>\n",
       "  <tbody>\n",
       "    <tr>\n",
       "      <td>0</td>\n",
       "      <td>50</td>\n",
       "      <td>15360</td>\n",
       "      <td>500</td>\n",
       "      <td>550</td>\n",
       "      <td>200</td>\n",
       "      <td>3</td>\n",
       "      <td>3</td>\n",
       "      <td>smart</td>\n",
       "    </tr>\n",
       "    <tr>\n",
       "      <td>1</td>\n",
       "      <td>1000</td>\n",
       "      <td>30720</td>\n",
       "      <td>3000</td>\n",
       "      <td>1950</td>\n",
       "      <td>150</td>\n",
       "      <td>1</td>\n",
       "      <td>1</td>\n",
       "      <td>ultra</td>\n",
       "    </tr>\n",
       "  </tbody>\n",
       "</table>\n",
       "</div>"
      ],
      "text/plain": [
       "   messages_included  mb_per_month_included  minutes_included  \\\n",
       "0                 50                  15360               500   \n",
       "1               1000                  30720              3000   \n",
       "\n",
       "   rub_monthly_fee  rub_per_gb  rub_per_message  rub_per_minute tariff_name  \n",
       "0              550         200                3               3       smart  \n",
       "1             1950         150                1               1       ultra  "
      ]
     },
     "metadata": {},
     "output_type": "display_data"
    },
    {
     "name": "stdout",
     "output_type": "stream",
     "text": [
      "<class 'pandas.core.frame.DataFrame'>\n",
      "RangeIndex: 2 entries, 0 to 1\n",
      "Data columns (total 8 columns):\n",
      "messages_included        2 non-null int64\n",
      "mb_per_month_included    2 non-null int64\n",
      "minutes_included         2 non-null int64\n",
      "rub_monthly_fee          2 non-null int64\n",
      "rub_per_gb               2 non-null int64\n",
      "rub_per_message          2 non-null int64\n",
      "rub_per_minute           2 non-null int64\n",
      "tariff_name              2 non-null object\n",
      "dtypes: int64(7), object(1)\n",
      "memory usage: 256.0+ bytes\n"
     ]
    }
   ],
   "source": [
    "df_tariffs = pd.read_csv('/datasets/tariffs.csv')\n",
    "\n",
    "display(df_tariffs.head())\n",
    "df_tariffs.info()"
   ]
  },
  {
   "cell_type": "markdown",
   "metadata": {},
   "source": [
    "Таблица **df_tariffs** состоит из 8 столбцов: \n",
    "- tariff_name — название тарифа\n",
    "- rub_monthly_fee — ежемесячная абонентская плата в рублях\n",
    "- minutes_included — количество минут разговора в месяц, включённых в абонентскую плату\n",
    "- messages_included — количество сообщений в месяц, включённых в абонентскую плату\n",
    "- mb_per_month_included — объём интернет-трафика, включённого в абонентскую плату (в мегабайтах)\n",
    "- rub_per_minute — стоимость минуты разговора сверх тарифного пакета (например, если в тарифе 100 минут разговора в месяц, то со 101 минуты будет взиматься плата)\n",
    "- rub_per_message — стоимость отправки сообщения сверх тарифного пакета\n",
    "- rub_per_gb — стоимость дополнительного гигабайта интернет-трафика сверх тарифного пакета (1 гигабайт = 1024 мегабайта)\n",
    "\n",
    "Пропуски отсутствуют. Проблем с названиями столбцов и форматом нет. "
   ]
  },
  {
   "cell_type": "code",
   "execution_count": 6,
   "metadata": {},
   "outputs": [
    {
     "data": {
      "text/html": [
       "<div>\n",
       "<style scoped>\n",
       "    .dataframe tbody tr th:only-of-type {\n",
       "        vertical-align: middle;\n",
       "    }\n",
       "\n",
       "    .dataframe tbody tr th {\n",
       "        vertical-align: top;\n",
       "    }\n",
       "\n",
       "    .dataframe thead th {\n",
       "        text-align: right;\n",
       "    }\n",
       "</style>\n",
       "<table border=\"1\" class=\"dataframe\">\n",
       "  <thead>\n",
       "    <tr style=\"text-align: right;\">\n",
       "      <th></th>\n",
       "      <th>user_id</th>\n",
       "      <th>age</th>\n",
       "      <th>churn_date</th>\n",
       "      <th>city</th>\n",
       "      <th>first_name</th>\n",
       "      <th>last_name</th>\n",
       "      <th>reg_date</th>\n",
       "      <th>tariff</th>\n",
       "    </tr>\n",
       "  </thead>\n",
       "  <tbody>\n",
       "    <tr>\n",
       "      <td>0</td>\n",
       "      <td>1000</td>\n",
       "      <td>52</td>\n",
       "      <td>NaN</td>\n",
       "      <td>Краснодар</td>\n",
       "      <td>Рафаил</td>\n",
       "      <td>Верещагин</td>\n",
       "      <td>2018-05-25</td>\n",
       "      <td>ultra</td>\n",
       "    </tr>\n",
       "    <tr>\n",
       "      <td>1</td>\n",
       "      <td>1001</td>\n",
       "      <td>41</td>\n",
       "      <td>NaN</td>\n",
       "      <td>Москва</td>\n",
       "      <td>Иван</td>\n",
       "      <td>Ежов</td>\n",
       "      <td>2018-11-01</td>\n",
       "      <td>smart</td>\n",
       "    </tr>\n",
       "    <tr>\n",
       "      <td>2</td>\n",
       "      <td>1002</td>\n",
       "      <td>59</td>\n",
       "      <td>NaN</td>\n",
       "      <td>Стерлитамак</td>\n",
       "      <td>Евгений</td>\n",
       "      <td>Абрамович</td>\n",
       "      <td>2018-06-17</td>\n",
       "      <td>smart</td>\n",
       "    </tr>\n",
       "    <tr>\n",
       "      <td>3</td>\n",
       "      <td>1003</td>\n",
       "      <td>23</td>\n",
       "      <td>NaN</td>\n",
       "      <td>Москва</td>\n",
       "      <td>Белла</td>\n",
       "      <td>Белякова</td>\n",
       "      <td>2018-08-17</td>\n",
       "      <td>ultra</td>\n",
       "    </tr>\n",
       "    <tr>\n",
       "      <td>4</td>\n",
       "      <td>1004</td>\n",
       "      <td>68</td>\n",
       "      <td>NaN</td>\n",
       "      <td>Новокузнецк</td>\n",
       "      <td>Татьяна</td>\n",
       "      <td>Авдеенко</td>\n",
       "      <td>2018-05-14</td>\n",
       "      <td>ultra</td>\n",
       "    </tr>\n",
       "  </tbody>\n",
       "</table>\n",
       "</div>"
      ],
      "text/plain": [
       "   user_id  age churn_date         city first_name  last_name    reg_date  \\\n",
       "0     1000   52        NaN    Краснодар     Рафаил  Верещагин  2018-05-25   \n",
       "1     1001   41        NaN       Москва       Иван       Ежов  2018-11-01   \n",
       "2     1002   59        NaN  Стерлитамак    Евгений  Абрамович  2018-06-17   \n",
       "3     1003   23        NaN       Москва      Белла   Белякова  2018-08-17   \n",
       "4     1004   68        NaN  Новокузнецк    Татьяна   Авдеенко  2018-05-14   \n",
       "\n",
       "  tariff  \n",
       "0  ultra  \n",
       "1  smart  \n",
       "2  smart  \n",
       "3  ultra  \n",
       "4  ultra  "
      ]
     },
     "metadata": {},
     "output_type": "display_data"
    },
    {
     "name": "stdout",
     "output_type": "stream",
     "text": [
      "<class 'pandas.core.frame.DataFrame'>\n",
      "RangeIndex: 500 entries, 0 to 499\n",
      "Data columns (total 8 columns):\n",
      "user_id       500 non-null int64\n",
      "age           500 non-null int64\n",
      "churn_date    38 non-null object\n",
      "city          500 non-null object\n",
      "first_name    500 non-null object\n",
      "last_name     500 non-null object\n",
      "reg_date      500 non-null object\n",
      "tariff        500 non-null object\n",
      "dtypes: int64(2), object(6)\n",
      "memory usage: 31.4+ KB\n"
     ]
    }
   ],
   "source": [
    "df_users = pd.read_csv('/datasets/users.csv')\n",
    "\n",
    "display(df_users.head())\n",
    "df_users.info()"
   ]
  },
  {
   "cell_type": "code",
   "execution_count": 7,
   "metadata": {},
   "outputs": [
    {
     "name": "stdout",
     "output_type": "stream",
     "text": [
      "В таблице данные 500 абонентов с user_id в диапазоне:  1000 - 1499\n"
     ]
    }
   ],
   "source": [
    "print('В таблице данные', df_users['user_id'].count(), 'абонентов с user_id в диапазоне: ', df_users['user_id'].min(), '-', df_users['user_id'].max())"
   ]
  },
  {
   "cell_type": "markdown",
   "metadata": {},
   "source": [
    "\n",
    "Таблица **df_users** состоит из 8 столбцов разного типа: \n",
    "- user_id — уникальный идентификатор пользователя\n",
    "- first_name — имя пользователя\n",
    "- last_name — фамилия пользователя\n",
    "- age — возраст пользователя (годы)\n",
    "- reg_date — дата подключения тарифа (день, месяц, год)\n",
    "- churn_date — дата прекращения пользования тарифом (если значение пропущено, то тариф ещё действовал на момент выгрузки данных)\n",
    "- city — город проживания пользователя\n",
    "- tariff — название тарифного плана\n",
    "\n",
    "Пропуски присутствуют только в столбце с датой прекращения использования тафрифа. Проблем с названиями столбцов нет. \n",
    "\n",
    "Нужно изменить формат у столбцов с датами, заполнить пропуски в `churn_date` необходимости нет, т.к. эта информация в рамках данного проекта не используется. "
   ]
  },
  {
   "cell_type": "markdown",
   "metadata": {},
   "source": [
    "Имеем в распоряжении 5 таблиц с информацией о пользовании услугами мобильной связи (минуты, мегабайты, сообщения) с детализацией по пользователям, а также данные самих пользователей."
   ]
  },
  {
   "cell_type": "markdown",
   "metadata": {},
   "source": [
    "## Предобработка данных"
   ]
  },
  {
   "cell_type": "markdown",
   "metadata": {},
   "source": [
    "### Изменения типа данных"
   ]
  },
  {
   "cell_type": "markdown",
   "metadata": {},
   "source": [
    "В нескольких таблицах есть даты, небходимо поправить тип данных, чтобы комфортно с нимим работать. Заодно приведем к целочисленному типу данные в некторых столбцах, используя округление, если это нужно.\n"
   ]
  },
  {
   "cell_type": "markdown",
   "metadata": {},
   "source": [
    "Согласно тарифу, каждый разговор округляется в большую сторону до целых минут. Поэтому в таблице со звонками округлим длительность в большую сторону и поменяем формат на целочисленный. Также изменим формат в столбце с датой."
   ]
  },
  {
   "cell_type": "code",
   "execution_count": 8,
   "metadata": {},
   "outputs": [],
   "source": [
    "df_calls['call_date'] = pd.to_datetime(df_calls['call_date'], format='%Y-%m-%d') #приводим к формату дата\n",
    "df_calls['duration'] = df_calls['duration'].apply(np.ceil).astype(int) #округляем минуты до целого в большую сторону и переводим в целочисленный формат"
   ]
  },
  {
   "cell_type": "markdown",
   "metadata": {},
   "source": [
    "Поменяем формат столбцов с датой и в остальных таблицах.\n"
   ]
  },
  {
   "cell_type": "code",
   "execution_count": 9,
   "metadata": {},
   "outputs": [],
   "source": [
    "df_internet['session_date'] = pd.to_datetime(df_internet['session_date'], format='%Y-%m-%d')\n",
    "df_messages['message_date'] = pd.to_datetime(df_messages['message_date'], format='%Y-%m-%d')\n",
    "df_users['reg_date'] = pd.to_datetime(df_users['reg_date'], format='%Y-%m-%d')"
   ]
  },
  {
   "cell_type": "markdown",
   "metadata": {},
   "source": [
    "### Поиск и исправление ошибок"
   ]
  },
  {
   "cell_type": "markdown",
   "metadata": {},
   "source": [
    "Посмотрим нет ли в имеющихся данных дубликатов."
   ]
  },
  {
   "cell_type": "code",
   "execution_count": 10,
   "metadata": {},
   "outputs": [
    {
     "name": "stdout",
     "output_type": "stream",
     "text": [
      "0\n",
      "0\n",
      "0\n",
      "0\n"
     ]
    }
   ],
   "source": [
    "print(df_users.duplicated().sum())\n",
    "print(df_messages.duplicated().sum())\n",
    "print(df_internet.duplicated().sum())\n",
    "print(df_calls.duplicated().sum())"
   ]
  },
  {
   "cell_type": "markdown",
   "metadata": {},
   "source": [
    "Явных дубликатов нет.\n",
    "\n",
    "Проверим данные в таблицах на наличие ошибок. Используем метод `describe`."
   ]
  },
  {
   "cell_type": "markdown",
   "metadata": {},
   "source": [
    "**Звонки**\n",
    "\n"
   ]
  },
  {
   "cell_type": "code",
   "execution_count": 11,
   "metadata": {},
   "outputs": [
    {
     "data": {
      "text/html": [
       "<div>\n",
       "<style scoped>\n",
       "    .dataframe tbody tr th:only-of-type {\n",
       "        vertical-align: middle;\n",
       "    }\n",
       "\n",
       "    .dataframe tbody tr th {\n",
       "        vertical-align: top;\n",
       "    }\n",
       "\n",
       "    .dataframe thead th {\n",
       "        text-align: right;\n",
       "    }\n",
       "</style>\n",
       "<table border=\"1\" class=\"dataframe\">\n",
       "  <thead>\n",
       "    <tr style=\"text-align: right;\">\n",
       "      <th></th>\n",
       "      <th>duration</th>\n",
       "      <th>user_id</th>\n",
       "    </tr>\n",
       "  </thead>\n",
       "  <tbody>\n",
       "    <tr>\n",
       "      <td>count</td>\n",
       "      <td>202607.000000</td>\n",
       "      <td>202607.000000</td>\n",
       "    </tr>\n",
       "    <tr>\n",
       "      <td>mean</td>\n",
       "      <td>7.158198</td>\n",
       "      <td>1253.940619</td>\n",
       "    </tr>\n",
       "    <tr>\n",
       "      <td>std</td>\n",
       "      <td>5.959173</td>\n",
       "      <td>144.722751</td>\n",
       "    </tr>\n",
       "    <tr>\n",
       "      <td>min</td>\n",
       "      <td>0.000000</td>\n",
       "      <td>1000.000000</td>\n",
       "    </tr>\n",
       "    <tr>\n",
       "      <td>25%</td>\n",
       "      <td>2.000000</td>\n",
       "      <td>1126.000000</td>\n",
       "    </tr>\n",
       "    <tr>\n",
       "      <td>50%</td>\n",
       "      <td>6.000000</td>\n",
       "      <td>1260.000000</td>\n",
       "    </tr>\n",
       "    <tr>\n",
       "      <td>75%</td>\n",
       "      <td>11.000000</td>\n",
       "      <td>1379.000000</td>\n",
       "    </tr>\n",
       "    <tr>\n",
       "      <td>max</td>\n",
       "      <td>38.000000</td>\n",
       "      <td>1499.000000</td>\n",
       "    </tr>\n",
       "  </tbody>\n",
       "</table>\n",
       "</div>"
      ],
      "text/plain": [
       "            duration        user_id\n",
       "count  202607.000000  202607.000000\n",
       "mean        7.158198    1253.940619\n",
       "std         5.959173     144.722751\n",
       "min         0.000000    1000.000000\n",
       "25%         2.000000    1126.000000\n",
       "50%         6.000000    1260.000000\n",
       "75%        11.000000    1379.000000\n",
       "max        38.000000    1499.000000"
      ]
     },
     "execution_count": 11,
     "metadata": {},
     "output_type": "execute_result"
    }
   ],
   "source": [
    "df_calls.describe()"
   ]
  },
  {
   "cell_type": "markdown",
   "metadata": {},
   "source": [
    "Средний звонок составляет 6 минут. Максимальный 38, минимальный - 0 (возможно, это неотвеченные/пропущенные вызовы). Каких-то аномалий не замечено."
   ]
  },
  {
   "cell_type": "markdown",
   "metadata": {},
   "source": [
    "**Интернет**"
   ]
  },
  {
   "cell_type": "code",
   "execution_count": 12,
   "metadata": {},
   "outputs": [
    {
     "data": {
      "text/html": [
       "<div>\n",
       "<style scoped>\n",
       "    .dataframe tbody tr th:only-of-type {\n",
       "        vertical-align: middle;\n",
       "    }\n",
       "\n",
       "    .dataframe tbody tr th {\n",
       "        vertical-align: top;\n",
       "    }\n",
       "\n",
       "    .dataframe thead th {\n",
       "        text-align: right;\n",
       "    }\n",
       "</style>\n",
       "<table border=\"1\" class=\"dataframe\">\n",
       "  <thead>\n",
       "    <tr style=\"text-align: right;\">\n",
       "      <th></th>\n",
       "      <th>Unnamed: 0</th>\n",
       "      <th>mb_used</th>\n",
       "      <th>user_id</th>\n",
       "    </tr>\n",
       "  </thead>\n",
       "  <tbody>\n",
       "    <tr>\n",
       "      <td>count</td>\n",
       "      <td>149396.000000</td>\n",
       "      <td>149396.000000</td>\n",
       "      <td>149396.000000</td>\n",
       "    </tr>\n",
       "    <tr>\n",
       "      <td>mean</td>\n",
       "      <td>74697.500000</td>\n",
       "      <td>370.192426</td>\n",
       "      <td>1252.099842</td>\n",
       "    </tr>\n",
       "    <tr>\n",
       "      <td>std</td>\n",
       "      <td>43127.054745</td>\n",
       "      <td>278.300951</td>\n",
       "      <td>144.050823</td>\n",
       "    </tr>\n",
       "    <tr>\n",
       "      <td>min</td>\n",
       "      <td>0.000000</td>\n",
       "      <td>0.000000</td>\n",
       "      <td>1000.000000</td>\n",
       "    </tr>\n",
       "    <tr>\n",
       "      <td>25%</td>\n",
       "      <td>37348.750000</td>\n",
       "      <td>138.187500</td>\n",
       "      <td>1130.000000</td>\n",
       "    </tr>\n",
       "    <tr>\n",
       "      <td>50%</td>\n",
       "      <td>74697.500000</td>\n",
       "      <td>348.015000</td>\n",
       "      <td>1251.000000</td>\n",
       "    </tr>\n",
       "    <tr>\n",
       "      <td>75%</td>\n",
       "      <td>112046.250000</td>\n",
       "      <td>559.552500</td>\n",
       "      <td>1380.000000</td>\n",
       "    </tr>\n",
       "    <tr>\n",
       "      <td>max</td>\n",
       "      <td>149395.000000</td>\n",
       "      <td>1724.830000</td>\n",
       "      <td>1499.000000</td>\n",
       "    </tr>\n",
       "  </tbody>\n",
       "</table>\n",
       "</div>"
      ],
      "text/plain": [
       "          Unnamed: 0        mb_used        user_id\n",
       "count  149396.000000  149396.000000  149396.000000\n",
       "mean    74697.500000     370.192426    1252.099842\n",
       "std     43127.054745     278.300951     144.050823\n",
       "min         0.000000       0.000000    1000.000000\n",
       "25%     37348.750000     138.187500    1130.000000\n",
       "50%     74697.500000     348.015000    1251.000000\n",
       "75%    112046.250000     559.552500    1380.000000\n",
       "max    149395.000000    1724.830000    1499.000000"
      ]
     },
     "execution_count": 12,
     "metadata": {},
     "output_type": "execute_result"
    }
   ],
   "source": [
    "df_internet.describe()"
   ]
  },
  {
   "cell_type": "markdown",
   "metadata": {},
   "source": [
    "Здесь нас итересует столбец с трафиком. Разброс значений от нуля до 1,7Гб за сессию. В среднем расход составляет 370 мб, что близко в медианному значению в 350 мб."
   ]
  },
  {
   "cell_type": "markdown",
   "metadata": {},
   "source": [
    "**Сообщения**\n",
    "\n"
   ]
  },
  {
   "cell_type": "markdown",
   "metadata": {},
   "source": [
    "В таблице с сообщениями каждая строка соответствует одному сообщению. Как выяснили ранее, пропусков нет, проблем с названиями в столбцах так же нет."
   ]
  },
  {
   "cell_type": "markdown",
   "metadata": {},
   "source": [
    "### Группировка"
   ]
  },
  {
   "cell_type": "markdown",
   "metadata": {},
   "source": [
    "Выделим в отдельные новые столбцы месяц и год из даты операции."
   ]
  },
  {
   "cell_type": "code",
   "execution_count": 13,
   "metadata": {},
   "outputs": [
    {
     "data": {
      "text/html": [
       "<div>\n",
       "<style scoped>\n",
       "    .dataframe tbody tr th:only-of-type {\n",
       "        vertical-align: middle;\n",
       "    }\n",
       "\n",
       "    .dataframe tbody tr th {\n",
       "        vertical-align: top;\n",
       "    }\n",
       "\n",
       "    .dataframe thead th {\n",
       "        text-align: right;\n",
       "    }\n",
       "</style>\n",
       "<table border=\"1\" class=\"dataframe\">\n",
       "  <thead>\n",
       "    <tr style=\"text-align: right;\">\n",
       "      <th></th>\n",
       "      <th>id</th>\n",
       "      <th>call_date</th>\n",
       "      <th>duration</th>\n",
       "      <th>user_id</th>\n",
       "      <th>month</th>\n",
       "      <th>year</th>\n",
       "    </tr>\n",
       "  </thead>\n",
       "  <tbody>\n",
       "    <tr>\n",
       "      <td>0</td>\n",
       "      <td>1000_0</td>\n",
       "      <td>2018-07-25</td>\n",
       "      <td>0</td>\n",
       "      <td>1000</td>\n",
       "      <td>7</td>\n",
       "      <td>2018</td>\n",
       "    </tr>\n",
       "    <tr>\n",
       "      <td>1</td>\n",
       "      <td>1000_1</td>\n",
       "      <td>2018-08-17</td>\n",
       "      <td>0</td>\n",
       "      <td>1000</td>\n",
       "      <td>8</td>\n",
       "      <td>2018</td>\n",
       "    </tr>\n",
       "    <tr>\n",
       "      <td>2</td>\n",
       "      <td>1000_2</td>\n",
       "      <td>2018-06-11</td>\n",
       "      <td>3</td>\n",
       "      <td>1000</td>\n",
       "      <td>6</td>\n",
       "      <td>2018</td>\n",
       "    </tr>\n",
       "    <tr>\n",
       "      <td>3</td>\n",
       "      <td>1000_3</td>\n",
       "      <td>2018-09-21</td>\n",
       "      <td>14</td>\n",
       "      <td>1000</td>\n",
       "      <td>9</td>\n",
       "      <td>2018</td>\n",
       "    </tr>\n",
       "    <tr>\n",
       "      <td>4</td>\n",
       "      <td>1000_4</td>\n",
       "      <td>2018-12-15</td>\n",
       "      <td>6</td>\n",
       "      <td>1000</td>\n",
       "      <td>12</td>\n",
       "      <td>2018</td>\n",
       "    </tr>\n",
       "  </tbody>\n",
       "</table>\n",
       "</div>"
      ],
      "text/plain": [
       "       id  call_date  duration  user_id  month  year\n",
       "0  1000_0 2018-07-25         0     1000      7  2018\n",
       "1  1000_1 2018-08-17         0     1000      8  2018\n",
       "2  1000_2 2018-06-11         3     1000      6  2018\n",
       "3  1000_3 2018-09-21        14     1000      9  2018\n",
       "4  1000_4 2018-12-15         6     1000     12  2018"
      ]
     },
     "metadata": {},
     "output_type": "display_data"
    }
   ],
   "source": [
    "df_calls['month'] = df_calls['call_date'].dt.month\n",
    "df_calls['year'] = df_calls['call_date'].dt.year\n",
    "display(df_calls.head())"
   ]
  },
  {
   "cell_type": "markdown",
   "metadata": {},
   "source": [
    "Сгруппируем данные в таблице по абоненту, году и месяцу, чтобы получить информацию по количеству использованных минут по месяцам."
   ]
  },
  {
   "cell_type": "code",
   "execution_count": 14,
   "metadata": {},
   "outputs": [
    {
     "data": {
      "text/html": [
       "<div>\n",
       "<style scoped>\n",
       "    .dataframe tbody tr th:only-of-type {\n",
       "        vertical-align: middle;\n",
       "    }\n",
       "\n",
       "    .dataframe tbody tr th {\n",
       "        vertical-align: top;\n",
       "    }\n",
       "\n",
       "    .dataframe thead th {\n",
       "        text-align: right;\n",
       "    }\n",
       "</style>\n",
       "<table border=\"1\" class=\"dataframe\">\n",
       "  <thead>\n",
       "    <tr style=\"text-align: right;\">\n",
       "      <th></th>\n",
       "      <th>user_id</th>\n",
       "      <th>year</th>\n",
       "      <th>month</th>\n",
       "      <th>duration_total</th>\n",
       "      <th>number_of_calls</th>\n",
       "    </tr>\n",
       "  </thead>\n",
       "  <tbody>\n",
       "    <tr>\n",
       "      <td>0</td>\n",
       "      <td>1000</td>\n",
       "      <td>2018</td>\n",
       "      <td>5</td>\n",
       "      <td>159</td>\n",
       "      <td>22</td>\n",
       "    </tr>\n",
       "    <tr>\n",
       "      <td>1</td>\n",
       "      <td>1000</td>\n",
       "      <td>2018</td>\n",
       "      <td>6</td>\n",
       "      <td>172</td>\n",
       "      <td>43</td>\n",
       "    </tr>\n",
       "    <tr>\n",
       "      <td>2</td>\n",
       "      <td>1000</td>\n",
       "      <td>2018</td>\n",
       "      <td>7</td>\n",
       "      <td>340</td>\n",
       "      <td>47</td>\n",
       "    </tr>\n",
       "    <tr>\n",
       "      <td>3</td>\n",
       "      <td>1000</td>\n",
       "      <td>2018</td>\n",
       "      <td>8</td>\n",
       "      <td>408</td>\n",
       "      <td>52</td>\n",
       "    </tr>\n",
       "    <tr>\n",
       "      <td>4</td>\n",
       "      <td>1000</td>\n",
       "      <td>2018</td>\n",
       "      <td>9</td>\n",
       "      <td>466</td>\n",
       "      <td>58</td>\n",
       "    </tr>\n",
       "    <tr>\n",
       "      <td>5</td>\n",
       "      <td>1000</td>\n",
       "      <td>2018</td>\n",
       "      <td>10</td>\n",
       "      <td>350</td>\n",
       "      <td>57</td>\n",
       "    </tr>\n",
       "    <tr>\n",
       "      <td>6</td>\n",
       "      <td>1000</td>\n",
       "      <td>2018</td>\n",
       "      <td>11</td>\n",
       "      <td>338</td>\n",
       "      <td>43</td>\n",
       "    </tr>\n",
       "    <tr>\n",
       "      <td>7</td>\n",
       "      <td>1000</td>\n",
       "      <td>2018</td>\n",
       "      <td>12</td>\n",
       "      <td>333</td>\n",
       "      <td>46</td>\n",
       "    </tr>\n",
       "    <tr>\n",
       "      <td>8</td>\n",
       "      <td>1001</td>\n",
       "      <td>2018</td>\n",
       "      <td>11</td>\n",
       "      <td>430</td>\n",
       "      <td>59</td>\n",
       "    </tr>\n",
       "    <tr>\n",
       "      <td>9</td>\n",
       "      <td>1001</td>\n",
       "      <td>2018</td>\n",
       "      <td>12</td>\n",
       "      <td>414</td>\n",
       "      <td>63</td>\n",
       "    </tr>\n",
       "  </tbody>\n",
       "</table>\n",
       "</div>"
      ],
      "text/plain": [
       "   user_id  year  month  duration_total  number_of_calls\n",
       "0     1000  2018      5             159               22\n",
       "1     1000  2018      6             172               43\n",
       "2     1000  2018      7             340               47\n",
       "3     1000  2018      8             408               52\n",
       "4     1000  2018      9             466               58\n",
       "5     1000  2018     10             350               57\n",
       "6     1000  2018     11             338               43\n",
       "7     1000  2018     12             333               46\n",
       "8     1001  2018     11             430               59\n",
       "9     1001  2018     12             414               63"
      ]
     },
     "metadata": {},
     "output_type": "display_data"
    },
    {
     "name": "stdout",
     "output_type": "stream",
     "text": [
      "<class 'pandas.core.frame.DataFrame'>\n",
      "RangeIndex: 3174 entries, 0 to 3173\n",
      "Data columns (total 5 columns):\n",
      "user_id            3174 non-null int64\n",
      "year               3174 non-null int64\n",
      "month              3174 non-null int64\n",
      "duration_total     3174 non-null int64\n",
      "number_of_calls    3174 non-null int64\n",
      "dtypes: int64(5)\n",
      "memory usage: 124.1 KB\n"
     ]
    }
   ],
   "source": [
    "df_calls_pivot = df_calls.pivot_table(index=['user_id', 'year', 'month'], values='duration', aggfunc=['sum', 'count']).reset_index()\n",
    "df_calls_pivot = df_calls_pivot.rename(columns={\"duration\":\"\", \"sum\":\"duration_total\", \"count\":\"number_of_calls\"}) #уберем двойные названия столбцов и переименуем столбцы\n",
    "df_calls_pivot.columns = [t[0] if t[0] else t[1] for t in df_calls_pivot.columns]\n",
    "\n",
    "display(df_calls_pivot.head(10))\n",
    "df_calls_pivot.info()"
   ]
  },
  {
   "cell_type": "markdown",
   "metadata": {},
   "source": [
    "Проделаем аналогичные действия с данными о сообщениях и интернет трафике."
   ]
  },
  {
   "cell_type": "code",
   "execution_count": 15,
   "metadata": {},
   "outputs": [
    {
     "data": {
      "text/html": [
       "<div>\n",
       "<style scoped>\n",
       "    .dataframe tbody tr th:only-of-type {\n",
       "        vertical-align: middle;\n",
       "    }\n",
       "\n",
       "    .dataframe tbody tr th {\n",
       "        vertical-align: top;\n",
       "    }\n",
       "\n",
       "    .dataframe thead th {\n",
       "        text-align: right;\n",
       "    }\n",
       "</style>\n",
       "<table border=\"1\" class=\"dataframe\">\n",
       "  <thead>\n",
       "    <tr style=\"text-align: right;\">\n",
       "      <th></th>\n",
       "      <th>user_id</th>\n",
       "      <th>year</th>\n",
       "      <th>month</th>\n",
       "      <th>mb_used</th>\n",
       "    </tr>\n",
       "  </thead>\n",
       "  <tbody>\n",
       "    <tr>\n",
       "      <td>0</td>\n",
       "      <td>1000</td>\n",
       "      <td>2018</td>\n",
       "      <td>5</td>\n",
       "      <td>2253.49</td>\n",
       "    </tr>\n",
       "    <tr>\n",
       "      <td>1</td>\n",
       "      <td>1000</td>\n",
       "      <td>2018</td>\n",
       "      <td>6</td>\n",
       "      <td>23233.77</td>\n",
       "    </tr>\n",
       "    <tr>\n",
       "      <td>2</td>\n",
       "      <td>1000</td>\n",
       "      <td>2018</td>\n",
       "      <td>7</td>\n",
       "      <td>14003.64</td>\n",
       "    </tr>\n",
       "    <tr>\n",
       "      <td>3</td>\n",
       "      <td>1000</td>\n",
       "      <td>2018</td>\n",
       "      <td>8</td>\n",
       "      <td>14055.93</td>\n",
       "    </tr>\n",
       "    <tr>\n",
       "      <td>4</td>\n",
       "      <td>1000</td>\n",
       "      <td>2018</td>\n",
       "      <td>9</td>\n",
       "      <td>14568.91</td>\n",
       "    </tr>\n",
       "    <tr>\n",
       "      <td>5</td>\n",
       "      <td>1000</td>\n",
       "      <td>2018</td>\n",
       "      <td>10</td>\n",
       "      <td>14702.49</td>\n",
       "    </tr>\n",
       "    <tr>\n",
       "      <td>6</td>\n",
       "      <td>1000</td>\n",
       "      <td>2018</td>\n",
       "      <td>11</td>\n",
       "      <td>14756.47</td>\n",
       "    </tr>\n",
       "    <tr>\n",
       "      <td>7</td>\n",
       "      <td>1000</td>\n",
       "      <td>2018</td>\n",
       "      <td>12</td>\n",
       "      <td>9817.61</td>\n",
       "    </tr>\n",
       "    <tr>\n",
       "      <td>8</td>\n",
       "      <td>1001</td>\n",
       "      <td>2018</td>\n",
       "      <td>11</td>\n",
       "      <td>18429.34</td>\n",
       "    </tr>\n",
       "    <tr>\n",
       "      <td>9</td>\n",
       "      <td>1001</td>\n",
       "      <td>2018</td>\n",
       "      <td>12</td>\n",
       "      <td>14036.66</td>\n",
       "    </tr>\n",
       "  </tbody>\n",
       "</table>\n",
       "</div>"
      ],
      "text/plain": [
       "   user_id  year  month   mb_used\n",
       "0     1000  2018      5   2253.49\n",
       "1     1000  2018      6  23233.77\n",
       "2     1000  2018      7  14003.64\n",
       "3     1000  2018      8  14055.93\n",
       "4     1000  2018      9  14568.91\n",
       "5     1000  2018     10  14702.49\n",
       "6     1000  2018     11  14756.47\n",
       "7     1000  2018     12   9817.61\n",
       "8     1001  2018     11  18429.34\n",
       "9     1001  2018     12  14036.66"
      ]
     },
     "metadata": {},
     "output_type": "display_data"
    }
   ],
   "source": [
    "df_internet['month'] = df_internet['session_date'].dt.month\n",
    "df_internet['year'] = df_internet['session_date'].dt.year\n",
    "df_internet_pivot = df_internet.pivot_table(index=['user_id', 'year', 'month'], values='mb_used', aggfunc='sum').reset_index()\n",
    "\n",
    "display(df_internet_pivot.head(10))"
   ]
  },
  {
   "cell_type": "markdown",
   "metadata": {},
   "source": [
    "Т.к. каждой строке в таблице с сообщениями соответствует одно отправленное сообщение, то при группировке  применим функцию `count`, чтобы посчитать количество сообщений."
   ]
  },
  {
   "cell_type": "code",
   "execution_count": 16,
   "metadata": {},
   "outputs": [
    {
     "data": {
      "text/html": [
       "<div>\n",
       "<style scoped>\n",
       "    .dataframe tbody tr th:only-of-type {\n",
       "        vertical-align: middle;\n",
       "    }\n",
       "\n",
       "    .dataframe tbody tr th {\n",
       "        vertical-align: top;\n",
       "    }\n",
       "\n",
       "    .dataframe thead th {\n",
       "        text-align: right;\n",
       "    }\n",
       "</style>\n",
       "<table border=\"1\" class=\"dataframe\">\n",
       "  <thead>\n",
       "    <tr style=\"text-align: right;\">\n",
       "      <th></th>\n",
       "      <th>user_id</th>\n",
       "      <th>year</th>\n",
       "      <th>month</th>\n",
       "      <th>message_date</th>\n",
       "    </tr>\n",
       "  </thead>\n",
       "  <tbody>\n",
       "    <tr>\n",
       "      <td>0</td>\n",
       "      <td>1000</td>\n",
       "      <td>2018</td>\n",
       "      <td>5</td>\n",
       "      <td>22</td>\n",
       "    </tr>\n",
       "    <tr>\n",
       "      <td>1</td>\n",
       "      <td>1000</td>\n",
       "      <td>2018</td>\n",
       "      <td>6</td>\n",
       "      <td>60</td>\n",
       "    </tr>\n",
       "    <tr>\n",
       "      <td>2</td>\n",
       "      <td>1000</td>\n",
       "      <td>2018</td>\n",
       "      <td>7</td>\n",
       "      <td>75</td>\n",
       "    </tr>\n",
       "    <tr>\n",
       "      <td>3</td>\n",
       "      <td>1000</td>\n",
       "      <td>2018</td>\n",
       "      <td>8</td>\n",
       "      <td>81</td>\n",
       "    </tr>\n",
       "    <tr>\n",
       "      <td>4</td>\n",
       "      <td>1000</td>\n",
       "      <td>2018</td>\n",
       "      <td>9</td>\n",
       "      <td>57</td>\n",
       "    </tr>\n",
       "    <tr>\n",
       "      <td>5</td>\n",
       "      <td>1000</td>\n",
       "      <td>2018</td>\n",
       "      <td>10</td>\n",
       "      <td>73</td>\n",
       "    </tr>\n",
       "    <tr>\n",
       "      <td>6</td>\n",
       "      <td>1000</td>\n",
       "      <td>2018</td>\n",
       "      <td>11</td>\n",
       "      <td>58</td>\n",
       "    </tr>\n",
       "    <tr>\n",
       "      <td>7</td>\n",
       "      <td>1000</td>\n",
       "      <td>2018</td>\n",
       "      <td>12</td>\n",
       "      <td>70</td>\n",
       "    </tr>\n",
       "    <tr>\n",
       "      <td>8</td>\n",
       "      <td>1002</td>\n",
       "      <td>2018</td>\n",
       "      <td>6</td>\n",
       "      <td>4</td>\n",
       "    </tr>\n",
       "    <tr>\n",
       "      <td>9</td>\n",
       "      <td>1002</td>\n",
       "      <td>2018</td>\n",
       "      <td>7</td>\n",
       "      <td>11</td>\n",
       "    </tr>\n",
       "  </tbody>\n",
       "</table>\n",
       "</div>"
      ],
      "text/plain": [
       "   user_id  year  month  message_date\n",
       "0     1000  2018      5            22\n",
       "1     1000  2018      6            60\n",
       "2     1000  2018      7            75\n",
       "3     1000  2018      8            81\n",
       "4     1000  2018      9            57\n",
       "5     1000  2018     10            73\n",
       "6     1000  2018     11            58\n",
       "7     1000  2018     12            70\n",
       "8     1002  2018      6             4\n",
       "9     1002  2018      7            11"
      ]
     },
     "metadata": {},
     "output_type": "display_data"
    }
   ],
   "source": [
    "df_messages['month'] = df_messages['message_date'].dt.month\n",
    "df_messages['year'] = df_messages['message_date'].dt.year\n",
    "df_messages_pivot = df_messages.pivot_table(index=['user_id', 'year', 'month'], values='message_date', aggfunc='count').reset_index()\n",
    "display(df_messages_pivot.head(10))"
   ]
  },
  {
   "cell_type": "code",
   "execution_count": 17,
   "metadata": {},
   "outputs": [],
   "source": [
    "df_messages_pivot = df_messages_pivot.rename(columns={\"message_date\":\"number_of_messages\"}) #переименуем столбец"
   ]
  },
  {
   "cell_type": "markdown",
   "metadata": {},
   "source": [
    "### Объединение таблиц"
   ]
  },
  {
   "cell_type": "markdown",
   "metadata": {},
   "source": [
    "Объединим данные из отдельных таблиц в одну.\n",
    "\n",
    "За основу возьмём таблицу с id абонентов df_users и удалим часть столбцов."
   ]
  },
  {
   "cell_type": "code",
   "execution_count": 18,
   "metadata": {},
   "outputs": [
    {
     "data": {
      "text/html": [
       "<div>\n",
       "<style scoped>\n",
       "    .dataframe tbody tr th:only-of-type {\n",
       "        vertical-align: middle;\n",
       "    }\n",
       "\n",
       "    .dataframe tbody tr th {\n",
       "        vertical-align: top;\n",
       "    }\n",
       "\n",
       "    .dataframe thead th {\n",
       "        text-align: right;\n",
       "    }\n",
       "</style>\n",
       "<table border=\"1\" class=\"dataframe\">\n",
       "  <thead>\n",
       "    <tr style=\"text-align: right;\">\n",
       "      <th></th>\n",
       "      <th>user_id</th>\n",
       "    </tr>\n",
       "  </thead>\n",
       "  <tbody>\n",
       "    <tr>\n",
       "      <td>0</td>\n",
       "      <td>1000</td>\n",
       "    </tr>\n",
       "    <tr>\n",
       "      <td>1</td>\n",
       "      <td>1001</td>\n",
       "    </tr>\n",
       "    <tr>\n",
       "      <td>2</td>\n",
       "      <td>1002</td>\n",
       "    </tr>\n",
       "    <tr>\n",
       "      <td>3</td>\n",
       "      <td>1003</td>\n",
       "    </tr>\n",
       "    <tr>\n",
       "      <td>4</td>\n",
       "      <td>1004</td>\n",
       "    </tr>\n",
       "  </tbody>\n",
       "</table>\n",
       "</div>"
      ],
      "text/plain": [
       "   user_id\n",
       "0     1000\n",
       "1     1001\n",
       "2     1002\n",
       "3     1003\n",
       "4     1004"
      ]
     },
     "metadata": {},
     "output_type": "display_data"
    }
   ],
   "source": [
    "df_merged = df_users.drop(['age', 'churn_date', 'city', 'first_name', 'last_name', 'reg_date', 'tariff'], 1)\n",
    "\n",
    "display(df_merged.head())"
   ]
  },
  {
   "cell_type": "markdown",
   "metadata": {},
   "source": [
    "Добавим к исходной таблице данные о трафике"
   ]
  },
  {
   "cell_type": "code",
   "execution_count": 19,
   "metadata": {
    "scrolled": true
   },
   "outputs": [
    {
     "data": {
      "text/html": [
       "<div>\n",
       "<style scoped>\n",
       "    .dataframe tbody tr th:only-of-type {\n",
       "        vertical-align: middle;\n",
       "    }\n",
       "\n",
       "    .dataframe tbody tr th {\n",
       "        vertical-align: top;\n",
       "    }\n",
       "\n",
       "    .dataframe thead th {\n",
       "        text-align: right;\n",
       "    }\n",
       "</style>\n",
       "<table border=\"1\" class=\"dataframe\">\n",
       "  <thead>\n",
       "    <tr style=\"text-align: right;\">\n",
       "      <th></th>\n",
       "      <th>user_id</th>\n",
       "      <th>year</th>\n",
       "      <th>month</th>\n",
       "      <th>mb_used</th>\n",
       "    </tr>\n",
       "  </thead>\n",
       "  <tbody>\n",
       "    <tr>\n",
       "      <td>0</td>\n",
       "      <td>1000</td>\n",
       "      <td>2018.0</td>\n",
       "      <td>5.0</td>\n",
       "      <td>2253.49</td>\n",
       "    </tr>\n",
       "    <tr>\n",
       "      <td>1</td>\n",
       "      <td>1000</td>\n",
       "      <td>2018.0</td>\n",
       "      <td>6.0</td>\n",
       "      <td>23233.77</td>\n",
       "    </tr>\n",
       "    <tr>\n",
       "      <td>2</td>\n",
       "      <td>1000</td>\n",
       "      <td>2018.0</td>\n",
       "      <td>7.0</td>\n",
       "      <td>14003.64</td>\n",
       "    </tr>\n",
       "    <tr>\n",
       "      <td>3</td>\n",
       "      <td>1000</td>\n",
       "      <td>2018.0</td>\n",
       "      <td>8.0</td>\n",
       "      <td>14055.93</td>\n",
       "    </tr>\n",
       "    <tr>\n",
       "      <td>4</td>\n",
       "      <td>1000</td>\n",
       "      <td>2018.0</td>\n",
       "      <td>9.0</td>\n",
       "      <td>14568.91</td>\n",
       "    </tr>\n",
       "  </tbody>\n",
       "</table>\n",
       "</div>"
      ],
      "text/plain": [
       "   user_id    year  month   mb_used\n",
       "0     1000  2018.0    5.0   2253.49\n",
       "1     1000  2018.0    6.0  23233.77\n",
       "2     1000  2018.0    7.0  14003.64\n",
       "3     1000  2018.0    8.0  14055.93\n",
       "4     1000  2018.0    9.0  14568.91"
      ]
     },
     "metadata": {},
     "output_type": "display_data"
    }
   ],
   "source": [
    "df_merged = df_merged.merge(df_internet_pivot, how='outer', on = 'user_id')\n",
    "display(df_merged.head())\n"
   ]
  },
  {
   "cell_type": "markdown",
   "metadata": {},
   "source": [
    "Проверим все ли строки заполнены."
   ]
  },
  {
   "cell_type": "code",
   "execution_count": 20,
   "metadata": {},
   "outputs": [
    {
     "name": "stdout",
     "output_type": "stream",
     "text": [
      "<class 'pandas.core.frame.DataFrame'>\n",
      "Int64Index: 3206 entries, 0 to 3205\n",
      "Data columns (total 4 columns):\n",
      "user_id    3206 non-null int64\n",
      "year       3203 non-null float64\n",
      "month      3203 non-null float64\n",
      "mb_used    3203 non-null float64\n",
      "dtypes: float64(3), int64(1)\n",
      "memory usage: 125.2 KB\n"
     ]
    }
   ],
   "source": [
    "df_merged.info()"
   ]
  },
  {
   "cell_type": "markdown",
   "metadata": {},
   "source": [
    "Округлим трафик до гигабайт в большую сторону, что соответствует условиям тарифа."
   ]
  },
  {
   "cell_type": "code",
   "execution_count": 22,
   "metadata": {},
   "outputs": [
    {
     "data": {
      "text/html": [
       "<div>\n",
       "<style scoped>\n",
       "    .dataframe tbody tr th:only-of-type {\n",
       "        vertical-align: middle;\n",
       "    }\n",
       "\n",
       "    .dataframe tbody tr th {\n",
       "        vertical-align: top;\n",
       "    }\n",
       "\n",
       "    .dataframe thead th {\n",
       "        text-align: right;\n",
       "    }\n",
       "</style>\n",
       "<table border=\"1\" class=\"dataframe\">\n",
       "  <thead>\n",
       "    <tr style=\"text-align: right;\">\n",
       "      <th></th>\n",
       "      <th>user_id</th>\n",
       "      <th>year</th>\n",
       "      <th>month</th>\n",
       "      <th>mb_used</th>\n",
       "    </tr>\n",
       "  </thead>\n",
       "  <tbody>\n",
       "    <tr>\n",
       "      <td>0</td>\n",
       "      <td>1000</td>\n",
       "      <td>2018.0</td>\n",
       "      <td>5.0</td>\n",
       "      <td>3.0</td>\n",
       "    </tr>\n",
       "    <tr>\n",
       "      <td>1</td>\n",
       "      <td>1000</td>\n",
       "      <td>2018.0</td>\n",
       "      <td>6.0</td>\n",
       "      <td>23.0</td>\n",
       "    </tr>\n",
       "    <tr>\n",
       "      <td>2</td>\n",
       "      <td>1000</td>\n",
       "      <td>2018.0</td>\n",
       "      <td>7.0</td>\n",
       "      <td>14.0</td>\n",
       "    </tr>\n",
       "    <tr>\n",
       "      <td>3</td>\n",
       "      <td>1000</td>\n",
       "      <td>2018.0</td>\n",
       "      <td>8.0</td>\n",
       "      <td>14.0</td>\n",
       "    </tr>\n",
       "    <tr>\n",
       "      <td>4</td>\n",
       "      <td>1000</td>\n",
       "      <td>2018.0</td>\n",
       "      <td>9.0</td>\n",
       "      <td>15.0</td>\n",
       "    </tr>\n",
       "    <tr>\n",
       "      <td>5</td>\n",
       "      <td>1000</td>\n",
       "      <td>2018.0</td>\n",
       "      <td>10.0</td>\n",
       "      <td>15.0</td>\n",
       "    </tr>\n",
       "    <tr>\n",
       "      <td>6</td>\n",
       "      <td>1000</td>\n",
       "      <td>2018.0</td>\n",
       "      <td>11.0</td>\n",
       "      <td>15.0</td>\n",
       "    </tr>\n",
       "    <tr>\n",
       "      <td>7</td>\n",
       "      <td>1000</td>\n",
       "      <td>2018.0</td>\n",
       "      <td>12.0</td>\n",
       "      <td>10.0</td>\n",
       "    </tr>\n",
       "    <tr>\n",
       "      <td>8</td>\n",
       "      <td>1001</td>\n",
       "      <td>2018.0</td>\n",
       "      <td>11.0</td>\n",
       "      <td>18.0</td>\n",
       "    </tr>\n",
       "    <tr>\n",
       "      <td>9</td>\n",
       "      <td>1001</td>\n",
       "      <td>2018.0</td>\n",
       "      <td>12.0</td>\n",
       "      <td>14.0</td>\n",
       "    </tr>\n",
       "  </tbody>\n",
       "</table>\n",
       "</div>"
      ],
      "text/plain": [
       "   user_id    year  month  mb_used\n",
       "0     1000  2018.0    5.0      3.0\n",
       "1     1000  2018.0    6.0     23.0\n",
       "2     1000  2018.0    7.0     14.0\n",
       "3     1000  2018.0    8.0     14.0\n",
       "4     1000  2018.0    9.0     15.0\n",
       "5     1000  2018.0   10.0     15.0\n",
       "6     1000  2018.0   11.0     15.0\n",
       "7     1000  2018.0   12.0     10.0\n",
       "8     1001  2018.0   11.0     18.0\n",
       "9     1001  2018.0   12.0     14.0"
      ]
     },
     "metadata": {},
     "output_type": "display_data"
    }
   ],
   "source": [
    "df_merged['mb_used'] = np.ceil(df_merged['mb_used'] / 1024) #переводим мегабайты в гигабайты\n",
    "display(df_merged.head(10))"
   ]
  },
  {
   "cell_type": "markdown",
   "metadata": {},
   "source": [
    "Добавим данные из таблиц с сообщениями и звонками."
   ]
  },
  {
   "cell_type": "code",
   "execution_count": 23,
   "metadata": {},
   "outputs": [
    {
     "name": "stdout",
     "output_type": "stream",
     "text": [
      "<class 'pandas.core.frame.DataFrame'>\n",
      "Int64Index: 3217 entries, 0 to 3216\n",
      "Data columns (total 7 columns):\n",
      "user_id               3217 non-null int64\n",
      "year                  3214 non-null float64\n",
      "month                 3214 non-null float64\n",
      "mb_used               3203 non-null float64\n",
      "number_of_messages    2717 non-null float64\n",
      "duration_total        3174 non-null float64\n",
      "number_of_calls       3174 non-null float64\n",
      "dtypes: float64(6), int64(1)\n",
      "memory usage: 201.1 KB\n"
     ]
    }
   ],
   "source": [
    "df_merged = df_merged.merge(df_messages_pivot, how='outer', on = ['user_id', 'year', 'month'])\n",
    "df_merged = df_merged.merge(df_calls_pivot, how='outer', on = ['user_id', 'year', 'month'])\n",
    "df_merged.info()"
   ]
  },
  {
   "cell_type": "markdown",
   "metadata": {},
   "source": [
    "В столбцах с количеством минут, трафиком, количеством звонков присутствуют пропуски. Наиболее вероятно, что в этих месяцах абоненты не пользовались данным видом услуг. Заполним пропуски нулями."
   ]
  },
  {
   "cell_type": "code",
   "execution_count": 24,
   "metadata": {},
   "outputs": [
    {
     "name": "stdout",
     "output_type": "stream",
     "text": [
      "<class 'pandas.core.frame.DataFrame'>\n",
      "Int64Index: 3217 entries, 0 to 3216\n",
      "Data columns (total 7 columns):\n",
      "user_id               3217 non-null int64\n",
      "year                  3214 non-null float64\n",
      "month                 3214 non-null float64\n",
      "mb_used               3217 non-null float64\n",
      "number_of_messages    3217 non-null float64\n",
      "duration_total        3217 non-null float64\n",
      "number_of_calls       3217 non-null float64\n",
      "dtypes: float64(6), int64(1)\n",
      "memory usage: 201.1 KB\n"
     ]
    }
   ],
   "source": [
    "df_merged.fillna({'mb_used': 0, 'number_of_messages':0, 'number_of_calls': 0, 'duration_total':0}, inplace=True)\n",
    "df_merged.info()"
   ]
  },
  {
   "cell_type": "markdown",
   "metadata": {},
   "source": [
    "Добавим индивидуальные данные пользователей и информацию по тарифам."
   ]
  },
  {
   "cell_type": "code",
   "execution_count": 25,
   "metadata": {
    "scrolled": true
   },
   "outputs": [],
   "source": [
    "df_merged = df_merged.merge(df_users, how='outer', on = 'user_id')\n",
    "df_merged = df_merged.merge(df_tariffs, how='outer', left_on='tariff', right_on='tariff_name')\n"
   ]
  },
  {
   "cell_type": "markdown",
   "metadata": {},
   "source": [
    "Переведем в гигабайты сумму включенного в лимит трафика по тарифу. И изменим тип данных в столбцах `float` на `int`"
   ]
  },
  {
   "cell_type": "code",
   "execution_count": 26,
   "metadata": {
    "scrolled": true
   },
   "outputs": [
    {
     "data": {
      "text/html": [
       "<div>\n",
       "<style scoped>\n",
       "    .dataframe tbody tr th:only-of-type {\n",
       "        vertical-align: middle;\n",
       "    }\n",
       "\n",
       "    .dataframe tbody tr th {\n",
       "        vertical-align: top;\n",
       "    }\n",
       "\n",
       "    .dataframe thead th {\n",
       "        text-align: right;\n",
       "    }\n",
       "</style>\n",
       "<table border=\"1\" class=\"dataframe\">\n",
       "  <thead>\n",
       "    <tr style=\"text-align: right;\">\n",
       "      <th></th>\n",
       "      <th>user_id</th>\n",
       "      <th>year</th>\n",
       "      <th>month</th>\n",
       "      <th>mb_used</th>\n",
       "      <th>number_of_messages</th>\n",
       "      <th>duration_total</th>\n",
       "      <th>number_of_calls</th>\n",
       "      <th>age</th>\n",
       "      <th>churn_date</th>\n",
       "      <th>city</th>\n",
       "      <th>first_name</th>\n",
       "      <th>last_name</th>\n",
       "      <th>reg_date</th>\n",
       "      <th>tariff</th>\n",
       "      <th>messages_included</th>\n",
       "      <th>mb_per_month_included</th>\n",
       "      <th>minutes_included</th>\n",
       "      <th>rub_monthly_fee</th>\n",
       "      <th>rub_per_gb</th>\n",
       "      <th>rub_per_message</th>\n",
       "      <th>rub_per_minute</th>\n",
       "      <th>tariff_name</th>\n",
       "    </tr>\n",
       "  </thead>\n",
       "  <tbody>\n",
       "    <tr>\n",
       "      <td>0</td>\n",
       "      <td>1000</td>\n",
       "      <td>2018.0</td>\n",
       "      <td>5.0</td>\n",
       "      <td>3</td>\n",
       "      <td>22</td>\n",
       "      <td>159</td>\n",
       "      <td>22</td>\n",
       "      <td>52</td>\n",
       "      <td>NaN</td>\n",
       "      <td>Краснодар</td>\n",
       "      <td>Рафаил</td>\n",
       "      <td>Верещагин</td>\n",
       "      <td>2018-05-25</td>\n",
       "      <td>ultra</td>\n",
       "      <td>1000</td>\n",
       "      <td>30</td>\n",
       "      <td>3000</td>\n",
       "      <td>1950</td>\n",
       "      <td>150</td>\n",
       "      <td>1</td>\n",
       "      <td>1</td>\n",
       "      <td>ultra</td>\n",
       "    </tr>\n",
       "    <tr>\n",
       "      <td>1</td>\n",
       "      <td>1000</td>\n",
       "      <td>2018.0</td>\n",
       "      <td>6.0</td>\n",
       "      <td>23</td>\n",
       "      <td>60</td>\n",
       "      <td>172</td>\n",
       "      <td>43</td>\n",
       "      <td>52</td>\n",
       "      <td>NaN</td>\n",
       "      <td>Краснодар</td>\n",
       "      <td>Рафаил</td>\n",
       "      <td>Верещагин</td>\n",
       "      <td>2018-05-25</td>\n",
       "      <td>ultra</td>\n",
       "      <td>1000</td>\n",
       "      <td>30</td>\n",
       "      <td>3000</td>\n",
       "      <td>1950</td>\n",
       "      <td>150</td>\n",
       "      <td>1</td>\n",
       "      <td>1</td>\n",
       "      <td>ultra</td>\n",
       "    </tr>\n",
       "    <tr>\n",
       "      <td>2</td>\n",
       "      <td>1000</td>\n",
       "      <td>2018.0</td>\n",
       "      <td>7.0</td>\n",
       "      <td>14</td>\n",
       "      <td>75</td>\n",
       "      <td>340</td>\n",
       "      <td>47</td>\n",
       "      <td>52</td>\n",
       "      <td>NaN</td>\n",
       "      <td>Краснодар</td>\n",
       "      <td>Рафаил</td>\n",
       "      <td>Верещагин</td>\n",
       "      <td>2018-05-25</td>\n",
       "      <td>ultra</td>\n",
       "      <td>1000</td>\n",
       "      <td>30</td>\n",
       "      <td>3000</td>\n",
       "      <td>1950</td>\n",
       "      <td>150</td>\n",
       "      <td>1</td>\n",
       "      <td>1</td>\n",
       "      <td>ultra</td>\n",
       "    </tr>\n",
       "    <tr>\n",
       "      <td>3</td>\n",
       "      <td>1000</td>\n",
       "      <td>2018.0</td>\n",
       "      <td>8.0</td>\n",
       "      <td>14</td>\n",
       "      <td>81</td>\n",
       "      <td>408</td>\n",
       "      <td>52</td>\n",
       "      <td>52</td>\n",
       "      <td>NaN</td>\n",
       "      <td>Краснодар</td>\n",
       "      <td>Рафаил</td>\n",
       "      <td>Верещагин</td>\n",
       "      <td>2018-05-25</td>\n",
       "      <td>ultra</td>\n",
       "      <td>1000</td>\n",
       "      <td>30</td>\n",
       "      <td>3000</td>\n",
       "      <td>1950</td>\n",
       "      <td>150</td>\n",
       "      <td>1</td>\n",
       "      <td>1</td>\n",
       "      <td>ultra</td>\n",
       "    </tr>\n",
       "    <tr>\n",
       "      <td>4</td>\n",
       "      <td>1000</td>\n",
       "      <td>2018.0</td>\n",
       "      <td>9.0</td>\n",
       "      <td>15</td>\n",
       "      <td>57</td>\n",
       "      <td>466</td>\n",
       "      <td>58</td>\n",
       "      <td>52</td>\n",
       "      <td>NaN</td>\n",
       "      <td>Краснодар</td>\n",
       "      <td>Рафаил</td>\n",
       "      <td>Верещагин</td>\n",
       "      <td>2018-05-25</td>\n",
       "      <td>ultra</td>\n",
       "      <td>1000</td>\n",
       "      <td>30</td>\n",
       "      <td>3000</td>\n",
       "      <td>1950</td>\n",
       "      <td>150</td>\n",
       "      <td>1</td>\n",
       "      <td>1</td>\n",
       "      <td>ultra</td>\n",
       "    </tr>\n",
       "  </tbody>\n",
       "</table>\n",
       "</div>"
      ],
      "text/plain": [
       "   user_id    year  month  mb_used  number_of_messages  duration_total  \\\n",
       "0     1000  2018.0    5.0        3                  22             159   \n",
       "1     1000  2018.0    6.0       23                  60             172   \n",
       "2     1000  2018.0    7.0       14                  75             340   \n",
       "3     1000  2018.0    8.0       14                  81             408   \n",
       "4     1000  2018.0    9.0       15                  57             466   \n",
       "\n",
       "   number_of_calls  age churn_date       city first_name  last_name  \\\n",
       "0               22   52        NaN  Краснодар     Рафаил  Верещагин   \n",
       "1               43   52        NaN  Краснодар     Рафаил  Верещагин   \n",
       "2               47   52        NaN  Краснодар     Рафаил  Верещагин   \n",
       "3               52   52        NaN  Краснодар     Рафаил  Верещагин   \n",
       "4               58   52        NaN  Краснодар     Рафаил  Верещагин   \n",
       "\n",
       "    reg_date tariff  messages_included  mb_per_month_included  \\\n",
       "0 2018-05-25  ultra               1000                     30   \n",
       "1 2018-05-25  ultra               1000                     30   \n",
       "2 2018-05-25  ultra               1000                     30   \n",
       "3 2018-05-25  ultra               1000                     30   \n",
       "4 2018-05-25  ultra               1000                     30   \n",
       "\n",
       "   minutes_included  rub_monthly_fee  rub_per_gb  rub_per_message  \\\n",
       "0              3000             1950         150                1   \n",
       "1              3000             1950         150                1   \n",
       "2              3000             1950         150                1   \n",
       "3              3000             1950         150                1   \n",
       "4              3000             1950         150                1   \n",
       "\n",
       "   rub_per_minute tariff_name  \n",
       "0               1       ultra  \n",
       "1               1       ultra  \n",
       "2               1       ultra  \n",
       "3               1       ultra  \n",
       "4               1       ultra  "
      ]
     },
     "metadata": {},
     "output_type": "display_data"
    },
    {
     "name": "stdout",
     "output_type": "stream",
     "text": [
      "<class 'pandas.core.frame.DataFrame'>\n",
      "Int64Index: 3217 entries, 0 to 3216\n",
      "Data columns (total 22 columns):\n",
      "user_id                  3217 non-null int64\n",
      "year                     3214 non-null float64\n",
      "month                    3214 non-null float64\n",
      "mb_used                  3217 non-null int64\n",
      "number_of_messages       3217 non-null int64\n",
      "duration_total           3217 non-null int64\n",
      "number_of_calls          3217 non-null int64\n",
      "age                      3217 non-null int64\n",
      "churn_date               189 non-null object\n",
      "city                     3217 non-null object\n",
      "first_name               3217 non-null object\n",
      "last_name                3217 non-null object\n",
      "reg_date                 3217 non-null datetime64[ns]\n",
      "tariff                   3217 non-null object\n",
      "messages_included        3217 non-null int64\n",
      "mb_per_month_included    3217 non-null int64\n",
      "minutes_included         3217 non-null int64\n",
      "rub_monthly_fee          3217 non-null int64\n",
      "rub_per_gb               3217 non-null int64\n",
      "rub_per_message          3217 non-null int64\n",
      "rub_per_minute           3217 non-null int64\n",
      "tariff_name              3217 non-null object\n",
      "dtypes: datetime64[ns](1), float64(2), int64(13), object(6)\n",
      "memory usage: 578.1+ KB\n"
     ]
    }
   ],
   "source": [
    "df_merged['mb_per_month_included'] = np.ceil(df_merged['mb_per_month_included'] / 1024)\n",
    "df_merged[['mb_used', 'number_of_messages', 'duration_total', 'number_of_calls', 'mb_per_month_included']] = df_merged[['mb_used', 'number_of_messages', 'duration_total', 'number_of_calls', 'mb_per_month_included']].astype(int)\n",
    "display(df_merged.head())\n",
    "df_merged.info()"
   ]
  },
  {
   "cell_type": "markdown",
   "metadata": {},
   "source": [
    "    \n",
    "По три позиции в столбцах с годом и месяцем пропущены. Выведем их для просмотра.\n"
   ]
  },
  {
   "cell_type": "code",
   "execution_count": 27,
   "metadata": {
    "scrolled": false
   },
   "outputs": [
    {
     "data": {
      "text/html": [
       "<div>\n",
       "<style scoped>\n",
       "    .dataframe tbody tr th:only-of-type {\n",
       "        vertical-align: middle;\n",
       "    }\n",
       "\n",
       "    .dataframe tbody tr th {\n",
       "        vertical-align: top;\n",
       "    }\n",
       "\n",
       "    .dataframe thead th {\n",
       "        text-align: right;\n",
       "    }\n",
       "</style>\n",
       "<table border=\"1\" class=\"dataframe\">\n",
       "  <thead>\n",
       "    <tr style=\"text-align: right;\">\n",
       "      <th></th>\n",
       "      <th>user_id</th>\n",
       "      <th>year</th>\n",
       "      <th>month</th>\n",
       "      <th>mb_used</th>\n",
       "      <th>number_of_messages</th>\n",
       "      <th>duration_total</th>\n",
       "      <th>number_of_calls</th>\n",
       "      <th>age</th>\n",
       "      <th>churn_date</th>\n",
       "      <th>city</th>\n",
       "      <th>first_name</th>\n",
       "      <th>last_name</th>\n",
       "      <th>reg_date</th>\n",
       "      <th>tariff</th>\n",
       "      <th>messages_included</th>\n",
       "      <th>mb_per_month_included</th>\n",
       "      <th>minutes_included</th>\n",
       "      <th>rub_monthly_fee</th>\n",
       "      <th>rub_per_gb</th>\n",
       "      <th>rub_per_message</th>\n",
       "      <th>rub_per_minute</th>\n",
       "      <th>tariff_name</th>\n",
       "    </tr>\n",
       "  </thead>\n",
       "  <tbody>\n",
       "    <tr>\n",
       "      <td>243</td>\n",
       "      <td>1128</td>\n",
       "      <td>NaN</td>\n",
       "      <td>NaN</td>\n",
       "      <td>0</td>\n",
       "      <td>0</td>\n",
       "      <td>0</td>\n",
       "      <td>0</td>\n",
       "      <td>51</td>\n",
       "      <td>2018-12-23</td>\n",
       "      <td>Волжский</td>\n",
       "      <td>Ксения</td>\n",
       "      <td>Агаева</td>\n",
       "      <td>2018-12-15</td>\n",
       "      <td>ultra</td>\n",
       "      <td>1000</td>\n",
       "      <td>30</td>\n",
       "      <td>3000</td>\n",
       "      <td>1950</td>\n",
       "      <td>150</td>\n",
       "      <td>1</td>\n",
       "      <td>1</td>\n",
       "      <td>ultra</td>\n",
       "    </tr>\n",
       "    <tr>\n",
       "      <td>477</td>\n",
       "      <td>1273</td>\n",
       "      <td>NaN</td>\n",
       "      <td>NaN</td>\n",
       "      <td>0</td>\n",
       "      <td>0</td>\n",
       "      <td>0</td>\n",
       "      <td>0</td>\n",
       "      <td>46</td>\n",
       "      <td>NaN</td>\n",
       "      <td>Курган</td>\n",
       "      <td>Рэм</td>\n",
       "      <td>Корнилов</td>\n",
       "      <td>2018-05-15</td>\n",
       "      <td>ultra</td>\n",
       "      <td>1000</td>\n",
       "      <td>30</td>\n",
       "      <td>3000</td>\n",
       "      <td>1950</td>\n",
       "      <td>150</td>\n",
       "      <td>1</td>\n",
       "      <td>1</td>\n",
       "      <td>ultra</td>\n",
       "    </tr>\n",
       "    <tr>\n",
       "      <td>2620</td>\n",
       "      <td>1371</td>\n",
       "      <td>NaN</td>\n",
       "      <td>NaN</td>\n",
       "      <td>0</td>\n",
       "      <td>0</td>\n",
       "      <td>0</td>\n",
       "      <td>0</td>\n",
       "      <td>50</td>\n",
       "      <td>2018-12-30</td>\n",
       "      <td>Омск</td>\n",
       "      <td>Ириней</td>\n",
       "      <td>Трофимов</td>\n",
       "      <td>2018-12-25</td>\n",
       "      <td>smart</td>\n",
       "      <td>50</td>\n",
       "      <td>15</td>\n",
       "      <td>500</td>\n",
       "      <td>550</td>\n",
       "      <td>200</td>\n",
       "      <td>3</td>\n",
       "      <td>3</td>\n",
       "      <td>smart</td>\n",
       "    </tr>\n",
       "  </tbody>\n",
       "</table>\n",
       "</div>"
      ],
      "text/plain": [
       "      user_id  year  month  mb_used  number_of_messages  duration_total  \\\n",
       "243      1128   NaN    NaN        0                   0               0   \n",
       "477      1273   NaN    NaN        0                   0               0   \n",
       "2620     1371   NaN    NaN        0                   0               0   \n",
       "\n",
       "      number_of_calls  age  churn_date      city first_name last_name  \\\n",
       "243                 0   51  2018-12-23  Волжский     Ксения    Агаева   \n",
       "477                 0   46         NaN    Курган        Рэм  Корнилов   \n",
       "2620                0   50  2018-12-30      Омск     Ириней  Трофимов   \n",
       "\n",
       "       reg_date tariff  messages_included  mb_per_month_included  \\\n",
       "243  2018-12-15  ultra               1000                     30   \n",
       "477  2018-05-15  ultra               1000                     30   \n",
       "2620 2018-12-25  smart                 50                     15   \n",
       "\n",
       "      minutes_included  rub_monthly_fee  rub_per_gb  rub_per_message  \\\n",
       "243               3000             1950         150                1   \n",
       "477               3000             1950         150                1   \n",
       "2620               500              550         200                3   \n",
       "\n",
       "      rub_per_minute tariff_name  \n",
       "243                1       ultra  \n",
       "477                1       ultra  \n",
       "2620               3       smart  "
      ]
     },
     "metadata": {},
     "output_type": "display_data"
    }
   ],
   "source": [
    "display(df_merged[df_merged['month'].isna()].head())"
   ]
  },
  {
   "cell_type": "markdown",
   "metadata": {},
   "source": [
    "\n",
    "По первому и третьему договору видим, что регистрация и прекращение действия произошли в одном месяце - декабре. Заменим пропуски в столбце месяц на \"12\", а год на \"2018\". Но вначале поподробнее посмотрим на третьего абонента."
   ]
  },
  {
   "cell_type": "code",
   "execution_count": 28,
   "metadata": {},
   "outputs": [
    {
     "data": {
      "text/html": [
       "<div>\n",
       "<style scoped>\n",
       "    .dataframe tbody tr th:only-of-type {\n",
       "        vertical-align: middle;\n",
       "    }\n",
       "\n",
       "    .dataframe tbody tr th {\n",
       "        vertical-align: top;\n",
       "    }\n",
       "\n",
       "    .dataframe thead th {\n",
       "        text-align: right;\n",
       "    }\n",
       "</style>\n",
       "<table border=\"1\" class=\"dataframe\">\n",
       "  <thead>\n",
       "    <tr style=\"text-align: right;\">\n",
       "      <th></th>\n",
       "      <th>user_id</th>\n",
       "      <th>year</th>\n",
       "      <th>month</th>\n",
       "      <th>mb_used</th>\n",
       "      <th>number_of_messages</th>\n",
       "      <th>duration_total</th>\n",
       "      <th>number_of_calls</th>\n",
       "      <th>age</th>\n",
       "      <th>churn_date</th>\n",
       "      <th>city</th>\n",
       "      <th>first_name</th>\n",
       "      <th>last_name</th>\n",
       "      <th>reg_date</th>\n",
       "      <th>tariff</th>\n",
       "      <th>messages_included</th>\n",
       "      <th>mb_per_month_included</th>\n",
       "      <th>minutes_included</th>\n",
       "      <th>rub_monthly_fee</th>\n",
       "      <th>rub_per_gb</th>\n",
       "      <th>rub_per_message</th>\n",
       "      <th>rub_per_minute</th>\n",
       "      <th>tariff_name</th>\n",
       "    </tr>\n",
       "  </thead>\n",
       "  <tbody>\n",
       "    <tr>\n",
       "      <td>477</td>\n",
       "      <td>1273</td>\n",
       "      <td>NaN</td>\n",
       "      <td>NaN</td>\n",
       "      <td>0</td>\n",
       "      <td>0</td>\n",
       "      <td>0</td>\n",
       "      <td>0</td>\n",
       "      <td>46</td>\n",
       "      <td>NaN</td>\n",
       "      <td>Курган</td>\n",
       "      <td>Рэм</td>\n",
       "      <td>Корнилов</td>\n",
       "      <td>2018-05-15</td>\n",
       "      <td>ultra</td>\n",
       "      <td>1000</td>\n",
       "      <td>30</td>\n",
       "      <td>3000</td>\n",
       "      <td>1950</td>\n",
       "      <td>150</td>\n",
       "      <td>1</td>\n",
       "      <td>1</td>\n",
       "      <td>ultra</td>\n",
       "    </tr>\n",
       "    <tr>\n",
       "      <td>478</td>\n",
       "      <td>1273</td>\n",
       "      <td>2018.0</td>\n",
       "      <td>5.0</td>\n",
       "      <td>0</td>\n",
       "      <td>21</td>\n",
       "      <td>220</td>\n",
       "      <td>24</td>\n",
       "      <td>46</td>\n",
       "      <td>NaN</td>\n",
       "      <td>Курган</td>\n",
       "      <td>Рэм</td>\n",
       "      <td>Корнилов</td>\n",
       "      <td>2018-05-15</td>\n",
       "      <td>ultra</td>\n",
       "      <td>1000</td>\n",
       "      <td>30</td>\n",
       "      <td>3000</td>\n",
       "      <td>1950</td>\n",
       "      <td>150</td>\n",
       "      <td>1</td>\n",
       "      <td>1</td>\n",
       "      <td>ultra</td>\n",
       "    </tr>\n",
       "    <tr>\n",
       "      <td>479</td>\n",
       "      <td>1273</td>\n",
       "      <td>2018.0</td>\n",
       "      <td>6.0</td>\n",
       "      <td>0</td>\n",
       "      <td>38</td>\n",
       "      <td>230</td>\n",
       "      <td>40</td>\n",
       "      <td>46</td>\n",
       "      <td>NaN</td>\n",
       "      <td>Курган</td>\n",
       "      <td>Рэм</td>\n",
       "      <td>Корнилов</td>\n",
       "      <td>2018-05-15</td>\n",
       "      <td>ultra</td>\n",
       "      <td>1000</td>\n",
       "      <td>30</td>\n",
       "      <td>3000</td>\n",
       "      <td>1950</td>\n",
       "      <td>150</td>\n",
       "      <td>1</td>\n",
       "      <td>1</td>\n",
       "      <td>ultra</td>\n",
       "    </tr>\n",
       "    <tr>\n",
       "      <td>480</td>\n",
       "      <td>1273</td>\n",
       "      <td>2018.0</td>\n",
       "      <td>7.0</td>\n",
       "      <td>0</td>\n",
       "      <td>37</td>\n",
       "      <td>253</td>\n",
       "      <td>44</td>\n",
       "      <td>46</td>\n",
       "      <td>NaN</td>\n",
       "      <td>Курган</td>\n",
       "      <td>Рэм</td>\n",
       "      <td>Корнилов</td>\n",
       "      <td>2018-05-15</td>\n",
       "      <td>ultra</td>\n",
       "      <td>1000</td>\n",
       "      <td>30</td>\n",
       "      <td>3000</td>\n",
       "      <td>1950</td>\n",
       "      <td>150</td>\n",
       "      <td>1</td>\n",
       "      <td>1</td>\n",
       "      <td>ultra</td>\n",
       "    </tr>\n",
       "    <tr>\n",
       "      <td>481</td>\n",
       "      <td>1273</td>\n",
       "      <td>2018.0</td>\n",
       "      <td>8.0</td>\n",
       "      <td>0</td>\n",
       "      <td>41</td>\n",
       "      <td>253</td>\n",
       "      <td>53</td>\n",
       "      <td>46</td>\n",
       "      <td>NaN</td>\n",
       "      <td>Курган</td>\n",
       "      <td>Рэм</td>\n",
       "      <td>Корнилов</td>\n",
       "      <td>2018-05-15</td>\n",
       "      <td>ultra</td>\n",
       "      <td>1000</td>\n",
       "      <td>30</td>\n",
       "      <td>3000</td>\n",
       "      <td>1950</td>\n",
       "      <td>150</td>\n",
       "      <td>1</td>\n",
       "      <td>1</td>\n",
       "      <td>ultra</td>\n",
       "    </tr>\n",
       "    <tr>\n",
       "      <td>482</td>\n",
       "      <td>1273</td>\n",
       "      <td>2018.0</td>\n",
       "      <td>9.0</td>\n",
       "      <td>0</td>\n",
       "      <td>32</td>\n",
       "      <td>223</td>\n",
       "      <td>33</td>\n",
       "      <td>46</td>\n",
       "      <td>NaN</td>\n",
       "      <td>Курган</td>\n",
       "      <td>Рэм</td>\n",
       "      <td>Корнилов</td>\n",
       "      <td>2018-05-15</td>\n",
       "      <td>ultra</td>\n",
       "      <td>1000</td>\n",
       "      <td>30</td>\n",
       "      <td>3000</td>\n",
       "      <td>1950</td>\n",
       "      <td>150</td>\n",
       "      <td>1</td>\n",
       "      <td>1</td>\n",
       "      <td>ultra</td>\n",
       "    </tr>\n",
       "    <tr>\n",
       "      <td>483</td>\n",
       "      <td>1273</td>\n",
       "      <td>2018.0</td>\n",
       "      <td>10.0</td>\n",
       "      <td>0</td>\n",
       "      <td>35</td>\n",
       "      <td>315</td>\n",
       "      <td>40</td>\n",
       "      <td>46</td>\n",
       "      <td>NaN</td>\n",
       "      <td>Курган</td>\n",
       "      <td>Рэм</td>\n",
       "      <td>Корнилов</td>\n",
       "      <td>2018-05-15</td>\n",
       "      <td>ultra</td>\n",
       "      <td>1000</td>\n",
       "      <td>30</td>\n",
       "      <td>3000</td>\n",
       "      <td>1950</td>\n",
       "      <td>150</td>\n",
       "      <td>1</td>\n",
       "      <td>1</td>\n",
       "      <td>ultra</td>\n",
       "    </tr>\n",
       "    <tr>\n",
       "      <td>484</td>\n",
       "      <td>1273</td>\n",
       "      <td>2018.0</td>\n",
       "      <td>11.0</td>\n",
       "      <td>0</td>\n",
       "      <td>29</td>\n",
       "      <td>272</td>\n",
       "      <td>45</td>\n",
       "      <td>46</td>\n",
       "      <td>NaN</td>\n",
       "      <td>Курган</td>\n",
       "      <td>Рэм</td>\n",
       "      <td>Корнилов</td>\n",
       "      <td>2018-05-15</td>\n",
       "      <td>ultra</td>\n",
       "      <td>1000</td>\n",
       "      <td>30</td>\n",
       "      <td>3000</td>\n",
       "      <td>1950</td>\n",
       "      <td>150</td>\n",
       "      <td>1</td>\n",
       "      <td>1</td>\n",
       "      <td>ultra</td>\n",
       "    </tr>\n",
       "    <tr>\n",
       "      <td>485</td>\n",
       "      <td>1273</td>\n",
       "      <td>2018.0</td>\n",
       "      <td>12.0</td>\n",
       "      <td>0</td>\n",
       "      <td>39</td>\n",
       "      <td>260</td>\n",
       "      <td>41</td>\n",
       "      <td>46</td>\n",
       "      <td>NaN</td>\n",
       "      <td>Курган</td>\n",
       "      <td>Рэм</td>\n",
       "      <td>Корнилов</td>\n",
       "      <td>2018-05-15</td>\n",
       "      <td>ultra</td>\n",
       "      <td>1000</td>\n",
       "      <td>30</td>\n",
       "      <td>3000</td>\n",
       "      <td>1950</td>\n",
       "      <td>150</td>\n",
       "      <td>1</td>\n",
       "      <td>1</td>\n",
       "      <td>ultra</td>\n",
       "    </tr>\n",
       "  </tbody>\n",
       "</table>\n",
       "</div>"
      ],
      "text/plain": [
       "     user_id    year  month  mb_used  number_of_messages  duration_total  \\\n",
       "477     1273     NaN    NaN        0                   0               0   \n",
       "478     1273  2018.0    5.0        0                  21             220   \n",
       "479     1273  2018.0    6.0        0                  38             230   \n",
       "480     1273  2018.0    7.0        0                  37             253   \n",
       "481     1273  2018.0    8.0        0                  41             253   \n",
       "482     1273  2018.0    9.0        0                  32             223   \n",
       "483     1273  2018.0   10.0        0                  35             315   \n",
       "484     1273  2018.0   11.0        0                  29             272   \n",
       "485     1273  2018.0   12.0        0                  39             260   \n",
       "\n",
       "     number_of_calls  age churn_date    city first_name last_name   reg_date  \\\n",
       "477                0   46        NaN  Курган        Рэм  Корнилов 2018-05-15   \n",
       "478               24   46        NaN  Курган        Рэм  Корнилов 2018-05-15   \n",
       "479               40   46        NaN  Курган        Рэм  Корнилов 2018-05-15   \n",
       "480               44   46        NaN  Курган        Рэм  Корнилов 2018-05-15   \n",
       "481               53   46        NaN  Курган        Рэм  Корнилов 2018-05-15   \n",
       "482               33   46        NaN  Курган        Рэм  Корнилов 2018-05-15   \n",
       "483               40   46        NaN  Курган        Рэм  Корнилов 2018-05-15   \n",
       "484               45   46        NaN  Курган        Рэм  Корнилов 2018-05-15   \n",
       "485               41   46        NaN  Курган        Рэм  Корнилов 2018-05-15   \n",
       "\n",
       "    tariff  messages_included  mb_per_month_included  minutes_included  \\\n",
       "477  ultra               1000                     30              3000   \n",
       "478  ultra               1000                     30              3000   \n",
       "479  ultra               1000                     30              3000   \n",
       "480  ultra               1000                     30              3000   \n",
       "481  ultra               1000                     30              3000   \n",
       "482  ultra               1000                     30              3000   \n",
       "483  ultra               1000                     30              3000   \n",
       "484  ultra               1000                     30              3000   \n",
       "485  ultra               1000                     30              3000   \n",
       "\n",
       "     rub_monthly_fee  rub_per_gb  rub_per_message  rub_per_minute tariff_name  \n",
       "477             1950         150                1               1       ultra  \n",
       "478             1950         150                1               1       ultra  \n",
       "479             1950         150                1               1       ultra  \n",
       "480             1950         150                1               1       ultra  \n",
       "481             1950         150                1               1       ultra  \n",
       "482             1950         150                1               1       ultra  \n",
       "483             1950         150                1               1       ultra  \n",
       "484             1950         150                1               1       ultra  \n",
       "485             1950         150                1               1       ultra  "
      ]
     },
     "metadata": {},
     "output_type": "display_data"
    }
   ],
   "source": [
    "display(df_merged.query('first_name == \"Рэм\" & last_name == \"Корнилов\"').head(10))"
   ]
  },
  {
   "cell_type": "markdown",
   "metadata": {},
   "source": [
    "Видим, что договор зарегистрирован в мае 2018 г, и есть данные за все остальные месяцы до конца года. Строка с пропусками не несет какой-то полезной информации - можем её удалить.\n",
    "После заполнения пропусков сможем изменить на целочисленный тип в столбцах месяц и год"
   ]
  },
  {
   "cell_type": "code",
   "execution_count": 29,
   "metadata": {},
   "outputs": [
    {
     "name": "stdout",
     "output_type": "stream",
     "text": [
      "<class 'pandas.core.frame.DataFrame'>\n",
      "Int64Index: 3216 entries, 0 to 3216\n",
      "Data columns (total 22 columns):\n",
      "user_id                  3216 non-null int64\n",
      "year                     3216 non-null int64\n",
      "month                    3216 non-null int64\n",
      "mb_used                  3216 non-null int64\n",
      "number_of_messages       3216 non-null int64\n",
      "duration_total           3216 non-null int64\n",
      "number_of_calls          3216 non-null int64\n",
      "age                      3216 non-null int64\n",
      "churn_date               189 non-null object\n",
      "city                     3216 non-null object\n",
      "first_name               3216 non-null object\n",
      "last_name                3216 non-null object\n",
      "reg_date                 3216 non-null datetime64[ns]\n",
      "tariff                   3216 non-null object\n",
      "messages_included        3216 non-null int64\n",
      "mb_per_month_included    3216 non-null int64\n",
      "minutes_included         3216 non-null int64\n",
      "rub_monthly_fee          3216 non-null int64\n",
      "rub_per_gb               3216 non-null int64\n",
      "rub_per_message          3216 non-null int64\n",
      "rub_per_minute           3216 non-null int64\n",
      "tariff_name              3216 non-null object\n",
      "dtypes: datetime64[ns](1), int64(15), object(6)\n",
      "memory usage: 577.9+ KB\n"
     ]
    }
   ],
   "source": [
    "df_merged = df_merged.drop(df_merged[(df_merged['first_name'] == \"Рэм\") & (df_merged['month'] != df_merged['month'])].index) #удаляем строку \n",
    "df_merged['year'] = df_merged['year'].fillna(2018) #заполняем оставшиеся два пропуска в столбце год на \"2018\"\n",
    "df_merged['month'] = df_merged['month'].fillna(12) #заполняем оставшиеся два пропуска в столбце месяц на \"12\"\n",
    "df_merged[['year', 'month']] = df_merged[['year', 'month']].astype(int)\n",
    "df_merged.info()"
   ]
  },
  {
   "cell_type": "markdown",
   "metadata": {},
   "source": [
    "Чтобы сравнивать тарифы, нам необходимо иметь выручку по абонентам. Напишем функцию `revenue_count`, которая будет производить расчет всех затрат абонента за месяц.\n",
    "\n",
    "- сравниваем количество испольованных минут/гигабайт/сообщений с количеством, включенным в соответствующий тариф;\n",
    "- если лимит превышен, то умножаем величину превышения лимита на стоимость за единицу соответствующей услуги;\n",
    "- добавляем полученную сумму к абонентской плате - получаем итоговую выручку по абоненту, которую вносим в столбец `revenue`."
   ]
  },
  {
   "cell_type": "code",
   "execution_count": 30,
   "metadata": {
    "scrolled": true
   },
   "outputs": [
    {
     "data": {
      "text/html": [
       "<div>\n",
       "<style scoped>\n",
       "    .dataframe tbody tr th:only-of-type {\n",
       "        vertical-align: middle;\n",
       "    }\n",
       "\n",
       "    .dataframe tbody tr th {\n",
       "        vertical-align: top;\n",
       "    }\n",
       "\n",
       "    .dataframe thead th {\n",
       "        text-align: right;\n",
       "    }\n",
       "</style>\n",
       "<table border=\"1\" class=\"dataframe\">\n",
       "  <thead>\n",
       "    <tr style=\"text-align: right;\">\n",
       "      <th></th>\n",
       "      <th>user_id</th>\n",
       "      <th>year</th>\n",
       "      <th>month</th>\n",
       "      <th>mb_used</th>\n",
       "      <th>number_of_messages</th>\n",
       "      <th>duration_total</th>\n",
       "      <th>number_of_calls</th>\n",
       "      <th>age</th>\n",
       "      <th>churn_date</th>\n",
       "      <th>city</th>\n",
       "      <th>first_name</th>\n",
       "      <th>last_name</th>\n",
       "      <th>reg_date</th>\n",
       "      <th>tariff</th>\n",
       "      <th>messages_included</th>\n",
       "      <th>mb_per_month_included</th>\n",
       "      <th>minutes_included</th>\n",
       "      <th>rub_monthly_fee</th>\n",
       "      <th>rub_per_gb</th>\n",
       "      <th>rub_per_message</th>\n",
       "      <th>rub_per_minute</th>\n",
       "      <th>tariff_name</th>\n",
       "      <th>revenue</th>\n",
       "    </tr>\n",
       "  </thead>\n",
       "  <tbody>\n",
       "    <tr>\n",
       "      <td>382</td>\n",
       "      <td>1225</td>\n",
       "      <td>2018</td>\n",
       "      <td>7</td>\n",
       "      <td>20</td>\n",
       "      <td>0</td>\n",
       "      <td>521</td>\n",
       "      <td>82</td>\n",
       "      <td>71</td>\n",
       "      <td>NaN</td>\n",
       "      <td>Оренбург</td>\n",
       "      <td>Даниэла</td>\n",
       "      <td>Горбачева</td>\n",
       "      <td>2018-04-26</td>\n",
       "      <td>ultra</td>\n",
       "      <td>1000</td>\n",
       "      <td>30</td>\n",
       "      <td>3000</td>\n",
       "      <td>1950</td>\n",
       "      <td>150</td>\n",
       "      <td>1</td>\n",
       "      <td>1</td>\n",
       "      <td>ultra</td>\n",
       "      <td>1950</td>\n",
       "    </tr>\n",
       "    <tr>\n",
       "      <td>2094</td>\n",
       "      <td>1238</td>\n",
       "      <td>2018</td>\n",
       "      <td>12</td>\n",
       "      <td>18</td>\n",
       "      <td>31</td>\n",
       "      <td>112</td>\n",
       "      <td>11</td>\n",
       "      <td>57</td>\n",
       "      <td>NaN</td>\n",
       "      <td>Ростов-на-Дону</td>\n",
       "      <td>Радислав</td>\n",
       "      <td>Наумов</td>\n",
       "      <td>2018-01-08</td>\n",
       "      <td>smart</td>\n",
       "      <td>50</td>\n",
       "      <td>15</td>\n",
       "      <td>500</td>\n",
       "      <td>550</td>\n",
       "      <td>200</td>\n",
       "      <td>3</td>\n",
       "      <td>3</td>\n",
       "      <td>smart</td>\n",
       "      <td>1150</td>\n",
       "    </tr>\n",
       "    <tr>\n",
       "      <td>3033</td>\n",
       "      <td>1462</td>\n",
       "      <td>2018</td>\n",
       "      <td>11</td>\n",
       "      <td>23</td>\n",
       "      <td>0</td>\n",
       "      <td>933</td>\n",
       "      <td>126</td>\n",
       "      <td>72</td>\n",
       "      <td>NaN</td>\n",
       "      <td>Тольятти</td>\n",
       "      <td>Алёна</td>\n",
       "      <td>Абрамычева</td>\n",
       "      <td>2018-10-29</td>\n",
       "      <td>smart</td>\n",
       "      <td>50</td>\n",
       "      <td>15</td>\n",
       "      <td>500</td>\n",
       "      <td>550</td>\n",
       "      <td>200</td>\n",
       "      <td>3</td>\n",
       "      <td>3</td>\n",
       "      <td>smart</td>\n",
       "      <td>3449</td>\n",
       "    </tr>\n",
       "    <tr>\n",
       "      <td>1141</td>\n",
       "      <td>1032</td>\n",
       "      <td>2018</td>\n",
       "      <td>10</td>\n",
       "      <td>15</td>\n",
       "      <td>35</td>\n",
       "      <td>385</td>\n",
       "      <td>60</td>\n",
       "      <td>31</td>\n",
       "      <td>NaN</td>\n",
       "      <td>Ульяновск</td>\n",
       "      <td>Инна</td>\n",
       "      <td>Игнатьева</td>\n",
       "      <td>2018-01-04</td>\n",
       "      <td>smart</td>\n",
       "      <td>50</td>\n",
       "      <td>15</td>\n",
       "      <td>500</td>\n",
       "      <td>550</td>\n",
       "      <td>200</td>\n",
       "      <td>3</td>\n",
       "      <td>3</td>\n",
       "      <td>smart</td>\n",
       "      <td>550</td>\n",
       "    </tr>\n",
       "    <tr>\n",
       "      <td>122</td>\n",
       "      <td>1081</td>\n",
       "      <td>2018</td>\n",
       "      <td>6</td>\n",
       "      <td>25</td>\n",
       "      <td>19</td>\n",
       "      <td>618</td>\n",
       "      <td>91</td>\n",
       "      <td>42</td>\n",
       "      <td>NaN</td>\n",
       "      <td>Москва</td>\n",
       "      <td>Софья</td>\n",
       "      <td>Терехова</td>\n",
       "      <td>2018-03-25</td>\n",
       "      <td>ultra</td>\n",
       "      <td>1000</td>\n",
       "      <td>30</td>\n",
       "      <td>3000</td>\n",
       "      <td>1950</td>\n",
       "      <td>150</td>\n",
       "      <td>1</td>\n",
       "      <td>1</td>\n",
       "      <td>ultra</td>\n",
       "      <td>1950</td>\n",
       "    </tr>\n",
       "    <tr>\n",
       "      <td>2186</td>\n",
       "      <td>1262</td>\n",
       "      <td>2018</td>\n",
       "      <td>9</td>\n",
       "      <td>21</td>\n",
       "      <td>31</td>\n",
       "      <td>362</td>\n",
       "      <td>43</td>\n",
       "      <td>21</td>\n",
       "      <td>NaN</td>\n",
       "      <td>Ульяновск</td>\n",
       "      <td>Антонина</td>\n",
       "      <td>Ларина</td>\n",
       "      <td>2018-03-17</td>\n",
       "      <td>smart</td>\n",
       "      <td>50</td>\n",
       "      <td>15</td>\n",
       "      <td>500</td>\n",
       "      <td>550</td>\n",
       "      <td>200</td>\n",
       "      <td>3</td>\n",
       "      <td>3</td>\n",
       "      <td>smart</td>\n",
       "      <td>1750</td>\n",
       "    </tr>\n",
       "    <tr>\n",
       "      <td>2709</td>\n",
       "      <td>1393</td>\n",
       "      <td>2018</td>\n",
       "      <td>2</td>\n",
       "      <td>7</td>\n",
       "      <td>16</td>\n",
       "      <td>171</td>\n",
       "      <td>26</td>\n",
       "      <td>56</td>\n",
       "      <td>NaN</td>\n",
       "      <td>Краснодар</td>\n",
       "      <td>Артём</td>\n",
       "      <td>Зубков</td>\n",
       "      <td>2018-02-17</td>\n",
       "      <td>smart</td>\n",
       "      <td>50</td>\n",
       "      <td>15</td>\n",
       "      <td>500</td>\n",
       "      <td>550</td>\n",
       "      <td>200</td>\n",
       "      <td>3</td>\n",
       "      <td>3</td>\n",
       "      <td>smart</td>\n",
       "      <td>550</td>\n",
       "    </tr>\n",
       "    <tr>\n",
       "      <td>2848</td>\n",
       "      <td>1421</td>\n",
       "      <td>2018</td>\n",
       "      <td>12</td>\n",
       "      <td>15</td>\n",
       "      <td>36</td>\n",
       "      <td>335</td>\n",
       "      <td>40</td>\n",
       "      <td>30</td>\n",
       "      <td>NaN</td>\n",
       "      <td>Калининград</td>\n",
       "      <td>Гайдар</td>\n",
       "      <td>Александрович</td>\n",
       "      <td>2018-02-22</td>\n",
       "      <td>smart</td>\n",
       "      <td>50</td>\n",
       "      <td>15</td>\n",
       "      <td>500</td>\n",
       "      <td>550</td>\n",
       "      <td>200</td>\n",
       "      <td>3</td>\n",
       "      <td>3</td>\n",
       "      <td>smart</td>\n",
       "      <td>550</td>\n",
       "    </tr>\n",
       "    <tr>\n",
       "      <td>3068</td>\n",
       "      <td>1470</td>\n",
       "      <td>2018</td>\n",
       "      <td>12</td>\n",
       "      <td>18</td>\n",
       "      <td>11</td>\n",
       "      <td>492</td>\n",
       "      <td>58</td>\n",
       "      <td>23</td>\n",
       "      <td>NaN</td>\n",
       "      <td>Новокузнецк</td>\n",
       "      <td>Эллада</td>\n",
       "      <td>Лосева</td>\n",
       "      <td>2018-10-19</td>\n",
       "      <td>smart</td>\n",
       "      <td>50</td>\n",
       "      <td>15</td>\n",
       "      <td>500</td>\n",
       "      <td>550</td>\n",
       "      <td>200</td>\n",
       "      <td>3</td>\n",
       "      <td>3</td>\n",
       "      <td>smart</td>\n",
       "      <td>1150</td>\n",
       "    </tr>\n",
       "    <tr>\n",
       "      <td>2435</td>\n",
       "      <td>1317</td>\n",
       "      <td>2018</td>\n",
       "      <td>8</td>\n",
       "      <td>16</td>\n",
       "      <td>37</td>\n",
       "      <td>659</td>\n",
       "      <td>86</td>\n",
       "      <td>45</td>\n",
       "      <td>NaN</td>\n",
       "      <td>Москва</td>\n",
       "      <td>Всеволод</td>\n",
       "      <td>Зыков</td>\n",
       "      <td>2018-07-09</td>\n",
       "      <td>smart</td>\n",
       "      <td>50</td>\n",
       "      <td>15</td>\n",
       "      <td>500</td>\n",
       "      <td>550</td>\n",
       "      <td>200</td>\n",
       "      <td>3</td>\n",
       "      <td>3</td>\n",
       "      <td>smart</td>\n",
       "      <td>1227</td>\n",
       "    </tr>\n",
       "  </tbody>\n",
       "</table>\n",
       "</div>"
      ],
      "text/plain": [
       "      user_id  year  month  mb_used  number_of_messages  duration_total  \\\n",
       "382      1225  2018      7       20                   0             521   \n",
       "2094     1238  2018     12       18                  31             112   \n",
       "3033     1462  2018     11       23                   0             933   \n",
       "1141     1032  2018     10       15                  35             385   \n",
       "122      1081  2018      6       25                  19             618   \n",
       "2186     1262  2018      9       21                  31             362   \n",
       "2709     1393  2018      2        7                  16             171   \n",
       "2848     1421  2018     12       15                  36             335   \n",
       "3068     1470  2018     12       18                  11             492   \n",
       "2435     1317  2018      8       16                  37             659   \n",
       "\n",
       "      number_of_calls  age churn_date            city first_name  \\\n",
       "382                82   71        NaN        Оренбург    Даниэла   \n",
       "2094               11   57        NaN  Ростов-на-Дону   Радислав   \n",
       "3033              126   72        NaN        Тольятти      Алёна   \n",
       "1141               60   31        NaN       Ульяновск       Инна   \n",
       "122                91   42        NaN          Москва      Софья   \n",
       "2186               43   21        NaN       Ульяновск   Антонина   \n",
       "2709               26   56        NaN       Краснодар      Артём   \n",
       "2848               40   30        NaN     Калининград     Гайдар   \n",
       "3068               58   23        NaN     Новокузнецк     Эллада   \n",
       "2435               86   45        NaN          Москва   Всеволод   \n",
       "\n",
       "          last_name   reg_date tariff  messages_included  \\\n",
       "382       Горбачева 2018-04-26  ultra               1000   \n",
       "2094         Наумов 2018-01-08  smart                 50   \n",
       "3033     Абрамычева 2018-10-29  smart                 50   \n",
       "1141      Игнатьева 2018-01-04  smart                 50   \n",
       "122        Терехова 2018-03-25  ultra               1000   \n",
       "2186         Ларина 2018-03-17  smart                 50   \n",
       "2709         Зубков 2018-02-17  smart                 50   \n",
       "2848  Александрович 2018-02-22  smart                 50   \n",
       "3068         Лосева 2018-10-19  smart                 50   \n",
       "2435          Зыков 2018-07-09  smart                 50   \n",
       "\n",
       "      mb_per_month_included  minutes_included  rub_monthly_fee  rub_per_gb  \\\n",
       "382                      30              3000             1950         150   \n",
       "2094                     15               500              550         200   \n",
       "3033                     15               500              550         200   \n",
       "1141                     15               500              550         200   \n",
       "122                      30              3000             1950         150   \n",
       "2186                     15               500              550         200   \n",
       "2709                     15               500              550         200   \n",
       "2848                     15               500              550         200   \n",
       "3068                     15               500              550         200   \n",
       "2435                     15               500              550         200   \n",
       "\n",
       "      rub_per_message  rub_per_minute tariff_name  revenue  \n",
       "382                 1               1       ultra     1950  \n",
       "2094                3               3       smart     1150  \n",
       "3033                3               3       smart     3449  \n",
       "1141                3               3       smart      550  \n",
       "122                 1               1       ultra     1950  \n",
       "2186                3               3       smart     1750  \n",
       "2709                3               3       smart      550  \n",
       "2848                3               3       smart      550  \n",
       "3068                3               3       smart     1150  \n",
       "2435                3               3       smart     1227  "
      ]
     },
     "metadata": {},
     "output_type": "display_data"
    },
    {
     "name": "stdout",
     "output_type": "stream",
     "text": [
      "<class 'pandas.core.frame.DataFrame'>\n",
      "Int64Index: 3216 entries, 0 to 3216\n",
      "Data columns (total 23 columns):\n",
      "user_id                  3216 non-null int64\n",
      "year                     3216 non-null int64\n",
      "month                    3216 non-null int64\n",
      "mb_used                  3216 non-null int64\n",
      "number_of_messages       3216 non-null int64\n",
      "duration_total           3216 non-null int64\n",
      "number_of_calls          3216 non-null int64\n",
      "age                      3216 non-null int64\n",
      "churn_date               189 non-null object\n",
      "city                     3216 non-null object\n",
      "first_name               3216 non-null object\n",
      "last_name                3216 non-null object\n",
      "reg_date                 3216 non-null datetime64[ns]\n",
      "tariff                   3216 non-null object\n",
      "messages_included        3216 non-null int64\n",
      "mb_per_month_included    3216 non-null int64\n",
      "minutes_included         3216 non-null int64\n",
      "rub_monthly_fee          3216 non-null int64\n",
      "rub_per_gb               3216 non-null int64\n",
      "rub_per_message          3216 non-null int64\n",
      "rub_per_minute           3216 non-null int64\n",
      "tariff_name              3216 non-null object\n",
      "revenue                  3216 non-null int64\n",
      "dtypes: datetime64[ns](1), int64(16), object(6)\n",
      "memory usage: 603.0+ KB\n"
     ]
    }
   ],
   "source": [
    "def revenue_count (row):\n",
    "    revenue = row['rub_monthly_fee']\n",
    "    if row['duration_total'] > row['minutes_included']:\n",
    "        revenue += (row['duration_total'] - row['minutes_included']) * row['rub_per_minute']\n",
    "#        return revenue\n",
    "    if row['number_of_messages'] > row['messages_included']:\n",
    "        revenue += (row['number_of_messages'] - row['messages_included']) * row['rub_per_message']\n",
    "#        return revenue\n",
    "    if row['mb_used'] > row['mb_per_month_included']:\n",
    "        revenue += (row['mb_used'] - row['mb_per_month_included']) * row['rub_per_gb'] \n",
    "#        return revenue\n",
    "    return revenue\n",
    "\n",
    "df_merged['revenue'] = df_merged.apply(revenue_count, axis = 1)\n",
    "display(df_merged.sample(10))\n",
    "df_merged.info()"
   ]
  },
  {
   "cell_type": "markdown",
   "metadata": {},
   "source": [
    "Проверим нет ли случаев, когда расчетная выручка оказалась меньше абонентской платы."
   ]
  },
  {
   "cell_type": "code",
   "execution_count": 31,
   "metadata": {},
   "outputs": [
    {
     "data": {
      "text/plain": [
       "revenue            0\n",
       "rub_monthly_fee    0\n",
       "dtype: int64"
      ]
     },
     "execution_count": 31,
     "metadata": {},
     "output_type": "execute_result"
    }
   ],
   "source": [
    "df_merged[['revenue', 'rub_monthly_fee']].query('revenue < rub_monthly_fee').sum()"
   ]
  },
  {
   "cell_type": "markdown",
   "metadata": {},
   "source": [
    "Подобных ситуаций нет, выручка всегда больше или равна абонентской плате. "
   ]
  },
  {
   "cell_type": "markdown",
   "metadata": {},
   "source": [
    "## Анализ данных"
   ]
  },
  {
   "cell_type": "markdown",
   "metadata": {},
   "source": [
    "В выборке присутствует 500 уникальных абонентов. Посмотрим как они распределились между тарифами."
   ]
  },
  {
   "cell_type": "code",
   "execution_count": 32,
   "metadata": {},
   "outputs": [
    {
     "name": "stdout",
     "output_type": "stream",
     "text": [
      "Абонентов с тарифом \"smart\": 351\n",
      "Абонентов с тарифом \"ultra\": 149\n"
     ]
    }
   ],
   "source": [
    "print('Абонентов с тарифом \"smart\":', df_users.query('tariff == \"smart\"')['tariff'].count())\n",
    "print('Абонентов с тарифом \"ultra\":', df_users.query('tariff == \"ultra\"')['tariff'].count())"
   ]
  },
  {
   "cell_type": "markdown",
   "metadata": {},
   "source": [
    "Рассчитаем общую выручку по каждому из тарифов. "
   ]
  },
  {
   "cell_type": "code",
   "execution_count": 33,
   "metadata": {},
   "outputs": [
    {
     "name": "stdout",
     "output_type": "stream",
     "text": [
      "Суммарная выручка всех абонентов тарифа \"smart\": 2875901\n",
      "Суммарная выручка всех абонентов тарифа \"ultra\": 2041050\n"
     ]
    }
   ],
   "source": [
    "print('Суммарная выручка всех абонентов тарифа \"smart\":', df_merged.query('tariff == \"smart\"')['revenue'].sum())\n",
    "print('Суммарная выручка всех абонентов тарифа \"ultra\":', df_merged.query('tariff == \"ultra\"')['revenue'].sum())"
   ]
  },
  {
   "cell_type": "markdown",
   "metadata": {},
   "source": [
    "Пользователи более дорогого тарифа ultra составляют примерно 30% выборки.\n",
    "При этом выручка по этому тарифу составляет примерно 42%.\n",
    "\n",
    "Посчитаем средние значения по фактическому расходу минут, смс и гигабайт по каждому из тарифов. "
   ]
  },
  {
   "cell_type": "code",
   "execution_count": 34,
   "metadata": {},
   "outputs": [
    {
     "data": {
      "text/html": [
       "<div>\n",
       "<style scoped>\n",
       "    .dataframe tbody tr th:only-of-type {\n",
       "        vertical-align: middle;\n",
       "    }\n",
       "\n",
       "    .dataframe tbody tr th {\n",
       "        vertical-align: top;\n",
       "    }\n",
       "\n",
       "    .dataframe thead tr th {\n",
       "        text-align: left;\n",
       "    }\n",
       "\n",
       "    .dataframe thead tr:last-of-type th {\n",
       "        text-align: right;\n",
       "    }\n",
       "</style>\n",
       "<table border=\"1\" class=\"dataframe\">\n",
       "  <thead>\n",
       "    <tr>\n",
       "      <th></th>\n",
       "      <th colspan=\"4\" halign=\"left\">mean</th>\n",
       "      <th colspan=\"4\" halign=\"left\">median</th>\n",
       "    </tr>\n",
       "    <tr>\n",
       "      <th></th>\n",
       "      <th>duration_total</th>\n",
       "      <th>mb_used</th>\n",
       "      <th>number_of_messages</th>\n",
       "      <th>revenue</th>\n",
       "      <th>duration_total</th>\n",
       "      <th>mb_used</th>\n",
       "      <th>number_of_messages</th>\n",
       "      <th>revenue</th>\n",
       "    </tr>\n",
       "    <tr>\n",
       "      <th>tariff</th>\n",
       "      <th></th>\n",
       "      <th></th>\n",
       "      <th></th>\n",
       "      <th></th>\n",
       "      <th></th>\n",
       "      <th></th>\n",
       "      <th></th>\n",
       "      <th></th>\n",
       "    </tr>\n",
       "  </thead>\n",
       "  <tbody>\n",
       "    <tr>\n",
       "      <td>smart</td>\n",
       "      <td>417.75</td>\n",
       "      <td>16.32</td>\n",
       "      <td>33.37</td>\n",
       "      <td>1289.64</td>\n",
       "      <td>421.5</td>\n",
       "      <td>17</td>\n",
       "      <td>28</td>\n",
       "      <td>1021</td>\n",
       "    </tr>\n",
       "    <tr>\n",
       "      <td>ultra</td>\n",
       "      <td>526.09</td>\n",
       "      <td>19.47</td>\n",
       "      <td>49.31</td>\n",
       "      <td>2070.03</td>\n",
       "      <td>518.0</td>\n",
       "      <td>19</td>\n",
       "      <td>38</td>\n",
       "      <td>1950</td>\n",
       "    </tr>\n",
       "  </tbody>\n",
       "</table>\n",
       "</div>"
      ],
      "text/plain": [
       "                 mean                                             median  \\\n",
       "       duration_total mb_used number_of_messages  revenue duration_total   \n",
       "tariff                                                                     \n",
       "smart          417.75   16.32              33.37  1289.64          421.5   \n",
       "ultra          526.09   19.47              49.31  2070.03          518.0   \n",
       "\n",
       "                                           \n",
       "       mb_used number_of_messages revenue  \n",
       "tariff                                     \n",
       "smart       17                 28    1021  \n",
       "ultra       19                 38    1950  "
      ]
     },
     "metadata": {},
     "output_type": "display_data"
    }
   ],
   "source": [
    "df_merged_pivot = df_merged.pivot_table(index='tariff', values=['duration_total', 'number_of_messages', 'mb_used', 'revenue'], aggfunc=['mean', 'median']).round(2)\n",
    "display(df_merged_pivot)"
   ]
  },
  {
   "cell_type": "markdown",
   "metadata": {},
   "source": [
    "В ultra большое кол-во абонентов укладывается в рамки тарифа - медианная выручка = стоимости тарифа. И отличие от среднего значения не очень велико. В smart же отличия очень существенные. Большинство абонентов используют доп.услуги сверх предоставленного пакета. Причем среднее значение выручки существенно больше медианы, это говорит о том, что выборка существенно смещена вправо. Это логично, т.к. есть нижний порог - абонентская плата, и все возможные выбросы и сильные отклонения возможны только в большую сторону.\n"
   ]
  },
  {
   "cell_type": "markdown",
   "metadata": {},
   "source": [
    "### Минуты"
   ]
  },
  {
   "cell_type": "markdown",
   "metadata": {},
   "source": [
    "Посмотрим некоторые параметры распределения количества использованных минут в разбивке по тарифам с помощью `describe`."
   ]
  },
  {
   "cell_type": "code",
   "execution_count": 35,
   "metadata": {},
   "outputs": [
    {
     "name": "stdout",
     "output_type": "stream",
     "text": [
      "count    2230.000000\n",
      "mean      417.747534\n",
      "std       190.476754\n",
      "min         0.000000\n",
      "25%       282.000000\n",
      "50%       421.500000\n",
      "75%       545.000000\n",
      "max      1435.000000\n",
      "Name: duration_total, dtype: float64\n",
      "count     986.000000\n",
      "mean      526.089249\n",
      "std       317.887549\n",
      "min         0.000000\n",
      "25%       282.500000\n",
      "50%       518.000000\n",
      "75%       751.750000\n",
      "max      1673.000000\n",
      "Name: duration_total, dtype: float64\n"
     ]
    }
   ],
   "source": [
    "print(df_merged.query('tariff == \"smart\"')['duration_total'].describe())\n",
    "print(df_merged.query('tariff == \"ultra\"')['duration_total'].describe())"
   ]
  },
  {
   "cell_type": "markdown",
   "metadata": {},
   "source": [
    "Среднее количество использованных минут ожидаемо выше в тарифе ultra. При этом в четверти случаев абоненты в обоих тарифах использует не более 280 минут в месяц.  Более чем в 25% случаев в тарифе smart не укладываются в установленный лимит."
   ]
  },
  {
   "cell_type": "markdown",
   "metadata": {},
   "source": [
    "Рассчитаем дисперсию и стандартное отклонение.\n",
    "т.к. выборка, используем дополнительно параметр `ddof=1`"
   ]
  },
  {
   "cell_type": "code",
   "execution_count": 36,
   "metadata": {},
   "outputs": [
    {
     "name": "stdout",
     "output_type": "stream",
     "text": [
      "Дисперсия \"smart\": 36281.39383644458\n",
      "Стандарстное отклонение \"smart\": 190.4767540579285\n",
      "Дисперсия \"ultra\": 101052.49354928387\n",
      "Стандарстное отклонение \"ultra\": 317.8875485911392\n"
     ]
    }
   ],
   "source": [
    "print('Дисперсия \"smart\":', np.var(df_merged.query('tariff == \"smart\"')['duration_total'], ddof=1))\n",
    "print('Стандарстное отклонение \"smart\":', np.std(df_merged.query('tariff == \"smart\"')['duration_total'], ddof=1))\n",
    "print('Дисперсия \"ultra\":', np.var(df_merged.query('tariff == \"ultra\"')['duration_total'], ddof=1))\n",
    "print('Стандарстное отклонение \"ultra\":', np.std(df_merged.query('tariff == \"ultra\"')['duration_total'], ddof=1))"
   ]
  },
  {
   "cell_type": "markdown",
   "metadata": {},
   "source": [
    "Оценим диапазон, в который попадают подавляющее большинство значений."
   ]
  },
  {
   "cell_type": "code",
   "execution_count": 37,
   "metadata": {
    "scrolled": true
   },
   "outputs": [
    {
     "name": "stdout",
     "output_type": "stream",
     "text": [
      " 99% значений выборки лежат в диапазоне +/- 3 ст.отклонения от средней, т.е. для тарифа \"smart\" от 0 до 989.1777958060725\n",
      " Для тарифа \"ultra\" от 0 до 1479.7518952663181\n"
     ]
    }
   ],
   "source": [
    "print(' 99% значений выборки лежат в диапазоне +/- 3 ст.отклонения от средней, т.е. для тарифа \"smart\" от 0 до', df_merged.query('tariff == \"smart\"')['duration_total'].mean() + np.std(df_merged.query('tariff == \"smart\"')['duration_total'], ddof=1)*3)\n",
    "print(' Для тарифа \"ultra\" от 0 до', df_merged.query('tariff == \"ultra\"')['duration_total'].mean() + np.std(df_merged.query('tariff == \"ultra\"')['duration_total'], ddof=1)*3)"
   ]
  },
  {
   "cell_type": "markdown",
   "metadata": {},
   "source": [
    "Найдем подтверждение этому на гистограмме. Границы диапазона выберем на основе полученных ранее методом `describe` данных. "
   ]
  },
  {
   "cell_type": "code",
   "execution_count": 38,
   "metadata": {},
   "outputs": [
    {
     "data": {
      "image/png": "[encoded data removed]",
      "text/plain": [
       "<Figure size 432x288 with 1 Axes>"
      ]
     },
     "metadata": {
      "needs_background": "light"
     },
     "output_type": "display_data"
    }
   ],
   "source": [
    "bins = np.linspace(0, 1300, 26)\n",
    "\n",
    "plt.hist(df_merged.query('tariff == \"smart\"')['duration_total'], bins, alpha=0.5, label='smart')\n",
    "plt.hist(df_merged.query('tariff == \"ultra\"')['duration_total'], bins, alpha=0.5, label='ultra')\n",
    "plt.legend(loc='upper right', title= 'Тариф')\n",
    "plt.suptitle(\"Распределение использования минут\")\n",
    "plt.xlabel(\"Минуты\")\n",
    "plt.ylabel(\"Количество абонентов\")\n",
    "plt.show()"
   ]
  },
  {
   "cell_type": "markdown",
   "metadata": {},
   "source": [
    "Основная часть значений в диапазоне от ноля до 900, правее лишь небольшая доля.\n",
    "\n",
    "В тарифе ultra распределение более равномерное: количество случаев, когда абоненты тратили от 0 до 800 минут примерно на одном уровне. Распределение в тарифе smart близко к нормальному: большая чать абонентов использует 200-600 минут. При этом заметно, что в ultra не часто выходят за рамки лимита, в то время как в smart доля таких абонентов существенная. "
   ]
  },
  {
   "cell_type": "code",
   "execution_count": 39,
   "metadata": {
    "scrolled": true
   },
   "outputs": [
    {
     "name": "stdout",
     "output_type": "stream",
     "text": [
      "Количество случаев, когда абоненты превышали порог в 500 минут: 754\n",
      "Доля таких случаев: 0.338\n"
     ]
    }
   ],
   "source": [
    "print('Количество случаев, когда абоненты превышали порог в 500 минут:', df_merged.query('tariff == \"smart\" & duration_total > 500')['duration_total'].count())\n",
    "print('Доля таких случаев:', (df_merged.query('tariff == \"smart\" & duration_total > 500')['duration_total'].count() / df_merged.query('tariff == \"smart\"')['duration_total'].count()).round(3))"
   ]
  },
  {
   "cell_type": "markdown",
   "metadata": {},
   "source": [
    "Почти 34% случаев абонентам тарифа smart приходится использовать минуты сверх установленного лимита."
   ]
  },
  {
   "cell_type": "markdown",
   "metadata": {},
   "source": [
    "### Сообщения"
   ]
  },
  {
   "cell_type": "markdown",
   "metadata": {},
   "source": [
    "Проведем аналогичный анализ по использованию сообщений в обоих тарифах.\n",
    "\n",
    "\n",
    "Снова воспользуемся `describe`. Отдельно рассчитывать стандартное отклонение не будем, т.к. оно уже есть в перечне результатов этого метода."
   ]
  },
  {
   "cell_type": "code",
   "execution_count": 40,
   "metadata": {},
   "outputs": [
    {
     "name": "stdout",
     "output_type": "stream",
     "text": [
      "count    2230.000000\n",
      "mean       33.369058\n",
      "std        28.230396\n",
      "min         0.000000\n",
      "25%        10.000000\n",
      "50%        28.000000\n",
      "75%        51.000000\n",
      "max       143.000000\n",
      "Name: number_of_messages, dtype: float64\n",
      "count    986.000000\n",
      "mean      49.313387\n",
      "std       47.806040\n",
      "min        0.000000\n",
      "25%        6.000000\n",
      "50%       38.000000\n",
      "75%       78.750000\n",
      "max      224.000000\n",
      "Name: number_of_messages, dtype: float64\n"
     ]
    }
   ],
   "source": [
    "print(df_merged.query('tariff == \"smart\"')['number_of_messages'].describe())\n",
    "print(df_merged.query('tariff == \"ultra\"')['number_of_messages'].describe())"
   ]
  },
  {
   "cell_type": "markdown",
   "metadata": {},
   "source": [
    "Ситуация схожа со звонками: примерно в 75 % случаев абоненты тарифа smart укладываются в установленный лимит, но четверти этого не хватает. Среднее превышает медиану в обоих тарифах - есть смещение выборки вправо.\n",
    "\n",
    "В тарифе ultra никто не использует даже 25% от предоставленного лимита. "
   ]
  },
  {
   "cell_type": "code",
   "execution_count": 41,
   "metadata": {
    "scrolled": true
   },
   "outputs": [
    {
     "name": "stdout",
     "output_type": "stream",
     "text": [
      " 99% значений для тарифа \"smart\" укладываются в диапазон от 0 до 118.06024615852168\n",
      " Для тарифа \"ultra\" от 0 до 192.73150629983786\n"
     ]
    }
   ],
   "source": [
    "print(' 99% значений для тарифа \"smart\" укладываются в диапазон от 0 до', df_merged.query('tariff == \"smart\"')['number_of_messages'].mean() + np.std(df_merged.query('tariff == \"smart\"')['number_of_messages'], ddof=1)*3)\n",
    "print(' Для тарифа \"ultra\" от 0 до', df_merged.query('tariff == \"ultra\"')['number_of_messages'].mean() + np.std(df_merged.query('tariff == \"ultra\"')['number_of_messages'], ddof=1)*3)"
   ]
  },
  {
   "cell_type": "markdown",
   "metadata": {},
   "source": [
    "Перенесем данные на гистограмму "
   ]
  },
  {
   "cell_type": "code",
   "execution_count": 42,
   "metadata": {},
   "outputs": [
    {
     "data": {
      "image/png": "[encoded data removed]",
      "text/plain": [
       "<Figure size 432x288 with 1 Axes>"
      ]
     },
     "metadata": {
      "needs_background": "light"
     },
     "output_type": "display_data"
    }
   ],
   "source": [
    "bins = np.linspace(0, 230, 23)\n",
    "\n",
    "plt.hist(df_merged.query('tariff == \"smart\"')['number_of_messages'], bins, alpha=0.5, label='smart')\n",
    "plt.hist(df_merged.query('tariff == \"ultra\"')['number_of_messages'], bins, alpha=0.5, label='ultra')\n",
    "plt.suptitle(\"Распределение числа использованных сообщений\")\n",
    "plt.xlabel(\"Сообщения\")\n",
    "plt.ylabel(\"Количество абонентов\")\n",
    "plt.legend(loc='upper right')\n",
    "plt.show()"
   ]
  },
  {
   "cell_type": "markdown",
   "metadata": {},
   "source": [
    "Распределения похожи: чаще всего абоненты используют в пределах 70 сообщений. Но если в ultra это лишь небольшая часть от лимита, то в smart доля заметная. Наиболее многочисленные группы в обоих тарифах не используют сообщения совсем, либо не более 10 штук в месяц.\n"
   ]
  },
  {
   "cell_type": "code",
   "execution_count": 43,
   "metadata": {
    "scrolled": true
   },
   "outputs": [
    {
     "name": "stdout",
     "output_type": "stream",
     "text": [
      "Количество случаев, когда абоненты \"smart\" превышали порог в 50 сообщений: 564\n",
      "Доля таких случаев: 0.253\n"
     ]
    }
   ],
   "source": [
    "print('Количество случаев, когда абоненты \"smart\" превышали порог в 50 сообщений:', df_merged.query('tariff == \"smart\" & number_of_messages > 50')['number_of_messages'].count())\n",
    "print('Доля таких случаев:', (df_merged.query('tariff == \"smart\" & number_of_messages > 50')['number_of_messages'].count() / df_merged.query('tariff == \"smart\"')['number_of_messages'].count()).round(3))"
   ]
  },
  {
   "cell_type": "markdown",
   "metadata": {},
   "source": [
    "Примерно в 25% случаев абонентам тарифа smart приходится доплачивать за смс."
   ]
  },
  {
   "cell_type": "markdown",
   "metadata": {},
   "source": [
    "### Трафик"
   ]
  },
  {
   "cell_type": "markdown",
   "metadata": {},
   "source": [
    "Далее исследуем использовнаие трафика."
   ]
  },
  {
   "cell_type": "code",
   "execution_count": 44,
   "metadata": {},
   "outputs": [
    {
     "name": "stdout",
     "output_type": "stream",
     "text": [
      "count    2230.000000\n",
      "mean       16.321525\n",
      "std         5.756167\n",
      "min         0.000000\n",
      "25%        13.000000\n",
      "50%        17.000000\n",
      "75%        20.000000\n",
      "max        38.000000\n",
      "Name: mb_used, dtype: float64\n",
      "count    986.000000\n",
      "mean      19.474645\n",
      "std        9.868057\n",
      "min        0.000000\n",
      "25%       12.000000\n",
      "50%       19.000000\n",
      "75%       27.000000\n",
      "max       49.000000\n",
      "Name: mb_used, dtype: float64\n"
     ]
    }
   ],
   "source": [
    "print(df_merged.query('tariff == \"smart\"')['mb_used'].describe())\n",
    "print(df_merged.query('tariff == \"ultra\"')['mb_used'].describe())"
   ]
  },
  {
   "cell_type": "markdown",
   "metadata": {},
   "source": [
    "Среднее близко к медиане, существенных выбросов быть не должно. Стандартное отклонение в более дорогом тарифе почти в два раза больше.  В тарифе smart в более 50% случаев приобретается дополнительный траффик, в ultra более 75% укладываются в отведенный лимит. \n"
   ]
  },
  {
   "cell_type": "markdown",
   "metadata": {},
   "source": [
    "Построим гистограмму."
   ]
  },
  {
   "cell_type": "code",
   "execution_count": 45,
   "metadata": {},
   "outputs": [
    {
     "data": {
      "image/png": "[encoded data removed]",
      "text/plain": [
       "<Figure size 432x288 with 1 Axes>"
      ]
     },
     "metadata": {
      "needs_background": "light"
     },
     "output_type": "display_data"
    }
   ],
   "source": [
    "bins = np.linspace(0, 50, 25)\n",
    "\n",
    "plt.hist(df_merged.query('tariff == \"smart\"')['mb_used'], bins, alpha=0.5, label='smart')\n",
    "plt.hist(df_merged.query('tariff == \"ultra\"')['mb_used'], bins, alpha=0.5, label='ultra')\n",
    "plt.suptitle(\"Распределение использования траффика\")\n",
    "plt.xlabel(\"Трафик, Гб\")\n",
    "plt.ylabel(\"Количество абонентов\")\n",
    "plt.legend(loc='upper right')\n",
    "plt.show()"
   ]
  },
  {
   "cell_type": "markdown",
   "metadata": {},
   "source": [
    "Распределени более бюджетного тарифа близко к нормальному - центр распределения находится примерно на 15-19 Гб. У ultra ситуация похожа на данные по минутам: распределение более равномерное.\n",
    "\n",
    "Гистограмма наглядно показывает, что чаще всего в smart используют более 15Гб, указанных в тарифе. Посчитаем эту долю точнее."
   ]
  },
  {
   "cell_type": "code",
   "execution_count": 46,
   "metadata": {
    "scrolled": true
   },
   "outputs": [
    {
     "name": "stdout",
     "output_type": "stream",
     "text": [
      "Количество случаев, когда абоненты превышали порог в 15Гб: 1304\n",
      "Доля таких случаев: 0.585\n"
     ]
    }
   ],
   "source": [
    "print('Количество случаев, когда абоненты превышали порог в 15Гб:', df_merged.query('tariff == \"smart\" & mb_used > 15')['mb_used'].count())\n",
    "print('Доля таких случаев:', (df_merged.query('tariff == \"smart\" & mb_used > 15')['mb_used'].count() / df_merged.query('tariff == \"smart\"')['mb_used'].count()).round(3))"
   ]
  },
  {
   "cell_type": "markdown",
   "metadata": {},
   "source": [
    "Почти 60% приобретают дополнительные гигабайты трафика в тарифе smart.\n",
    "\n",
    "Расчитаем аналогичные показатели для ultra."
   ]
  },
  {
   "cell_type": "code",
   "execution_count": 47,
   "metadata": {
    "scrolled": true
   },
   "outputs": [
    {
     "name": "stdout",
     "output_type": "stream",
     "text": [
      "Количество случаев, когда абоненты превышали порог в 30Гб: 134\n",
      "Доля таких случаев: 0.136\n"
     ]
    }
   ],
   "source": [
    "print('Количество случаев, когда абоненты превышали порог в 30Гб:', df_merged.query('tariff == \"ultra\" & mb_used > 30')['mb_used'].count())\n",
    "print('Доля таких случаев:', (df_merged.query('tariff == \"ultra\" & mb_used > 30')['mb_used'].count() / df_merged.query('tariff == \"ultra\"')['mb_used'].count()).round(3))"
   ]
  },
  {
   "cell_type": "markdown",
   "metadata": {},
   "source": [
    "Доля существенно меньше, т.е. большинству хватает 30 Гб."
   ]
  },
  {
   "cell_type": "markdown",
   "metadata": {},
   "source": [
    "### Выручка"
   ]
  },
  {
   "cell_type": "markdown",
   "metadata": {},
   "source": [
    "Оценим рассмотренные по отдельности выше параметы в совокупности по выручке."
   ]
  },
  {
   "cell_type": "code",
   "execution_count": 48,
   "metadata": {},
   "outputs": [
    {
     "name": "stdout",
     "output_type": "stream",
     "text": [
      "count    2230.000000\n",
      "mean     1289.641704\n",
      "std       818.370799\n",
      "min       550.000000\n",
      "25%       550.000000\n",
      "50%      1021.000000\n",
      "75%      1750.000000\n",
      "max      6770.000000\n",
      "Name: revenue, dtype: float64\n",
      "count     986.000000\n",
      "mean     2070.030426\n",
      "std       376.015578\n",
      "min      1950.000000\n",
      "25%      1950.000000\n",
      "50%      1950.000000\n",
      "75%      1950.000000\n",
      "max      4800.000000\n",
      "Name: revenue, dtype: float64\n"
     ]
    }
   ],
   "source": [
    "print(df_merged.query('tariff == \"smart\"')['revenue'].describe())\n",
    "print(df_merged.query('tariff == \"ultra\"')['revenue'].describe())"
   ]
  },
  {
   "cell_type": "markdown",
   "metadata": {},
   "source": [
    "Среднее немного превышает медиану в тарифе ultra, т.к. большинство значений, в т.ч. и медиана, равны фиксированному тарифу, а немногочисленные дополнительные расходы смещают выборку правее. В тарифе smart сдвиг вправо гораздо заметнее."
   ]
  },
  {
   "cell_type": "markdown",
   "metadata": {},
   "source": [
    "Визуализируем данные по выручке."
   ]
  },
  {
   "cell_type": "code",
   "execution_count": 49,
   "metadata": {
    "scrolled": true
   },
   "outputs": [
    {
     "data": {
      "image/png": "[encoded data removed]",
      "text/plain": [
       "<Figure size 432x288 with 1 Axes>"
      ]
     },
     "metadata": {
      "needs_background": "light"
     },
     "output_type": "display_data"
    }
   ],
   "source": [
    "bins = np.linspace(550, 6800, 26)\n",
    "\n",
    "plt.hist(df_merged.query('tariff == \"smart\"')['revenue'], bins, alpha=0.5, label='smart')\n",
    "plt.hist(df_merged.query('tariff == \"ultra\"')['revenue'], bins, alpha=0.5, label='ultra')\n",
    "plt.suptitle(\"Распределение выручки\")\n",
    "plt.xlabel(\"Выручка\")\n",
    "plt.ylabel(\"Количество абонентов\")\n",
    "plt.legend(loc='upper right')\n",
    "plt.show()"
   ]
  },
  {
   "cell_type": "code",
   "execution_count": 50,
   "metadata": {},
   "outputs": [
    {
     "data": {
      "image/png": "[encoded data removed]",
      "text/plain": [
       "<Figure size 1008x432 with 2 Axes>"
      ]
     },
     "metadata": {
      "needs_background": "light"
     },
     "output_type": "display_data"
    }
   ],
   "source": [
    "fig, (ax1, ax2) = plt.subplots(1, 2, figsize=(14, 6))\n",
    "\n",
    "fig.suptitle('Выручка по тарифу')\n",
    "\n",
    "ax1.hist(df_merged.query('tariff == \"smart\"')['revenue'], bins=20, range=(550, 4600))\n",
    "ax1.grid(True)\n",
    "ax1.set_title('smart')\n",
    "ax1.set_xlabel('Выручка')\n",
    "ax1.set_ylabel('Количество')\n",
    "\n",
    "\n",
    "ax2.hist(df_merged.query('tariff == \"ultra\"')['revenue'], bins=20, range=(1950, 4800))\n",
    "ax2.grid(True)\n",
    "ax2.set_title('ultra')\n",
    "ax2.set_xlabel('Выручка')\n",
    "ax2.set_ylabel('Количество')\n",
    "plt.show()\n"
   ]
  },
  {
   "cell_type": "markdown",
   "metadata": {},
   "source": [
    "Гистаграммы наглядно демонстрируют полученные ранее заключения: бОльшая часть абонентов в тарифе ultra не использует услуги сверх базового тарифа. В тарифе smart обратная ситуация - большей части приходится выходить за рамки установленного тарифом лимита."
   ]
  },
  {
   "cell_type": "code",
   "execution_count": 51,
   "metadata": {
    "scrolled": true
   },
   "outputs": [
    {
     "name": "stdout",
     "output_type": "stream",
     "text": [
      "Количество случаев, когда абоненты smart платили более 550р в месяц: 1662\n",
      "Доля таких случаев: 0.745\n",
      "Количество случаев, когда абоненты smart платили более 1950р в месяц: 417\n",
      "Доля таких случаев: 0.187\n",
      "Количество случаев, когда абоненты ultra платили более 1950р в месяц: 134\n",
      "Доля таких случаев: 0.136\n"
     ]
    }
   ],
   "source": [
    "print('Количество случаев, когда абоненты smart платили более 550р в месяц:', df_merged.query('tariff == \"smart\" & revenue > 550')['revenue'].count())\n",
    "print('Доля таких случаев:', (df_merged.query('tariff == \"smart\" & revenue > 550')['revenue'].count() / df_merged.query('tariff == \"smart\"')['revenue'].count()).round(3))\n",
    "\n",
    "print('Количество случаев, когда абоненты smart платили более 1950р в месяц:', df_merged.query('tariff == \"smart\" & revenue > 1950')['revenue'].count())\n",
    "print('Доля таких случаев:', (df_merged.query('tariff == \"smart\" & revenue > 1950')['revenue'].count() / df_merged.query('tariff == \"smart\"')['revenue'].count()).round(3))\n",
    "\n",
    "print('Количество случаев, когда абоненты ultra платили более 1950р в месяц:', df_merged.query('tariff == \"ultra\" & revenue > 1950')['revenue'].count())\n",
    "print('Доля таких случаев:', (df_merged.query('tariff == \"ultra\" & revenue > 1950')['revenue'].count() / df_merged.query('tariff == \"ultra\"')['revenue'].count()).round(3))"
   ]
  },
  {
   "cell_type": "markdown",
   "metadata": {},
   "source": [
    "Почти в 75% случаев абонентам smart приходилось тратить дополнительные средства, при этом примерно в 19% случаев это были суммы больше абонентской платы по тарифу ultra."
   ]
  },
  {
   "cell_type": "markdown",
   "metadata": {},
   "source": [
    "**Вывод**"
   ]
  },
  {
   "cell_type": "markdown",
   "metadata": {},
   "source": [
    "В тарифе smart большая доля пользователей не укладывается в установленные лимиты и приобретает дополнительные услуги. Примерно четветь по минутам и сообщениям, и особенно это заметно на использовании трафика - почти 60%.\n",
    "\n",
    "При этом примерно 81% абонентов smart даже при использовании дополнительных услуг тратят меньше, чем абонентская плата по тарифу ultra."
   ]
  },
  {
   "cell_type": "markdown",
   "metadata": {},
   "source": [
    "## Выдвижение и проверка гипотез"
   ]
  },
  {
   "cell_type": "markdown",
   "metadata": {},
   "source": [
    "Выдвенем две гипотезы о генеральной совокупности и проверим их на предоставленной выборке."
   ]
  },
  {
   "cell_type": "markdown",
   "metadata": {},
   "source": [
    "### Гипотеза №1 Средняя выручка по тарифам Smart и Ultra различается. "
   ]
  },
  {
   "cell_type": "markdown",
   "metadata": {},
   "source": [
    "Сравним среднюю выручку в тарифах Smart и Ultra. Сформулируем нулевую и альтернативную гипотезы. В нулевой гипотезе должен присутствовать знак равенства: \n",
    "\n",
    "**Нулевая гипотеза $Н_{0}$** - Средняя выручка по тарифам Smart и Ultra не различается.\n",
    "\n",
    "**Альтернативная гипотеза $Н_{1}$** - Средняя выручка по тарифам Smart и Ultra различается. Альтернативная гипотеза двухсторонняя - нам не важно в какую сторону будет отклонение, важен сам факт наличия отклонения, т.е. то, что средняя выручка по тарифам не равна.\n",
    "\n",
    "Принимать или отвергать нулевую гипотезу будем по **p-value** - это вероятность получить наблюдаемый или ещё более далёкий от предполагаемого результат при условии, что нулевая гипотеза верна.\n",
    "\n",
    "Установим уровень значимости — суммарную вероятность того, что измеренное эмпирически значение окажется далеко от среднего - равным 0,05.\n",
    "\n",
    "Т.к. проверяем гипотезу о равенстве среднего двух генеральных совокупностей по взятым из них выборкам, применим метод scipy.stats.ttest_ind \n"
   ]
  },
  {
   "cell_type": "code",
   "execution_count": 52,
   "metadata": {},
   "outputs": [
    {
     "name": "stdout",
     "output_type": "stream",
     "text": [
      "p-значение:  8.081909555489933e-161\n",
      "Отвергаем нулевую гипотезу\n"
     ]
    }
   ],
   "source": [
    "alpha = 0.05 \n",
    "\n",
    "results = st.ttest_ind(df_merged.query('tariff == \"smart\"')['revenue'], df_merged.query('tariff == \"ultra\"')['revenue']) \n",
    "\n",
    "print('p-значение: ', results.pvalue)\n",
    "\n",
    "if (results.pvalue < alpha):\n",
    "    print(\"Отвергаем нулевую гипотезу\")\n",
    "else:\n",
    "    print(\"Не получилось отвергнуть нулевую гипотезу\")"
   ]
  },
  {
   "cell_type": "markdown",
   "metadata": {},
   "source": [
    "Вероятность такого события равна нулю или мала настолько, что близка к нулю. Мы можем отвергнуть нулевую гипотезу - средняя выручка по тарифам различается."
   ]
  },
  {
   "cell_type": "markdown",
   "metadata": {},
   "source": [
    "### Гипотеза №2 Средняя выручка в Москве и других регионах отличается."
   ]
  },
  {
   "cell_type": "markdown",
   "metadata": {},
   "source": [
    "Проведем сравнение средней выручки без разбивки по тарифам в Москве и средней выручки в других регионах.\n",
    "\n",
    "**Нулевая гипотеза $Н_{0}$** - Средняя выручка в Москве не отличается от средней выручки в других регионах.\n",
    "\n",
    "Альтернативная гипотеза таже будет двухсторонней:\n",
    "\n",
    "**Альтернативная гипотеза $Н_{1}$** - Средняя выручка в Москве и регионах отличаются. \n",
    "\n",
    "Уровень значимости установим на том же уровне - 0,05."
   ]
  },
  {
   "cell_type": "code",
   "execution_count": 53,
   "metadata": {},
   "outputs": [
    {
     "name": "stdout",
     "output_type": "stream",
     "text": [
      "p-значение:  0.5400751614511182\n",
      "Не получилось отвергнуть нулевую гипотезу\n"
     ]
    }
   ],
   "source": [
    "alpha = 0.05 \n",
    "\n",
    "results = st.ttest_ind(df_merged.query('city == \"Москва\"')['revenue'], df_merged.query('city != \"Москва\"')['revenue']) \n",
    "\n",
    "print('p-значение: ', results.pvalue)\n",
    "\n",
    "if (results.pvalue < alpha):\n",
    "    print(\"Отвергаем нулевую гипотезу\")\n",
    "else:\n",
    "    print(\"Не получилось отвергнуть нулевую гипотезу\")"
   ]
  },
  {
   "cell_type": "markdown",
   "metadata": {},
   "source": [
    "**Вывод**\n",
    "\n",
    "Исследования гипотез показывают, что с большой долей вероятности средняя выручка между тарифами различается. Выручка в Москве и остальных регионах может быть схожей.\n",
    "\n",
    "При этом данное исследование не может утверждать со 100%-й вероятностью этот факт, оно лишь показывает, что вероятность совпадения средних выручек крайне мала.\n"
   ]
  },
  {
   "cell_type": "markdown",
   "metadata": {},
   "source": [
    "## Общий вывод"
   ]
  },
  {
   "cell_type": "markdown",
   "metadata": {},
   "source": [
    "Провели исседование двух тарифов сотовой связи на основе выборки из генеральной совокупности данных о пользовании услугами за 2018 год. Основной задачей было сравнить выручку по тарифам и определить, какой тариф прибыльнее: Smart с абонентской платой 550 рублей в месяц, но более высокой платой за единицу дополнительных услуг сверх предоставленного пакета, или Ultra за 1950 рублей в месяц.\n",
    "\n",
    "\n",
    "Тариф Ultra включает достаточно большой объем услуг, большинству абонентов его хватает. Лишь в 14% случаев абоненты данного тарифы прибегают к дополнительным тратам. Абоненты же тарифа Smart используют дополнительные минуты, сообщения и трафик гораздо чаще - почти в каждом третьем случае из четырех. А примерно в 19% случаев сумма затрат за месяц по тарифу smart даже превышала абонентскую плату по тарифу ultra.  Но все же, несмотря на существенные дополнительные затраты, большинство абонентов smart (82%) в своих тратах укладываются в диапазон до абонентской платы ultra, т.е. в 550-1950 рублей. \n",
    "\n",
    "\n",
    "\n",
    "\n",
    "Рассмотрели гипотезы о равенстве средней выручки между тарифами, а также равенстве средней выручки по Моске и остальным регионам. Первая гипотеза не нашла подтверждения, вторая в большой долей вероятности может быть верной.\n",
    "\n",
    "\n",
    "\n",
    "По результатам данного исследования можем сделать вывод: тариф Ultra гораздо выгоднее для оператора. Несмотря на то, что в тарифе smart приобретается гораздо больше дополнительных услуг, базовая абонентская плата тарифа ultra позволяет ему компенсировать отсутствие или минимальное количество дополнительных трат абонентов. При этом основным источником дополнительных доходов в тарифе ultra является трафик. Ни один из абонентов не использовал даже четверти включенных в пакет сообщений, и только единицы использовали более 50% предоставленных минут.\n",
    "\n",
    "\n",
    "Возможно стоит рассмотреть вариант с уменьшением стоимости тарифа ultra, что привлечет часть пользователей smart, которые находятся в пограничной по тратам зоне и существенно превышают лимиты по своему текущему тарифу. Это может дать более высокую стабильную и прогнозируемую выручку. \n",
    "\n",
    "Варьировать стоимость и привлекательность тарифа можно за счет изменения пакета трафика. Судя по представленным данным, это наиболее ценный ресурс. \n",
    "\n"
   ]
  }
 ],
 "metadata": {
  "ExecuteTimeLog": [
   {
    "duration": 361,
    "start_time": "2021-06-27T16:06:14.119Z"
   },
   {
    "duration": 1375,
    "start_time": "2021-06-27T16:06:20.559Z"
   },
   {
    "duration": 255,
    "start_time": "2021-06-27T16:06:24.527Z"
   },
   {
    "duration": 2230,
    "start_time": "2021-06-27T16:11:43.981Z"
   },
   {
    "duration": 205,
    "start_time": "2021-06-27T16:12:04.122Z"
   },
   {
    "duration": 142,
    "start_time": "2021-06-27T16:25:35.646Z"
   },
   {
    "duration": 1219,
    "start_time": "2021-06-27T16:29:24.752Z"
   },
   {
    "duration": 31,
    "start_time": "2021-06-27T16:29:48.878Z"
   },
   {
    "duration": 4796,
    "start_time": "2021-06-27T16:32:29.047Z"
   },
   {
    "duration": 71,
    "start_time": "2021-06-27T16:32:37.346Z"
   },
   {
    "duration": 1319,
    "start_time": "2021-06-29T11:37:11.329Z"
   },
   {
    "duration": 257,
    "start_time": "2021-06-29T11:37:12.651Z"
   },
   {
    "duration": 209,
    "start_time": "2021-06-29T11:37:12.911Z"
   },
   {
    "duration": 141,
    "start_time": "2021-06-29T11:37:13.122Z"
   },
   {
    "duration": 36,
    "start_time": "2021-06-29T11:37:13.265Z"
   },
   {
    "duration": 43,
    "start_time": "2021-06-29T11:37:13.303Z"
   },
   {
    "duration": 42,
    "start_time": "2021-06-29T11:47:43.615Z"
   },
   {
    "duration": 13,
    "start_time": "2021-06-29T11:48:08.435Z"
   },
   {
    "duration": 13,
    "start_time": "2021-06-29T11:48:34.247Z"
   },
   {
    "duration": 16,
    "start_time": "2021-06-29T11:48:35.006Z"
   },
   {
    "duration": 39,
    "start_time": "2021-06-29T11:49:01.398Z"
   },
   {
    "duration": 13,
    "start_time": "2021-06-29T11:49:23.222Z"
   },
   {
    "duration": 29,
    "start_time": "2021-06-29T11:49:24.046Z"
   },
   {
    "duration": 405,
    "start_time": "2021-06-29T12:06:01.936Z"
   },
   {
    "duration": 9,
    "start_time": "2021-06-29T12:06:21.368Z"
   },
   {
    "duration": 293,
    "start_time": "2021-06-29T12:06:26.658Z"
   },
   {
    "duration": 15,
    "start_time": "2021-06-29T12:09:01.516Z"
   },
   {
    "duration": 104,
    "start_time": "2021-06-29T12:12:34.401Z"
   },
   {
    "duration": 14,
    "start_time": "2021-06-29T12:13:39.809Z"
   },
   {
    "duration": 15,
    "start_time": "2021-06-29T12:14:35.344Z"
   },
   {
    "duration": 28,
    "start_time": "2021-06-29T12:14:37.302Z"
   },
   {
    "duration": 14,
    "start_time": "2021-06-29T12:15:04.955Z"
   },
   {
    "duration": 28,
    "start_time": "2021-06-29T12:15:07.619Z"
   },
   {
    "duration": 12,
    "start_time": "2021-06-29T12:19:02.137Z"
   },
   {
    "duration": 36,
    "start_time": "2021-06-29T12:19:07.080Z"
   },
   {
    "duration": 29,
    "start_time": "2021-06-29T12:26:00.284Z"
   },
   {
    "duration": 26,
    "start_time": "2021-06-29T12:26:01.057Z"
   },
   {
    "duration": 43,
    "start_time": "2021-06-29T12:28:30.884Z"
   },
   {
    "duration": 37,
    "start_time": "2021-06-29T12:28:40.119Z"
   },
   {
    "duration": 155,
    "start_time": "2021-06-29T12:40:24.177Z"
   },
   {
    "duration": 83,
    "start_time": "2021-06-29T12:40:31.601Z"
   },
   {
    "duration": 47,
    "start_time": "2021-06-29T12:40:36.329Z"
   },
   {
    "duration": 10,
    "start_time": "2021-06-29T12:40:41.194Z"
   },
   {
    "duration": 273,
    "start_time": "2021-06-29T12:41:38.826Z"
   },
   {
    "duration": 292,
    "start_time": "2021-06-29T12:45:10.879Z"
   },
   {
    "duration": 35,
    "start_time": "2021-06-29T12:45:17.487Z"
   },
   {
    "duration": 17,
    "start_time": "2021-06-29T12:50:13.348Z"
   },
   {
    "duration": 17,
    "start_time": "2021-06-29T12:50:29.333Z"
   },
   {
    "duration": 37,
    "start_time": "2021-06-29T12:52:28.236Z"
   },
   {
    "duration": 18,
    "start_time": "2021-06-29T12:56:10.174Z"
   },
   {
    "duration": 21,
    "start_time": "2021-06-29T12:57:04.904Z"
   },
   {
    "duration": 14,
    "start_time": "2021-06-29T13:18:51.854Z"
   },
   {
    "duration": 304,
    "start_time": "2021-06-29T13:19:04.816Z"
   },
   {
    "duration": 283,
    "start_time": "2021-06-29T13:21:09.953Z"
   },
   {
    "duration": 315,
    "start_time": "2021-06-29T13:21:48.105Z"
   },
   {
    "duration": 303,
    "start_time": "2021-06-29T13:21:54.251Z"
   },
   {
    "duration": 16,
    "start_time": "2021-06-29T13:24:06.276Z"
   },
   {
    "duration": 11,
    "start_time": "2021-06-29T13:25:01.845Z"
   },
   {
    "duration": 10,
    "start_time": "2021-06-29T13:25:41.909Z"
   },
   {
    "duration": 741,
    "start_time": "2021-06-29T14:24:11.384Z"
   },
   {
    "duration": 18,
    "start_time": "2021-06-29T14:24:31.867Z"
   },
   {
    "duration": 15,
    "start_time": "2021-06-29T14:24:57.163Z"
   },
   {
    "duration": 49,
    "start_time": "2021-06-29T14:28:05.151Z"
   },
   {
    "duration": 51,
    "start_time": "2021-06-29T14:29:05.029Z"
   },
   {
    "duration": 59,
    "start_time": "2021-06-29T14:29:11.256Z"
   },
   {
    "duration": 1668,
    "start_time": "2021-06-29T14:35:45.833Z"
   },
   {
    "duration": 329,
    "start_time": "2021-06-29T14:37:26.779Z"
   },
   {
    "duration": 4,
    "start_time": "2021-06-29T14:37:37.195Z"
   },
   {
    "duration": 4,
    "start_time": "2021-06-29T14:37:47.251Z"
   },
   {
    "duration": 9,
    "start_time": "2021-06-29T14:38:08.482Z"
   },
   {
    "duration": 45,
    "start_time": "2021-06-29T14:38:39.272Z"
   },
   {
    "duration": 7294,
    "start_time": "2021-06-29T14:39:01.242Z"
   },
   {
    "duration": 391,
    "start_time": "2021-06-29T14:39:19.094Z"
   },
   {
    "duration": 319,
    "start_time": "2021-06-29T14:40:09.645Z"
   },
   {
    "duration": 208,
    "start_time": "2021-06-29T14:41:20.207Z"
   },
   {
    "duration": 267,
    "start_time": "2021-06-29T14:41:33.141Z"
   },
   {
    "duration": 343,
    "start_time": "2021-06-29T14:42:36.720Z"
   },
   {
    "duration": 322,
    "start_time": "2021-06-29T14:42:56.416Z"
   },
   {
    "duration": 61,
    "start_time": "2021-06-29T15:37:40.844Z"
   },
   {
    "duration": 68,
    "start_time": "2021-06-29T15:37:58.920Z"
   },
   {
    "duration": 50,
    "start_time": "2021-06-29T16:00:56.807Z"
   },
   {
    "duration": 45,
    "start_time": "2021-06-29T16:01:18.324Z"
   },
   {
    "duration": 50,
    "start_time": "2021-06-29T16:01:56.604Z"
   },
   {
    "duration": 251,
    "start_time": "2021-06-29T16:06:47.539Z"
   },
   {
    "duration": 29,
    "start_time": "2021-06-29T16:08:48.348Z"
   },
   {
    "duration": 312,
    "start_time": "2021-06-29T16:09:22.127Z"
   },
   {
    "duration": 48,
    "start_time": "2021-06-29T16:11:01.208Z"
   },
   {
    "duration": 54,
    "start_time": "2021-06-29T16:11:27.123Z"
   },
   {
    "duration": 4,
    "start_time": "2021-06-29T16:12:42.253Z"
   },
   {
    "duration": 61,
    "start_time": "2021-06-29T16:13:26.075Z"
   },
   {
    "duration": 3,
    "start_time": "2021-06-29T16:15:56.062Z"
   },
   {
    "duration": 80,
    "start_time": "2021-06-29T16:17:51.737Z"
   },
   {
    "duration": 339,
    "start_time": "2021-06-29T16:18:08.769Z"
   },
   {
    "duration": 89,
    "start_time": "2021-06-29T16:18:47.794Z"
   },
   {
    "duration": 342,
    "start_time": "2021-06-29T16:21:27.591Z"
   },
   {
    "duration": 88,
    "start_time": "2021-06-29T16:21:40.230Z"
   },
   {
    "duration": 54,
    "start_time": "2021-06-29T16:27:12.169Z"
   },
   {
    "duration": 53,
    "start_time": "2021-06-29T16:28:15.073Z"
   },
   {
    "duration": 48,
    "start_time": "2021-06-29T16:28:43.022Z"
   },
   {
    "duration": 45,
    "start_time": "2021-06-29T16:30:07.503Z"
   },
   {
    "duration": 35,
    "start_time": "2021-06-29T16:33:07.010Z"
   },
   {
    "duration": 70,
    "start_time": "2021-06-29T16:43:55.283Z"
   },
   {
    "duration": 66,
    "start_time": "2021-06-29T16:48:07.948Z"
   },
   {
    "duration": 296,
    "start_time": "2021-06-29T16:51:41.977Z"
   },
   {
    "duration": 64,
    "start_time": "2021-06-29T16:51:59.112Z"
   },
   {
    "duration": 514,
    "start_time": "2021-06-29T16:57:21.616Z"
   },
   {
    "duration": 66,
    "start_time": "2021-06-29T16:57:39.615Z"
   },
   {
    "duration": 70,
    "start_time": "2021-06-29T16:58:00.496Z"
   },
   {
    "duration": 66,
    "start_time": "2021-06-29T16:58:15.375Z"
   },
   {
    "duration": 64,
    "start_time": "2021-06-29T16:58:25.496Z"
   },
   {
    "duration": 95,
    "start_time": "2021-06-29T17:00:51.890Z"
   },
   {
    "duration": 94,
    "start_time": "2021-06-29T17:02:26.581Z"
   },
   {
    "duration": 109,
    "start_time": "2021-06-29T17:02:55.479Z"
   },
   {
    "duration": 255,
    "start_time": "2021-06-29T17:17:05.185Z"
   },
   {
    "duration": 34,
    "start_time": "2021-06-29T17:17:20.423Z"
   },
   {
    "duration": 288,
    "start_time": "2021-06-29T17:19:56.033Z"
   },
   {
    "duration": 38,
    "start_time": "2021-06-29T17:20:35.999Z"
   },
   {
    "duration": 44,
    "start_time": "2021-06-29T17:21:10.114Z"
   },
   {
    "duration": 29,
    "start_time": "2021-06-29T17:21:17.429Z"
   },
   {
    "duration": 274,
    "start_time": "2021-06-29T17:22:01.380Z"
   },
   {
    "duration": 272,
    "start_time": "2021-06-29T17:24:17.054Z"
   },
   {
    "duration": 288,
    "start_time": "2021-06-29T17:24:33.566Z"
   },
   {
    "duration": 287,
    "start_time": "2021-06-29T17:25:07.632Z"
   },
   {
    "duration": 269,
    "start_time": "2021-06-29T17:25:15.975Z"
   },
   {
    "duration": 8,
    "start_time": "2021-06-29T17:26:19.929Z"
   },
   {
    "duration": 9,
    "start_time": "2021-06-29T17:27:02.118Z"
   },
   {
    "duration": 11,
    "start_time": "2021-06-29T17:27:08.377Z"
   },
   {
    "duration": 24,
    "start_time": "2021-06-29T17:27:30.473Z"
   },
   {
    "duration": 629,
    "start_time": "2021-06-29T17:27:42.484Z"
   },
   {
    "duration": 12,
    "start_time": "2021-06-29T17:30:20.119Z"
   },
   {
    "duration": 18,
    "start_time": "2021-06-29T17:30:35.622Z"
   },
   {
    "duration": 7,
    "start_time": "2021-06-29T17:45:33.407Z"
   },
   {
    "duration": 7,
    "start_time": "2021-06-29T17:45:43.320Z"
   },
   {
    "duration": 17,
    "start_time": "2021-06-29T17:45:58.456Z"
   },
   {
    "duration": 15,
    "start_time": "2021-06-29T17:47:10.562Z"
   },
   {
    "duration": 24,
    "start_time": "2021-06-29T17:47:50.138Z"
   },
   {
    "duration": 31,
    "start_time": "2021-06-29T17:48:17.050Z"
   },
   {
    "duration": 24,
    "start_time": "2021-06-29T17:49:11.901Z"
   },
   {
    "duration": 38,
    "start_time": "2021-06-29T17:49:13.057Z"
   },
   {
    "duration": 93,
    "start_time": "2021-06-29T17:51:52.775Z"
   },
   {
    "duration": 347,
    "start_time": "2021-06-29T17:53:15.123Z"
   },
   {
    "duration": 354,
    "start_time": "2021-06-29T17:55:46.324Z"
   },
   {
    "duration": 96,
    "start_time": "2021-06-29T17:58:16.198Z"
   },
   {
    "duration": 21,
    "start_time": "2021-06-29T18:01:55.938Z"
   },
   {
    "duration": 38,
    "start_time": "2021-06-29T18:01:58.055Z"
   },
   {
    "duration": 4,
    "start_time": "2021-06-29T18:02:23.930Z"
   },
   {
    "duration": 265,
    "start_time": "2021-06-29T18:02:23.938Z"
   },
   {
    "duration": 239,
    "start_time": "2021-06-29T18:02:24.207Z"
   },
   {
    "duration": 164,
    "start_time": "2021-06-29T18:02:24.450Z"
   },
   {
    "duration": 34,
    "start_time": "2021-06-29T18:02:24.617Z"
   },
   {
    "duration": 48,
    "start_time": "2021-06-29T18:02:24.654Z"
   },
   {
    "duration": 42,
    "start_time": "2021-06-29T18:02:24.705Z"
   },
   {
    "duration": 52,
    "start_time": "2021-06-29T18:02:24.784Z"
   },
   {
    "duration": 248,
    "start_time": "2021-06-29T18:02:24.839Z"
   },
   {
    "duration": 32,
    "start_time": "2021-06-29T18:02:25.090Z"
   },
   {
    "duration": 64,
    "start_time": "2021-06-29T18:02:25.124Z"
   },
   {
    "duration": 330,
    "start_time": "2021-06-29T18:02:25.190Z"
   },
   {
    "duration": 256,
    "start_time": "2021-06-29T18:02:25.523Z"
   },
   {
    "duration": 35,
    "start_time": "2021-06-29T18:02:25.784Z"
   },
   {
    "duration": 87,
    "start_time": "2021-06-29T18:02:25.822Z"
   },
   {
    "duration": 95,
    "start_time": "2021-06-29T18:02:25.911Z"
   },
   {
    "duration": 3,
    "start_time": "2021-06-29T18:02:26.009Z"
   },
   {
    "duration": 81,
    "start_time": "2021-06-29T18:02:26.015Z"
   },
   {
    "duration": 38,
    "start_time": "2021-06-29T18:02:26.098Z"
   },
   {
    "duration": 73,
    "start_time": "2021-06-29T18:02:26.139Z"
   },
   {
    "duration": 33,
    "start_time": "2021-06-29T18:02:26.214Z"
   },
   {
    "duration": 50,
    "start_time": "2021-06-29T18:02:26.250Z"
   },
   {
    "duration": 16,
    "start_time": "2021-06-29T18:02:26.306Z"
   },
   {
    "duration": 59,
    "start_time": "2021-06-29T18:02:26.326Z"
   },
   {
    "duration": 13,
    "start_time": "2021-06-29T18:02:26.388Z"
   },
   {
    "duration": 6,
    "start_time": "2021-06-29T18:02:26.404Z"
   },
   {
    "duration": 24,
    "start_time": "2021-06-29T18:02:26.413Z"
   },
   {
    "duration": 35,
    "start_time": "2021-06-29T18:02:31.172Z"
   },
   {
    "duration": 5,
    "start_time": "2021-06-29T18:04:45.527Z"
   },
   {
    "duration": 27,
    "start_time": "2021-06-29T18:04:53.479Z"
   },
   {
    "duration": 3,
    "start_time": "2021-06-29T18:05:21.116Z"
   },
   {
    "duration": 251,
    "start_time": "2021-06-29T18:05:21.122Z"
   },
   {
    "duration": 218,
    "start_time": "2021-06-29T18:05:21.384Z"
   },
   {
    "duration": 147,
    "start_time": "2021-06-29T18:05:21.605Z"
   },
   {
    "duration": 35,
    "start_time": "2021-06-29T18:05:21.755Z"
   },
   {
    "duration": 45,
    "start_time": "2021-06-29T18:05:21.793Z"
   },
   {
    "duration": 60,
    "start_time": "2021-06-29T18:05:21.841Z"
   },
   {
    "duration": 51,
    "start_time": "2021-06-29T18:05:21.904Z"
   },
   {
    "duration": 241,
    "start_time": "2021-06-29T18:05:21.958Z"
   },
   {
    "duration": 33,
    "start_time": "2021-06-29T18:05:22.201Z"
   },
   {
    "duration": 65,
    "start_time": "2021-06-29T18:05:22.237Z"
   },
   {
    "duration": 340,
    "start_time": "2021-06-29T18:05:22.304Z"
   },
   {
    "duration": 237,
    "start_time": "2021-06-29T18:05:22.646Z"
   },
   {
    "duration": 35,
    "start_time": "2021-06-29T18:05:22.885Z"
   },
   {
    "duration": 92,
    "start_time": "2021-06-29T18:05:22.923Z"
   },
   {
    "duration": 100,
    "start_time": "2021-06-29T18:05:23.017Z"
   },
   {
    "duration": 3,
    "start_time": "2021-06-29T18:05:23.119Z"
   },
   {
    "duration": 80,
    "start_time": "2021-06-29T18:05:23.124Z"
   },
   {
    "duration": 36,
    "start_time": "2021-06-29T18:05:23.209Z"
   },
   {
    "duration": 70,
    "start_time": "2021-06-29T18:05:23.248Z"
   },
   {
    "duration": 33,
    "start_time": "2021-06-29T18:05:23.320Z"
   },
   {
    "duration": 31,
    "start_time": "2021-06-29T18:05:23.355Z"
   },
   {
    "duration": 30,
    "start_time": "2021-06-29T18:05:23.388Z"
   },
   {
    "duration": 13,
    "start_time": "2021-06-29T18:05:23.420Z"
   },
   {
    "duration": 57,
    "start_time": "2021-06-29T18:05:23.435Z"
   },
   {
    "duration": 16,
    "start_time": "2021-06-29T18:05:23.495Z"
   },
   {
    "duration": 7,
    "start_time": "2021-06-29T18:05:23.513Z"
   },
   {
    "duration": 66,
    "start_time": "2021-06-29T18:05:23.522Z"
   },
   {
    "duration": 34,
    "start_time": "2021-06-29T18:05:29.006Z"
   },
   {
    "duration": 3515,
    "start_time": "2021-06-29T18:11:19.679Z"
   },
   {
    "duration": 3435,
    "start_time": "2021-06-29T18:12:07.840Z"
   },
   {
    "duration": 1191,
    "start_time": "2021-06-29T18:12:31.631Z"
   },
   {
    "duration": 10,
    "start_time": "2021-06-29T18:14:02.578Z"
   },
   {
    "duration": 297,
    "start_time": "2021-06-29T18:14:20.193Z"
   },
   {
    "duration": 6,
    "start_time": "2021-06-29T18:16:46.884Z"
   },
   {
    "duration": 23,
    "start_time": "2021-06-29T18:17:05.956Z"
   },
   {
    "duration": 24,
    "start_time": "2021-06-29T18:18:40.599Z"
   },
   {
    "duration": 21,
    "start_time": "2021-06-29T18:19:15.544Z"
   },
   {
    "duration": 29,
    "start_time": "2021-06-29T18:19:28.185Z"
   },
   {
    "duration": 26,
    "start_time": "2021-06-29T18:19:34.049Z"
   },
   {
    "duration": 25,
    "start_time": "2021-06-29T18:20:02.816Z"
   },
   {
    "duration": 30,
    "start_time": "2021-06-29T18:20:18.889Z"
   },
   {
    "duration": 4,
    "start_time": "2021-06-29T18:20:26.660Z"
   },
   {
    "duration": 276,
    "start_time": "2021-06-29T18:20:26.667Z"
   },
   {
    "duration": 263,
    "start_time": "2021-06-29T18:20:26.946Z"
   },
   {
    "duration": 171,
    "start_time": "2021-06-29T18:20:27.212Z"
   },
   {
    "duration": 32,
    "start_time": "2021-06-29T18:20:27.387Z"
   },
   {
    "duration": 46,
    "start_time": "2021-06-29T18:20:27.421Z"
   },
   {
    "duration": 49,
    "start_time": "2021-06-29T18:20:27.483Z"
   },
   {
    "duration": 79,
    "start_time": "2021-06-29T18:20:27.535Z"
   },
   {
    "duration": 253,
    "start_time": "2021-06-29T18:20:27.617Z"
   },
   {
    "duration": 48,
    "start_time": "2021-06-29T18:20:27.873Z"
   },
   {
    "duration": 63,
    "start_time": "2021-06-29T18:20:27.923Z"
   },
   {
    "duration": 372,
    "start_time": "2021-06-29T18:20:27.990Z"
   },
   {
    "duration": 259,
    "start_time": "2021-06-29T18:20:28.365Z"
   },
   {
    "duration": 57,
    "start_time": "2021-06-29T18:20:28.627Z"
   },
   {
    "duration": 70,
    "start_time": "2021-06-29T18:20:28.687Z"
   },
   {
    "duration": 111,
    "start_time": "2021-06-29T18:20:28.782Z"
   },
   {
    "duration": 4,
    "start_time": "2021-06-29T18:20:28.901Z"
   },
   {
    "duration": 86,
    "start_time": "2021-06-29T18:20:28.907Z"
   },
   {
    "duration": 42,
    "start_time": "2021-06-29T18:20:28.999Z"
   },
   {
    "duration": 78,
    "start_time": "2021-06-29T18:20:29.044Z"
   },
   {
    "duration": 72,
    "start_time": "2021-06-29T18:20:29.124Z"
   },
   {
    "duration": 7,
    "start_time": "2021-06-29T18:20:29.199Z"
   },
   {
    "duration": 29,
    "start_time": "2021-06-29T18:20:29.208Z"
   },
   {
    "duration": 50,
    "start_time": "2021-06-29T18:20:29.239Z"
   },
   {
    "duration": 22,
    "start_time": "2021-06-29T18:20:29.293Z"
   },
   {
    "duration": 13,
    "start_time": "2021-06-29T18:20:29.319Z"
   },
   {
    "duration": 52,
    "start_time": "2021-06-29T18:20:29.335Z"
   },
   {
    "duration": 26,
    "start_time": "2021-06-29T18:20:29.391Z"
   },
   {
    "duration": 70,
    "start_time": "2021-06-29T18:20:29.420Z"
   },
   {
    "duration": 28,
    "start_time": "2021-06-29T18:20:44.241Z"
   },
   {
    "duration": 31,
    "start_time": "2021-06-29T18:20:54.786Z"
   },
   {
    "duration": 33,
    "start_time": "2021-06-29T18:21:14.482Z"
   },
   {
    "duration": 7,
    "start_time": "2021-06-29T18:21:24.791Z"
   },
   {
    "duration": 260,
    "start_time": "2021-06-29T18:21:24.801Z"
   },
   {
    "duration": 241,
    "start_time": "2021-06-29T18:21:25.064Z"
   },
   {
    "duration": 154,
    "start_time": "2021-06-29T18:21:25.309Z"
   },
   {
    "duration": 46,
    "start_time": "2021-06-29T18:21:25.467Z"
   },
   {
    "duration": 43,
    "start_time": "2021-06-29T18:21:25.516Z"
   },
   {
    "duration": 57,
    "start_time": "2021-06-29T18:21:25.561Z"
   },
   {
    "duration": 77,
    "start_time": "2021-06-29T18:21:25.621Z"
   },
   {
    "duration": 248,
    "start_time": "2021-06-29T18:21:25.704Z"
   },
   {
    "duration": 51,
    "start_time": "2021-06-29T18:21:25.955Z"
   },
   {
    "duration": 37,
    "start_time": "2021-06-29T18:21:26.009Z"
   },
   {
    "duration": 420,
    "start_time": "2021-06-29T18:21:26.049Z"
   },
   {
    "duration": 262,
    "start_time": "2021-06-29T18:21:26.472Z"
   },
   {
    "duration": 51,
    "start_time": "2021-06-29T18:21:26.736Z"
   },
   {
    "duration": 66,
    "start_time": "2021-06-29T18:21:26.791Z"
   },
   {
    "duration": 197,
    "start_time": "2021-06-29T18:21:26.860Z"
   },
   {
    "duration": 3,
    "start_time": "2021-06-29T18:21:27.059Z"
   },
   {
    "duration": 75,
    "start_time": "2021-06-29T18:21:27.065Z"
   },
   {
    "duration": 71,
    "start_time": "2021-06-29T18:21:27.142Z"
   },
   {
    "duration": 45,
    "start_time": "2021-06-29T18:21:27.217Z"
   },
   {
    "duration": 56,
    "start_time": "2021-06-29T18:21:27.265Z"
   },
   {
    "duration": 6,
    "start_time": "2021-06-29T18:21:27.323Z"
   },
   {
    "duration": 73,
    "start_time": "2021-06-29T18:21:27.332Z"
   },
   {
    "duration": 11,
    "start_time": "2021-06-29T18:21:27.408Z"
   },
   {
    "duration": 19,
    "start_time": "2021-06-29T18:21:27.421Z"
   },
   {
    "duration": 56,
    "start_time": "2021-06-29T18:21:27.442Z"
   },
   {
    "duration": 7,
    "start_time": "2021-06-29T18:21:27.502Z"
   },
   {
    "duration": 24,
    "start_time": "2021-06-29T18:21:27.511Z"
   },
   {
    "duration": 73,
    "start_time": "2021-06-29T18:21:27.537Z"
   },
   {
    "duration": 27,
    "start_time": "2021-06-29T18:21:30.291Z"
   },
   {
    "duration": 268,
    "start_time": "2021-06-29T18:21:57.267Z"
   },
   {
    "duration": 1559,
    "start_time": "2021-06-30T06:58:42.924Z"
   },
   {
    "duration": 261,
    "start_time": "2021-06-30T06:58:44.486Z"
   },
   {
    "duration": 221,
    "start_time": "2021-06-30T06:58:44.750Z"
   },
   {
    "duration": 159,
    "start_time": "2021-06-30T06:58:44.974Z"
   },
   {
    "duration": 32,
    "start_time": "2021-06-30T06:58:45.136Z"
   },
   {
    "duration": 55,
    "start_time": "2021-06-30T06:58:45.171Z"
   },
   {
    "duration": 50,
    "start_time": "2021-06-30T06:58:45.228Z"
   },
   {
    "duration": 84,
    "start_time": "2021-06-30T06:58:45.282Z"
   },
   {
    "duration": 310,
    "start_time": "2021-06-30T06:58:45.369Z"
   },
   {
    "duration": 54,
    "start_time": "2021-06-30T06:58:45.682Z"
   },
   {
    "duration": 37,
    "start_time": "2021-06-30T06:58:45.738Z"
   },
   {
    "duration": 386,
    "start_time": "2021-06-30T06:58:45.777Z"
   },
   {
    "duration": 260,
    "start_time": "2021-06-30T06:58:46.166Z"
   },
   {
    "duration": 47,
    "start_time": "2021-06-30T06:58:46.429Z"
   },
   {
    "duration": 99,
    "start_time": "2021-06-30T06:58:46.479Z"
   },
   {
    "duration": 123,
    "start_time": "2021-06-30T06:58:46.581Z"
   },
   {
    "duration": 4,
    "start_time": "2021-06-30T06:58:46.706Z"
   },
   {
    "duration": 69,
    "start_time": "2021-06-30T06:58:46.712Z"
   },
   {
    "duration": 80,
    "start_time": "2021-06-30T06:58:46.783Z"
   },
   {
    "duration": 60,
    "start_time": "2021-06-30T06:58:46.866Z"
   },
   {
    "duration": 37,
    "start_time": "2021-06-30T06:58:46.928Z"
   },
   {
    "duration": 7,
    "start_time": "2021-06-30T06:58:46.968Z"
   },
   {
    "duration": 63,
    "start_time": "2021-06-30T06:58:46.979Z"
   },
   {
    "duration": 16,
    "start_time": "2021-06-30T06:58:47.044Z"
   },
   {
    "duration": 39,
    "start_time": "2021-06-30T06:58:47.063Z"
   },
   {
    "duration": 31,
    "start_time": "2021-06-30T06:58:47.105Z"
   },
   {
    "duration": 14,
    "start_time": "2021-06-30T06:58:47.139Z"
   },
   {
    "duration": 25,
    "start_time": "2021-06-30T06:58:47.155Z"
   },
   {
    "duration": 61,
    "start_time": "2021-06-30T06:58:47.182Z"
   },
   {
    "duration": 32,
    "start_time": "2021-06-30T06:58:50.181Z"
   },
   {
    "duration": 404,
    "start_time": "2021-06-30T07:01:20.468Z"
   },
   {
    "duration": 29,
    "start_time": "2021-06-30T07:01:43.039Z"
   },
   {
    "duration": 287,
    "start_time": "2021-06-30T07:06:59.505Z"
   },
   {
    "duration": 45,
    "start_time": "2021-06-30T07:07:22.794Z"
   },
   {
    "duration": 49,
    "start_time": "2021-06-30T07:07:58.028Z"
   },
   {
    "duration": 71,
    "start_time": "2021-06-30T07:10:01.070Z"
   },
   {
    "duration": 9,
    "start_time": "2021-06-30T07:24:38.502Z"
   },
   {
    "duration": 291,
    "start_time": "2021-06-30T07:25:19.978Z"
   },
   {
    "duration": 16,
    "start_time": "2021-06-30T07:26:08.167Z"
   },
   {
    "duration": 6,
    "start_time": "2021-06-30T07:26:40.887Z"
   },
   {
    "duration": 6,
    "start_time": "2021-06-30T07:26:50.872Z"
   },
   {
    "duration": 7,
    "start_time": "2021-06-30T07:27:16.176Z"
   },
   {
    "duration": 5,
    "start_time": "2021-06-30T07:27:46.562Z"
   },
   {
    "duration": 4,
    "start_time": "2021-06-30T07:28:11.227Z"
   },
   {
    "duration": 273,
    "start_time": "2021-06-30T07:28:11.234Z"
   },
   {
    "duration": 373,
    "start_time": "2021-06-30T07:28:11.524Z"
   },
   {
    "duration": 255,
    "start_time": "2021-06-30T07:28:11.901Z"
   },
   {
    "duration": 42,
    "start_time": "2021-06-30T07:28:12.160Z"
   },
   {
    "duration": 89,
    "start_time": "2021-06-30T07:28:12.205Z"
   },
   {
    "duration": 7,
    "start_time": "2021-06-30T07:28:12.299Z"
   },
   {
    "duration": 58,
    "start_time": "2021-06-30T07:28:12.309Z"
   },
   {
    "duration": 77,
    "start_time": "2021-06-30T07:28:12.370Z"
   },
   {
    "duration": 254,
    "start_time": "2021-06-30T07:28:12.449Z"
   },
   {
    "duration": 47,
    "start_time": "2021-06-30T07:28:12.705Z"
   },
   {
    "duration": 72,
    "start_time": "2021-06-30T07:28:12.755Z"
   },
   {
    "duration": 368,
    "start_time": "2021-06-30T07:28:12.829Z"
   },
   {
    "duration": 253,
    "start_time": "2021-06-30T07:28:13.199Z"
   },
   {
    "duration": 42,
    "start_time": "2021-06-30T07:28:13.454Z"
   },
   {
    "duration": 91,
    "start_time": "2021-06-30T07:28:13.499Z"
   },
   {
    "duration": 113,
    "start_time": "2021-06-30T07:28:13.593Z"
   },
   {
    "duration": 17,
    "start_time": "2021-06-30T07:28:13.708Z"
   },
   {
    "duration": 92,
    "start_time": "2021-06-30T07:28:13.732Z"
   },
   {
    "duration": 44,
    "start_time": "2021-06-30T07:28:13.827Z"
   },
   {
    "duration": 86,
    "start_time": "2021-06-30T07:28:13.874Z"
   },
   {
    "duration": 37,
    "start_time": "2021-06-30T07:28:13.963Z"
   },
   {
    "duration": 8,
    "start_time": "2021-06-30T07:28:14.024Z"
   },
   {
    "duration": 31,
    "start_time": "2021-06-30T07:28:14.035Z"
   },
   {
    "duration": 58,
    "start_time": "2021-06-30T07:28:14.069Z"
   },
   {
    "duration": 24,
    "start_time": "2021-06-30T07:28:14.130Z"
   },
   {
    "duration": 23,
    "start_time": "2021-06-30T07:28:14.157Z"
   },
   {
    "duration": 7,
    "start_time": "2021-06-30T07:28:14.223Z"
   },
   {
    "duration": 26,
    "start_time": "2021-06-30T07:28:14.232Z"
   },
   {
    "duration": 68,
    "start_time": "2021-06-30T07:28:14.261Z"
   },
   {
    "duration": 26,
    "start_time": "2021-06-30T07:28:23.195Z"
   },
   {
    "duration": 48,
    "start_time": "2021-06-30T07:28:25.517Z"
   },
   {
    "duration": 31,
    "start_time": "2021-06-30T07:29:34.220Z"
   },
   {
    "duration": 19,
    "start_time": "2021-06-30T07:31:01.638Z"
   },
   {
    "duration": 36,
    "start_time": "2021-06-30T07:32:24.088Z"
   },
   {
    "duration": 32,
    "start_time": "2021-06-30T07:34:03.673Z"
   },
   {
    "duration": 14,
    "start_time": "2021-06-30T07:36:37.468Z"
   },
   {
    "duration": 14,
    "start_time": "2021-06-30T07:36:58.364Z"
   },
   {
    "duration": 8,
    "start_time": "2021-06-30T07:38:31.983Z"
   },
   {
    "duration": 19,
    "start_time": "2021-06-30T07:39:03.223Z"
   },
   {
    "duration": 10,
    "start_time": "2021-06-30T07:42:54.508Z"
   },
   {
    "duration": 6,
    "start_time": "2021-06-30T07:43:25.555Z"
   },
   {
    "duration": 6,
    "start_time": "2021-06-30T07:43:43.644Z"
   },
   {
    "duration": 6,
    "start_time": "2021-06-30T07:43:49.563Z"
   },
   {
    "duration": 33,
    "start_time": "2021-06-30T07:43:55.333Z"
   },
   {
    "duration": 20,
    "start_time": "2021-06-30T07:44:33.957Z"
   },
   {
    "duration": 29,
    "start_time": "2021-06-30T07:45:10.701Z"
   },
   {
    "duration": 22,
    "start_time": "2021-06-30T07:45:13.335Z"
   },
   {
    "duration": 7,
    "start_time": "2021-06-30T07:45:17.047Z"
   },
   {
    "duration": 24,
    "start_time": "2021-06-30T07:45:20.190Z"
   },
   {
    "duration": 36,
    "start_time": "2021-06-30T07:45:21.256Z"
   },
   {
    "duration": 14,
    "start_time": "2021-06-30T07:45:42.456Z"
   },
   {
    "duration": 16,
    "start_time": "2021-06-30T07:46:48.496Z"
   },
   {
    "duration": 7431,
    "start_time": "2021-06-30T07:47:38.850Z"
   },
   {
    "duration": 15,
    "start_time": "2021-06-30T07:47:54.057Z"
   },
   {
    "duration": 22,
    "start_time": "2021-06-30T07:48:07.584Z"
   },
   {
    "duration": 12,
    "start_time": "2021-06-30T07:55:12.769Z"
   },
   {
    "duration": 11,
    "start_time": "2021-06-30T07:55:35.985Z"
   },
   {
    "duration": 11,
    "start_time": "2021-06-30T07:55:54.826Z"
   },
   {
    "duration": 1545,
    "start_time": "2021-06-30T07:57:17.695Z"
   },
   {
    "duration": 290,
    "start_time": "2021-06-30T07:57:19.243Z"
   },
   {
    "duration": 258,
    "start_time": "2021-06-30T07:57:19.538Z"
   },
   {
    "duration": 189,
    "start_time": "2021-06-30T07:57:19.799Z"
   },
   {
    "duration": 50,
    "start_time": "2021-06-30T07:57:19.990Z"
   },
   {
    "duration": 57,
    "start_time": "2021-06-30T07:57:20.042Z"
   },
   {
    "duration": 47,
    "start_time": "2021-06-30T07:57:20.103Z"
   },
   {
    "duration": 7,
    "start_time": "2021-06-30T07:57:20.153Z"
   },
   {
    "duration": 107,
    "start_time": "2021-06-30T07:57:20.162Z"
   },
   {
    "duration": 71,
    "start_time": "2021-06-30T07:57:20.271Z"
   },
   {
    "duration": 335,
    "start_time": "2021-06-30T07:57:20.345Z"
   },
   {
    "duration": 52,
    "start_time": "2021-06-30T07:57:20.682Z"
   },
   {
    "duration": 37,
    "start_time": "2021-06-30T07:57:20.737Z"
   },
   {
    "duration": 439,
    "start_time": "2021-06-30T07:57:20.777Z"
   },
   {
    "duration": 285,
    "start_time": "2021-06-30T07:57:21.218Z"
   },
   {
    "duration": 56,
    "start_time": "2021-06-30T07:57:21.506Z"
   },
   {
    "duration": 100,
    "start_time": "2021-06-30T07:57:21.564Z"
   },
   {
    "duration": 118,
    "start_time": "2021-06-30T07:57:21.667Z"
   },
   {
    "duration": 3,
    "start_time": "2021-06-30T07:57:21.788Z"
   },
   {
    "duration": 76,
    "start_time": "2021-06-30T07:57:21.795Z"
   },
   {
    "duration": 87,
    "start_time": "2021-06-30T07:57:21.873Z"
   },
   {
    "duration": 67,
    "start_time": "2021-06-30T07:57:21.963Z"
   },
   {
    "duration": 35,
    "start_time": "2021-06-30T07:57:22.037Z"
   },
   {
    "duration": 5,
    "start_time": "2021-06-30T07:57:22.074Z"
   },
   {
    "duration": 60,
    "start_time": "2021-06-30T07:57:22.082Z"
   },
   {
    "duration": 15,
    "start_time": "2021-06-30T07:57:22.144Z"
   },
   {
    "duration": 63,
    "start_time": "2021-06-30T07:57:22.163Z"
   },
   {
    "duration": 14,
    "start_time": "2021-06-30T08:00:11.665Z"
   },
   {
    "duration": 7,
    "start_time": "2021-06-30T08:00:21.489Z"
   },
   {
    "duration": 22,
    "start_time": "2021-06-30T08:00:22.731Z"
   },
   {
    "duration": 24,
    "start_time": "2021-06-30T08:00:59.810Z"
   },
   {
    "duration": 38,
    "start_time": "2021-06-30T08:01:00.650Z"
   },
   {
    "duration": 1347,
    "start_time": "2021-06-30T08:01:39.137Z"
   },
   {
    "duration": 264,
    "start_time": "2021-06-30T08:01:40.487Z"
   },
   {
    "duration": 229,
    "start_time": "2021-06-30T08:01:40.755Z"
   },
   {
    "duration": 247,
    "start_time": "2021-06-30T08:01:40.988Z"
   },
   {
    "duration": 33,
    "start_time": "2021-06-30T08:01:41.237Z"
   },
   {
    "duration": 51,
    "start_time": "2021-06-30T08:01:41.273Z"
   },
   {
    "duration": 30,
    "start_time": "2021-06-30T08:01:41.326Z"
   },
   {
    "duration": 7,
    "start_time": "2021-06-30T08:01:41.362Z"
   },
   {
    "duration": 104,
    "start_time": "2021-06-30T08:01:41.373Z"
   },
   {
    "duration": 71,
    "start_time": "2021-06-30T08:01:41.479Z"
   },
   {
    "duration": 304,
    "start_time": "2021-06-30T08:01:41.553Z"
   },
   {
    "duration": 34,
    "start_time": "2021-06-30T08:01:41.860Z"
   },
   {
    "duration": 62,
    "start_time": "2021-06-30T08:01:41.897Z"
   },
   {
    "duration": 375,
    "start_time": "2021-06-30T08:01:41.961Z"
   },
   {
    "duration": 260,
    "start_time": "2021-06-30T08:01:42.338Z"
   },
   {
    "duration": 52,
    "start_time": "2021-06-30T08:01:42.601Z"
   },
   {
    "duration": 80,
    "start_time": "2021-06-30T08:01:42.656Z"
   },
   {
    "duration": 119,
    "start_time": "2021-06-30T08:01:42.738Z"
   },
   {
    "duration": 3,
    "start_time": "2021-06-30T08:01:42.859Z"
   },
   {
    "duration": 79,
    "start_time": "2021-06-30T08:01:42.864Z"
   },
   {
    "duration": 49,
    "start_time": "2021-06-30T08:01:42.946Z"
   },
   {
    "duration": 68,
    "start_time": "2021-06-30T08:01:42.997Z"
   },
   {
    "duration": 60,
    "start_time": "2021-06-30T08:01:43.069Z"
   },
   {
    "duration": 6,
    "start_time": "2021-06-30T08:01:43.132Z"
   },
   {
    "duration": 42,
    "start_time": "2021-06-30T08:01:43.140Z"
   },
   {
    "duration": 41,
    "start_time": "2021-06-30T08:01:43.184Z"
   },
   {
    "duration": 19,
    "start_time": "2021-06-30T08:01:43.227Z"
   },
   {
    "duration": 25,
    "start_time": "2021-06-30T08:01:43.249Z"
   },
   {
    "duration": 14,
    "start_time": "2021-06-30T08:01:48.835Z"
   },
   {
    "duration": 7,
    "start_time": "2021-06-30T08:01:51.630Z"
   },
   {
    "duration": 24,
    "start_time": "2021-06-30T08:01:53.100Z"
   },
   {
    "duration": 35,
    "start_time": "2021-06-30T08:01:56.212Z"
   },
   {
    "duration": 44,
    "start_time": "2021-06-30T08:06:24.969Z"
   },
   {
    "duration": 59,
    "start_time": "2021-06-30T08:06:25.938Z"
   },
   {
    "duration": 1338,
    "start_time": "2021-06-30T08:06:39.250Z"
   },
   {
    "duration": 262,
    "start_time": "2021-06-30T08:06:40.590Z"
   },
   {
    "duration": 224,
    "start_time": "2021-06-30T08:06:40.856Z"
   },
   {
    "duration": 157,
    "start_time": "2021-06-30T08:06:41.085Z"
   },
   {
    "duration": 36,
    "start_time": "2021-06-30T08:06:41.246Z"
   },
   {
    "duration": 59,
    "start_time": "2021-06-30T08:06:41.285Z"
   },
   {
    "duration": 25,
    "start_time": "2021-06-30T08:06:41.348Z"
   },
   {
    "duration": 6,
    "start_time": "2021-06-30T08:06:41.376Z"
   },
   {
    "duration": 87,
    "start_time": "2021-06-30T08:06:41.385Z"
   },
   {
    "duration": 79,
    "start_time": "2021-06-30T08:06:41.474Z"
   },
   {
    "duration": 286,
    "start_time": "2021-06-30T08:06:41.555Z"
   },
   {
    "duration": 37,
    "start_time": "2021-06-30T08:06:41.843Z"
   },
   {
    "duration": 63,
    "start_time": "2021-06-30T08:06:41.882Z"
   },
   {
    "duration": 368,
    "start_time": "2021-06-30T08:06:41.947Z"
   },
   {
    "duration": 242,
    "start_time": "2021-06-30T08:06:42.317Z"
   },
   {
    "duration": 39,
    "start_time": "2021-06-30T08:06:42.562Z"
   },
   {
    "duration": 85,
    "start_time": "2021-06-30T08:06:42.603Z"
   },
   {
    "duration": 135,
    "start_time": "2021-06-30T08:06:42.690Z"
   },
   {
    "duration": 4,
    "start_time": "2021-06-30T08:06:42.829Z"
   },
   {
    "duration": 88,
    "start_time": "2021-06-30T08:06:42.836Z"
   },
   {
    "duration": 49,
    "start_time": "2021-06-30T08:06:42.927Z"
   },
   {
    "duration": 71,
    "start_time": "2021-06-30T08:06:42.978Z"
   },
   {
    "duration": 36,
    "start_time": "2021-06-30T08:06:43.054Z"
   },
   {
    "duration": 33,
    "start_time": "2021-06-30T08:06:43.093Z"
   },
   {
    "duration": 53,
    "start_time": "2021-06-30T08:06:43.129Z"
   },
   {
    "duration": 14,
    "start_time": "2021-06-30T08:06:43.185Z"
   },
   {
    "duration": 34,
    "start_time": "2021-06-30T08:06:43.202Z"
   },
   {
    "duration": 32,
    "start_time": "2021-06-30T08:06:43.239Z"
   },
   {
    "duration": 21,
    "start_time": "2021-06-30T08:06:43.274Z"
   },
   {
    "duration": 10,
    "start_time": "2021-06-30T08:06:54.686Z"
   },
   {
    "duration": 25,
    "start_time": "2021-06-30T08:06:55.885Z"
   },
   {
    "duration": 30,
    "start_time": "2021-06-30T08:06:57.837Z"
   },
   {
    "duration": 22,
    "start_time": "2021-06-30T08:08:44.007Z"
   },
   {
    "duration": 24,
    "start_time": "2021-06-30T08:10:26.602Z"
   },
   {
    "duration": 39,
    "start_time": "2021-06-30T08:11:06.042Z"
   },
   {
    "duration": 1373,
    "start_time": "2021-06-30T08:11:20.293Z"
   },
   {
    "duration": 269,
    "start_time": "2021-06-30T08:11:21.669Z"
   },
   {
    "duration": 223,
    "start_time": "2021-06-30T08:11:21.943Z"
   },
   {
    "duration": 161,
    "start_time": "2021-06-30T08:11:22.170Z"
   },
   {
    "duration": 36,
    "start_time": "2021-06-30T08:11:22.333Z"
   },
   {
    "duration": 60,
    "start_time": "2021-06-30T08:11:22.372Z"
   },
   {
    "duration": 23,
    "start_time": "2021-06-30T08:11:22.435Z"
   },
   {
    "duration": 5,
    "start_time": "2021-06-30T08:11:22.461Z"
   },
   {
    "duration": 93,
    "start_time": "2021-06-30T08:11:22.469Z"
   },
   {
    "duration": 90,
    "start_time": "2021-06-30T08:11:22.565Z"
   },
   {
    "duration": 279,
    "start_time": "2021-06-30T08:11:22.657Z"
   },
   {
    "duration": 35,
    "start_time": "2021-06-30T08:11:22.939Z"
   },
   {
    "duration": 72,
    "start_time": "2021-06-30T08:11:22.978Z"
   },
   {
    "duration": 372,
    "start_time": "2021-06-30T08:11:23.052Z"
   },
   {
    "duration": 244,
    "start_time": "2021-06-30T08:11:23.426Z"
   },
   {
    "duration": 61,
    "start_time": "2021-06-30T08:11:23.672Z"
   },
   {
    "duration": 68,
    "start_time": "2021-06-30T08:11:23.736Z"
   },
   {
    "duration": 129,
    "start_time": "2021-06-30T08:11:23.807Z"
   },
   {
    "duration": 4,
    "start_time": "2021-06-30T08:11:23.940Z"
   },
   {
    "duration": 108,
    "start_time": "2021-06-30T08:11:23.947Z"
   },
   {
    "duration": 86,
    "start_time": "2021-06-30T08:11:24.058Z"
   },
   {
    "duration": 48,
    "start_time": "2021-06-30T08:11:24.146Z"
   },
   {
    "duration": 61,
    "start_time": "2021-06-30T08:11:24.198Z"
   },
   {
    "duration": 7,
    "start_time": "2021-06-30T08:11:24.262Z"
   },
   {
    "duration": 66,
    "start_time": "2021-06-30T08:11:24.271Z"
   },
   {
    "duration": 20,
    "start_time": "2021-06-30T08:11:37.214Z"
   },
   {
    "duration": 11,
    "start_time": "2021-06-30T08:11:56.103Z"
   },
   {
    "duration": 24,
    "start_time": "2021-06-30T08:11:57.751Z"
   },
   {
    "duration": 29,
    "start_time": "2021-06-30T08:13:09.458Z"
   },
   {
    "duration": 19,
    "start_time": "2021-06-30T08:13:10.944Z"
   },
   {
    "duration": 13,
    "start_time": "2021-06-30T08:13:29.992Z"
   },
   {
    "duration": 20,
    "start_time": "2021-06-30T08:13:33.909Z"
   },
   {
    "duration": 8,
    "start_time": "2021-06-30T08:13:55.161Z"
   },
   {
    "duration": 24,
    "start_time": "2021-06-30T08:13:57.521Z"
   },
   {
    "duration": 27,
    "start_time": "2021-06-30T08:14:01.322Z"
   },
   {
    "duration": 7918,
    "start_time": "2021-06-30T08:32:47.703Z"
   },
   {
    "duration": 7828,
    "start_time": "2021-06-30T08:33:09.240Z"
   },
   {
    "duration": 768,
    "start_time": "2021-06-30T08:33:36.089Z"
   },
   {
    "duration": 412,
    "start_time": "2021-06-30T08:36:44.549Z"
   },
   {
    "duration": 10,
    "start_time": "2021-06-30T08:37:33.692Z"
   },
   {
    "duration": 7,
    "start_time": "2021-06-30T08:38:35.158Z"
   },
   {
    "duration": 7,
    "start_time": "2021-06-30T08:39:13.678Z"
   },
   {
    "duration": 399,
    "start_time": "2021-06-30T08:42:08.723Z"
   },
   {
    "duration": 17,
    "start_time": "2021-06-30T08:42:26.954Z"
   },
   {
    "duration": 11,
    "start_time": "2021-06-30T08:42:54.292Z"
   },
   {
    "duration": 10,
    "start_time": "2021-06-30T08:43:16.741Z"
   },
   {
    "duration": 20,
    "start_time": "2021-06-30T08:43:35.348Z"
   },
   {
    "duration": 11,
    "start_time": "2021-06-30T08:43:50.404Z"
   },
   {
    "duration": 17,
    "start_time": "2021-06-30T08:43:58.484Z"
   },
   {
    "duration": 13,
    "start_time": "2021-06-30T08:44:44.005Z"
   },
   {
    "duration": 22,
    "start_time": "2021-06-30T08:44:45.533Z"
   },
   {
    "duration": 11,
    "start_time": "2021-06-30T08:44:47.909Z"
   },
   {
    "duration": 16,
    "start_time": "2021-06-30T08:44:49.997Z"
   },
   {
    "duration": 13,
    "start_time": "2021-06-30T08:45:11.294Z"
   },
   {
    "duration": 22,
    "start_time": "2021-06-30T08:45:12.342Z"
   },
   {
    "duration": 10,
    "start_time": "2021-06-30T08:45:13.261Z"
   },
   {
    "duration": 17,
    "start_time": "2021-06-30T08:45:17.765Z"
   },
   {
    "duration": 13,
    "start_time": "2021-06-30T08:45:42.047Z"
   },
   {
    "duration": 7,
    "start_time": "2021-06-30T08:45:47.869Z"
   },
   {
    "duration": 25,
    "start_time": "2021-06-30T08:45:59.838Z"
   },
   {
    "duration": 37,
    "start_time": "2021-06-30T08:46:06.151Z"
   },
   {
    "duration": 259,
    "start_time": "2021-06-30T08:55:00.345Z"
   },
   {
    "duration": 1323,
    "start_time": "2021-06-30T08:55:21.656Z"
   },
   {
    "duration": 264,
    "start_time": "2021-06-30T08:55:22.981Z"
   },
   {
    "duration": 216,
    "start_time": "2021-06-30T08:55:23.248Z"
   },
   {
    "duration": 148,
    "start_time": "2021-06-30T08:55:23.467Z"
   },
   {
    "duration": 38,
    "start_time": "2021-06-30T08:55:23.617Z"
   },
   {
    "duration": 71,
    "start_time": "2021-06-30T08:55:23.658Z"
   },
   {
    "duration": 26,
    "start_time": "2021-06-30T08:55:23.732Z"
   },
   {
    "duration": 6,
    "start_time": "2021-06-30T08:55:23.765Z"
   },
   {
    "duration": 143,
    "start_time": "2021-06-30T08:55:23.776Z"
   },
   {
    "duration": 132,
    "start_time": "2021-06-30T08:55:23.922Z"
   },
   {
    "duration": 416,
    "start_time": "2021-06-30T08:55:24.058Z"
   },
   {
    "duration": 71,
    "start_time": "2021-06-30T08:55:24.477Z"
   },
   {
    "duration": 74,
    "start_time": "2021-06-30T08:55:24.552Z"
   },
   {
    "duration": 595,
    "start_time": "2021-06-30T08:55:24.629Z"
   },
   {
    "duration": 410,
    "start_time": "2021-06-30T08:55:25.227Z"
   },
   {
    "duration": 57,
    "start_time": "2021-06-30T08:55:25.641Z"
   },
   {
    "duration": 130,
    "start_time": "2021-06-30T08:55:25.701Z"
   },
   {
    "duration": 184,
    "start_time": "2021-06-30T08:55:25.834Z"
   },
   {
    "duration": 4,
    "start_time": "2021-06-30T08:55:26.025Z"
   },
   {
    "duration": 106,
    "start_time": "2021-06-30T08:55:26.032Z"
   },
   {
    "duration": 50,
    "start_time": "2021-06-30T08:55:26.141Z"
   },
   {
    "duration": 68,
    "start_time": "2021-06-30T08:55:26.193Z"
   },
   {
    "duration": 72,
    "start_time": "2021-06-30T08:55:26.265Z"
   },
   {
    "duration": 6,
    "start_time": "2021-06-30T08:55:26.340Z"
   },
   {
    "duration": 257,
    "start_time": "2021-06-30T08:55:31.642Z"
   },
   {
    "duration": 76,
    "start_time": "2021-06-30T08:56:18.699Z"
   },
   {
    "duration": 21,
    "start_time": "2021-06-30T08:57:02.380Z"
   },
   {
    "duration": 10,
    "start_time": "2021-06-30T08:57:54.221Z"
   },
   {
    "duration": 397,
    "start_time": "2021-06-30T08:58:44.054Z"
   },
   {
    "duration": 18,
    "start_time": "2021-06-30T08:59:18.754Z"
   },
   {
    "duration": 273,
    "start_time": "2021-06-30T08:59:59.599Z"
   },
   {
    "duration": 10,
    "start_time": "2021-06-30T09:00:05.335Z"
   },
   {
    "duration": 13,
    "start_time": "2021-06-30T09:01:16.497Z"
   },
   {
    "duration": 11,
    "start_time": "2021-06-30T09:01:29.588Z"
   },
   {
    "duration": 41,
    "start_time": "2021-06-30T09:02:22.338Z"
   },
   {
    "duration": 10808,
    "start_time": "2021-06-30T09:06:45.296Z"
   },
   {
    "duration": 8126,
    "start_time": "2021-06-30T09:09:44.324Z"
   },
   {
    "duration": 5,
    "start_time": "2021-06-30T09:11:08.829Z"
   },
   {
    "duration": 11,
    "start_time": "2021-06-30T09:11:19.044Z"
   },
   {
    "duration": 12,
    "start_time": "2021-06-30T09:11:32.180Z"
   },
   {
    "duration": 302,
    "start_time": "2021-06-30T09:11:49.197Z"
   },
   {
    "duration": 11,
    "start_time": "2021-06-30T09:12:04.869Z"
   },
   {
    "duration": 42,
    "start_time": "2021-06-30T09:13:26.183Z"
   },
   {
    "duration": 64,
    "start_time": "2021-06-30T09:15:03.833Z"
   },
   {
    "duration": 18,
    "start_time": "2021-06-30T09:17:16.508Z"
   },
   {
    "duration": 307,
    "start_time": "2021-06-30T09:38:06.661Z"
   },
   {
    "duration": 30,
    "start_time": "2021-06-30T09:38:20.989Z"
   },
   {
    "duration": 1381,
    "start_time": "2021-06-30T09:42:13.904Z"
   },
   {
    "duration": 336,
    "start_time": "2021-06-30T09:42:15.288Z"
   },
   {
    "duration": 214,
    "start_time": "2021-06-30T09:42:15.627Z"
   },
   {
    "duration": 151,
    "start_time": "2021-06-30T09:42:15.844Z"
   },
   {
    "duration": 37,
    "start_time": "2021-06-30T09:42:15.997Z"
   },
   {
    "duration": 57,
    "start_time": "2021-06-30T09:42:16.037Z"
   },
   {
    "duration": 29,
    "start_time": "2021-06-30T09:42:16.097Z"
   },
   {
    "duration": 5,
    "start_time": "2021-06-30T09:42:16.130Z"
   },
   {
    "duration": 68,
    "start_time": "2021-06-30T09:42:16.138Z"
   },
   {
    "duration": 68,
    "start_time": "2021-06-30T09:42:16.208Z"
   },
   {
    "duration": 328,
    "start_time": "2021-06-30T09:42:16.278Z"
   },
   {
    "duration": 49,
    "start_time": "2021-06-30T09:42:16.608Z"
   },
   {
    "duration": 71,
    "start_time": "2021-06-30T09:42:16.661Z"
   },
   {
    "duration": 368,
    "start_time": "2021-06-30T09:42:16.735Z"
   },
   {
    "duration": 276,
    "start_time": "2021-06-30T09:42:17.105Z"
   },
   {
    "duration": 54,
    "start_time": "2021-06-30T09:42:17.383Z"
   },
   {
    "duration": 87,
    "start_time": "2021-06-30T09:42:17.439Z"
   },
   {
    "duration": 121,
    "start_time": "2021-06-30T09:42:17.529Z"
   },
   {
    "duration": 4,
    "start_time": "2021-06-30T09:42:17.653Z"
   },
   {
    "duration": 92,
    "start_time": "2021-06-30T09:42:17.660Z"
   },
   {
    "duration": 71,
    "start_time": "2021-06-30T09:42:17.755Z"
   },
   {
    "duration": 50,
    "start_time": "2021-06-30T09:42:17.830Z"
   },
   {
    "duration": 63,
    "start_time": "2021-06-30T09:42:17.885Z"
   },
   {
    "duration": 5,
    "start_time": "2021-06-30T09:42:17.951Z"
   },
   {
    "duration": 14,
    "start_time": "2021-06-30T09:42:17.959Z"
   },
   {
    "duration": 55,
    "start_time": "2021-06-30T09:42:17.975Z"
   },
   {
    "duration": 9,
    "start_time": "2021-06-30T09:42:18.032Z"
   },
   {
    "duration": 15,
    "start_time": "2021-06-30T09:42:18.044Z"
   },
   {
    "duration": 472,
    "start_time": "2021-06-30T09:42:23.989Z"
   },
   {
    "duration": 314,
    "start_time": "2021-06-30T09:42:38.222Z"
   },
   {
    "duration": 18,
    "start_time": "2021-06-30T09:42:48.589Z"
   },
   {
    "duration": 14,
    "start_time": "2021-06-30T09:42:58.926Z"
   },
   {
    "duration": 1603,
    "start_time": "2021-06-30T09:46:51.186Z"
   },
   {
    "duration": 254,
    "start_time": "2021-06-30T09:46:52.792Z"
   },
   {
    "duration": 217,
    "start_time": "2021-06-30T09:46:53.049Z"
   },
   {
    "duration": 193,
    "start_time": "2021-06-30T09:46:53.268Z"
   },
   {
    "duration": 32,
    "start_time": "2021-06-30T09:46:53.464Z"
   },
   {
    "duration": 70,
    "start_time": "2021-06-30T09:46:53.499Z"
   },
   {
    "duration": 23,
    "start_time": "2021-06-30T09:46:53.571Z"
   },
   {
    "duration": 5,
    "start_time": "2021-06-30T09:46:53.598Z"
   },
   {
    "duration": 49,
    "start_time": "2021-06-30T09:46:53.626Z"
   },
   {
    "duration": 81,
    "start_time": "2021-06-30T09:46:53.677Z"
   },
   {
    "duration": 430,
    "start_time": "2021-06-30T09:46:53.761Z"
   },
   {
    "duration": 62,
    "start_time": "2021-06-30T09:46:54.194Z"
   },
   {
    "duration": 78,
    "start_time": "2021-06-30T09:46:54.259Z"
   },
   {
    "duration": 375,
    "start_time": "2021-06-30T09:46:54.340Z"
   },
   {
    "duration": 253,
    "start_time": "2021-06-30T09:46:54.718Z"
   },
   {
    "duration": 61,
    "start_time": "2021-06-30T09:46:54.974Z"
   },
   {
    "duration": 69,
    "start_time": "2021-06-30T09:46:55.037Z"
   },
   {
    "duration": 111,
    "start_time": "2021-06-30T09:46:55.124Z"
   },
   {
    "duration": 3,
    "start_time": "2021-06-30T09:46:55.238Z"
   },
   {
    "duration": 86,
    "start_time": "2021-06-30T09:46:55.243Z"
   },
   {
    "duration": 51,
    "start_time": "2021-06-30T09:46:55.332Z"
   },
   {
    "duration": 77,
    "start_time": "2021-06-30T09:46:55.385Z"
   },
   {
    "duration": 78,
    "start_time": "2021-06-30T09:46:55.469Z"
   },
   {
    "duration": 6,
    "start_time": "2021-06-30T09:46:55.550Z"
   },
   {
    "duration": 17,
    "start_time": "2021-06-30T09:46:55.559Z"
   },
   {
    "duration": 48,
    "start_time": "2021-06-30T09:46:55.579Z"
   },
   {
    "duration": 12,
    "start_time": "2021-06-30T09:46:55.630Z"
   },
   {
    "duration": 12,
    "start_time": "2021-06-30T09:46:55.645Z"
   },
   {
    "duration": 19,
    "start_time": "2021-06-30T09:47:07.262Z"
   },
   {
    "duration": 25,
    "start_time": "2021-06-30T09:47:32.376Z"
   },
   {
    "duration": 11,
    "start_time": "2021-06-30T11:59:59.318Z"
   },
   {
    "duration": 51,
    "start_time": "2021-06-30T12:00:05.146Z"
   },
   {
    "duration": 19,
    "start_time": "2021-06-30T12:00:46.233Z"
   },
   {
    "duration": 5,
    "start_time": "2021-06-30T13:13:53.264Z"
   },
   {
    "duration": 413,
    "start_time": "2021-06-30T13:13:56.458Z"
   },
   {
    "duration": 1790,
    "start_time": "2021-06-30T13:15:14.740Z"
   },
   {
    "duration": 257,
    "start_time": "2021-06-30T13:15:16.533Z"
   },
   {
    "duration": 221,
    "start_time": "2021-06-30T13:15:16.793Z"
   },
   {
    "duration": 153,
    "start_time": "2021-06-30T13:15:17.025Z"
   },
   {
    "duration": 35,
    "start_time": "2021-06-30T13:15:17.180Z"
   },
   {
    "duration": 54,
    "start_time": "2021-06-30T13:15:17.217Z"
   },
   {
    "duration": 25,
    "start_time": "2021-06-30T13:15:17.274Z"
   },
   {
    "duration": 7,
    "start_time": "2021-06-30T13:15:17.328Z"
   },
   {
    "duration": 125,
    "start_time": "2021-06-30T13:15:17.339Z"
   },
   {
    "duration": 75,
    "start_time": "2021-06-30T13:15:17.468Z"
   },
   {
    "duration": 309,
    "start_time": "2021-06-30T13:15:17.545Z"
   },
   {
    "duration": 34,
    "start_time": "2021-06-30T13:15:17.857Z"
   },
   {
    "duration": 64,
    "start_time": "2021-06-30T13:15:17.893Z"
   },
   {
    "duration": 544,
    "start_time": "2021-06-30T13:15:17.960Z"
   },
   {
    "duration": 275,
    "start_time": "2021-06-30T13:15:18.506Z"
   },
   {
    "duration": 77,
    "start_time": "2021-06-30T13:15:18.785Z"
   },
   {
    "duration": 118,
    "start_time": "2021-06-30T13:15:18.865Z"
   },
   {
    "duration": 181,
    "start_time": "2021-06-30T13:15:18.986Z"
   },
   {
    "duration": 4,
    "start_time": "2021-06-30T13:15:19.170Z"
   },
   {
    "duration": 104,
    "start_time": "2021-06-30T13:15:19.177Z"
   },
   {
    "duration": 94,
    "start_time": "2021-06-30T13:15:19.284Z"
   },
   {
    "duration": 80,
    "start_time": "2021-06-30T13:15:19.381Z"
   },
   {
    "duration": 72,
    "start_time": "2021-06-30T13:15:19.469Z"
   },
   {
    "duration": 7,
    "start_time": "2021-06-30T13:15:19.545Z"
   },
   {
    "duration": 28,
    "start_time": "2021-06-30T13:15:19.555Z"
   },
   {
    "duration": 46,
    "start_time": "2021-06-30T13:15:19.586Z"
   },
   {
    "duration": 10,
    "start_time": "2021-06-30T13:15:19.634Z"
   },
   {
    "duration": 11,
    "start_time": "2021-06-30T13:15:19.647Z"
   },
   {
    "duration": 70,
    "start_time": "2021-06-30T13:15:19.661Z"
   },
   {
    "duration": 25,
    "start_time": "2021-06-30T13:15:19.733Z"
   },
   {
    "duration": 11,
    "start_time": "2021-06-30T13:15:30.665Z"
   },
   {
    "duration": 49,
    "start_time": "2021-06-30T13:15:35.548Z"
   },
   {
    "duration": 6,
    "start_time": "2021-06-30T13:16:19.545Z"
   },
   {
    "duration": 18,
    "start_time": "2021-06-30T13:16:26.665Z"
   },
   {
    "duration": 344,
    "start_time": "2021-06-30T13:21:55.171Z"
   },
   {
    "duration": 369,
    "start_time": "2021-06-30T13:22:12.167Z"
   },
   {
    "duration": 1391,
    "start_time": "2021-06-30T13:24:23.198Z"
   },
   {
    "duration": 260,
    "start_time": "2021-06-30T13:24:24.591Z"
   },
   {
    "duration": 225,
    "start_time": "2021-06-30T13:24:24.854Z"
   },
   {
    "duration": 159,
    "start_time": "2021-06-30T13:24:25.082Z"
   },
   {
    "duration": 33,
    "start_time": "2021-06-30T13:24:25.244Z"
   },
   {
    "duration": 56,
    "start_time": "2021-06-30T13:24:25.280Z"
   },
   {
    "duration": 19,
    "start_time": "2021-06-30T13:24:25.339Z"
   },
   {
    "duration": 5,
    "start_time": "2021-06-30T13:24:25.362Z"
   },
   {
    "duration": 99,
    "start_time": "2021-06-30T13:24:25.371Z"
   },
   {
    "duration": 75,
    "start_time": "2021-06-30T13:24:25.473Z"
   },
   {
    "duration": 292,
    "start_time": "2021-06-30T13:24:25.551Z"
   },
   {
    "duration": 35,
    "start_time": "2021-06-30T13:24:25.846Z"
   },
   {
    "duration": 68,
    "start_time": "2021-06-30T13:24:25.884Z"
   },
   {
    "duration": 372,
    "start_time": "2021-06-30T13:24:25.954Z"
   },
   {
    "duration": 256,
    "start_time": "2021-06-30T13:24:26.329Z"
   },
   {
    "duration": 60,
    "start_time": "2021-06-30T13:24:26.587Z"
   },
   {
    "duration": 84,
    "start_time": "2021-06-30T13:24:26.649Z"
   },
   {
    "duration": 126,
    "start_time": "2021-06-30T13:24:26.735Z"
   },
   {
    "duration": 3,
    "start_time": "2021-06-30T13:24:26.864Z"
   },
   {
    "duration": 93,
    "start_time": "2021-06-30T13:24:26.869Z"
   },
   {
    "duration": 75,
    "start_time": "2021-06-30T13:24:26.964Z"
   },
   {
    "duration": 47,
    "start_time": "2021-06-30T13:24:27.041Z"
   },
   {
    "duration": 63,
    "start_time": "2021-06-30T13:24:27.093Z"
   },
   {
    "duration": 6,
    "start_time": "2021-06-30T13:24:27.158Z"
   },
   {
    "duration": 13,
    "start_time": "2021-06-30T13:24:27.166Z"
   },
   {
    "duration": 58,
    "start_time": "2021-06-30T13:24:27.182Z"
   },
   {
    "duration": 9,
    "start_time": "2021-06-30T13:24:27.243Z"
   },
   {
    "duration": 13,
    "start_time": "2021-06-30T13:24:27.255Z"
   },
   {
    "duration": 18,
    "start_time": "2021-06-30T13:24:27.325Z"
   },
   {
    "duration": 25,
    "start_time": "2021-06-30T13:24:27.345Z"
   },
   {
    "duration": 58,
    "start_time": "2021-06-30T13:24:27.373Z"
   },
   {
    "duration": 90,
    "start_time": "2021-06-30T13:24:27.434Z"
   },
   {
    "duration": 447,
    "start_time": "2021-06-30T13:24:55.234Z"
   },
   {
    "duration": 48,
    "start_time": "2021-06-30T13:25:04.409Z"
   },
   {
    "duration": 1447,
    "start_time": "2021-06-30T13:25:22.536Z"
   },
   {
    "duration": 258,
    "start_time": "2021-06-30T13:25:23.986Z"
   },
   {
    "duration": 225,
    "start_time": "2021-06-30T13:25:24.248Z"
   },
   {
    "duration": 160,
    "start_time": "2021-06-30T13:25:24.476Z"
   },
   {
    "duration": 33,
    "start_time": "2021-06-30T13:25:24.639Z"
   },
   {
    "duration": 60,
    "start_time": "2021-06-30T13:25:24.674Z"
   },
   {
    "duration": 27,
    "start_time": "2021-06-30T13:25:24.737Z"
   },
   {
    "duration": 7,
    "start_time": "2021-06-30T13:25:24.770Z"
   },
   {
    "duration": 147,
    "start_time": "2021-06-30T13:25:24.782Z"
   },
   {
    "duration": 129,
    "start_time": "2021-06-30T13:25:24.932Z"
   },
   {
    "duration": 400,
    "start_time": "2021-06-30T13:25:25.064Z"
   },
   {
    "duration": 70,
    "start_time": "2021-06-30T13:25:25.467Z"
   },
   {
    "duration": 41,
    "start_time": "2021-06-30T13:25:25.540Z"
   },
   {
    "duration": 382,
    "start_time": "2021-06-30T13:25:25.583Z"
   },
   {
    "duration": 275,
    "start_time": "2021-06-30T13:25:25.968Z"
   },
   {
    "duration": 44,
    "start_time": "2021-06-30T13:25:26.246Z"
   },
   {
    "duration": 95,
    "start_time": "2021-06-30T13:25:26.292Z"
   },
   {
    "duration": 146,
    "start_time": "2021-06-30T13:25:26.390Z"
   },
   {
    "duration": 4,
    "start_time": "2021-06-30T13:25:26.539Z"
   },
   {
    "duration": 88,
    "start_time": "2021-06-30T13:25:26.546Z"
   },
   {
    "duration": 53,
    "start_time": "2021-06-30T13:25:26.637Z"
   },
   {
    "duration": 84,
    "start_time": "2021-06-30T13:25:26.693Z"
   },
   {
    "duration": 58,
    "start_time": "2021-06-30T13:25:26.784Z"
   },
   {
    "duration": 7,
    "start_time": "2021-06-30T13:25:26.846Z"
   },
   {
    "duration": 15,
    "start_time": "2021-06-30T13:25:26.857Z"
   },
   {
    "duration": 65,
    "start_time": "2021-06-30T13:25:26.875Z"
   },
   {
    "duration": 11,
    "start_time": "2021-06-30T13:25:26.944Z"
   },
   {
    "duration": 15,
    "start_time": "2021-06-30T13:25:26.958Z"
   },
   {
    "duration": 59,
    "start_time": "2021-06-30T13:25:26.976Z"
   },
   {
    "duration": 30,
    "start_time": "2021-06-30T13:25:27.038Z"
   },
   {
    "duration": 12,
    "start_time": "2021-06-30T13:25:27.071Z"
   },
   {
    "duration": 18,
    "start_time": "2021-06-30T13:25:35.859Z"
   },
   {
    "duration": 42,
    "start_time": "2021-06-30T13:25:39.307Z"
   },
   {
    "duration": 18,
    "start_time": "2021-06-30T13:25:56.885Z"
   },
   {
    "duration": 608,
    "start_time": "2021-06-30T13:28:05.216Z"
   },
   {
    "duration": 1351,
    "start_time": "2021-06-30T13:29:18.333Z"
   },
   {
    "duration": 258,
    "start_time": "2021-06-30T13:29:19.687Z"
   },
   {
    "duration": 223,
    "start_time": "2021-06-30T13:29:19.948Z"
   },
   {
    "duration": 156,
    "start_time": "2021-06-30T13:29:20.174Z"
   },
   {
    "duration": 33,
    "start_time": "2021-06-30T13:29:20.332Z"
   },
   {
    "duration": 46,
    "start_time": "2021-06-30T13:29:20.368Z"
   },
   {
    "duration": 18,
    "start_time": "2021-06-30T13:29:20.425Z"
   },
   {
    "duration": 6,
    "start_time": "2021-06-30T13:29:20.447Z"
   },
   {
    "duration": 91,
    "start_time": "2021-06-30T13:29:20.456Z"
   },
   {
    "duration": 76,
    "start_time": "2021-06-30T13:29:20.550Z"
   },
   {
    "duration": 304,
    "start_time": "2021-06-30T13:29:20.628Z"
   },
   {
    "duration": 39,
    "start_time": "2021-06-30T13:29:20.935Z"
   },
   {
    "duration": 74,
    "start_time": "2021-06-30T13:29:20.976Z"
   },
   {
    "duration": 364,
    "start_time": "2021-06-30T13:29:21.052Z"
   },
   {
    "duration": 257,
    "start_time": "2021-06-30T13:29:21.418Z"
   },
   {
    "duration": 60,
    "start_time": "2021-06-30T13:29:21.677Z"
   },
   {
    "duration": 86,
    "start_time": "2021-06-30T13:29:21.739Z"
   },
   {
    "duration": 126,
    "start_time": "2021-06-30T13:29:21.827Z"
   },
   {
    "duration": 3,
    "start_time": "2021-06-30T13:29:21.955Z"
   },
   {
    "duration": 92,
    "start_time": "2021-06-30T13:29:21.960Z"
   },
   {
    "duration": 75,
    "start_time": "2021-06-30T13:29:22.054Z"
   },
   {
    "duration": 48,
    "start_time": "2021-06-30T13:29:22.131Z"
   },
   {
    "duration": 67,
    "start_time": "2021-06-30T13:29:22.184Z"
   },
   {
    "duration": 6,
    "start_time": "2021-06-30T13:29:22.253Z"
   },
   {
    "duration": 16,
    "start_time": "2021-06-30T13:29:22.261Z"
   },
   {
    "duration": 57,
    "start_time": "2021-06-30T13:29:22.279Z"
   },
   {
    "duration": 9,
    "start_time": "2021-06-30T13:29:22.338Z"
   },
   {
    "duration": 20,
    "start_time": "2021-06-30T13:29:22.349Z"
   },
   {
    "duration": 67,
    "start_time": "2021-06-30T13:29:22.371Z"
   },
   {
    "duration": 27,
    "start_time": "2021-06-30T13:29:22.441Z"
   },
   {
    "duration": 53,
    "start_time": "2021-06-30T13:29:22.470Z"
   },
   {
    "duration": 16,
    "start_time": "2021-06-30T13:29:22.526Z"
   },
   {
    "duration": 19,
    "start_time": "2021-06-30T13:29:22.544Z"
   },
   {
    "duration": 35,
    "start_time": "2021-06-30T13:29:33.570Z"
   },
   {
    "duration": 325,
    "start_time": "2021-06-30T13:29:40.345Z"
   },
   {
    "duration": 17,
    "start_time": "2021-06-30T13:32:09.940Z"
   },
   {
    "duration": 1402,
    "start_time": "2021-06-30T13:32:31.789Z"
   },
   {
    "duration": 263,
    "start_time": "2021-06-30T13:32:33.194Z"
   },
   {
    "duration": 226,
    "start_time": "2021-06-30T13:32:33.460Z"
   },
   {
    "duration": 152,
    "start_time": "2021-06-30T13:32:33.689Z"
   },
   {
    "duration": 32,
    "start_time": "2021-06-30T13:32:33.843Z"
   },
   {
    "duration": 62,
    "start_time": "2021-06-30T13:32:33.878Z"
   },
   {
    "duration": 26,
    "start_time": "2021-06-30T13:32:33.943Z"
   },
   {
    "duration": 7,
    "start_time": "2021-06-30T13:32:33.974Z"
   },
   {
    "duration": 145,
    "start_time": "2021-06-30T13:32:33.985Z"
   },
   {
    "duration": 132,
    "start_time": "2021-06-30T13:32:34.134Z"
   },
   {
    "duration": 416,
    "start_time": "2021-06-30T13:32:34.269Z"
   },
   {
    "duration": 64,
    "start_time": "2021-06-30T13:32:34.689Z"
   },
   {
    "duration": 74,
    "start_time": "2021-06-30T13:32:34.756Z"
   },
   {
    "duration": 585,
    "start_time": "2021-06-30T13:32:34.833Z"
   },
   {
    "duration": 402,
    "start_time": "2021-06-30T13:32:35.425Z"
   },
   {
    "duration": 40,
    "start_time": "2021-06-30T13:32:35.830Z"
   },
   {
    "duration": 102,
    "start_time": "2021-06-30T13:32:35.872Z"
   },
   {
    "duration": 148,
    "start_time": "2021-06-30T13:32:35.976Z"
   },
   {
    "duration": 4,
    "start_time": "2021-06-30T13:32:36.126Z"
   },
   {
    "duration": 73,
    "start_time": "2021-06-30T13:32:36.132Z"
   },
   {
    "duration": 47,
    "start_time": "2021-06-30T13:32:36.207Z"
   },
   {
    "duration": 47,
    "start_time": "2021-06-30T13:32:36.257Z"
   },
   {
    "duration": 39,
    "start_time": "2021-06-30T13:32:36.308Z"
   },
   {
    "duration": 5,
    "start_time": "2021-06-30T13:32:36.349Z"
   },
   {
    "duration": 28,
    "start_time": "2021-06-30T13:32:36.356Z"
   },
   {
    "duration": 40,
    "start_time": "2021-06-30T13:32:36.386Z"
   },
   {
    "duration": 23,
    "start_time": "2021-06-30T13:32:36.429Z"
   },
   {
    "duration": 21,
    "start_time": "2021-06-30T13:32:36.455Z"
   },
   {
    "duration": 22,
    "start_time": "2021-06-30T13:32:36.478Z"
   },
   {
    "duration": 46,
    "start_time": "2021-06-30T13:32:36.502Z"
   },
   {
    "duration": 13,
    "start_time": "2021-06-30T13:32:36.550Z"
   },
   {
    "duration": 39,
    "start_time": "2021-06-30T13:32:36.565Z"
   },
   {
    "duration": 41,
    "start_time": "2021-06-30T13:33:24.696Z"
   },
   {
    "duration": 1338,
    "start_time": "2021-06-30T13:34:47.467Z"
   },
   {
    "duration": 263,
    "start_time": "2021-06-30T13:34:48.808Z"
   },
   {
    "duration": 218,
    "start_time": "2021-06-30T13:34:49.074Z"
   },
   {
    "duration": 148,
    "start_time": "2021-06-30T13:34:49.294Z"
   },
   {
    "duration": 32,
    "start_time": "2021-06-30T13:34:49.444Z"
   },
   {
    "duration": 57,
    "start_time": "2021-06-30T13:34:49.479Z"
   },
   {
    "duration": 21,
    "start_time": "2021-06-30T13:34:49.538Z"
   },
   {
    "duration": 6,
    "start_time": "2021-06-30T13:34:49.565Z"
   },
   {
    "duration": 101,
    "start_time": "2021-06-30T13:34:49.575Z"
   },
   {
    "duration": 82,
    "start_time": "2021-06-30T13:34:49.679Z"
   },
   {
    "duration": 296,
    "start_time": "2021-06-30T13:34:49.763Z"
   },
   {
    "duration": 37,
    "start_time": "2021-06-30T13:34:50.061Z"
   },
   {
    "duration": 38,
    "start_time": "2021-06-30T13:34:50.124Z"
   },
   {
    "duration": 374,
    "start_time": "2021-06-30T13:34:50.165Z"
   },
   {
    "duration": 262,
    "start_time": "2021-06-30T13:34:50.541Z"
   },
   {
    "duration": 44,
    "start_time": "2021-06-30T13:34:50.805Z"
   },
   {
    "duration": 101,
    "start_time": "2021-06-30T13:34:50.852Z"
   },
   {
    "duration": 131,
    "start_time": "2021-06-30T13:34:50.955Z"
   },
   {
    "duration": 3,
    "start_time": "2021-06-30T13:34:51.088Z"
   },
   {
    "duration": 82,
    "start_time": "2021-06-30T13:34:51.093Z"
   },
   {
    "duration": 77,
    "start_time": "2021-06-30T13:34:51.177Z"
   },
   {
    "duration": 75,
    "start_time": "2021-06-30T13:34:51.256Z"
   },
   {
    "duration": 34,
    "start_time": "2021-06-30T13:34:51.336Z"
   },
   {
    "duration": 6,
    "start_time": "2021-06-30T13:34:51.373Z"
   },
   {
    "duration": 49,
    "start_time": "2021-06-30T13:34:51.381Z"
   },
   {
    "duration": 29,
    "start_time": "2021-06-30T13:34:51.433Z"
   },
   {
    "duration": 16,
    "start_time": "2021-06-30T13:34:51.464Z"
   },
   {
    "duration": 17,
    "start_time": "2021-06-30T13:34:51.482Z"
   },
   {
    "duration": 18,
    "start_time": "2021-06-30T13:34:51.524Z"
   },
   {
    "duration": 26,
    "start_time": "2021-06-30T13:34:51.545Z"
   },
   {
    "duration": 52,
    "start_time": "2021-06-30T13:34:51.573Z"
   },
   {
    "duration": 17,
    "start_time": "2021-06-30T13:34:55.441Z"
   },
   {
    "duration": 48,
    "start_time": "2021-06-30T13:34:57.536Z"
   },
   {
    "duration": 319,
    "start_time": "2021-06-30T13:35:07.312Z"
   },
   {
    "duration": 4195,
    "start_time": "2021-06-30T13:36:07.428Z"
   },
   {
    "duration": 320,
    "start_time": "2021-06-30T13:36:24.405Z"
   },
   {
    "duration": 321,
    "start_time": "2021-06-30T13:37:05.645Z"
   },
   {
    "duration": 332,
    "start_time": "2021-06-30T13:37:28.206Z"
   },
   {
    "duration": 327,
    "start_time": "2021-06-30T13:37:35.868Z"
   },
   {
    "duration": 338,
    "start_time": "2021-06-30T13:38:15.215Z"
   },
   {
    "duration": 10,
    "start_time": "2021-06-30T13:39:51.704Z"
   },
   {
    "duration": 13,
    "start_time": "2021-06-30T13:40:02.534Z"
   },
   {
    "duration": 16,
    "start_time": "2021-06-30T13:41:12.696Z"
   },
   {
    "duration": 15,
    "start_time": "2021-06-30T13:41:18.560Z"
   },
   {
    "duration": 331,
    "start_time": "2021-06-30T13:41:38.345Z"
   },
   {
    "duration": 11,
    "start_time": "2021-06-30T13:42:13.473Z"
   },
   {
    "duration": 34,
    "start_time": "2021-06-30T14:13:41.405Z"
   },
   {
    "duration": 44,
    "start_time": "2021-06-30T14:14:00.498Z"
   },
   {
    "duration": 55,
    "start_time": "2021-06-30T14:15:28.600Z"
   },
   {
    "duration": 25,
    "start_time": "2021-06-30T14:16:01.743Z"
   },
   {
    "duration": 35,
    "start_time": "2021-06-30T14:16:59.785Z"
   },
   {
    "duration": 43,
    "start_time": "2021-06-30T14:42:32.926Z"
   },
   {
    "duration": 35,
    "start_time": "2021-06-30T14:44:34.097Z"
   },
   {
    "duration": 38,
    "start_time": "2021-06-30T14:45:27.391Z"
   },
   {
    "duration": 100,
    "start_time": "2021-06-30T14:45:29.794Z"
   },
   {
    "duration": 48,
    "start_time": "2021-06-30T14:45:47.257Z"
   },
   {
    "duration": 6,
    "start_time": "2021-06-30T14:51:04.352Z"
   },
   {
    "duration": 282,
    "start_time": "2021-06-30T14:51:18.058Z"
   },
   {
    "duration": 5,
    "start_time": "2021-06-30T14:51:48.346Z"
   },
   {
    "duration": 126,
    "start_time": "2021-06-30T14:52:17.122Z"
   },
   {
    "duration": 7,
    "start_time": "2021-06-30T14:52:23.953Z"
   },
   {
    "duration": 10,
    "start_time": "2021-06-30T14:59:49.899Z"
   },
   {
    "duration": 276,
    "start_time": "2021-06-30T15:01:32.173Z"
   },
   {
    "duration": 5,
    "start_time": "2021-06-30T15:01:40.508Z"
   },
   {
    "duration": 4,
    "start_time": "2021-06-30T15:01:50.213Z"
   },
   {
    "duration": 311,
    "start_time": "2021-06-30T15:05:55.641Z"
   },
   {
    "duration": 11,
    "start_time": "2021-06-30T15:06:32.501Z"
   },
   {
    "duration": 283,
    "start_time": "2021-06-30T15:06:57.394Z"
   },
   {
    "duration": 10,
    "start_time": "2021-06-30T15:07:03.147Z"
   },
   {
    "duration": 7210,
    "start_time": "2021-06-30T15:19:19.273Z"
   },
   {
    "duration": 8143,
    "start_time": "2021-06-30T15:19:38.426Z"
   },
   {
    "duration": 8576,
    "start_time": "2021-06-30T15:19:57.444Z"
   },
   {
    "duration": 7288,
    "start_time": "2021-06-30T15:20:39.508Z"
   },
   {
    "duration": 11,
    "start_time": "2021-06-30T15:22:05.916Z"
   },
   {
    "duration": 399,
    "start_time": "2021-06-30T15:24:50.631Z"
   },
   {
    "duration": 14,
    "start_time": "2021-06-30T15:25:29.912Z"
   },
   {
    "duration": 16,
    "start_time": "2021-06-30T15:25:30.751Z"
   },
   {
    "duration": 72,
    "start_time": "2021-06-30T15:31:42.248Z"
   },
   {
    "duration": 50,
    "start_time": "2021-06-30T15:32:50.162Z"
   },
   {
    "duration": 410,
    "start_time": "2021-06-30T15:48:45.364Z"
   },
   {
    "duration": 372,
    "start_time": "2021-06-30T15:49:52.280Z"
   },
   {
    "duration": 358,
    "start_time": "2021-06-30T15:50:07.860Z"
   },
   {
    "duration": 9,
    "start_time": "2021-06-30T15:55:33.003Z"
   },
   {
    "duration": 346,
    "start_time": "2021-06-30T16:10:47.093Z"
   },
   {
    "duration": 435,
    "start_time": "2021-06-30T16:11:11.549Z"
   },
   {
    "duration": 612,
    "start_time": "2021-06-30T16:11:57.486Z"
   },
   {
    "duration": 111,
    "start_time": "2021-06-30T16:12:57.279Z"
   },
   {
    "duration": 18,
    "start_time": "2021-06-30T16:13:02.743Z"
   },
   {
    "duration": 337,
    "start_time": "2021-06-30T16:13:34.928Z"
   },
   {
    "duration": 330,
    "start_time": "2021-06-30T16:14:38.513Z"
   },
   {
    "duration": 17,
    "start_time": "2021-06-30T16:15:39.209Z"
   },
   {
    "duration": 571,
    "start_time": "2021-06-30T16:16:51.931Z"
   },
   {
    "duration": 48,
    "start_time": "2021-06-30T16:35:41.627Z"
   },
   {
    "duration": 515,
    "start_time": "2021-06-30T16:36:46.484Z"
   },
   {
    "duration": 354,
    "start_time": "2021-06-30T16:38:02.444Z"
   },
   {
    "duration": 298,
    "start_time": "2021-06-30T16:38:11.999Z"
   },
   {
    "duration": 13,
    "start_time": "2021-06-30T16:40:15.928Z"
   },
   {
    "duration": 9,
    "start_time": "2021-06-30T17:10:38.907Z"
   },
   {
    "duration": 9,
    "start_time": "2021-06-30T17:10:53.594Z"
   },
   {
    "duration": 339,
    "start_time": "2021-06-30T17:17:17.557Z"
   },
   {
    "duration": 9,
    "start_time": "2021-06-30T17:17:33.611Z"
   },
   {
    "duration": 7,
    "start_time": "2021-06-30T17:17:46.220Z"
   },
   {
    "duration": 14,
    "start_time": "2021-06-30T17:24:15.642Z"
   },
   {
    "duration": 14,
    "start_time": "2021-06-30T17:25:28.772Z"
   },
   {
    "duration": 20,
    "start_time": "2021-06-30T17:26:11.516Z"
   },
   {
    "duration": 14,
    "start_time": "2021-06-30T17:27:43.134Z"
   },
   {
    "duration": 15,
    "start_time": "2021-06-30T17:30:46.097Z"
   },
   {
    "duration": 9,
    "start_time": "2021-06-30T17:34:37.879Z"
   },
   {
    "duration": 15,
    "start_time": "2021-06-30T17:35:08.615Z"
   },
   {
    "duration": 14,
    "start_time": "2021-06-30T17:35:44.496Z"
   },
   {
    "duration": 549,
    "start_time": "2021-06-30T17:38:14.130Z"
   },
   {
    "duration": 295,
    "start_time": "2021-06-30T17:47:26.566Z"
   },
   {
    "duration": 283,
    "start_time": "2021-06-30T17:47:39.865Z"
   },
   {
    "duration": 1025,
    "start_time": "2021-06-30T17:48:30.758Z"
   },
   {
    "duration": 498,
    "start_time": "2021-06-30T17:49:06.673Z"
   },
   {
    "duration": 631,
    "start_time": "2021-06-30T17:49:34.912Z"
   },
   {
    "duration": 309,
    "start_time": "2021-06-30T17:56:06.545Z"
   },
   {
    "duration": 537,
    "start_time": "2021-06-30T17:56:16.472Z"
   },
   {
    "duration": 390,
    "start_time": "2021-06-30T17:57:27.426Z"
   },
   {
    "duration": 365,
    "start_time": "2021-06-30T17:58:08.858Z"
   },
   {
    "duration": 516,
    "start_time": "2021-06-30T17:58:36.115Z"
   },
   {
    "duration": 433,
    "start_time": "2021-06-30T17:59:03.035Z"
   },
   {
    "duration": 706,
    "start_time": "2021-06-30T17:59:12.732Z"
   },
   {
    "duration": 603,
    "start_time": "2021-06-30T18:09:00.163Z"
   },
   {
    "duration": 326,
    "start_time": "2021-06-30T18:09:06.575Z"
   },
   {
    "duration": 646,
    "start_time": "2021-06-30T18:15:07.250Z"
   },
   {
    "duration": 664,
    "start_time": "2021-06-30T18:15:43.964Z"
   },
   {
    "duration": 13,
    "start_time": "2021-06-30T18:19:33.756Z"
   },
   {
    "duration": 19,
    "start_time": "2021-06-30T18:20:42.785Z"
   },
   {
    "duration": 13,
    "start_time": "2021-06-30T18:20:59.981Z"
   },
   {
    "duration": 7523,
    "start_time": "2021-06-30T18:22:18.351Z"
   },
   {
    "duration": 11,
    "start_time": "2021-06-30T18:23:07.281Z"
   },
   {
    "duration": 20,
    "start_time": "2021-06-30T18:23:26.504Z"
   },
   {
    "duration": 18,
    "start_time": "2021-06-30T18:23:41.065Z"
   },
   {
    "duration": 12,
    "start_time": "2021-06-30T18:25:19.714Z"
   },
   {
    "duration": 1410,
    "start_time": "2021-07-01T07:17:12.432Z"
   },
   {
    "duration": 271,
    "start_time": "2021-07-01T07:17:13.845Z"
   },
   {
    "duration": 215,
    "start_time": "2021-07-01T07:17:14.119Z"
   },
   {
    "duration": 160,
    "start_time": "2021-07-01T07:17:14.337Z"
   },
   {
    "duration": 32,
    "start_time": "2021-07-01T07:17:14.499Z"
   },
   {
    "duration": 87,
    "start_time": "2021-07-01T07:17:14.533Z"
   },
   {
    "duration": 20,
    "start_time": "2021-07-01T07:17:14.623Z"
   },
   {
    "duration": 6,
    "start_time": "2021-07-01T07:17:14.648Z"
   },
   {
    "duration": 58,
    "start_time": "2021-07-01T07:17:14.657Z"
   },
   {
    "duration": 74,
    "start_time": "2021-07-01T07:17:14.717Z"
   },
   {
    "duration": 294,
    "start_time": "2021-07-01T07:17:14.793Z"
   },
   {
    "duration": 37,
    "start_time": "2021-07-01T07:17:15.089Z"
   },
   {
    "duration": 62,
    "start_time": "2021-07-01T07:17:15.128Z"
   },
   {
    "duration": 376,
    "start_time": "2021-07-01T07:17:15.192Z"
   },
   {
    "duration": 271,
    "start_time": "2021-07-01T07:17:15.573Z"
   },
   {
    "duration": 53,
    "start_time": "2021-07-01T07:17:15.847Z"
   },
   {
    "duration": 84,
    "start_time": "2021-07-01T07:17:15.903Z"
   },
   {
    "duration": 164,
    "start_time": "2021-07-01T07:17:15.990Z"
   },
   {
    "duration": 10,
    "start_time": "2021-07-01T07:17:16.157Z"
   },
   {
    "duration": 62,
    "start_time": "2021-07-01T07:17:16.170Z"
   },
   {
    "duration": 85,
    "start_time": "2021-07-01T07:17:16.235Z"
   },
   {
    "duration": 72,
    "start_time": "2021-07-01T07:17:16.322Z"
   },
   {
    "duration": 34,
    "start_time": "2021-07-01T07:17:16.399Z"
   },
   {
    "duration": 6,
    "start_time": "2021-07-01T07:17:16.435Z"
   },
   {
    "duration": 12,
    "start_time": "2021-07-01T07:17:16.474Z"
   },
   {
    "duration": 30,
    "start_time": "2021-07-01T07:17:16.489Z"
   },
   {
    "duration": 9,
    "start_time": "2021-07-01T07:17:16.521Z"
   },
   {
    "duration": 37,
    "start_time": "2021-07-01T07:17:16.533Z"
   },
   {
    "duration": 25,
    "start_time": "2021-07-01T07:17:16.574Z"
   },
   {
    "duration": 33,
    "start_time": "2021-07-01T07:17:16.601Z"
   },
   {
    "duration": 41,
    "start_time": "2021-07-01T07:17:16.637Z"
   },
   {
    "duration": 25,
    "start_time": "2021-07-01T07:17:16.681Z"
   },
   {
    "duration": 87,
    "start_time": "2021-07-01T07:17:16.709Z"
   },
   {
    "duration": 574,
    "start_time": "2021-07-01T07:17:16.799Z"
   },
   {
    "duration": 19,
    "start_time": "2021-07-01T07:17:17.376Z"
   },
   {
    "duration": 4,
    "start_time": "2021-07-01T07:17:17.398Z"
   },
   {
    "duration": 15,
    "start_time": "2021-07-01T07:17:17.405Z"
   },
   {
    "duration": 94,
    "start_time": "2021-07-01T07:17:17.423Z"
   },
   {
    "duration": 22,
    "start_time": "2021-07-01T07:17:55.883Z"
   },
   {
    "duration": 23,
    "start_time": "2021-07-01T07:18:15.315Z"
   },
   {
    "duration": 24,
    "start_time": "2021-07-01T07:31:04.395Z"
   },
   {
    "duration": 22,
    "start_time": "2021-07-01T07:33:42.047Z"
   },
   {
    "duration": 352,
    "start_time": "2021-07-01T07:36:24.601Z"
   },
   {
    "duration": 411,
    "start_time": "2021-07-01T07:36:46.568Z"
   },
   {
    "duration": 436,
    "start_time": "2021-07-01T07:37:01.258Z"
   },
   {
    "duration": 12,
    "start_time": "2021-07-01T07:47:22.407Z"
   },
   {
    "duration": 19,
    "start_time": "2021-07-01T07:49:05.428Z"
   },
   {
    "duration": 19,
    "start_time": "2021-07-01T07:50:37.307Z"
   },
   {
    "duration": 19,
    "start_time": "2021-07-01T07:51:43.371Z"
   },
   {
    "duration": 18,
    "start_time": "2021-07-01T07:52:04.029Z"
   },
   {
    "duration": 320,
    "start_time": "2021-07-01T07:52:25.532Z"
   },
   {
    "duration": 659,
    "start_time": "2021-07-01T07:52:51.603Z"
   },
   {
    "duration": 22,
    "start_time": "2021-07-01T07:56:05.137Z"
   },
   {
    "duration": 22,
    "start_time": "2021-07-01T07:56:22.001Z"
   },
   {
    "duration": 21,
    "start_time": "2021-07-01T08:07:22.228Z"
   },
   {
    "duration": 22,
    "start_time": "2021-07-01T08:07:48.146Z"
   },
   {
    "duration": 21,
    "start_time": "2021-07-01T08:08:39.952Z"
   },
   {
    "duration": 458,
    "start_time": "2021-07-01T08:09:20.392Z"
   },
   {
    "duration": 19,
    "start_time": "2021-07-01T08:18:18.628Z"
   },
   {
    "duration": 20,
    "start_time": "2021-07-01T08:22:19.912Z"
   },
   {
    "duration": 20,
    "start_time": "2021-07-01T08:28:29.472Z"
   },
   {
    "duration": 408,
    "start_time": "2021-07-01T08:32:59.002Z"
   },
   {
    "duration": 21,
    "start_time": "2021-07-01T08:38:50.745Z"
   },
   {
    "duration": 20,
    "start_time": "2021-07-01T08:40:58.552Z"
   },
   {
    "duration": 22,
    "start_time": "2021-07-01T08:47:30.440Z"
   },
   {
    "duration": 20,
    "start_time": "2021-07-01T08:57:01.829Z"
   },
   {
    "duration": 21,
    "start_time": "2021-07-01T09:07:04.586Z"
   },
   {
    "duration": 413,
    "start_time": "2021-07-01T09:09:24.479Z"
   },
   {
    "duration": 479,
    "start_time": "2021-07-01T09:12:32.220Z"
   },
   {
    "duration": 382,
    "start_time": "2021-07-01T09:12:45.068Z"
   },
   {
    "duration": 49,
    "start_time": "2021-07-01T09:24:01.067Z"
   },
   {
    "duration": 725,
    "start_time": "2021-07-01T09:42:43.872Z"
   },
   {
    "duration": 20,
    "start_time": "2021-07-01T14:01:12.232Z"
   },
   {
    "duration": 13,
    "start_time": "2021-07-01T14:03:22.533Z"
   },
   {
    "duration": 108,
    "start_time": "2021-07-01T14:09:29.231Z"
   },
   {
    "duration": 97,
    "start_time": "2021-07-01T14:10:23.611Z"
   },
   {
    "duration": 16,
    "start_time": "2021-07-01T14:26:28.499Z"
   },
   {
    "duration": 361,
    "start_time": "2021-07-01T14:27:12.227Z"
   },
   {
    "duration": 330,
    "start_time": "2021-07-01T14:28:12.757Z"
   },
   {
    "duration": 25,
    "start_time": "2021-07-01T14:28:42.103Z"
   },
   {
    "duration": 22,
    "start_time": "2021-07-01T14:28:53.486Z"
   },
   {
    "duration": 37,
    "start_time": "2021-07-01T14:28:59.478Z"
   },
   {
    "duration": 32,
    "start_time": "2021-07-01T14:29:11.256Z"
   },
   {
    "duration": 31,
    "start_time": "2021-07-01T14:29:18.775Z"
   },
   {
    "duration": 336,
    "start_time": "2021-07-01T14:30:09.752Z"
   },
   {
    "duration": 369,
    "start_time": "2021-07-01T14:31:39.660Z"
   },
   {
    "duration": 344,
    "start_time": "2021-07-01T14:32:03.035Z"
   },
   {
    "duration": 410,
    "start_time": "2021-07-01T14:32:17.348Z"
   },
   {
    "duration": 385,
    "start_time": "2021-07-01T14:33:23.939Z"
   },
   {
    "duration": 337,
    "start_time": "2021-07-01T14:34:16.744Z"
   },
   {
    "duration": 11,
    "start_time": "2021-07-01T14:34:42.418Z"
   },
   {
    "duration": 8,
    "start_time": "2021-07-01T14:36:49.464Z"
   },
   {
    "duration": 8,
    "start_time": "2021-07-01T14:36:56.608Z"
   },
   {
    "duration": 324,
    "start_time": "2021-07-01T14:37:09.423Z"
   },
   {
    "duration": 15,
    "start_time": "2021-07-01T14:47:35.445Z"
   },
   {
    "duration": 1425,
    "start_time": "2021-07-02T07:39:57.800Z"
   },
   {
    "duration": 258,
    "start_time": "2021-07-02T07:39:59.228Z"
   },
   {
    "duration": 206,
    "start_time": "2021-07-02T07:39:59.489Z"
   },
   {
    "duration": 140,
    "start_time": "2021-07-02T07:39:59.698Z"
   },
   {
    "duration": 35,
    "start_time": "2021-07-02T07:39:59.840Z"
   },
   {
    "duration": 54,
    "start_time": "2021-07-02T07:39:59.878Z"
   },
   {
    "duration": 19,
    "start_time": "2021-07-02T07:39:59.935Z"
   },
   {
    "duration": 5,
    "start_time": "2021-07-02T07:39:59.970Z"
   },
   {
    "duration": 57,
    "start_time": "2021-07-02T07:39:59.979Z"
   },
   {
    "duration": 85,
    "start_time": "2021-07-02T07:40:00.038Z"
   },
   {
    "duration": 303,
    "start_time": "2021-07-02T07:40:00.125Z"
   },
   {
    "duration": 55,
    "start_time": "2021-07-02T07:40:00.431Z"
   },
   {
    "duration": 53,
    "start_time": "2021-07-02T07:40:00.490Z"
   },
   {
    "duration": 561,
    "start_time": "2021-07-02T07:40:00.546Z"
   },
   {
    "duration": 365,
    "start_time": "2021-07-02T07:40:01.109Z"
   },
   {
    "duration": 40,
    "start_time": "2021-07-02T07:40:01.476Z"
   },
   {
    "duration": 97,
    "start_time": "2021-07-02T07:40:01.518Z"
   },
   {
    "duration": 161,
    "start_time": "2021-07-02T07:40:01.618Z"
   },
   {
    "duration": 4,
    "start_time": "2021-07-02T07:40:01.782Z"
   },
   {
    "duration": 97,
    "start_time": "2021-07-02T07:40:01.789Z"
   },
   {
    "duration": 81,
    "start_time": "2021-07-02T07:40:01.889Z"
   },
   {
    "duration": 62,
    "start_time": "2021-07-02T07:40:01.973Z"
   },
   {
    "duration": 73,
    "start_time": "2021-07-02T07:40:02.045Z"
   },
   {
    "duration": 8,
    "start_time": "2021-07-02T07:40:02.124Z"
   },
   {
    "duration": 50,
    "start_time": "2021-07-02T07:40:02.135Z"
   },
   {
    "duration": 85,
    "start_time": "2021-07-02T07:40:02.188Z"
   },
   {
    "duration": 15,
    "start_time": "2021-07-02T07:40:02.277Z"
   },
   {
    "duration": 26,
    "start_time": "2021-07-02T07:40:02.295Z"
   },
   {
    "duration": 34,
    "start_time": "2021-07-02T07:40:02.324Z"
   },
   {
    "duration": 41,
    "start_time": "2021-07-02T07:40:02.361Z"
   },
   {
    "duration": 18,
    "start_time": "2021-07-02T07:40:02.406Z"
   },
   {
    "duration": 59,
    "start_time": "2021-07-02T07:40:02.427Z"
   },
   {
    "duration": 68,
    "start_time": "2021-07-02T07:40:02.489Z"
   },
   {
    "duration": 338,
    "start_time": "2021-07-02T07:40:02.560Z"
   },
   {
    "duration": 12,
    "start_time": "2021-07-02T07:40:02.901Z"
   },
   {
    "duration": 17,
    "start_time": "2021-07-02T07:40:02.916Z"
   },
   {
    "duration": 44,
    "start_time": "2021-07-02T07:40:02.936Z"
   },
   {
    "duration": 87,
    "start_time": "2021-07-02T07:40:02.983Z"
   },
   {
    "duration": 22,
    "start_time": "2021-07-02T07:40:03.073Z"
   },
   {
    "duration": 27,
    "start_time": "2021-07-02T07:40:03.098Z"
   },
   {
    "duration": 49,
    "start_time": "2021-07-02T07:40:03.128Z"
   },
   {
    "duration": 29,
    "start_time": "2021-07-02T07:40:03.180Z"
   },
   {
    "duration": 426,
    "start_time": "2021-07-02T07:40:03.212Z"
   },
   {
    "duration": 27,
    "start_time": "2021-07-02T07:40:03.641Z"
   },
   {
    "duration": 46,
    "start_time": "2021-07-02T07:40:03.670Z"
   },
   {
    "duration": 36,
    "start_time": "2021-07-02T07:40:03.718Z"
   },
   {
    "duration": 426,
    "start_time": "2021-07-02T07:40:03.756Z"
   },
   {
    "duration": 19,
    "start_time": "2021-07-02T07:40:04.184Z"
   },
   {
    "duration": 41,
    "start_time": "2021-07-02T07:40:04.205Z"
   },
   {
    "duration": 27,
    "start_time": "2021-07-02T07:40:04.249Z"
   },
   {
    "duration": 523,
    "start_time": "2021-07-02T07:40:04.279Z"
   },
   {
    "duration": 20,
    "start_time": "2021-07-02T07:40:04.805Z"
   },
   {
    "duration": 46,
    "start_time": "2021-07-02T07:40:04.828Z"
   },
   {
    "duration": 34,
    "start_time": "2021-07-02T07:40:04.877Z"
   },
   {
    "duration": 7,
    "start_time": "2021-07-02T07:40:04.914Z"
   },
   {
    "duration": 429,
    "start_time": "2021-07-02T07:40:04.924Z"
   },
   {
    "duration": 754,
    "start_time": "2021-07-02T07:40:05.355Z"
   },
   {
    "duration": 3,
    "start_time": "2021-07-02T07:40:06.112Z"
   },
   {
    "duration": 147,
    "start_time": "2021-07-02T07:40:06.117Z"
   },
   {
    "duration": 395,
    "start_time": "2021-07-02T07:40:06.268Z"
   },
   {
    "duration": 14,
    "start_time": "2021-07-02T07:40:06.667Z"
   },
   {
    "duration": 338,
    "start_time": "2021-07-02T07:40:06.683Z"
   },
   {
    "duration": 15,
    "start_time": "2021-07-02T07:40:07.023Z"
   },
   {
    "duration": 364,
    "start_time": "2021-07-02T07:40:07.041Z"
   },
   {
    "duration": 14,
    "start_time": "2021-07-02T07:40:07.407Z"
   },
   {
    "duration": 329,
    "start_time": "2021-07-02T07:40:07.424Z"
   },
   {
    "duration": 51,
    "start_time": "2021-07-02T07:40:07.755Z"
   },
   {
    "duration": 8,
    "start_time": "2021-07-02T07:40:07.812Z"
   },
   {
    "duration": 16,
    "start_time": "2021-07-02T07:40:07.822Z"
   },
   {
    "duration": 36,
    "start_time": "2021-07-02T07:40:07.840Z"
   },
   {
    "duration": 26,
    "start_time": "2021-07-02T07:40:07.878Z"
   },
   {
    "duration": 16,
    "start_time": "2021-07-02T07:40:07.906Z"
   },
   {
    "duration": 598,
    "start_time": "2021-07-02T07:45:24.526Z"
   },
   {
    "duration": 17,
    "start_time": "2021-07-02T07:46:50.180Z"
   },
   {
    "duration": 121,
    "start_time": "2021-07-02T07:47:28.187Z"
   },
   {
    "duration": 372,
    "start_time": "2021-07-02T07:47:47.378Z"
   },
   {
    "duration": 29,
    "start_time": "2021-07-02T07:47:58.852Z"
   },
   {
    "duration": 507,
    "start_time": "2021-07-02T07:50:22.420Z"
   },
   {
    "duration": 318,
    "start_time": "2021-07-02T07:51:34.184Z"
   },
   {
    "duration": 364,
    "start_time": "2021-07-02T07:51:51.691Z"
   },
   {
    "duration": 461,
    "start_time": "2021-07-02T07:52:10.904Z"
   },
   {
    "duration": 345,
    "start_time": "2021-07-02T07:52:22.566Z"
   },
   {
    "duration": 359,
    "start_time": "2021-07-02T07:52:42.308Z"
   },
   {
    "duration": 23,
    "start_time": "2021-07-02T07:52:55.547Z"
   },
   {
    "duration": 66,
    "start_time": "2021-07-02T07:53:02.578Z"
   },
   {
    "duration": 9,
    "start_time": "2021-07-02T07:53:28.712Z"
   },
   {
    "duration": 9,
    "start_time": "2021-07-02T07:54:41.652Z"
   },
   {
    "duration": 49,
    "start_time": "2021-07-02T07:56:55.717Z"
   },
   {
    "duration": 8042,
    "start_time": "2021-07-02T07:58:19.096Z"
   },
   {
    "duration": 16,
    "start_time": "2021-07-02T07:58:49.066Z"
   },
   {
    "duration": 8,
    "start_time": "2021-07-02T08:03:22.935Z"
   },
   {
    "duration": 10,
    "start_time": "2021-07-02T08:03:34.880Z"
   },
   {
    "duration": 9,
    "start_time": "2021-07-02T08:03:57.231Z"
   },
   {
    "duration": 5,
    "start_time": "2021-07-02T09:12:20.013Z"
   },
   {
    "duration": 7,
    "start_time": "2021-07-02T09:13:46.360Z"
   },
   {
    "duration": 1500,
    "start_time": "2021-07-02T09:19:28.954Z"
   },
   {
    "duration": 275,
    "start_time": "2021-07-02T09:19:30.456Z"
   },
   {
    "duration": 242,
    "start_time": "2021-07-02T09:19:30.734Z"
   },
   {
    "duration": 146,
    "start_time": "2021-07-02T09:19:30.980Z"
   },
   {
    "duration": 44,
    "start_time": "2021-07-02T09:19:31.128Z"
   },
   {
    "duration": 44,
    "start_time": "2021-07-02T09:19:31.174Z"
   },
   {
    "duration": 7,
    "start_time": "2021-07-02T09:19:31.220Z"
   },
   {
    "duration": 53,
    "start_time": "2021-07-02T09:19:34.614Z"
   },
   {
    "duration": 21,
    "start_time": "2021-07-02T09:20:06.303Z"
   },
   {
    "duration": 13,
    "start_time": "2021-07-02T09:20:43.324Z"
   },
   {
    "duration": 30,
    "start_time": "2021-07-02T09:20:45.657Z"
   },
   {
    "duration": 55,
    "start_time": "2021-07-02T09:24:46.013Z"
   },
   {
    "duration": 353,
    "start_time": "2021-07-02T09:27:32.642Z"
   },
   {
    "duration": 286,
    "start_time": "2021-07-02T09:28:10.019Z"
   },
   {
    "duration": 32,
    "start_time": "2021-07-02T09:28:48.042Z"
   },
   {
    "duration": 43,
    "start_time": "2021-07-02T09:33:44.698Z"
   },
   {
    "duration": 372,
    "start_time": "2021-07-02T09:36:50.147Z"
   },
   {
    "duration": 255,
    "start_time": "2021-07-02T09:37:55.397Z"
   },
   {
    "duration": 48,
    "start_time": "2021-07-02T09:38:08.238Z"
   },
   {
    "duration": 58,
    "start_time": "2021-07-02T09:38:35.596Z"
   },
   {
    "duration": 22,
    "start_time": "2021-07-02T09:41:59.225Z"
   },
   {
    "duration": 75,
    "start_time": "2021-07-02T09:45:29.789Z"
   },
   {
    "duration": 122,
    "start_time": "2021-07-02T09:51:03.044Z"
   },
   {
    "duration": 92,
    "start_time": "2021-07-02T10:52:13.211Z"
   },
   {
    "duration": 90,
    "start_time": "2021-07-02T10:53:07.262Z"
   },
   {
    "duration": 5,
    "start_time": "2021-07-02T10:54:21.278Z"
   },
   {
    "duration": 11,
    "start_time": "2021-07-02T10:54:52.551Z"
   },
   {
    "duration": 22,
    "start_time": "2021-07-02T10:55:47.279Z"
   },
   {
    "duration": 9,
    "start_time": "2021-07-02T10:56:32.439Z"
   },
   {
    "duration": 11,
    "start_time": "2021-07-02T10:56:59.338Z"
   },
   {
    "duration": 25,
    "start_time": "2021-07-02T10:57:17.208Z"
   },
   {
    "duration": 34,
    "start_time": "2021-07-02T11:04:46.962Z"
   },
   {
    "duration": 14,
    "start_time": "2021-07-02T11:05:22.938Z"
   },
   {
    "duration": 16,
    "start_time": "2021-07-02T11:05:39.453Z"
   },
   {
    "duration": 41,
    "start_time": "2021-07-02T11:06:00.782Z"
   },
   {
    "duration": 535,
    "start_time": "2021-07-02T11:33:00.754Z"
   },
   {
    "duration": 363,
    "start_time": "2021-07-02T11:33:37.954Z"
   },
   {
    "duration": 330,
    "start_time": "2021-07-02T11:35:19.757Z"
   },
   {
    "duration": 15,
    "start_time": "2021-07-02T11:35:23.786Z"
   },
   {
    "duration": 13,
    "start_time": "2021-07-02T11:35:42.493Z"
   },
   {
    "duration": 8073,
    "start_time": "2021-07-02T11:36:50.075Z"
   },
   {
    "duration": 14,
    "start_time": "2021-07-02T11:37:35.779Z"
   },
   {
    "duration": 15,
    "start_time": "2021-07-02T11:40:23.089Z"
   },
   {
    "duration": 55,
    "start_time": "2021-07-02T11:41:56.845Z"
   },
   {
    "duration": 21,
    "start_time": "2021-07-02T11:51:50.721Z"
   },
   {
    "duration": 31,
    "start_time": "2021-07-02T11:54:01.309Z"
   },
   {
    "duration": 26,
    "start_time": "2021-07-02T11:54:34.628Z"
   },
   {
    "duration": 439,
    "start_time": "2021-07-02T11:55:34.810Z"
   },
   {
    "duration": 22,
    "start_time": "2021-07-02T11:58:02.111Z"
   },
   {
    "duration": 20,
    "start_time": "2021-07-02T11:59:10.336Z"
   },
   {
    "duration": 23,
    "start_time": "2021-07-02T12:02:17.900Z"
   },
   {
    "duration": 518,
    "start_time": "2021-07-02T12:02:25.334Z"
   },
   {
    "duration": 20,
    "start_time": "2021-07-02T12:02:30.891Z"
   },
   {
    "duration": 20,
    "start_time": "2021-07-02T12:04:33.496Z"
   },
   {
    "duration": 22,
    "start_time": "2021-07-02T12:04:45.862Z"
   },
   {
    "duration": 563,
    "start_time": "2021-07-02T12:06:53.107Z"
   },
   {
    "duration": 25,
    "start_time": "2021-07-02T12:07:26.934Z"
   },
   {
    "duration": 24,
    "start_time": "2021-07-02T12:13:55.568Z"
   },
   {
    "duration": 24,
    "start_time": "2021-07-02T12:14:15.848Z"
   },
   {
    "duration": 423,
    "start_time": "2021-07-02T12:15:10.236Z"
   },
   {
    "duration": 754,
    "start_time": "2021-07-02T12:15:20.923Z"
   },
   {
    "duration": 164,
    "start_time": "2021-07-02T12:20:55.928Z"
   },
   {
    "duration": 15,
    "start_time": "2021-07-02T12:39:53.519Z"
   },
   {
    "duration": 20,
    "start_time": "2021-07-02T12:40:46.868Z"
   },
   {
    "duration": 1409,
    "start_time": "2021-07-02T13:29:47.928Z"
   },
   {
    "duration": 290,
    "start_time": "2021-07-02T13:29:49.340Z"
   },
   {
    "duration": 226,
    "start_time": "2021-07-02T13:29:49.633Z"
   },
   {
    "duration": 158,
    "start_time": "2021-07-02T13:29:49.862Z"
   },
   {
    "duration": 43,
    "start_time": "2021-07-02T13:29:50.024Z"
   },
   {
    "duration": 48,
    "start_time": "2021-07-02T13:29:50.070Z"
   },
   {
    "duration": 7,
    "start_time": "2021-07-02T13:29:50.121Z"
   },
   {
    "duration": 101,
    "start_time": "2021-07-02T13:29:50.134Z"
   },
   {
    "duration": 100,
    "start_time": "2021-07-02T13:29:50.239Z"
   },
   {
    "duration": 331,
    "start_time": "2021-07-02T13:29:50.342Z"
   },
   {
    "duration": 41,
    "start_time": "2021-07-02T13:29:50.677Z"
   },
   {
    "duration": 67,
    "start_time": "2021-07-02T13:29:50.721Z"
   },
   {
    "duration": 100,
    "start_time": "2021-07-02T13:29:50.792Z"
   },
   {
    "duration": 175,
    "start_time": "2021-07-02T13:29:50.895Z"
   },
   {
    "duration": 4,
    "start_time": "2021-07-02T13:29:51.073Z"
   },
   {
    "duration": 145,
    "start_time": "2021-07-02T13:29:51.080Z"
   },
   {
    "duration": 3,
    "start_time": "2021-07-02T13:29:51.228Z"
   },
   {
    "duration": 97,
    "start_time": "2021-07-02T13:29:51.234Z"
   },
   {
    "duration": 7,
    "start_time": "2021-07-02T13:29:51.333Z"
   },
   {
    "duration": 30,
    "start_time": "2021-07-02T13:29:51.343Z"
   },
   {
    "duration": 41,
    "start_time": "2021-07-02T13:29:51.376Z"
   },
   {
    "duration": 11,
    "start_time": "2021-07-02T13:29:51.420Z"
   },
   {
    "duration": 16,
    "start_time": "2021-07-02T13:29:51.437Z"
   },
   {
    "duration": 28,
    "start_time": "2021-07-02T13:29:51.469Z"
   },
   {
    "duration": 25,
    "start_time": "2021-07-02T13:29:51.500Z"
   },
   {
    "duration": 43,
    "start_time": "2021-07-02T13:29:51.528Z"
   },
   {
    "duration": 23,
    "start_time": "2021-07-02T13:29:51.573Z"
   },
   {
    "duration": 80,
    "start_time": "2021-07-02T13:29:51.599Z"
   },
   {
    "duration": 350,
    "start_time": "2021-07-02T13:29:51.682Z"
   },
   {
    "duration": 11,
    "start_time": "2021-07-02T13:29:52.034Z"
   },
   {
    "duration": 16,
    "start_time": "2021-07-02T13:29:52.067Z"
   },
   {
    "duration": 20,
    "start_time": "2021-07-02T13:29:52.086Z"
   },
   {
    "duration": 85,
    "start_time": "2021-07-02T13:29:52.109Z"
   },
   {
    "duration": 20,
    "start_time": "2021-07-02T13:29:52.197Z"
   },
   {
    "duration": 49,
    "start_time": "2021-07-02T13:29:52.219Z"
   },
   {
    "duration": 27,
    "start_time": "2021-07-02T13:29:52.271Z"
   },
   {
    "duration": 706,
    "start_time": "2021-07-02T13:29:52.301Z"
   },
   {
    "duration": 21,
    "start_time": "2021-07-02T13:29:53.010Z"
   },
   {
    "duration": 45,
    "start_time": "2021-07-02T13:29:53.033Z"
   },
   {
    "duration": 24,
    "start_time": "2021-07-02T13:29:53.081Z"
   },
   {
    "duration": 451,
    "start_time": "2021-07-02T13:29:53.107Z"
   },
   {
    "duration": 24,
    "start_time": "2021-07-02T13:29:53.560Z"
   },
   {
    "duration": 42,
    "start_time": "2021-07-02T13:29:53.587Z"
   },
   {
    "duration": 443,
    "start_time": "2021-07-02T13:29:53.631Z"
   },
   {
    "duration": 22,
    "start_time": "2021-07-02T13:29:54.078Z"
   },
   {
    "duration": 39,
    "start_time": "2021-07-02T13:29:54.102Z"
   },
   {
    "duration": 46,
    "start_time": "2021-07-02T13:29:54.145Z"
   },
   {
    "duration": 482,
    "start_time": "2021-07-02T13:29:54.194Z"
   },
   {
    "duration": 947,
    "start_time": "2021-07-02T13:29:54.678Z"
   },
   {
    "duration": 71,
    "start_time": "2021-07-02T13:29:55.627Z"
   },
   {
    "duration": 13,
    "start_time": "2021-07-02T13:29:55.701Z"
   },
   {
    "duration": 17,
    "start_time": "2021-07-02T13:29:55.717Z"
   },
   {
    "duration": 1401,
    "start_time": "2021-07-02T14:07:39.342Z"
   },
   {
    "duration": 273,
    "start_time": "2021-07-02T14:07:40.746Z"
   },
   {
    "duration": 223,
    "start_time": "2021-07-02T14:07:41.022Z"
   },
   {
    "duration": 152,
    "start_time": "2021-07-02T14:07:41.248Z"
   },
   {
    "duration": 32,
    "start_time": "2021-07-02T14:07:41.403Z"
   },
   {
    "duration": 56,
    "start_time": "2021-07-02T14:07:41.437Z"
   },
   {
    "duration": 7,
    "start_time": "2021-07-02T14:07:41.495Z"
   },
   {
    "duration": 70,
    "start_time": "2021-07-02T14:07:41.505Z"
   },
   {
    "duration": 56,
    "start_time": "2021-07-02T14:07:41.579Z"
   },
   {
    "duration": 323,
    "start_time": "2021-07-02T14:07:41.638Z"
   },
   {
    "duration": 42,
    "start_time": "2021-07-02T14:07:41.967Z"
   },
   {
    "duration": 62,
    "start_time": "2021-07-02T14:07:42.011Z"
   },
   {
    "duration": 72,
    "start_time": "2021-07-02T14:07:42.075Z"
   },
   {
    "duration": 125,
    "start_time": "2021-07-02T14:07:42.166Z"
   },
   {
    "duration": 3,
    "start_time": "2021-07-02T14:07:42.293Z"
   },
   {
    "duration": 118,
    "start_time": "2021-07-02T14:07:42.299Z"
   },
   {
    "duration": 3,
    "start_time": "2021-07-02T14:07:42.420Z"
   },
   {
    "duration": 86,
    "start_time": "2021-07-02T14:07:42.426Z"
   },
   {
    "duration": 6,
    "start_time": "2021-07-02T14:07:42.515Z"
   },
   {
    "duration": 13,
    "start_time": "2021-07-02T14:07:42.524Z"
   },
   {
    "duration": 45,
    "start_time": "2021-07-02T14:07:42.539Z"
   },
   {
    "duration": 10,
    "start_time": "2021-07-02T14:07:42.586Z"
   },
   {
    "duration": 12,
    "start_time": "2021-07-02T14:07:42.601Z"
   },
   {
    "duration": 60,
    "start_time": "2021-07-02T14:07:42.617Z"
   },
   {
    "duration": 27,
    "start_time": "2021-07-02T14:07:42.680Z"
   },
   {
    "duration": 11,
    "start_time": "2021-07-02T14:07:42.710Z"
   },
   {
    "duration": 54,
    "start_time": "2021-07-02T14:07:42.724Z"
   },
   {
    "duration": 41,
    "start_time": "2021-07-02T14:07:42.781Z"
   },
   {
    "duration": 369,
    "start_time": "2021-07-02T14:07:42.825Z"
   },
   {
    "duration": 12,
    "start_time": "2021-07-02T14:07:43.196Z"
   },
   {
    "duration": 12,
    "start_time": "2021-07-02T14:07:43.211Z"
   },
   {
    "duration": 54,
    "start_time": "2021-07-02T14:07:43.226Z"
   },
   {
    "duration": 55,
    "start_time": "2021-07-02T14:07:43.283Z"
   },
   {
    "duration": 49,
    "start_time": "2021-07-02T14:07:43.341Z"
   },
   {
    "duration": 22,
    "start_time": "2021-07-02T14:07:43.392Z"
   },
   {
    "duration": 50,
    "start_time": "2021-07-02T14:07:43.417Z"
   },
   {
    "duration": 472,
    "start_time": "2021-07-02T14:07:43.470Z"
   },
   {
    "duration": 36,
    "start_time": "2021-07-02T14:07:43.945Z"
   },
   {
    "duration": 23,
    "start_time": "2021-07-02T14:07:43.984Z"
   },
   {
    "duration": 20,
    "start_time": "2021-07-02T14:07:44.010Z"
   },
   {
    "duration": 463,
    "start_time": "2021-07-02T14:07:44.033Z"
   },
   {
    "duration": 19,
    "start_time": "2021-07-02T14:07:44.499Z"
   },
   {
    "duration": 46,
    "start_time": "2021-07-02T14:07:44.521Z"
   },
   {
    "duration": 454,
    "start_time": "2021-07-02T14:07:44.570Z"
   },
   {
    "duration": 22,
    "start_time": "2021-07-02T14:07:45.027Z"
   },
   {
    "duration": 23,
    "start_time": "2021-07-02T14:07:45.069Z"
   },
   {
    "duration": 22,
    "start_time": "2021-07-02T14:07:45.095Z"
   },
   {
    "duration": 492,
    "start_time": "2021-07-02T14:07:45.120Z"
   },
   {
    "duration": 800,
    "start_time": "2021-07-02T14:07:45.615Z"
   },
   {
    "duration": 71,
    "start_time": "2021-07-02T14:07:46.417Z"
   },
   {
    "duration": 14,
    "start_time": "2021-07-02T14:07:46.490Z"
   },
   {
    "duration": 19,
    "start_time": "2021-07-02T14:07:46.506Z"
   },
   {
    "duration": 1434,
    "start_time": "2021-07-02T14:39:56.027Z"
   },
   {
    "duration": 283,
    "start_time": "2021-07-02T14:39:57.464Z"
   },
   {
    "duration": 229,
    "start_time": "2021-07-02T14:39:57.750Z"
   },
   {
    "duration": 158,
    "start_time": "2021-07-02T14:39:57.983Z"
   },
   {
    "duration": 34,
    "start_time": "2021-07-02T14:39:58.144Z"
   },
   {
    "duration": 55,
    "start_time": "2021-07-02T14:39:58.182Z"
   },
   {
    "duration": 8,
    "start_time": "2021-07-02T14:39:58.240Z"
   },
   {
    "duration": 54,
    "start_time": "2021-07-02T14:39:58.266Z"
   },
   {
    "duration": 84,
    "start_time": "2021-07-02T14:39:58.323Z"
   },
   {
    "duration": 314,
    "start_time": "2021-07-02T14:39:58.409Z"
   },
   {
    "duration": 51,
    "start_time": "2021-07-02T14:39:58.725Z"
   },
   {
    "duration": 39,
    "start_time": "2021-07-02T14:39:58.779Z"
   },
   {
    "duration": 95,
    "start_time": "2021-07-02T14:39:58.820Z"
   },
   {
    "duration": 124,
    "start_time": "2021-07-02T14:39:58.918Z"
   },
   {
    "duration": 107,
    "start_time": "2021-07-02T14:39:59.044Z"
   },
   {
    "duration": 75,
    "start_time": "2021-07-02T14:39:59.153Z"
   },
   {
    "duration": 5,
    "start_time": "2021-07-02T14:39:59.231Z"
   },
   {
    "duration": 33,
    "start_time": "2021-07-02T14:39:59.238Z"
   },
   {
    "duration": 20,
    "start_time": "2021-07-02T14:39:59.273Z"
   },
   {
    "duration": 9,
    "start_time": "2021-07-02T14:39:59.296Z"
   },
   {
    "duration": 11,
    "start_time": "2021-07-02T14:39:59.308Z"
   },
   {
    "duration": 61,
    "start_time": "2021-07-02T14:39:59.321Z"
   },
   {
    "duration": 26,
    "start_time": "2021-07-02T14:39:59.388Z"
   },
   {
    "duration": 10,
    "start_time": "2021-07-02T14:39:59.417Z"
   },
   {
    "duration": 54,
    "start_time": "2021-07-02T14:39:59.429Z"
   },
   {
    "duration": 41,
    "start_time": "2021-07-02T14:39:59.486Z"
   },
   {
    "duration": 379,
    "start_time": "2021-07-02T14:39:59.529Z"
   },
   {
    "duration": 11,
    "start_time": "2021-07-02T14:39:59.910Z"
   },
   {
    "duration": 17,
    "start_time": "2021-07-02T14:39:59.923Z"
   },
   {
    "duration": 38,
    "start_time": "2021-07-02T14:39:59.942Z"
   },
   {
    "duration": 57,
    "start_time": "2021-07-02T14:39:59.983Z"
   },
   {
    "duration": 45,
    "start_time": "2021-07-02T14:40:00.042Z"
   },
   {
    "duration": 33,
    "start_time": "2021-07-02T14:40:00.090Z"
   },
   {
    "duration": 44,
    "start_time": "2021-07-02T14:40:00.125Z"
   },
   {
    "duration": 462,
    "start_time": "2021-07-02T14:40:00.172Z"
   },
   {
    "duration": 39,
    "start_time": "2021-07-02T14:40:00.638Z"
   },
   {
    "duration": 52,
    "start_time": "2021-07-02T14:40:00.680Z"
   },
   {
    "duration": 69,
    "start_time": "2021-07-02T14:40:00.735Z"
   },
   {
    "duration": 466,
    "start_time": "2021-07-02T14:40:00.806Z"
   },
   {
    "duration": 21,
    "start_time": "2021-07-02T14:40:01.275Z"
   },
   {
    "duration": 31,
    "start_time": "2021-07-02T14:40:01.298Z"
   },
   {
    "duration": 461,
    "start_time": "2021-07-02T14:40:01.332Z"
   },
   {
    "duration": 20,
    "start_time": "2021-07-02T14:40:01.796Z"
   },
   {
    "duration": 48,
    "start_time": "2021-07-02T14:40:01.819Z"
   },
   {
    "duration": 63,
    "start_time": "2021-07-02T14:40:01.871Z"
   },
   {
    "duration": 440,
    "start_time": "2021-07-02T14:40:01.936Z"
   },
   {
    "duration": 793,
    "start_time": "2021-07-02T14:40:02.380Z"
   },
   {
    "duration": 48,
    "start_time": "2021-07-02T14:40:03.176Z"
   },
   {
    "duration": 46,
    "start_time": "2021-07-02T14:40:03.227Z"
   },
   {
    "duration": 16,
    "start_time": "2021-07-02T14:40:03.276Z"
   },
   {
    "duration": 1453,
    "start_time": "2021-07-03T05:51:23.709Z"
   },
   {
    "duration": 259,
    "start_time": "2021-07-03T05:51:25.164Z"
   },
   {
    "duration": 215,
    "start_time": "2021-07-03T05:51:25.426Z"
   },
   {
    "duration": 147,
    "start_time": "2021-07-03T05:51:25.644Z"
   },
   {
    "duration": 29,
    "start_time": "2021-07-03T05:51:25.794Z"
   },
   {
    "duration": 45,
    "start_time": "2021-07-03T05:51:25.825Z"
   },
   {
    "duration": 7,
    "start_time": "2021-07-03T05:51:25.872Z"
   },
   {
    "duration": 68,
    "start_time": "2021-07-03T05:51:25.883Z"
   },
   {
    "duration": 65,
    "start_time": "2021-07-03T05:51:25.954Z"
   },
   {
    "duration": 303,
    "start_time": "2021-07-03T05:51:26.022Z"
   },
   {
    "duration": 38,
    "start_time": "2021-07-03T05:51:26.327Z"
   },
   {
    "duration": 59,
    "start_time": "2021-07-03T05:51:26.367Z"
   },
   {
    "duration": 80,
    "start_time": "2021-07-03T05:51:26.428Z"
   },
   {
    "duration": 118,
    "start_time": "2021-07-03T05:51:26.511Z"
   },
   {
    "duration": 103,
    "start_time": "2021-07-03T05:51:26.632Z"
   },
   {
    "duration": 78,
    "start_time": "2021-07-03T05:51:26.737Z"
   },
   {
    "duration": 6,
    "start_time": "2021-07-03T05:51:26.818Z"
   },
   {
    "duration": 14,
    "start_time": "2021-07-03T05:51:26.826Z"
   },
   {
    "duration": 23,
    "start_time": "2021-07-03T05:51:26.843Z"
   },
   {
    "duration": 40,
    "start_time": "2021-07-03T05:51:26.868Z"
   },
   {
    "duration": 11,
    "start_time": "2021-07-03T05:51:26.911Z"
   },
   {
    "duration": 23,
    "start_time": "2021-07-03T05:51:26.925Z"
   },
   {
    "duration": 28,
    "start_time": "2021-07-03T05:51:26.953Z"
   },
   {
    "duration": 12,
    "start_time": "2021-07-03T05:51:27.008Z"
   },
   {
    "duration": 15,
    "start_time": "2021-07-03T05:51:27.023Z"
   },
   {
    "duration": 71,
    "start_time": "2021-07-03T05:51:27.041Z"
   },
   {
    "duration": 347,
    "start_time": "2021-07-03T05:51:27.115Z"
   },
   {
    "duration": 12,
    "start_time": "2021-07-03T05:51:27.465Z"
   },
   {
    "duration": 34,
    "start_time": "2021-07-03T05:51:27.479Z"
   },
   {
    "duration": 12,
    "start_time": "2021-07-03T05:51:27.515Z"
   },
   {
    "duration": 80,
    "start_time": "2021-07-03T05:51:27.530Z"
   },
   {
    "duration": 19,
    "start_time": "2021-07-03T05:51:27.613Z"
   },
   {
    "duration": 21,
    "start_time": "2021-07-03T05:51:27.635Z"
   },
   {
    "duration": 54,
    "start_time": "2021-07-03T05:51:27.658Z"
   },
   {
    "duration": 439,
    "start_time": "2021-07-03T05:51:27.715Z"
   },
   {
    "duration": 20,
    "start_time": "2021-07-03T05:51:28.156Z"
   },
   {
    "duration": 41,
    "start_time": "2021-07-03T05:51:28.179Z"
   },
   {
    "duration": 20,
    "start_time": "2021-07-03T05:51:28.222Z"
   },
   {
    "duration": 438,
    "start_time": "2021-07-03T05:51:28.245Z"
   },
   {
    "duration": 26,
    "start_time": "2021-07-03T05:51:28.686Z"
   },
   {
    "duration": 19,
    "start_time": "2021-07-03T05:51:28.715Z"
   },
   {
    "duration": 433,
    "start_time": "2021-07-03T05:51:28.736Z"
   },
   {
    "duration": 19,
    "start_time": "2021-07-03T05:51:29.171Z"
   },
   {
    "duration": 19,
    "start_time": "2021-07-03T05:51:29.209Z"
   },
   {
    "duration": 24,
    "start_time": "2021-07-03T05:51:29.231Z"
   },
   {
    "duration": 442,
    "start_time": "2021-07-03T05:51:29.258Z"
   },
   {
    "duration": 743,
    "start_time": "2021-07-03T05:51:29.710Z"
   },
   {
    "duration": 62,
    "start_time": "2021-07-03T05:51:30.456Z"
   },
   {
    "duration": 13,
    "start_time": "2021-07-03T05:51:30.520Z"
   },
   {
    "duration": 28,
    "start_time": "2021-07-03T05:51:30.536Z"
   },
   {
    "duration": 5,
    "start_time": "2021-07-03T05:52:07.796Z"
   },
   {
    "duration": 24,
    "start_time": "2021-07-03T06:06:30.705Z"
   },
   {
    "duration": 23,
    "start_time": "2021-07-03T06:08:15.390Z"
   },
   {
    "duration": 549,
    "start_time": "2021-07-03T06:10:18.404Z"
   },
   {
    "duration": 68,
    "start_time": "2021-07-03T06:10:23.345Z"
   },
   {
    "duration": 22,
    "start_time": "2021-07-03T06:10:34.638Z"
   },
   {
    "duration": 22,
    "start_time": "2021-07-03T06:22:38.816Z"
   },
   {
    "duration": 377,
    "start_time": "2021-07-03T06:22:54.268Z"
   },
   {
    "duration": 24,
    "start_time": "2021-07-03T06:23:03.237Z"
   },
   {
    "duration": 28,
    "start_time": "2021-07-03T06:23:15.947Z"
   },
   {
    "duration": 24,
    "start_time": "2021-07-03T06:23:29.653Z"
   },
   {
    "duration": 10,
    "start_time": "2021-07-03T06:27:11.595Z"
   },
   {
    "duration": 1487,
    "start_time": "2021-07-03T06:28:29.203Z"
   },
   {
    "duration": 272,
    "start_time": "2021-07-03T06:28:30.693Z"
   },
   {
    "duration": 226,
    "start_time": "2021-07-03T06:28:30.969Z"
   },
   {
    "duration": 161,
    "start_time": "2021-07-03T06:28:31.198Z"
   },
   {
    "duration": 33,
    "start_time": "2021-07-03T06:28:31.361Z"
   },
   {
    "duration": 46,
    "start_time": "2021-07-03T06:28:31.408Z"
   },
   {
    "duration": 8,
    "start_time": "2021-07-03T06:28:31.458Z"
   },
   {
    "duration": 75,
    "start_time": "2021-07-03T06:28:31.472Z"
   },
   {
    "duration": 78,
    "start_time": "2021-07-03T06:28:31.550Z"
   },
   {
    "duration": 301,
    "start_time": "2021-07-03T06:28:31.637Z"
   },
   {
    "duration": 39,
    "start_time": "2021-07-03T06:28:31.941Z"
   },
   {
    "duration": 60,
    "start_time": "2021-07-03T06:28:31.983Z"
   },
   {
    "duration": 88,
    "start_time": "2021-07-03T06:28:32.045Z"
   },
   {
    "duration": 125,
    "start_time": "2021-07-03T06:28:32.135Z"
   },
   {
    "duration": 114,
    "start_time": "2021-07-03T06:28:32.262Z"
   },
   {
    "duration": 80,
    "start_time": "2021-07-03T06:28:32.378Z"
   },
   {
    "duration": 6,
    "start_time": "2021-07-03T06:28:32.461Z"
   },
   {
    "duration": 20,
    "start_time": "2021-07-03T06:28:32.469Z"
   },
   {
    "duration": 31,
    "start_time": "2021-07-03T06:28:32.492Z"
   },
   {
    "duration": 9,
    "start_time": "2021-07-03T06:28:32.526Z"
   },
   {
    "duration": 12,
    "start_time": "2021-07-03T06:28:32.538Z"
   },
   {
    "duration": 58,
    "start_time": "2021-07-03T06:28:32.552Z"
   },
   {
    "duration": 26,
    "start_time": "2021-07-03T06:28:32.615Z"
   },
   {
    "duration": 11,
    "start_time": "2021-07-03T06:28:32.644Z"
   },
   {
    "duration": 17,
    "start_time": "2021-07-03T06:28:32.657Z"
   },
   {
    "duration": 70,
    "start_time": "2021-07-03T06:28:32.676Z"
   },
   {
    "duration": 341,
    "start_time": "2021-07-03T06:28:32.749Z"
   },
   {
    "duration": 12,
    "start_time": "2021-07-03T06:28:49.232Z"
   },
   {
    "duration": 1388,
    "start_time": "2021-07-03T06:28:59.994Z"
   },
   {
    "duration": 265,
    "start_time": "2021-07-03T06:29:01.385Z"
   },
   {
    "duration": 218,
    "start_time": "2021-07-03T06:29:01.653Z"
   },
   {
    "duration": 162,
    "start_time": "2021-07-03T06:29:01.875Z"
   },
   {
    "duration": 33,
    "start_time": "2021-07-03T06:29:02.040Z"
   },
   {
    "duration": 66,
    "start_time": "2021-07-03T06:29:02.076Z"
   },
   {
    "duration": 13,
    "start_time": "2021-07-03T06:29:02.145Z"
   },
   {
    "duration": 162,
    "start_time": "2021-07-03T06:29:02.161Z"
   },
   {
    "duration": 81,
    "start_time": "2021-07-03T06:29:02.328Z"
   },
   {
    "duration": 304,
    "start_time": "2021-07-03T06:29:02.411Z"
   },
   {
    "duration": 40,
    "start_time": "2021-07-03T06:29:02.717Z"
   },
   {
    "duration": 66,
    "start_time": "2021-07-03T06:29:02.759Z"
   },
   {
    "duration": 70,
    "start_time": "2021-07-03T06:29:02.827Z"
   },
   {
    "duration": 118,
    "start_time": "2021-07-03T06:29:02.909Z"
   },
   {
    "duration": 105,
    "start_time": "2021-07-03T06:29:03.029Z"
   },
   {
    "duration": 88,
    "start_time": "2021-07-03T06:29:03.136Z"
   },
   {
    "duration": 6,
    "start_time": "2021-07-03T06:29:03.226Z"
   },
   {
    "duration": 20,
    "start_time": "2021-07-03T06:29:03.234Z"
   },
   {
    "duration": 21,
    "start_time": "2021-07-03T06:29:03.256Z"
   },
   {
    "duration": 31,
    "start_time": "2021-07-03T06:29:03.279Z"
   },
   {
    "duration": 19,
    "start_time": "2021-07-03T06:29:03.314Z"
   },
   {
    "duration": 35,
    "start_time": "2021-07-03T06:29:03.336Z"
   },
   {
    "duration": 41,
    "start_time": "2021-07-03T06:29:03.378Z"
   },
   {
    "duration": 10,
    "start_time": "2021-07-03T06:29:03.422Z"
   },
   {
    "duration": 20,
    "start_time": "2021-07-03T06:29:03.435Z"
   },
   {
    "duration": 68,
    "start_time": "2021-07-03T06:29:03.457Z"
   },
   {
    "duration": 335,
    "start_time": "2021-07-03T06:29:03.527Z"
   },
   {
    "duration": 11,
    "start_time": "2021-07-03T06:29:03.865Z"
   },
   {
    "duration": 34,
    "start_time": "2021-07-03T06:29:03.878Z"
   },
   {
    "duration": 32,
    "start_time": "2021-07-03T06:29:03.915Z"
   },
   {
    "duration": 56,
    "start_time": "2021-07-03T06:29:03.950Z"
   },
   {
    "duration": 20,
    "start_time": "2021-07-03T06:29:04.008Z"
   },
   {
    "duration": 22,
    "start_time": "2021-07-03T06:29:04.030Z"
   },
   {
    "duration": 57,
    "start_time": "2021-07-03T06:29:04.054Z"
   },
   {
    "duration": 429,
    "start_time": "2021-07-03T06:29:04.113Z"
   },
   {
    "duration": 19,
    "start_time": "2021-07-03T06:29:04.545Z"
   },
   {
    "duration": 30,
    "start_time": "2021-07-03T06:29:04.566Z"
   },
   {
    "duration": 20,
    "start_time": "2021-07-03T06:29:04.609Z"
   },
   {
    "duration": 429,
    "start_time": "2021-07-03T06:29:04.631Z"
   },
   {
    "duration": 20,
    "start_time": "2021-07-03T06:29:05.062Z"
   },
   {
    "duration": 50,
    "start_time": "2021-07-03T06:29:05.085Z"
   },
   {
    "duration": 417,
    "start_time": "2021-07-03T06:29:05.137Z"
   },
   {
    "duration": 21,
    "start_time": "2021-07-03T06:29:05.556Z"
   },
   {
    "duration": 37,
    "start_time": "2021-07-03T06:29:05.580Z"
   },
   {
    "duration": 30,
    "start_time": "2021-07-03T06:29:05.619Z"
   },
   {
    "duration": 417,
    "start_time": "2021-07-03T06:29:05.652Z"
   },
   {
    "duration": 756,
    "start_time": "2021-07-03T06:29:06.071Z"
   },
   {
    "duration": 47,
    "start_time": "2021-07-03T06:29:06.830Z"
   },
   {
    "duration": 38,
    "start_time": "2021-07-03T06:29:06.880Z"
   },
   {
    "duration": 23,
    "start_time": "2021-07-03T06:29:06.920Z"
   },
   {
    "duration": 9,
    "start_time": "2021-07-03T06:41:11.365Z"
   },
   {
    "duration": 149,
    "start_time": "2021-07-03T06:41:21.090Z"
   },
   {
    "duration": 11,
    "start_time": "2021-07-03T06:41:23.572Z"
   },
   {
    "duration": 9,
    "start_time": "2021-07-03T06:41:57.077Z"
   },
   {
    "duration": 10,
    "start_time": "2021-07-03T06:42:01.275Z"
   },
   {
    "duration": 1358,
    "start_time": "2021-07-03T06:53:17.727Z"
   },
   {
    "duration": 264,
    "start_time": "2021-07-03T06:53:19.088Z"
   },
   {
    "duration": 210,
    "start_time": "2021-07-03T06:53:19.355Z"
   },
   {
    "duration": 148,
    "start_time": "2021-07-03T06:53:19.568Z"
   },
   {
    "duration": 31,
    "start_time": "2021-07-03T06:53:19.719Z"
   },
   {
    "duration": 43,
    "start_time": "2021-07-03T06:53:19.753Z"
   },
   {
    "duration": 7,
    "start_time": "2021-07-03T06:53:19.809Z"
   },
   {
    "duration": 49,
    "start_time": "2021-07-03T06:53:19.820Z"
   },
   {
    "duration": 8758,
    "start_time": "2021-07-03T06:53:19.873Z"
   },
   {
    "duration": 431,
    "start_time": "2021-07-03T06:53:28.204Z"
   },
   {
    "duration": 426,
    "start_time": "2021-07-03T06:53:28.211Z"
   },
   {
    "duration": 423,
    "start_time": "2021-07-03T06:53:28.215Z"
   },
   {
    "duration": 420,
    "start_time": "2021-07-03T06:53:28.220Z"
   },
   {
    "duration": 408,
    "start_time": "2021-07-03T06:53:28.233Z"
   },
   {
    "duration": 406,
    "start_time": "2021-07-03T06:53:28.237Z"
   },
   {
    "duration": 402,
    "start_time": "2021-07-03T06:53:28.242Z"
   },
   {
    "duration": 397,
    "start_time": "2021-07-03T06:53:28.249Z"
   },
   {
    "duration": 395,
    "start_time": "2021-07-03T06:53:28.253Z"
   },
   {
    "duration": 390,
    "start_time": "2021-07-03T06:53:28.259Z"
   },
   {
    "duration": 387,
    "start_time": "2021-07-03T06:53:28.264Z"
   },
   {
    "duration": 383,
    "start_time": "2021-07-03T06:53:28.269Z"
   },
   {
    "duration": 379,
    "start_time": "2021-07-03T06:53:28.274Z"
   },
   {
    "duration": 376,
    "start_time": "2021-07-03T06:53:28.279Z"
   },
   {
    "duration": 374,
    "start_time": "2021-07-03T06:53:28.283Z"
   },
   {
    "duration": 369,
    "start_time": "2021-07-03T06:53:28.289Z"
   },
   {
    "duration": 366,
    "start_time": "2021-07-03T06:53:28.293Z"
   },
   {
    "duration": 363,
    "start_time": "2021-07-03T06:53:28.298Z"
   },
   {
    "duration": 351,
    "start_time": "2021-07-03T06:53:28.311Z"
   },
   {
    "duration": 348,
    "start_time": "2021-07-03T06:53:28.315Z"
   },
   {
    "duration": 344,
    "start_time": "2021-07-03T06:53:28.320Z"
   },
   {
    "duration": 338,
    "start_time": "2021-07-03T06:53:28.327Z"
   },
   {
    "duration": 336,
    "start_time": "2021-07-03T06:53:28.331Z"
   },
   {
    "duration": 332,
    "start_time": "2021-07-03T06:53:28.336Z"
   },
   {
    "duration": 329,
    "start_time": "2021-07-03T06:53:28.340Z"
   },
   {
    "duration": 325,
    "start_time": "2021-07-03T06:53:28.345Z"
   },
   {
    "duration": 322,
    "start_time": "2021-07-03T06:53:28.350Z"
   },
   {
    "duration": 318,
    "start_time": "2021-07-03T06:53:28.355Z"
   },
   {
    "duration": 313,
    "start_time": "2021-07-03T06:53:28.361Z"
   },
   {
    "duration": 310,
    "start_time": "2021-07-03T06:53:28.365Z"
   },
   {
    "duration": 338,
    "start_time": "2021-07-03T06:53:28.370Z"
   },
   {
    "duration": 335,
    "start_time": "2021-07-03T06:53:28.375Z"
   },
   {
    "duration": 332,
    "start_time": "2021-07-03T06:53:28.379Z"
   },
   {
    "duration": 328,
    "start_time": "2021-07-03T06:53:28.384Z"
   },
   {
    "duration": 323,
    "start_time": "2021-07-03T06:53:28.390Z"
   },
   {
    "duration": 319,
    "start_time": "2021-07-03T06:53:28.396Z"
   },
   {
    "duration": 315,
    "start_time": "2021-07-03T06:53:28.401Z"
   },
   {
    "duration": 308,
    "start_time": "2021-07-03T06:53:28.409Z"
   },
   {
    "duration": 294,
    "start_time": "2021-07-03T06:53:28.424Z"
   },
   {
    "duration": 289,
    "start_time": "2021-07-03T06:53:28.431Z"
   },
   {
    "duration": 283,
    "start_time": "2021-07-03T06:53:28.438Z"
   },
   {
    "duration": 280,
    "start_time": "2021-07-03T06:53:28.442Z"
   },
   {
    "duration": 20,
    "start_time": "2021-07-03T06:54:09.449Z"
   },
   {
    "duration": 1393,
    "start_time": "2021-07-03T06:54:25.087Z"
   },
   {
    "duration": 276,
    "start_time": "2021-07-03T06:54:26.482Z"
   },
   {
    "duration": 216,
    "start_time": "2021-07-03T06:54:26.762Z"
   },
   {
    "duration": 156,
    "start_time": "2021-07-03T06:54:26.981Z"
   },
   {
    "duration": 33,
    "start_time": "2021-07-03T06:54:27.140Z"
   },
   {
    "duration": 49,
    "start_time": "2021-07-03T06:54:27.176Z"
   },
   {
    "duration": 8,
    "start_time": "2021-07-03T06:54:27.228Z"
   },
   {
    "duration": 85,
    "start_time": "2021-07-03T06:54:27.242Z"
   },
   {
    "duration": 6,
    "start_time": "2021-07-03T06:54:27.331Z"
   },
   {
    "duration": 109,
    "start_time": "2021-07-03T06:54:27.340Z"
   },
   {
    "duration": 295,
    "start_time": "2021-07-03T06:54:27.452Z"
   },
   {
    "duration": 38,
    "start_time": "2021-07-03T06:54:27.750Z"
   },
   {
    "duration": 55,
    "start_time": "2021-07-03T06:54:27.790Z"
   },
   {
    "duration": 90,
    "start_time": "2021-07-03T06:54:27.847Z"
   },
   {
    "duration": 119,
    "start_time": "2021-07-03T06:54:27.939Z"
   },
   {
    "duration": 101,
    "start_time": "2021-07-03T06:54:28.062Z"
   },
   {
    "duration": 80,
    "start_time": "2021-07-03T06:54:28.166Z"
   },
   {
    "duration": 5,
    "start_time": "2021-07-03T06:54:28.249Z"
   },
   {
    "duration": 13,
    "start_time": "2021-07-03T06:54:28.256Z"
   },
   {
    "duration": 41,
    "start_time": "2021-07-03T06:54:28.271Z"
   },
   {
    "duration": 9,
    "start_time": "2021-07-03T06:54:28.314Z"
   },
   {
    "duration": 12,
    "start_time": "2021-07-03T06:54:28.325Z"
   },
   {
    "duration": 20,
    "start_time": "2021-07-03T06:54:28.343Z"
   },
   {
    "duration": 61,
    "start_time": "2021-07-03T06:54:28.366Z"
   },
   {
    "duration": 9,
    "start_time": "2021-07-03T06:54:28.429Z"
   },
   {
    "duration": 18,
    "start_time": "2021-07-03T06:54:28.441Z"
   },
   {
    "duration": 62,
    "start_time": "2021-07-03T06:54:28.461Z"
   },
   {
    "duration": 335,
    "start_time": "2021-07-03T06:54:28.526Z"
   },
   {
    "duration": 13,
    "start_time": "2021-07-03T06:54:28.863Z"
   },
   {
    "duration": 38,
    "start_time": "2021-07-03T06:54:28.878Z"
   },
   {
    "duration": 12,
    "start_time": "2021-07-03T06:54:28.919Z"
   },
   {
    "duration": 48,
    "start_time": "2021-07-03T06:54:28.934Z"
   },
   {
    "duration": 19,
    "start_time": "2021-07-03T06:54:29.008Z"
   },
   {
    "duration": 27,
    "start_time": "2021-07-03T06:54:29.030Z"
   },
   {
    "duration": 19,
    "start_time": "2021-07-03T06:54:29.059Z"
   },
   {
    "duration": 447,
    "start_time": "2021-07-03T06:54:29.081Z"
   },
   {
    "duration": 20,
    "start_time": "2021-07-03T06:54:29.530Z"
   },
   {
    "duration": 19,
    "start_time": "2021-07-03T06:54:29.553Z"
   },
   {
    "duration": 54,
    "start_time": "2021-07-03T06:54:29.574Z"
   },
   {
    "duration": 410,
    "start_time": "2021-07-03T06:54:29.630Z"
   },
   {
    "duration": 19,
    "start_time": "2021-07-03T06:54:30.042Z"
   },
   {
    "duration": 30,
    "start_time": "2021-07-03T06:54:30.063Z"
   },
   {
    "duration": 436,
    "start_time": "2021-07-03T06:54:30.110Z"
   },
   {
    "duration": 23,
    "start_time": "2021-07-03T06:54:30.548Z"
   },
   {
    "duration": 46,
    "start_time": "2021-07-03T06:54:30.574Z"
   },
   {
    "duration": 35,
    "start_time": "2021-07-03T06:54:30.622Z"
   },
   {
    "duration": 430,
    "start_time": "2021-07-03T06:54:30.660Z"
   },
   {
    "duration": 789,
    "start_time": "2021-07-03T06:54:31.092Z"
   },
   {
    "duration": 56,
    "start_time": "2021-07-03T06:54:31.884Z"
   },
   {
    "duration": 15,
    "start_time": "2021-07-03T06:54:31.942Z"
   },
   {
    "duration": 29,
    "start_time": "2021-07-03T06:54:31.959Z"
   },
   {
    "duration": 1397,
    "start_time": "2021-07-03T06:56:49.492Z"
   },
   {
    "duration": 256,
    "start_time": "2021-07-03T06:56:50.893Z"
   },
   {
    "duration": 221,
    "start_time": "2021-07-03T06:56:51.153Z"
   },
   {
    "duration": 146,
    "start_time": "2021-07-03T06:56:51.377Z"
   },
   {
    "duration": 30,
    "start_time": "2021-07-03T06:56:51.525Z"
   },
   {
    "duration": 45,
    "start_time": "2021-07-03T06:56:51.558Z"
   },
   {
    "duration": 7,
    "start_time": "2021-07-03T06:56:51.606Z"
   },
   {
    "duration": 63,
    "start_time": "2021-07-03T06:56:51.618Z"
   },
   {
    "duration": 72,
    "start_time": "2021-07-03T06:56:51.684Z"
   },
   {
    "duration": 313,
    "start_time": "2021-07-03T06:56:51.759Z"
   },
   {
    "duration": 50,
    "start_time": "2021-07-03T06:56:52.074Z"
   },
   {
    "duration": 39,
    "start_time": "2021-07-03T06:56:52.126Z"
   },
   {
    "duration": 90,
    "start_time": "2021-07-03T06:56:52.167Z"
   },
   {
    "duration": 123,
    "start_time": "2021-07-03T06:56:52.259Z"
   },
   {
    "duration": 105,
    "start_time": "2021-07-03T06:56:52.385Z"
   },
   {
    "duration": 80,
    "start_time": "2021-07-03T06:56:52.492Z"
   },
   {
    "duration": 6,
    "start_time": "2021-07-03T06:56:52.574Z"
   },
   {
    "duration": 39,
    "start_time": "2021-07-03T06:56:52.582Z"
   },
   {
    "duration": 25,
    "start_time": "2021-07-03T06:56:52.623Z"
   },
   {
    "duration": 13,
    "start_time": "2021-07-03T06:56:52.650Z"
   },
   {
    "duration": 19,
    "start_time": "2021-07-03T06:56:52.665Z"
   },
   {
    "duration": 11,
    "start_time": "2021-07-03T06:56:52.686Z"
   },
   {
    "duration": 26,
    "start_time": "2021-07-03T06:56:52.703Z"
   },
   {
    "duration": 26,
    "start_time": "2021-07-03T06:56:52.732Z"
   },
   {
    "duration": 10,
    "start_time": "2021-07-03T06:56:52.760Z"
   },
   {
    "duration": 49,
    "start_time": "2021-07-03T06:56:52.773Z"
   },
   {
    "duration": 468,
    "start_time": "2021-07-03T06:56:52.824Z"
   },
   {
    "duration": 423,
    "start_time": "2021-07-03T06:56:52.872Z"
   },
   {
    "duration": 412,
    "start_time": "2021-07-03T06:56:52.884Z"
   },
   {
    "duration": 400,
    "start_time": "2021-07-03T06:56:52.897Z"
   },
   {
    "duration": 399,
    "start_time": "2021-07-03T06:56:52.900Z"
   },
   {
    "duration": 388,
    "start_time": "2021-07-03T06:56:52.912Z"
   },
   {
    "duration": 386,
    "start_time": "2021-07-03T06:56:52.916Z"
   },
   {
    "duration": 380,
    "start_time": "2021-07-03T06:56:52.923Z"
   },
   {
    "duration": 377,
    "start_time": "2021-07-03T06:56:52.927Z"
   },
   {
    "duration": 373,
    "start_time": "2021-07-03T06:56:52.932Z"
   },
   {
    "duration": 371,
    "start_time": "2021-07-03T06:56:52.936Z"
   },
   {
    "duration": 368,
    "start_time": "2021-07-03T06:56:52.940Z"
   },
   {
    "duration": 366,
    "start_time": "2021-07-03T06:56:52.944Z"
   },
   {
    "duration": 362,
    "start_time": "2021-07-03T06:56:52.949Z"
   },
   {
    "duration": 360,
    "start_time": "2021-07-03T06:56:52.953Z"
   },
   {
    "duration": 357,
    "start_time": "2021-07-03T06:56:52.957Z"
   },
   {
    "duration": 354,
    "start_time": "2021-07-03T06:56:52.961Z"
   },
   {
    "duration": 352,
    "start_time": "2021-07-03T06:56:52.965Z"
   },
   {
    "duration": 349,
    "start_time": "2021-07-03T06:56:52.969Z"
   },
   {
    "duration": 346,
    "start_time": "2021-07-03T06:56:52.973Z"
   },
   {
    "duration": 343,
    "start_time": "2021-07-03T06:56:52.977Z"
   },
   {
    "duration": 341,
    "start_time": "2021-07-03T06:56:52.981Z"
   },
   {
    "duration": 338,
    "start_time": "2021-07-03T06:56:52.985Z"
   },
   {
    "duration": 336,
    "start_time": "2021-07-03T06:56:52.989Z"
   },
   {
    "duration": 333,
    "start_time": "2021-07-03T06:56:52.993Z"
   },
   {
    "duration": 42,
    "start_time": "2021-07-03T06:57:18.222Z"
   },
   {
    "duration": 36,
    "start_time": "2021-07-03T06:57:26.626Z"
   },
   {
    "duration": 14,
    "start_time": "2021-07-03T06:57:30.701Z"
   },
   {
    "duration": 1359,
    "start_time": "2021-07-03T06:58:19.129Z"
   },
   {
    "duration": 266,
    "start_time": "2021-07-03T06:58:20.491Z"
   },
   {
    "duration": 222,
    "start_time": "2021-07-03T06:58:20.760Z"
   },
   {
    "duration": 152,
    "start_time": "2021-07-03T06:58:20.985Z"
   },
   {
    "duration": 31,
    "start_time": "2021-07-03T06:58:21.140Z"
   },
   {
    "duration": 42,
    "start_time": "2021-07-03T06:58:21.173Z"
   },
   {
    "duration": 7,
    "start_time": "2021-07-03T06:58:21.218Z"
   },
   {
    "duration": 52,
    "start_time": "2021-07-03T06:58:21.229Z"
   },
   {
    "duration": 58,
    "start_time": "2021-07-03T06:58:21.308Z"
   },
   {
    "duration": 311,
    "start_time": "2021-07-03T06:58:21.369Z"
   },
   {
    "duration": 49,
    "start_time": "2021-07-03T06:58:21.683Z"
   },
   {
    "duration": 44,
    "start_time": "2021-07-03T06:58:21.735Z"
   },
   {
    "duration": 89,
    "start_time": "2021-07-03T06:58:21.782Z"
   },
   {
    "duration": 124,
    "start_time": "2021-07-03T06:58:21.873Z"
   },
   {
    "duration": 93,
    "start_time": "2021-07-03T06:58:22.000Z"
   },
   {
    "duration": 82,
    "start_time": "2021-07-03T06:58:22.095Z"
   },
   {
    "duration": 6,
    "start_time": "2021-07-03T06:58:22.180Z"
   },
   {
    "duration": 11,
    "start_time": "2021-07-03T06:58:22.209Z"
   },
   {
    "duration": 22,
    "start_time": "2021-07-03T06:58:22.222Z"
   },
   {
    "duration": 14,
    "start_time": "2021-07-03T06:58:22.247Z"
   },
   {
    "duration": 3,
    "start_time": "2021-07-03T06:58:22.264Z"
   },
   {
    "duration": 44,
    "start_time": "2021-07-03T06:58:22.269Z"
   },
   {
    "duration": 23,
    "start_time": "2021-07-03T06:58:22.319Z"
   },
   {
    "duration": 27,
    "start_time": "2021-07-03T06:58:22.346Z"
   },
   {
    "duration": 42,
    "start_time": "2021-07-03T06:58:22.376Z"
   },
   {
    "duration": 19,
    "start_time": "2021-07-03T06:58:22.422Z"
   },
   {
    "duration": 489,
    "start_time": "2021-07-03T06:58:22.443Z"
   },
   {
    "duration": 430,
    "start_time": "2021-07-03T06:58:22.505Z"
   },
   {
    "duration": 426,
    "start_time": "2021-07-03T06:58:22.512Z"
   },
   {
    "duration": 424,
    "start_time": "2021-07-03T06:58:22.516Z"
   },
   {
    "duration": 421,
    "start_time": "2021-07-03T06:58:22.521Z"
   },
   {
    "duration": 419,
    "start_time": "2021-07-03T06:58:22.525Z"
   },
   {
    "duration": 416,
    "start_time": "2021-07-03T06:58:22.530Z"
   },
   {
    "duration": 392,
    "start_time": "2021-07-03T06:58:22.556Z"
   },
   {
    "duration": 387,
    "start_time": "2021-07-03T06:58:22.563Z"
   },
   {
    "duration": 385,
    "start_time": "2021-07-03T06:58:22.567Z"
   },
   {
    "duration": 368,
    "start_time": "2021-07-03T06:58:22.586Z"
   },
   {
    "duration": 362,
    "start_time": "2021-07-03T06:58:22.594Z"
   },
   {
    "duration": 360,
    "start_time": "2021-07-03T06:58:22.599Z"
   },
   {
    "duration": 356,
    "start_time": "2021-07-03T06:58:22.605Z"
   },
   {
    "duration": 352,
    "start_time": "2021-07-03T06:58:22.611Z"
   },
   {
    "duration": 350,
    "start_time": "2021-07-03T06:58:22.615Z"
   },
   {
    "duration": 346,
    "start_time": "2021-07-03T06:58:22.621Z"
   },
   {
    "duration": 344,
    "start_time": "2021-07-03T06:58:22.625Z"
   },
   {
    "duration": 341,
    "start_time": "2021-07-03T06:58:22.629Z"
   },
   {
    "duration": 376,
    "start_time": "2021-07-03T06:58:22.634Z"
   },
   {
    "duration": 366,
    "start_time": "2021-07-03T06:58:22.646Z"
   },
   {
    "duration": 365,
    "start_time": "2021-07-03T06:58:22.650Z"
   },
   {
    "duration": 361,
    "start_time": "2021-07-03T06:58:22.656Z"
   },
   {
    "duration": 360,
    "start_time": "2021-07-03T06:58:22.659Z"
   },
   {
    "duration": 359,
    "start_time": "2021-07-03T06:58:22.663Z"
   },
   {
    "duration": 1436,
    "start_time": "2021-07-03T06:58:43.451Z"
   },
   {
    "duration": 252,
    "start_time": "2021-07-03T06:58:44.890Z"
   },
   {
    "duration": 206,
    "start_time": "2021-07-03T06:58:45.145Z"
   },
   {
    "duration": 148,
    "start_time": "2021-07-03T06:58:45.354Z"
   },
   {
    "duration": 30,
    "start_time": "2021-07-03T06:58:45.504Z"
   },
   {
    "duration": 42,
    "start_time": "2021-07-03T06:58:45.537Z"
   },
   {
    "duration": 7,
    "start_time": "2021-07-03T06:58:45.582Z"
   },
   {
    "duration": 49,
    "start_time": "2021-07-03T06:58:45.609Z"
   },
   {
    "duration": 69,
    "start_time": "2021-07-03T06:58:45.661Z"
   },
   {
    "duration": 296,
    "start_time": "2021-07-03T06:58:45.733Z"
   },
   {
    "duration": 39,
    "start_time": "2021-07-03T06:58:46.031Z"
   },
   {
    "duration": 63,
    "start_time": "2021-07-03T06:58:46.072Z"
   },
   {
    "duration": 78,
    "start_time": "2021-07-03T06:58:46.138Z"
   },
   {
    "duration": 115,
    "start_time": "2021-07-03T06:58:46.219Z"
   },
   {
    "duration": 102,
    "start_time": "2021-07-03T06:58:46.336Z"
   },
   {
    "duration": 82,
    "start_time": "2021-07-03T06:58:46.440Z"
   },
   {
    "duration": 6,
    "start_time": "2021-07-03T06:58:46.524Z"
   },
   {
    "duration": 14,
    "start_time": "2021-07-03T06:58:46.532Z"
   },
   {
    "duration": 18,
    "start_time": "2021-07-03T06:58:46.549Z"
   },
   {
    "duration": 54,
    "start_time": "2021-07-03T06:58:46.569Z"
   },
   {
    "duration": 14,
    "start_time": "2021-07-03T06:58:46.626Z"
   },
   {
    "duration": 30,
    "start_time": "2021-07-03T06:58:46.643Z"
   },
   {
    "duration": 47,
    "start_time": "2021-07-03T06:58:46.679Z"
   },
   {
    "duration": 11,
    "start_time": "2021-07-03T06:58:46.729Z"
   },
   {
    "duration": 16,
    "start_time": "2021-07-03T06:58:46.743Z"
   },
   {
    "duration": 76,
    "start_time": "2021-07-03T06:58:46.761Z"
   },
   {
    "duration": 328,
    "start_time": "2021-07-03T06:58:46.840Z"
   },
   {
    "duration": 11,
    "start_time": "2021-07-03T06:58:47.171Z"
   },
   {
    "duration": 30,
    "start_time": "2021-07-03T06:58:47.185Z"
   },
   {
    "duration": 18,
    "start_time": "2021-07-03T06:58:47.218Z"
   },
   {
    "duration": 84,
    "start_time": "2021-07-03T06:58:47.239Z"
   },
   {
    "duration": 20,
    "start_time": "2021-07-03T06:58:47.326Z"
   },
   {
    "duration": 21,
    "start_time": "2021-07-03T06:58:47.348Z"
   },
   {
    "duration": 49,
    "start_time": "2021-07-03T06:58:47.371Z"
   },
   {
    "duration": 439,
    "start_time": "2021-07-03T06:58:47.423Z"
   },
   {
    "duration": 21,
    "start_time": "2021-07-03T06:58:47.865Z"
   },
   {
    "duration": 37,
    "start_time": "2021-07-03T06:58:47.888Z"
   },
   {
    "duration": 19,
    "start_time": "2021-07-03T06:58:47.928Z"
   },
   {
    "duration": 426,
    "start_time": "2021-07-03T06:58:47.949Z"
   },
   {
    "duration": 32,
    "start_time": "2021-07-03T06:58:48.377Z"
   },
   {
    "duration": 22,
    "start_time": "2021-07-03T06:58:48.412Z"
   },
   {
    "duration": 424,
    "start_time": "2021-07-03T06:58:48.437Z"
   },
   {
    "duration": 20,
    "start_time": "2021-07-03T06:58:48.864Z"
   },
   {
    "duration": 34,
    "start_time": "2021-07-03T06:58:48.887Z"
   },
   {
    "duration": 38,
    "start_time": "2021-07-03T06:58:48.924Z"
   },
   {
    "duration": 420,
    "start_time": "2021-07-03T06:58:48.964Z"
   },
   {
    "duration": 758,
    "start_time": "2021-07-03T06:58:49.386Z"
   },
   {
    "duration": 63,
    "start_time": "2021-07-03T06:58:50.146Z"
   },
   {
    "duration": 15,
    "start_time": "2021-07-03T06:58:50.211Z"
   },
   {
    "duration": 16,
    "start_time": "2021-07-03T06:58:50.228Z"
   },
   {
    "duration": 1395,
    "start_time": "2021-07-03T12:07:21.872Z"
   },
   {
    "duration": 262,
    "start_time": "2021-07-03T12:07:23.271Z"
   },
   {
    "duration": 205,
    "start_time": "2021-07-03T12:07:23.537Z"
   },
   {
    "duration": 150,
    "start_time": "2021-07-03T12:07:23.745Z"
   },
   {
    "duration": 33,
    "start_time": "2021-07-03T12:07:23.897Z"
   },
   {
    "duration": 66,
    "start_time": "2021-07-03T12:07:23.933Z"
   },
   {
    "duration": 6,
    "start_time": "2021-07-03T12:07:24.001Z"
   },
   {
    "duration": 54,
    "start_time": "2021-07-03T12:07:24.012Z"
   },
   {
    "duration": 69,
    "start_time": "2021-07-03T12:07:24.069Z"
   },
   {
    "duration": 294,
    "start_time": "2021-07-03T12:07:24.141Z"
   },
   {
    "duration": 56,
    "start_time": "2021-07-03T12:07:24.438Z"
   },
   {
    "duration": 37,
    "start_time": "2021-07-03T12:07:24.496Z"
   },
   {
    "duration": 94,
    "start_time": "2021-07-03T12:07:24.535Z"
   },
   {
    "duration": 117,
    "start_time": "2021-07-03T12:07:24.632Z"
   },
   {
    "duration": 104,
    "start_time": "2021-07-03T12:07:24.751Z"
   },
   {
    "duration": 76,
    "start_time": "2021-07-03T12:07:24.858Z"
   },
   {
    "duration": 6,
    "start_time": "2021-07-03T12:07:24.936Z"
   },
   {
    "duration": 11,
    "start_time": "2021-07-03T12:07:24.944Z"
   },
   {
    "duration": 44,
    "start_time": "2021-07-03T12:07:24.958Z"
   },
   {
    "duration": 9,
    "start_time": "2021-07-03T12:07:25.005Z"
   },
   {
    "duration": 12,
    "start_time": "2021-07-03T12:07:25.018Z"
   },
   {
    "duration": 513,
    "start_time": "2021-07-03T12:07:32.825Z"
   },
   {
    "duration": 15,
    "start_time": "2021-07-03T12:08:59.293Z"
   },
   {
    "duration": 1481,
    "start_time": "2021-07-03T12:09:15.289Z"
   },
   {
    "duration": 261,
    "start_time": "2021-07-03T12:09:16.773Z"
   },
   {
    "duration": 214,
    "start_time": "2021-07-03T12:09:17.037Z"
   },
   {
    "duration": 147,
    "start_time": "2021-07-03T12:09:17.254Z"
   },
   {
    "duration": 31,
    "start_time": "2021-07-03T12:09:17.404Z"
   },
   {
    "duration": 65,
    "start_time": "2021-07-03T12:09:17.438Z"
   },
   {
    "duration": 8,
    "start_time": "2021-07-03T12:09:17.506Z"
   },
   {
    "duration": 94,
    "start_time": "2021-07-03T12:09:17.519Z"
   },
   {
    "duration": 76,
    "start_time": "2021-07-03T12:09:17.617Z"
   },
   {
    "duration": 291,
    "start_time": "2021-07-03T12:09:17.696Z"
   },
   {
    "duration": 38,
    "start_time": "2021-07-03T12:09:17.990Z"
   },
   {
    "duration": 64,
    "start_time": "2021-07-03T12:09:18.030Z"
   },
   {
    "duration": 68,
    "start_time": "2021-07-03T12:09:18.096Z"
   },
   {
    "duration": 124,
    "start_time": "2021-07-03T12:09:18.167Z"
   },
   {
    "duration": 101,
    "start_time": "2021-07-03T12:09:18.294Z"
   },
   {
    "duration": 69,
    "start_time": "2021-07-03T12:09:18.397Z"
   },
   {
    "duration": 23,
    "start_time": "2021-07-03T12:09:18.468Z"
   },
   {
    "duration": 14,
    "start_time": "2021-07-03T12:09:18.493Z"
   },
   {
    "duration": 20,
    "start_time": "2021-07-03T12:09:18.509Z"
   },
   {
    "duration": 9,
    "start_time": "2021-07-03T12:09:18.532Z"
   },
   {
    "duration": 5,
    "start_time": "2021-07-03T12:09:18.543Z"
   },
   {
    "duration": 21,
    "start_time": "2021-07-03T12:09:18.586Z"
   },
   {
    "duration": 29,
    "start_time": "2021-07-03T12:11:42.236Z"
   },
   {
    "duration": 13,
    "start_time": "2021-07-03T12:11:56.578Z"
   },
   {
    "duration": 16,
    "start_time": "2021-07-03T12:12:45.368Z"
   },
   {
    "duration": 42,
    "start_time": "2021-07-03T12:13:01.225Z"
   },
   {
    "duration": 30,
    "start_time": "2021-07-03T12:21:25.964Z"
   },
   {
    "duration": 29,
    "start_time": "2021-07-03T12:24:40.868Z"
   },
   {
    "duration": 29,
    "start_time": "2021-07-03T12:28:47.283Z"
   },
   {
    "duration": 32,
    "start_time": "2021-07-03T12:28:57.179Z"
   },
   {
    "duration": 412,
    "start_time": "2021-07-03T12:46:58.520Z"
   },
   {
    "duration": 18,
    "start_time": "2021-07-03T12:47:24.853Z"
   },
   {
    "duration": 23,
    "start_time": "2021-07-03T12:50:49.197Z"
   },
   {
    "duration": 378,
    "start_time": "2021-07-03T12:56:00.609Z"
   },
   {
    "duration": 11,
    "start_time": "2021-07-03T12:57:57.609Z"
   },
   {
    "duration": 13,
    "start_time": "2021-07-03T12:58:05.033Z"
   },
   {
    "duration": 14,
    "start_time": "2021-07-03T12:58:07.186Z"
   },
   {
    "duration": 52,
    "start_time": "2021-07-03T13:00:37.604Z"
   },
   {
    "duration": 28,
    "start_time": "2021-07-03T13:01:58.998Z"
   },
   {
    "duration": 23,
    "start_time": "2021-07-03T13:02:19.527Z"
   },
   {
    "duration": 20,
    "start_time": "2021-07-03T13:02:48.233Z"
   },
   {
    "duration": 443,
    "start_time": "2021-07-03T13:02:52.550Z"
   },
   {
    "duration": 623,
    "start_time": "2021-07-03T13:06:24.188Z"
   },
   {
    "duration": 684,
    "start_time": "2021-07-03T13:06:44.278Z"
   },
   {
    "duration": 641,
    "start_time": "2021-07-03T13:08:33.033Z"
   },
   {
    "duration": 408,
    "start_time": "2021-07-03T13:08:45.208Z"
   },
   {
    "duration": 412,
    "start_time": "2021-07-03T13:23:50.768Z"
   },
   {
    "duration": 421,
    "start_time": "2021-07-03T13:26:20.372Z"
   },
   {
    "duration": 428,
    "start_time": "2021-07-03T13:32:21.303Z"
   },
   {
    "duration": 518,
    "start_time": "2021-07-03T13:32:43.178Z"
   },
   {
    "duration": 20,
    "start_time": "2021-07-03T13:32:55.225Z"
   },
   {
    "duration": 20,
    "start_time": "2021-07-03T13:33:01.665Z"
   },
   {
    "duration": 20,
    "start_time": "2021-07-03T13:33:04.321Z"
   },
   {
    "duration": 405,
    "start_time": "2021-07-03T13:34:22.260Z"
   },
   {
    "duration": 19,
    "start_time": "2021-07-03T13:34:35.868Z"
   },
   {
    "duration": 20,
    "start_time": "2021-07-03T13:34:40.331Z"
   },
   {
    "duration": 422,
    "start_time": "2021-07-03T13:34:42.291Z"
   },
   {
    "duration": 427,
    "start_time": "2021-07-03T13:35:19.693Z"
   },
   {
    "duration": 20,
    "start_time": "2021-07-03T13:35:29.245Z"
   },
   {
    "duration": 20,
    "start_time": "2021-07-03T13:35:33.205Z"
   },
   {
    "duration": 20,
    "start_time": "2021-07-03T13:35:40.997Z"
   },
   {
    "duration": 444,
    "start_time": "2021-07-03T13:37:13.311Z"
   },
   {
    "duration": 723,
    "start_time": "2021-07-03T13:37:27.305Z"
   },
   {
    "duration": 441,
    "start_time": "2021-07-03T13:39:04.091Z"
   },
   {
    "duration": 822,
    "start_time": "2021-07-03T13:39:14.282Z"
   },
   {
    "duration": 840,
    "start_time": "2021-07-03T13:39:52.634Z"
   },
   {
    "duration": 48,
    "start_time": "2021-07-03T13:40:12.450Z"
   },
   {
    "duration": 16,
    "start_time": "2021-07-03T13:57:30.127Z"
   },
   {
    "duration": 17,
    "start_time": "2021-07-03T13:57:44.134Z"
   },
   {
    "duration": 45,
    "start_time": "2021-07-03T14:01:17.028Z"
   },
   {
    "duration": 43,
    "start_time": "2021-07-03T14:01:36.967Z"
   },
   {
    "duration": 30,
    "start_time": "2021-07-03T14:02:33.592Z"
   },
   {
    "duration": 23,
    "start_time": "2021-07-03T14:25:15.095Z"
   },
   {
    "duration": 26,
    "start_time": "2021-07-03T14:25:38.007Z"
   },
   {
    "duration": 22,
    "start_time": "2021-07-03T14:26:02.192Z"
   },
   {
    "duration": 1586,
    "start_time": "2021-07-03T14:27:12.959Z"
   },
   {
    "duration": 265,
    "start_time": "2021-07-03T14:27:14.548Z"
   },
   {
    "duration": 220,
    "start_time": "2021-07-03T14:27:14.816Z"
   },
   {
    "duration": 152,
    "start_time": "2021-07-03T14:27:15.039Z"
   },
   {
    "duration": 34,
    "start_time": "2021-07-03T14:27:15.193Z"
   },
   {
    "duration": 74,
    "start_time": "2021-07-03T14:27:15.229Z"
   },
   {
    "duration": 7,
    "start_time": "2021-07-03T14:27:15.306Z"
   },
   {
    "duration": 76,
    "start_time": "2021-07-03T14:27:15.317Z"
   },
   {
    "duration": 56,
    "start_time": "2021-07-03T14:27:15.397Z"
   },
   {
    "duration": 325,
    "start_time": "2021-07-03T14:27:15.455Z"
   },
   {
    "duration": 40,
    "start_time": "2021-07-03T14:27:15.786Z"
   },
   {
    "duration": 75,
    "start_time": "2021-07-03T14:27:15.829Z"
   },
   {
    "duration": 83,
    "start_time": "2021-07-03T14:27:15.906Z"
   },
   {
    "duration": 123,
    "start_time": "2021-07-03T14:27:15.992Z"
   },
   {
    "duration": 104,
    "start_time": "2021-07-03T14:27:16.118Z"
   },
   {
    "duration": 87,
    "start_time": "2021-07-03T14:27:16.225Z"
   },
   {
    "duration": 6,
    "start_time": "2021-07-03T14:27:16.315Z"
   },
   {
    "duration": 24,
    "start_time": "2021-07-03T14:27:16.323Z"
   },
   {
    "duration": 27,
    "start_time": "2021-07-03T14:27:16.349Z"
   },
   {
    "duration": 10,
    "start_time": "2021-07-03T14:27:16.385Z"
   },
   {
    "duration": 9,
    "start_time": "2021-07-03T14:27:16.397Z"
   },
   {
    "duration": 35,
    "start_time": "2021-07-03T14:27:16.408Z"
   },
   {
    "duration": 41,
    "start_time": "2021-07-03T14:27:16.449Z"
   },
   {
    "duration": 12,
    "start_time": "2021-07-03T14:27:16.493Z"
   },
   {
    "duration": 26,
    "start_time": "2021-07-03T14:27:16.507Z"
   },
   {
    "duration": 70,
    "start_time": "2021-07-03T14:27:16.536Z"
   },
   {
    "duration": 26,
    "start_time": "2021-07-03T14:27:16.608Z"
   },
   {
    "duration": 58,
    "start_time": "2021-07-03T14:27:16.636Z"
   },
   {
    "duration": 28,
    "start_time": "2021-07-03T14:27:16.696Z"
   },
   {
    "duration": 433,
    "start_time": "2021-07-03T14:27:16.727Z"
   },
   {
    "duration": 11,
    "start_time": "2021-07-03T14:27:17.162Z"
   },
   {
    "duration": 12,
    "start_time": "2021-07-03T14:27:17.186Z"
   },
   {
    "duration": 25,
    "start_time": "2021-07-03T14:27:17.200Z"
   },
   {
    "duration": 69,
    "start_time": "2021-07-03T14:27:17.227Z"
   },
   {
    "duration": 19,
    "start_time": "2021-07-03T14:27:17.298Z"
   },
   {
    "duration": 23,
    "start_time": "2021-07-03T14:27:17.319Z"
   },
   {
    "duration": 55,
    "start_time": "2021-07-03T14:27:17.345Z"
   },
   {
    "duration": 472,
    "start_time": "2021-07-03T14:27:17.403Z"
   },
   {
    "duration": 26,
    "start_time": "2021-07-03T14:27:17.877Z"
   },
   {
    "duration": 21,
    "start_time": "2021-07-03T14:27:17.905Z"
   },
   {
    "duration": 57,
    "start_time": "2021-07-03T14:27:17.929Z"
   },
   {
    "duration": 436,
    "start_time": "2021-07-03T14:27:17.989Z"
   },
   {
    "duration": 27,
    "start_time": "2021-07-03T14:27:18.427Z"
   },
   {
    "duration": 42,
    "start_time": "2021-07-03T14:27:18.458Z"
   },
   {
    "duration": 468,
    "start_time": "2021-07-03T14:27:18.503Z"
   },
   {
    "duration": 30,
    "start_time": "2021-07-03T14:27:18.973Z"
   },
   {
    "duration": 25,
    "start_time": "2021-07-03T14:27:19.006Z"
   },
   {
    "duration": 57,
    "start_time": "2021-07-03T14:27:19.034Z"
   },
   {
    "duration": 445,
    "start_time": "2021-07-03T14:27:19.094Z"
   },
   {
    "duration": 767,
    "start_time": "2021-07-03T14:27:19.541Z"
   },
   {
    "duration": 50,
    "start_time": "2021-07-03T14:27:20.311Z"
   },
   {
    "duration": 16,
    "start_time": "2021-07-03T14:27:20.386Z"
   },
   {
    "duration": 13,
    "start_time": "2021-07-03T14:27:20.405Z"
   },
   {
    "duration": 3,
    "start_time": "2021-07-03T14:51:20.513Z"
   },
   {
    "duration": 1079,
    "start_time": "2021-07-03T18:19:23.492Z"
   },
   {
    "duration": 181,
    "start_time": "2021-07-03T18:19:24.573Z"
   },
   {
    "duration": 160,
    "start_time": "2021-07-03T18:19:24.756Z"
   },
   {
    "duration": 103,
    "start_time": "2021-07-03T18:19:24.918Z"
   },
   {
    "duration": 26,
    "start_time": "2021-07-03T18:19:25.022Z"
   },
   {
    "duration": 45,
    "start_time": "2021-07-03T18:19:25.050Z"
   },
   {
    "duration": 4,
    "start_time": "2021-07-03T18:19:25.097Z"
   },
   {
    "duration": 60,
    "start_time": "2021-07-03T18:19:25.103Z"
   },
   {
    "duration": 39,
    "start_time": "2021-07-03T18:19:25.165Z"
   },
   {
    "duration": 140,
    "start_time": "2021-07-03T18:19:25.205Z"
   },
   {
    "duration": 25,
    "start_time": "2021-07-03T18:19:25.346Z"
   },
   {
    "duration": 34,
    "start_time": "2021-07-03T18:19:25.373Z"
   },
   {
    "duration": 55,
    "start_time": "2021-07-03T18:19:25.409Z"
   },
   {
    "duration": 86,
    "start_time": "2021-07-03T18:19:25.466Z"
   },
   {
    "duration": 76,
    "start_time": "2021-07-03T18:19:25.554Z"
   },
   {
    "duration": 58,
    "start_time": "2021-07-03T18:19:25.632Z"
   },
   {
    "duration": 3,
    "start_time": "2021-07-03T18:19:25.692Z"
   },
   {
    "duration": 22,
    "start_time": "2021-07-03T18:19:25.696Z"
   },
   {
    "duration": 30,
    "start_time": "2021-07-03T18:19:25.720Z"
   },
   {
    "duration": 16,
    "start_time": "2021-07-03T18:19:25.751Z"
   },
   {
    "duration": 12,
    "start_time": "2021-07-03T18:19:25.769Z"
   },
   {
    "duration": 27,
    "start_time": "2021-07-03T18:19:25.782Z"
   },
   {
    "duration": 32,
    "start_time": "2021-07-03T18:19:25.812Z"
   },
   {
    "duration": 10,
    "start_time": "2021-07-03T18:19:25.846Z"
   },
   {
    "duration": 23,
    "start_time": "2021-07-03T18:19:25.857Z"
   },
   {
    "duration": 39,
    "start_time": "2021-07-03T18:19:25.881Z"
   },
   {
    "duration": 15,
    "start_time": "2021-07-03T18:19:25.922Z"
   },
   {
    "duration": 31,
    "start_time": "2021-07-03T18:19:25.938Z"
   },
   {
    "duration": 37,
    "start_time": "2021-07-03T18:19:25.970Z"
   },
   {
    "duration": 166,
    "start_time": "2021-07-03T18:19:26.009Z"
   },
   {
    "duration": 12,
    "start_time": "2021-07-03T18:19:26.176Z"
   },
   {
    "duration": 24,
    "start_time": "2021-07-03T18:19:26.189Z"
   },
   {
    "duration": 24,
    "start_time": "2021-07-03T18:19:26.215Z"
   },
   {
    "duration": 48,
    "start_time": "2021-07-03T18:19:26.240Z"
   },
   {
    "duration": 14,
    "start_time": "2021-07-03T18:19:26.290Z"
   },
   {
    "duration": 28,
    "start_time": "2021-07-03T18:19:26.306Z"
   },
   {
    "duration": 25,
    "start_time": "2021-07-03T18:19:26.335Z"
   },
   {
    "duration": 308,
    "start_time": "2021-07-03T18:19:26.361Z"
   },
   {
    "duration": 19,
    "start_time": "2021-07-03T18:19:26.671Z"
   },
   {
    "duration": 24,
    "start_time": "2021-07-03T18:19:26.692Z"
   },
   {
    "duration": 25,
    "start_time": "2021-07-03T18:19:26.718Z"
   },
   {
    "duration": 273,
    "start_time": "2021-07-03T18:19:26.744Z"
   },
   {
    "duration": 12,
    "start_time": "2021-07-03T18:19:27.019Z"
   },
   {
    "duration": 36,
    "start_time": "2021-07-03T18:19:27.033Z"
   },
   {
    "duration": 264,
    "start_time": "2021-07-03T18:19:27.071Z"
   },
   {
    "duration": 12,
    "start_time": "2021-07-03T18:19:27.336Z"
   },
   {
    "duration": 21,
    "start_time": "2021-07-03T18:19:27.349Z"
   },
   {
    "duration": 27,
    "start_time": "2021-07-03T18:19:27.372Z"
   },
   {
    "duration": 268,
    "start_time": "2021-07-03T18:19:27.401Z"
   },
   {
    "duration": 454,
    "start_time": "2021-07-03T18:19:27.671Z"
   },
   {
    "duration": 93,
    "start_time": "2021-07-03T18:19:28.127Z"
   },
   {
    "duration": 10,
    "start_time": "2021-07-03T18:19:28.222Z"
   },
   {
    "duration": 26,
    "start_time": "2021-07-03T18:19:28.233Z"
   },
   {
    "duration": 1149,
    "start_time": "2022-01-19T11:19:28.205Z"
   },
   {
    "duration": 254,
    "start_time": "2022-01-19T11:19:29.356Z"
   },
   {
    "duration": 156,
    "start_time": "2022-01-19T11:19:29.612Z"
   },
   {
    "duration": 114,
    "start_time": "2022-01-19T11:19:29.771Z"
   },
   {
    "duration": 24,
    "start_time": "2022-01-19T11:19:29.887Z"
   },
   {
    "duration": 72,
    "start_time": "2022-01-19T11:19:29.913Z"
   },
   {
    "duration": 5,
    "start_time": "2022-01-19T11:19:29.986Z"
   },
   {
    "duration": 42,
    "start_time": "2022-01-19T11:19:29.994Z"
   },
   {
    "duration": 62,
    "start_time": "2022-01-19T11:19:30.038Z"
   },
   {
    "duration": 228,
    "start_time": "2022-01-19T11:19:30.101Z"
   },
   {
    "duration": 31,
    "start_time": "2022-01-19T11:19:30.331Z"
   },
   {
    "duration": 48,
    "start_time": "2022-01-19T11:19:30.364Z"
   },
   {
    "duration": 49,
    "start_time": "2022-01-19T11:19:30.414Z"
   },
   {
    "duration": 99,
    "start_time": "2022-01-19T11:19:30.465Z"
   },
   {
    "duration": 72,
    "start_time": "2022-01-19T11:19:30.566Z"
   },
   {
    "duration": 58,
    "start_time": "2022-01-19T11:19:30.640Z"
   },
   {
    "duration": 43,
    "start_time": "2022-01-19T11:19:30.700Z"
   },
   {
    "duration": 20,
    "start_time": "2022-01-19T11:19:30.745Z"
   },
   {
    "duration": 30,
    "start_time": "2022-01-19T11:19:30.767Z"
   },
   {
    "duration": 48,
    "start_time": "2022-01-19T11:19:30.799Z"
   },
   {
    "duration": 56,
    "start_time": "2022-01-19T11:19:30.849Z"
   },
   {
    "duration": 49,
    "start_time": "2022-01-19T11:19:30.907Z"
   },
   {
    "duration": 83,
    "start_time": "2022-01-19T11:19:30.960Z"
   },
   {
    "duration": 71,
    "start_time": "2022-01-19T11:19:31.045Z"
   },
   {
    "duration": 40,
    "start_time": "2022-01-19T11:19:31.118Z"
   },
   {
    "duration": 57,
    "start_time": "2022-01-19T11:19:31.160Z"
   },
   {
    "duration": 51,
    "start_time": "2022-01-19T11:19:31.219Z"
   },
   {
    "duration": 87,
    "start_time": "2022-01-19T11:19:31.272Z"
   },
   {
    "duration": 52,
    "start_time": "2022-01-19T11:19:31.361Z"
   },
   {
    "duration": 240,
    "start_time": "2022-01-19T11:19:31.415Z"
   },
   {
    "duration": 8,
    "start_time": "2022-01-19T11:19:31.657Z"
   },
   {
    "duration": 25,
    "start_time": "2022-01-19T11:19:31.666Z"
   },
   {
    "duration": 64,
    "start_time": "2022-01-19T11:19:31.697Z"
   },
   {
    "duration": 46,
    "start_time": "2022-01-19T11:19:31.762Z"
   },
   {
    "duration": 14,
    "start_time": "2022-01-19T11:19:31.810Z"
   },
   {
    "duration": 19,
    "start_time": "2022-01-19T11:19:31.825Z"
   },
   {
    "duration": 25,
    "start_time": "2022-01-19T11:19:31.846Z"
   },
   {
    "duration": 308,
    "start_time": "2022-01-19T11:19:31.873Z"
   },
   {
    "duration": 22,
    "start_time": "2022-01-19T11:19:32.183Z"
   },
   {
    "duration": 32,
    "start_time": "2022-01-19T11:19:32.207Z"
   },
   {
    "duration": 31,
    "start_time": "2022-01-19T11:19:32.240Z"
   },
   {
    "duration": 303,
    "start_time": "2022-01-19T11:19:32.273Z"
   },
   {
    "duration": 22,
    "start_time": "2022-01-19T11:19:32.578Z"
   },
   {
    "duration": 30,
    "start_time": "2022-01-19T11:19:32.602Z"
   },
   {
    "duration": 298,
    "start_time": "2022-01-19T11:19:32.634Z"
   },
   {
    "duration": 13,
    "start_time": "2022-01-19T11:19:32.934Z"
   },
   {
    "duration": 25,
    "start_time": "2022-01-19T11:19:32.949Z"
   },
   {
    "duration": 70,
    "start_time": "2022-01-19T11:19:32.976Z"
   },
   {
    "duration": 302,
    "start_time": "2022-01-19T11:19:33.048Z"
   },
   {
    "duration": 508,
    "start_time": "2022-01-19T11:19:33.352Z"
   },
   {
    "duration": 46,
    "start_time": "2022-01-19T11:19:33.863Z"
   },
   {
    "duration": 11,
    "start_time": "2022-01-19T11:19:33.911Z"
   },
   {
    "duration": 15,
    "start_time": "2022-01-19T11:19:33.923Z"
   }
  ],
  "kernelspec": {
   "display_name": "Python 3",
   "language": "python",
   "name": "python3"
  },
  "language_info": {
   "codemirror_mode": {
    "name": "ipython",
    "version": 3
   },
   "file_extension": ".py",
   "mimetype": "text/x-python",
   "name": "python",
   "nbconvert_exporter": "python",
   "pygments_lexer": "ipython3",
   "version": "3.7.8"
  },
  "toc": {
   "base_numbering": 1,
   "nav_menu": {},
   "number_sections": true,
   "sideBar": true,
   "skip_h1_title": true,
   "title_cell": "Table of Contents",
   "title_sidebar": "Contents",
   "toc_cell": false,
   "toc_position": {
    "height": "calc(100% - 180px)",
    "left": "10px",
    "top": "150px",
    "width": "366.391px"
   },
   "toc_section_display": true,
   "toc_window_display": true
  }
 },
 "nbformat": 4,
 "nbformat_minor": 2
}
