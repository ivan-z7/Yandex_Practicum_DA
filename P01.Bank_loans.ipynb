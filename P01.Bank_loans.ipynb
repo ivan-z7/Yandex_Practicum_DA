{
 "cells": [
  {
   "cell_type": "markdown",
   "metadata": {},
   "source": [
    "# Исследование надёжности заёмщиков\n",
    "\n",
    "Заказчик — кредитный отдел банка. "
   ]
  },
  {
   "cell_type": "markdown",
   "metadata": {},
   "source": [
    "Цель проекта: на основании статистики о платежеспособности клиентов выявить закономерности для создания модели *кредитного скоринга* — специальной системы, которая оценивает способность потенциального заёмщика вернуть кредит банку. \n",
    "Основные критерии, влияние которых нужно рассмотреть: семейное положение, наличе детей, уровень дохода и цель кредита."
   ]
  },
  {
   "cell_type": "markdown",
   "metadata": {},
   "source": [
    "## Шаг 1. Изучаем общую информацию"
   ]
  },
  {
   "cell_type": "markdown",
   "metadata": {},
   "source": [
    "Импортируем библиотеки *pandas* и *numpy*.\n",
    "Прочитаем файл со статистическими данными и выведем часть строк для ознакомления с содержимым."
   ]
  },
  {
   "cell_type": "code",
   "execution_count": 1,
   "metadata": {
    "scrolled": false
   },
   "outputs": [
    {
     "data": {
      "text/html": [
       "<div>\n",
       "<style scoped>\n",
       "    .dataframe tbody tr th:only-of-type {\n",
       "        vertical-align: middle;\n",
       "    }\n",
       "\n",
       "    .dataframe tbody tr th {\n",
       "        vertical-align: top;\n",
       "    }\n",
       "\n",
       "    .dataframe thead th {\n",
       "        text-align: right;\n",
       "    }\n",
       "</style>\n",
       "<table border=\"1\" class=\"dataframe\">\n",
       "  <thead>\n",
       "    <tr style=\"text-align: right;\">\n",
       "      <th></th>\n",
       "      <th>children</th>\n",
       "      <th>days_employed</th>\n",
       "      <th>dob_years</th>\n",
       "      <th>education</th>\n",
       "      <th>education_id</th>\n",
       "      <th>family_status</th>\n",
       "      <th>family_status_id</th>\n",
       "      <th>gender</th>\n",
       "      <th>income_type</th>\n",
       "      <th>debt</th>\n",
       "      <th>total_income</th>\n",
       "      <th>purpose</th>\n",
       "    </tr>\n",
       "  </thead>\n",
       "  <tbody>\n",
       "    <tr>\n",
       "      <td>0</td>\n",
       "      <td>1</td>\n",
       "      <td>-8437.673028</td>\n",
       "      <td>42</td>\n",
       "      <td>высшее</td>\n",
       "      <td>0</td>\n",
       "      <td>женат / замужем</td>\n",
       "      <td>0</td>\n",
       "      <td>F</td>\n",
       "      <td>сотрудник</td>\n",
       "      <td>0</td>\n",
       "      <td>253875.639453</td>\n",
       "      <td>покупка жилья</td>\n",
       "    </tr>\n",
       "    <tr>\n",
       "      <td>1</td>\n",
       "      <td>1</td>\n",
       "      <td>-4024.803754</td>\n",
       "      <td>36</td>\n",
       "      <td>среднее</td>\n",
       "      <td>1</td>\n",
       "      <td>женат / замужем</td>\n",
       "      <td>0</td>\n",
       "      <td>F</td>\n",
       "      <td>сотрудник</td>\n",
       "      <td>0</td>\n",
       "      <td>112080.014102</td>\n",
       "      <td>приобретение автомобиля</td>\n",
       "    </tr>\n",
       "    <tr>\n",
       "      <td>2</td>\n",
       "      <td>0</td>\n",
       "      <td>-5623.422610</td>\n",
       "      <td>33</td>\n",
       "      <td>Среднее</td>\n",
       "      <td>1</td>\n",
       "      <td>женат / замужем</td>\n",
       "      <td>0</td>\n",
       "      <td>M</td>\n",
       "      <td>сотрудник</td>\n",
       "      <td>0</td>\n",
       "      <td>145885.952297</td>\n",
       "      <td>покупка жилья</td>\n",
       "    </tr>\n",
       "    <tr>\n",
       "      <td>3</td>\n",
       "      <td>3</td>\n",
       "      <td>-4124.747207</td>\n",
       "      <td>32</td>\n",
       "      <td>среднее</td>\n",
       "      <td>1</td>\n",
       "      <td>женат / замужем</td>\n",
       "      <td>0</td>\n",
       "      <td>M</td>\n",
       "      <td>сотрудник</td>\n",
       "      <td>0</td>\n",
       "      <td>267628.550329</td>\n",
       "      <td>дополнительное образование</td>\n",
       "    </tr>\n",
       "    <tr>\n",
       "      <td>4</td>\n",
       "      <td>0</td>\n",
       "      <td>340266.072047</td>\n",
       "      <td>53</td>\n",
       "      <td>среднее</td>\n",
       "      <td>1</td>\n",
       "      <td>гражданский брак</td>\n",
       "      <td>1</td>\n",
       "      <td>F</td>\n",
       "      <td>пенсионер</td>\n",
       "      <td>0</td>\n",
       "      <td>158616.077870</td>\n",
       "      <td>сыграть свадьбу</td>\n",
       "    </tr>\n",
       "  </tbody>\n",
       "</table>\n",
       "</div>"
      ],
      "text/plain": [
       "   children  days_employed  dob_years education  education_id  \\\n",
       "0         1   -8437.673028         42    высшее             0   \n",
       "1         1   -4024.803754         36   среднее             1   \n",
       "2         0   -5623.422610         33   Среднее             1   \n",
       "3         3   -4124.747207         32   среднее             1   \n",
       "4         0  340266.072047         53   среднее             1   \n",
       "\n",
       "      family_status  family_status_id gender income_type  debt   total_income  \\\n",
       "0   женат / замужем                 0      F   сотрудник     0  253875.639453   \n",
       "1   женат / замужем                 0      F   сотрудник     0  112080.014102   \n",
       "2   женат / замужем                 0      M   сотрудник     0  145885.952297   \n",
       "3   женат / замужем                 0      M   сотрудник     0  267628.550329   \n",
       "4  гражданский брак                 1      F   пенсионер     0  158616.077870   \n",
       "\n",
       "                      purpose  \n",
       "0               покупка жилья  \n",
       "1     приобретение автомобиля  \n",
       "2               покупка жилья  \n",
       "3  дополнительное образование  \n",
       "4             сыграть свадьбу  "
      ]
     },
     "metadata": {},
     "output_type": "display_data"
    }
   ],
   "source": [
    "import pandas as pd\n",
    "import numpy as np\n",
    "data = pd.read_csv('/datasets/data.csv')\n",
    "display(data.head())"
   ]
  },
  {
   "cell_type": "markdown",
   "metadata": {},
   "source": [
    "С помощью метода *.info()* получим общую информацию о данных загруженной таблицы."
   ]
  },
  {
   "cell_type": "code",
   "execution_count": 2,
   "metadata": {},
   "outputs": [
    {
     "name": "stdout",
     "output_type": "stream",
     "text": [
      "<class 'pandas.core.frame.DataFrame'>\n",
      "RangeIndex: 21525 entries, 0 to 21524\n",
      "Data columns (total 12 columns):\n",
      "children            21525 non-null int64\n",
      "days_employed       19351 non-null float64\n",
      "dob_years           21525 non-null int64\n",
      "education           21525 non-null object\n",
      "education_id        21525 non-null int64\n",
      "family_status       21525 non-null object\n",
      "family_status_id    21525 non-null int64\n",
      "gender              21525 non-null object\n",
      "income_type         21525 non-null object\n",
      "debt                21525 non-null int64\n",
      "total_income        19351 non-null float64\n",
      "purpose             21525 non-null object\n",
      "dtypes: float64(2), int64(5), object(5)\n",
      "memory usage: 2.0+ MB\n"
     ]
    }
   ],
   "source": [
    "data.info()"
   ]
  },
  {
   "cell_type": "markdown",
   "metadata": {},
   "source": [
    "**Вывод**"
   ]
  },
  {
   "cell_type": "markdown",
   "metadata": {},
   "source": [
    "В таблице 12 столбцов разного типа:\n",
    "\n",
    "*children* — количество детей в семье\n",
    "\n",
    "*days_employed* — общий трудовой стаж в днях\n",
    "\n",
    "*dob_years* — возраст клиента в годах\n",
    "\n",
    "*education* — уровень образования клиента\n",
    "\n",
    "*education_id* — идентификатор уровня образования\n",
    "\n",
    "*family_status* — семейное положение\n",
    "\n",
    "*family_status_id* — идентификатор семейного положения\n",
    "\n",
    "*gender* — пол клиента\n",
    "\n",
    "*income_type* — тип занятости\n",
    "\n",
    "*debt* — имел ли задолженность по возврату кредитов\n",
    "\n",
    "*total_income* — ежемесячный доход\n",
    "\n",
    "*purpose* — цель получения кредита\n",
    "\n",
    "В двух столбцах присутствуют пропущенные значения. С заголовками проблем нет. Форматы корректные, можно лишь привести к целочисленному типу данные в столбцах с общим трудовым стажем и ежемесячным доходом."
   ]
  },
  {
   "cell_type": "markdown",
   "metadata": {},
   "source": [
    "## Шаг 2. Предобработка данных"
   ]
  },
  {
   "cell_type": "markdown",
   "metadata": {},
   "source": [
    "Исключим пропуски, проверим данные на наличие дубликатов, а также разобъем данные на категории для более удобного анализа."
   ]
  },
  {
   "cell_type": "markdown",
   "metadata": {},
   "source": [
    "### Обработка пропусков"
   ]
  },
  {
   "cell_type": "markdown",
   "metadata": {},
   "source": [
    "В предыдущем шаге мы выявили, что в данных присутствуют пропущенные значения. Проверим наличие пропусков вызовом набора методов для суммирования пропущенных значений *isnull()* и *sum()*."
   ]
  },
  {
   "cell_type": "code",
   "execution_count": 3,
   "metadata": {},
   "outputs": [
    {
     "data": {
      "text/plain": [
       "children               0\n",
       "days_employed       2174\n",
       "dob_years              0\n",
       "education              0\n",
       "education_id           0\n",
       "family_status          0\n",
       "family_status_id       0\n",
       "gender                 0\n",
       "income_type            0\n",
       "debt                   0\n",
       "total_income        2174\n",
       "purpose                0\n",
       "dtype: int64"
      ]
     },
     "execution_count": 3,
     "metadata": {},
     "output_type": "execute_result"
    }
   ],
   "source": [
    "data.isnull().sum()"
   ]
  },
  {
   "cell_type": "markdown",
   "metadata": {},
   "source": [
    "Информация о наличии пропусков в двух столбцах подтвердилась. \n",
    "\n",
    "Выведем часть таблицы с ячейками с пропусками, воспользовавшись комбинацией методов isna() и sample()."
   ]
  },
  {
   "cell_type": "code",
   "execution_count": 4,
   "metadata": {},
   "outputs": [
    {
     "data": {
      "text/html": [
       "<div>\n",
       "<style scoped>\n",
       "    .dataframe tbody tr th:only-of-type {\n",
       "        vertical-align: middle;\n",
       "    }\n",
       "\n",
       "    .dataframe tbody tr th {\n",
       "        vertical-align: top;\n",
       "    }\n",
       "\n",
       "    .dataframe thead th {\n",
       "        text-align: right;\n",
       "    }\n",
       "</style>\n",
       "<table border=\"1\" class=\"dataframe\">\n",
       "  <thead>\n",
       "    <tr style=\"text-align: right;\">\n",
       "      <th></th>\n",
       "      <th>children</th>\n",
       "      <th>days_employed</th>\n",
       "      <th>dob_years</th>\n",
       "      <th>education</th>\n",
       "      <th>education_id</th>\n",
       "      <th>family_status</th>\n",
       "      <th>family_status_id</th>\n",
       "      <th>gender</th>\n",
       "      <th>income_type</th>\n",
       "      <th>debt</th>\n",
       "      <th>total_income</th>\n",
       "      <th>purpose</th>\n",
       "    </tr>\n",
       "  </thead>\n",
       "  <tbody>\n",
       "    <tr>\n",
       "      <td>2942</td>\n",
       "      <td>0</td>\n",
       "      <td>NaN</td>\n",
       "      <td>66</td>\n",
       "      <td>среднее</td>\n",
       "      <td>1</td>\n",
       "      <td>гражданский брак</td>\n",
       "      <td>1</td>\n",
       "      <td>F</td>\n",
       "      <td>пенсионер</td>\n",
       "      <td>0</td>\n",
       "      <td>NaN</td>\n",
       "      <td>свадьба</td>\n",
       "    </tr>\n",
       "    <tr>\n",
       "      <td>7025</td>\n",
       "      <td>0</td>\n",
       "      <td>NaN</td>\n",
       "      <td>32</td>\n",
       "      <td>среднее</td>\n",
       "      <td>1</td>\n",
       "      <td>женат / замужем</td>\n",
       "      <td>0</td>\n",
       "      <td>F</td>\n",
       "      <td>сотрудник</td>\n",
       "      <td>0</td>\n",
       "      <td>NaN</td>\n",
       "      <td>высшее образование</td>\n",
       "    </tr>\n",
       "    <tr>\n",
       "      <td>8583</td>\n",
       "      <td>0</td>\n",
       "      <td>NaN</td>\n",
       "      <td>58</td>\n",
       "      <td>высшее</td>\n",
       "      <td>0</td>\n",
       "      <td>Не женат / не замужем</td>\n",
       "      <td>4</td>\n",
       "      <td>F</td>\n",
       "      <td>пенсионер</td>\n",
       "      <td>0</td>\n",
       "      <td>NaN</td>\n",
       "      <td>дополнительное образование</td>\n",
       "    </tr>\n",
       "    <tr>\n",
       "      <td>15214</td>\n",
       "      <td>3</td>\n",
       "      <td>NaN</td>\n",
       "      <td>36</td>\n",
       "      <td>среднее</td>\n",
       "      <td>1</td>\n",
       "      <td>гражданский брак</td>\n",
       "      <td>1</td>\n",
       "      <td>F</td>\n",
       "      <td>сотрудник</td>\n",
       "      <td>1</td>\n",
       "      <td>NaN</td>\n",
       "      <td>сделка с автомобилем</td>\n",
       "    </tr>\n",
       "    <tr>\n",
       "      <td>2081</td>\n",
       "      <td>1</td>\n",
       "      <td>NaN</td>\n",
       "      <td>42</td>\n",
       "      <td>высшее</td>\n",
       "      <td>0</td>\n",
       "      <td>женат / замужем</td>\n",
       "      <td>0</td>\n",
       "      <td>M</td>\n",
       "      <td>госслужащий</td>\n",
       "      <td>0</td>\n",
       "      <td>NaN</td>\n",
       "      <td>покупка жилья</td>\n",
       "    </tr>\n",
       "    <tr>\n",
       "      <td>3092</td>\n",
       "      <td>2</td>\n",
       "      <td>NaN</td>\n",
       "      <td>34</td>\n",
       "      <td>СРЕДНЕЕ</td>\n",
       "      <td>1</td>\n",
       "      <td>в разводе</td>\n",
       "      <td>3</td>\n",
       "      <td>F</td>\n",
       "      <td>сотрудник</td>\n",
       "      <td>0</td>\n",
       "      <td>NaN</td>\n",
       "      <td>свой автомобиль</td>\n",
       "    </tr>\n",
       "    <tr>\n",
       "      <td>1092</td>\n",
       "      <td>0</td>\n",
       "      <td>NaN</td>\n",
       "      <td>49</td>\n",
       "      <td>среднее</td>\n",
       "      <td>1</td>\n",
       "      <td>Не женат / не замужем</td>\n",
       "      <td>4</td>\n",
       "      <td>F</td>\n",
       "      <td>сотрудник</td>\n",
       "      <td>0</td>\n",
       "      <td>NaN</td>\n",
       "      <td>покупка жилья для сдачи</td>\n",
       "    </tr>\n",
       "    <tr>\n",
       "      <td>5802</td>\n",
       "      <td>0</td>\n",
       "      <td>NaN</td>\n",
       "      <td>29</td>\n",
       "      <td>высшее</td>\n",
       "      <td>0</td>\n",
       "      <td>женат / замужем</td>\n",
       "      <td>0</td>\n",
       "      <td>F</td>\n",
       "      <td>сотрудник</td>\n",
       "      <td>0</td>\n",
       "      <td>NaN</td>\n",
       "      <td>операции с коммерческой недвижимостью</td>\n",
       "    </tr>\n",
       "    <tr>\n",
       "      <td>3492</td>\n",
       "      <td>0</td>\n",
       "      <td>NaN</td>\n",
       "      <td>30</td>\n",
       "      <td>среднее</td>\n",
       "      <td>1</td>\n",
       "      <td>женат / замужем</td>\n",
       "      <td>0</td>\n",
       "      <td>F</td>\n",
       "      <td>сотрудник</td>\n",
       "      <td>0</td>\n",
       "      <td>NaN</td>\n",
       "      <td>покупка жилья для семьи</td>\n",
       "    </tr>\n",
       "    <tr>\n",
       "      <td>17218</td>\n",
       "      <td>2</td>\n",
       "      <td>NaN</td>\n",
       "      <td>30</td>\n",
       "      <td>среднее</td>\n",
       "      <td>1</td>\n",
       "      <td>женат / замужем</td>\n",
       "      <td>0</td>\n",
       "      <td>F</td>\n",
       "      <td>сотрудник</td>\n",
       "      <td>0</td>\n",
       "      <td>NaN</td>\n",
       "      <td>строительство недвижимости</td>\n",
       "    </tr>\n",
       "  </tbody>\n",
       "</table>\n",
       "</div>"
      ],
      "text/plain": [
       "       children  days_employed  dob_years education  education_id  \\\n",
       "2942          0            NaN         66   среднее             1   \n",
       "7025          0            NaN         32   среднее             1   \n",
       "8583          0            NaN         58    высшее             0   \n",
       "15214         3            NaN         36   среднее             1   \n",
       "2081          1            NaN         42    высшее             0   \n",
       "3092          2            NaN         34   СРЕДНЕЕ             1   \n",
       "1092          0            NaN         49   среднее             1   \n",
       "5802          0            NaN         29    высшее             0   \n",
       "3492          0            NaN         30   среднее             1   \n",
       "17218         2            NaN         30   среднее             1   \n",
       "\n",
       "               family_status  family_status_id gender  income_type  debt  \\\n",
       "2942        гражданский брак                 1      F    пенсионер     0   \n",
       "7025         женат / замужем                 0      F    сотрудник     0   \n",
       "8583   Не женат / не замужем                 4      F    пенсионер     0   \n",
       "15214       гражданский брак                 1      F    сотрудник     1   \n",
       "2081         женат / замужем                 0      M  госслужащий     0   \n",
       "3092               в разводе                 3      F    сотрудник     0   \n",
       "1092   Не женат / не замужем                 4      F    сотрудник     0   \n",
       "5802         женат / замужем                 0      F    сотрудник     0   \n",
       "3492         женат / замужем                 0      F    сотрудник     0   \n",
       "17218        женат / замужем                 0      F    сотрудник     0   \n",
       "\n",
       "       total_income                                purpose  \n",
       "2942            NaN                                свадьба  \n",
       "7025            NaN                     высшее образование  \n",
       "8583            NaN             дополнительное образование  \n",
       "15214           NaN                   сделка с автомобилем  \n",
       "2081            NaN                          покупка жилья  \n",
       "3092            NaN                        свой автомобиль  \n",
       "1092            NaN                покупка жилья для сдачи  \n",
       "5802            NaN  операции с коммерческой недвижимостью  \n",
       "3492            NaN                покупка жилья для семьи  \n",
       "17218           NaN             строительство недвижимости  "
      ]
     },
     "metadata": {},
     "output_type": "display_data"
    }
   ],
   "source": [
    "display (data[data['total_income'].isna()].sample(10)) "
   ]
  },
  {
   "cell_type": "markdown",
   "metadata": {},
   "source": [
    "Пропуски присутствуют в двух столбцах: общий трудовой стаж в днях и ежемесячный доход. Т.к. в обоих случаях количество пропусков одинаковое, и исходя из фрагмента выше, вероятно нет данных по одним и тем же заёмщикам. Возможно данные не были предоставлены или возникли ошибки при обработке и внесении информации в базу данных.\n",
    "\n",
    "В остальном какой-либо закономерности с пропусками не наблюдается. Строки с пропусками составляют примерно 10% от всей выборки, что существенно. \n",
    "Столбец с трудовым стажем для решения поставленной задачи не важен, заполним его нулями.\n",
    " "
   ]
  },
  {
   "cell_type": "code",
   "execution_count": 5,
   "metadata": {},
   "outputs": [],
   "source": [
    "data['days_employed'] = data['days_employed'].fillna(0)"
   ]
  },
  {
   "cell_type": "markdown",
   "metadata": {},
   "source": [
    "Пропуски в данных по ежемесячному доходу желательно заполнить. Получим список уникальных значений типов занятости и используем медианные значения в зависимости от типа занятости для заполнения пропусков.\n",
    "\n"
   ]
  },
  {
   "cell_type": "code",
   "execution_count": 6,
   "metadata": {},
   "outputs": [],
   "source": [
    "data['total_income'].fillna(value = data.groupby(['income_type'])['total_income'].transform('median'), inplace = True)"
   ]
  },
  {
   "cell_type": "markdown",
   "metadata": {},
   "source": [
    "Проверим результат - количество оставшихся пропусков:"
   ]
  },
  {
   "cell_type": "code",
   "execution_count": 7,
   "metadata": {
    "scrolled": true
   },
   "outputs": [
    {
     "name": "stdout",
     "output_type": "stream",
     "text": [
      "children            0\n",
      "days_employed       0\n",
      "dob_years           0\n",
      "education           0\n",
      "education_id        0\n",
      "family_status       0\n",
      "family_status_id    0\n",
      "gender              0\n",
      "income_type         0\n",
      "debt                0\n",
      "total_income        0\n",
      "purpose             0\n",
      "dtype: int64\n"
     ]
    }
   ],
   "source": [
    "print (data.isnull().sum()) "
   ]
  },
  {
   "cell_type": "markdown",
   "metadata": {},
   "source": [
    "Пропуски после замены отсутствуют."
   ]
  },
  {
   "cell_type": "markdown",
   "metadata": {},
   "source": [
    "Проверим значения в столбце \"Семейное положение\""
   ]
  },
  {
   "cell_type": "code",
   "execution_count": 8,
   "metadata": {},
   "outputs": [
    {
     "name": "stdout",
     "output_type": "stream",
     "text": [
      "женат / замужем          12380\n",
      "гражданский брак          4177\n",
      "Не женат / не замужем     2813\n",
      "в разводе                 1195\n",
      "вдовец / вдова             960\n",
      "Name: family_status, dtype: int64\n",
      "21525\n"
     ]
    }
   ],
   "source": [
    "print(data['family_status'].value_counts())\n",
    "print(data['family_status'].count())"
   ]
  },
  {
   "cell_type": "markdown",
   "metadata": {},
   "source": [
    "Проблем со столбцом \"Семейное положение\" не наблюдается. Задвоенных или некорректных значений нет. "
   ]
  },
  {
   "cell_type": "markdown",
   "metadata": {},
   "source": [
    "Проанализируем содержание столбца \"Количество детей\""
   ]
  },
  {
   "cell_type": "code",
   "execution_count": 9,
   "metadata": {},
   "outputs": [
    {
     "name": "stdout",
     "output_type": "stream",
     "text": [
      " 0     14149\n",
      " 1      4818\n",
      " 2      2055\n",
      " 3       330\n",
      " 20       76\n",
      "-1        47\n",
      " 4        41\n",
      " 5         9\n",
      "Name: children, dtype: int64\n"
     ]
    }
   ],
   "source": [
    "print(data['children'].value_counts())"
   ]
  },
  {
   "cell_type": "markdown",
   "metadata": {},
   "source": [
    "Есть отрицательные значения \"-1\". Вероятно, это связано с неточностями при заполнении.  Исправим это при помощи метода *.abs*,т.е. присвоив всем данным в столбце *children* их значения по модулю, исходя из того, что вместо \"-1\" должно быть \"1\"."
   ]
  },
  {
   "cell_type": "code",
   "execution_count": 10,
   "metadata": {},
   "outputs": [],
   "source": [
    "data['children'] = data['children'].abs()"
   ]
  },
  {
   "cell_type": "markdown",
   "metadata": {},
   "source": [
    "Так же есть 76 случаев, когда количество детей равно 20. Здесь явно ошибка, т.к. в промежутке от 5 до 20 нет ни одного варианта, а здесь сразу 76. Наиболее вероятно, что в этих случаях детей двое. Но нужно донести эту информацию до тех, кто занимается сбором и заполнением данных. Возможно, не корректно сделана форма для сбора информации. Как вариант, в форме изначально указан ноль, и при внесении значения ноль не исчезает, а к нему добавляется внесенное значение.\n",
    "\n",
    "Заменим все значения \"20\" на \"2\", воспользовавшись *.replace()*."
   ]
  },
  {
   "cell_type": "code",
   "execution_count": 11,
   "metadata": {},
   "outputs": [
    {
     "name": "stdout",
     "output_type": "stream",
     "text": [
      "0    14149\n",
      "1     4865\n",
      "2     2131\n",
      "3      330\n",
      "4       41\n",
      "5        9\n",
      "Name: children, dtype: int64\n"
     ]
    }
   ],
   "source": [
    "data['children'] = data['children'].replace(20, 2)\n",
    "print(data['children'].value_counts())"
   ]
  },
  {
   "cell_type": "markdown",
   "metadata": {},
   "source": [
    "Теперь ошибок в столбце с количеством детей нет."
   ]
  },
  {
   "cell_type": "markdown",
   "metadata": {},
   "source": [
    "**Вывод**"
   ]
  },
  {
   "cell_type": "markdown",
   "metadata": {},
   "source": [
    "Провели работу с пропусками: пропуски в ежемесячном доходе заполнили медианным значением по типу дохода, пропуски в трудовом стаже заменили на ноль, чтобы можно было в дальнейшем поменять тип данных в столбце на целочисленный."
   ]
  },
  {
   "cell_type": "markdown",
   "metadata": {},
   "source": [
    "### Замена типа данных"
   ]
  },
  {
   "cell_type": "markdown",
   "metadata": {},
   "source": [
    "Приведем данные в столбцах с трудовым стажем и общим доходом к целочисленному типу. Используем метод *.astype()*, который позволяет преобразовать практически любой тип данных в практически любой другой, а также позволяет четко указать, какой тип данным мы хотим получить на выходе. Передадим ему в качестве аргумента **'int'**.\n",
    "Для проверки результата вызовем метод *info()*."
   ]
  },
  {
   "cell_type": "code",
   "execution_count": 12,
   "metadata": {},
   "outputs": [
    {
     "name": "stdout",
     "output_type": "stream",
     "text": [
      "<class 'pandas.core.frame.DataFrame'>\n",
      "RangeIndex: 21525 entries, 0 to 21524\n",
      "Data columns (total 12 columns):\n",
      "children            21525 non-null int64\n",
      "days_employed       21525 non-null int64\n",
      "dob_years           21525 non-null int64\n",
      "education           21525 non-null object\n",
      "education_id        21525 non-null int64\n",
      "family_status       21525 non-null object\n",
      "family_status_id    21525 non-null int64\n",
      "gender              21525 non-null object\n",
      "income_type         21525 non-null object\n",
      "debt                21525 non-null int64\n",
      "total_income        21525 non-null int64\n",
      "purpose             21525 non-null object\n",
      "dtypes: int64(7), object(5)\n",
      "memory usage: 2.0+ MB\n"
     ]
    }
   ],
   "source": [
    "data['days_employed'] = data['days_employed'].astype('int')\n",
    "data['total_income'] = data['total_income'].astype('int')\n",
    "data.info()"
   ]
  },
  {
   "cell_type": "markdown",
   "metadata": {},
   "source": [
    "**Вывод**"
   ]
  },
  {
   "cell_type": "markdown",
   "metadata": {},
   "source": [
    "Типы данных в столбцах удобны для дальнейшей работы."
   ]
  },
  {
   "cell_type": "markdown",
   "metadata": {},
   "source": [
    "### Обработка дубликатов"
   ]
  },
  {
   "cell_type": "markdown",
   "metadata": {},
   "source": [
    "Установим наличие дубликатов и удалим их, чтобы не исказить результаты дальнейшего анализа.\n",
    "\n",
    "Используем метод *duplicates()* для обнаружения дубликатов."
   ]
  },
  {
   "cell_type": "code",
   "execution_count": 13,
   "metadata": {},
   "outputs": [
    {
     "data": {
      "text/html": [
       "<div>\n",
       "<style scoped>\n",
       "    .dataframe tbody tr th:only-of-type {\n",
       "        vertical-align: middle;\n",
       "    }\n",
       "\n",
       "    .dataframe tbody tr th {\n",
       "        vertical-align: top;\n",
       "    }\n",
       "\n",
       "    .dataframe thead th {\n",
       "        text-align: right;\n",
       "    }\n",
       "</style>\n",
       "<table border=\"1\" class=\"dataframe\">\n",
       "  <thead>\n",
       "    <tr style=\"text-align: right;\">\n",
       "      <th></th>\n",
       "      <th>children</th>\n",
       "      <th>days_employed</th>\n",
       "      <th>dob_years</th>\n",
       "      <th>education</th>\n",
       "      <th>education_id</th>\n",
       "      <th>family_status</th>\n",
       "      <th>family_status_id</th>\n",
       "      <th>gender</th>\n",
       "      <th>income_type</th>\n",
       "      <th>debt</th>\n",
       "      <th>total_income</th>\n",
       "      <th>purpose</th>\n",
       "    </tr>\n",
       "  </thead>\n",
       "  <tbody>\n",
       "    <tr>\n",
       "      <td>2849</td>\n",
       "      <td>0</td>\n",
       "      <td>0</td>\n",
       "      <td>41</td>\n",
       "      <td>среднее</td>\n",
       "      <td>1</td>\n",
       "      <td>женат / замужем</td>\n",
       "      <td>0</td>\n",
       "      <td>F</td>\n",
       "      <td>сотрудник</td>\n",
       "      <td>0</td>\n",
       "      <td>142594</td>\n",
       "      <td>покупка жилья для семьи</td>\n",
       "    </tr>\n",
       "    <tr>\n",
       "      <td>4182</td>\n",
       "      <td>1</td>\n",
       "      <td>0</td>\n",
       "      <td>34</td>\n",
       "      <td>ВЫСШЕЕ</td>\n",
       "      <td>0</td>\n",
       "      <td>гражданский брак</td>\n",
       "      <td>1</td>\n",
       "      <td>F</td>\n",
       "      <td>сотрудник</td>\n",
       "      <td>0</td>\n",
       "      <td>142594</td>\n",
       "      <td>свадьба</td>\n",
       "    </tr>\n",
       "    <tr>\n",
       "      <td>4851</td>\n",
       "      <td>0</td>\n",
       "      <td>0</td>\n",
       "      <td>60</td>\n",
       "      <td>среднее</td>\n",
       "      <td>1</td>\n",
       "      <td>гражданский брак</td>\n",
       "      <td>1</td>\n",
       "      <td>F</td>\n",
       "      <td>пенсионер</td>\n",
       "      <td>0</td>\n",
       "      <td>118514</td>\n",
       "      <td>свадьба</td>\n",
       "    </tr>\n",
       "    <tr>\n",
       "      <td>5557</td>\n",
       "      <td>0</td>\n",
       "      <td>0</td>\n",
       "      <td>58</td>\n",
       "      <td>среднее</td>\n",
       "      <td>1</td>\n",
       "      <td>гражданский брак</td>\n",
       "      <td>1</td>\n",
       "      <td>F</td>\n",
       "      <td>пенсионер</td>\n",
       "      <td>0</td>\n",
       "      <td>118514</td>\n",
       "      <td>сыграть свадьбу</td>\n",
       "    </tr>\n",
       "    <tr>\n",
       "      <td>7808</td>\n",
       "      <td>0</td>\n",
       "      <td>0</td>\n",
       "      <td>57</td>\n",
       "      <td>среднее</td>\n",
       "      <td>1</td>\n",
       "      <td>гражданский брак</td>\n",
       "      <td>1</td>\n",
       "      <td>F</td>\n",
       "      <td>пенсионер</td>\n",
       "      <td>0</td>\n",
       "      <td>118514</td>\n",
       "      <td>на проведение свадьбы</td>\n",
       "    </tr>\n",
       "    <tr>\n",
       "      <td>8583</td>\n",
       "      <td>0</td>\n",
       "      <td>0</td>\n",
       "      <td>58</td>\n",
       "      <td>высшее</td>\n",
       "      <td>0</td>\n",
       "      <td>Не женат / не замужем</td>\n",
       "      <td>4</td>\n",
       "      <td>F</td>\n",
       "      <td>пенсионер</td>\n",
       "      <td>0</td>\n",
       "      <td>118514</td>\n",
       "      <td>дополнительное образование</td>\n",
       "    </tr>\n",
       "    <tr>\n",
       "      <td>9238</td>\n",
       "      <td>2</td>\n",
       "      <td>0</td>\n",
       "      <td>34</td>\n",
       "      <td>среднее</td>\n",
       "      <td>1</td>\n",
       "      <td>женат / замужем</td>\n",
       "      <td>0</td>\n",
       "      <td>F</td>\n",
       "      <td>сотрудник</td>\n",
       "      <td>0</td>\n",
       "      <td>142594</td>\n",
       "      <td>покупка жилья для сдачи</td>\n",
       "    </tr>\n",
       "    <tr>\n",
       "      <td>9528</td>\n",
       "      <td>0</td>\n",
       "      <td>0</td>\n",
       "      <td>66</td>\n",
       "      <td>среднее</td>\n",
       "      <td>1</td>\n",
       "      <td>вдовец / вдова</td>\n",
       "      <td>2</td>\n",
       "      <td>F</td>\n",
       "      <td>пенсионер</td>\n",
       "      <td>0</td>\n",
       "      <td>118514</td>\n",
       "      <td>операции со своей недвижимостью</td>\n",
       "    </tr>\n",
       "    <tr>\n",
       "      <td>9627</td>\n",
       "      <td>0</td>\n",
       "      <td>0</td>\n",
       "      <td>56</td>\n",
       "      <td>среднее</td>\n",
       "      <td>1</td>\n",
       "      <td>женат / замужем</td>\n",
       "      <td>0</td>\n",
       "      <td>F</td>\n",
       "      <td>пенсионер</td>\n",
       "      <td>0</td>\n",
       "      <td>118514</td>\n",
       "      <td>операции со своей недвижимостью</td>\n",
       "    </tr>\n",
       "    <tr>\n",
       "      <td>10462</td>\n",
       "      <td>0</td>\n",
       "      <td>0</td>\n",
       "      <td>62</td>\n",
       "      <td>среднее</td>\n",
       "      <td>1</td>\n",
       "      <td>женат / замужем</td>\n",
       "      <td>0</td>\n",
       "      <td>F</td>\n",
       "      <td>пенсионер</td>\n",
       "      <td>0</td>\n",
       "      <td>118514</td>\n",
       "      <td>покупка коммерческой недвижимости</td>\n",
       "    </tr>\n",
       "    <tr>\n",
       "      <td>10697</td>\n",
       "      <td>0</td>\n",
       "      <td>0</td>\n",
       "      <td>40</td>\n",
       "      <td>среднее</td>\n",
       "      <td>1</td>\n",
       "      <td>гражданский брак</td>\n",
       "      <td>1</td>\n",
       "      <td>F</td>\n",
       "      <td>компаньон</td>\n",
       "      <td>0</td>\n",
       "      <td>172357</td>\n",
       "      <td>сыграть свадьбу</td>\n",
       "    </tr>\n",
       "    <tr>\n",
       "      <td>10864</td>\n",
       "      <td>0</td>\n",
       "      <td>0</td>\n",
       "      <td>62</td>\n",
       "      <td>среднее</td>\n",
       "      <td>1</td>\n",
       "      <td>женат / замужем</td>\n",
       "      <td>0</td>\n",
       "      <td>F</td>\n",
       "      <td>пенсионер</td>\n",
       "      <td>0</td>\n",
       "      <td>118514</td>\n",
       "      <td>ремонт жилью</td>\n",
       "    </tr>\n",
       "    <tr>\n",
       "      <td>10994</td>\n",
       "      <td>0</td>\n",
       "      <td>0</td>\n",
       "      <td>62</td>\n",
       "      <td>среднее</td>\n",
       "      <td>1</td>\n",
       "      <td>женат / замужем</td>\n",
       "      <td>0</td>\n",
       "      <td>F</td>\n",
       "      <td>пенсионер</td>\n",
       "      <td>0</td>\n",
       "      <td>118514</td>\n",
       "      <td>ремонт жилью</td>\n",
       "    </tr>\n",
       "    <tr>\n",
       "      <td>11791</td>\n",
       "      <td>0</td>\n",
       "      <td>0</td>\n",
       "      <td>47</td>\n",
       "      <td>среднее</td>\n",
       "      <td>1</td>\n",
       "      <td>женат / замужем</td>\n",
       "      <td>0</td>\n",
       "      <td>F</td>\n",
       "      <td>сотрудник</td>\n",
       "      <td>0</td>\n",
       "      <td>142594</td>\n",
       "      <td>строительство недвижимости</td>\n",
       "    </tr>\n",
       "    <tr>\n",
       "      <td>12373</td>\n",
       "      <td>0</td>\n",
       "      <td>0</td>\n",
       "      <td>58</td>\n",
       "      <td>среднее</td>\n",
       "      <td>1</td>\n",
       "      <td>женат / замужем</td>\n",
       "      <td>0</td>\n",
       "      <td>M</td>\n",
       "      <td>сотрудник</td>\n",
       "      <td>0</td>\n",
       "      <td>142594</td>\n",
       "      <td>покупка недвижимости</td>\n",
       "    </tr>\n",
       "    <tr>\n",
       "      <td>12375</td>\n",
       "      <td>1</td>\n",
       "      <td>0</td>\n",
       "      <td>37</td>\n",
       "      <td>среднее</td>\n",
       "      <td>1</td>\n",
       "      <td>женат / замужем</td>\n",
       "      <td>0</td>\n",
       "      <td>F</td>\n",
       "      <td>сотрудник</td>\n",
       "      <td>0</td>\n",
       "      <td>142594</td>\n",
       "      <td>покупка недвижимости</td>\n",
       "    </tr>\n",
       "    <tr>\n",
       "      <td>12736</td>\n",
       "      <td>0</td>\n",
       "      <td>0</td>\n",
       "      <td>59</td>\n",
       "      <td>среднее</td>\n",
       "      <td>1</td>\n",
       "      <td>женат / замужем</td>\n",
       "      <td>0</td>\n",
       "      <td>F</td>\n",
       "      <td>пенсионер</td>\n",
       "      <td>0</td>\n",
       "      <td>118514</td>\n",
       "      <td>заняться образованием</td>\n",
       "    </tr>\n",
       "    <tr>\n",
       "      <td>13025</td>\n",
       "      <td>1</td>\n",
       "      <td>0</td>\n",
       "      <td>44</td>\n",
       "      <td>среднее</td>\n",
       "      <td>1</td>\n",
       "      <td>женат / замужем</td>\n",
       "      <td>0</td>\n",
       "      <td>F</td>\n",
       "      <td>сотрудник</td>\n",
       "      <td>0</td>\n",
       "      <td>142594</td>\n",
       "      <td>сделка с подержанным автомобилем</td>\n",
       "    </tr>\n",
       "    <tr>\n",
       "      <td>13639</td>\n",
       "      <td>0</td>\n",
       "      <td>0</td>\n",
       "      <td>64</td>\n",
       "      <td>среднее</td>\n",
       "      <td>1</td>\n",
       "      <td>женат / замужем</td>\n",
       "      <td>0</td>\n",
       "      <td>F</td>\n",
       "      <td>пенсионер</td>\n",
       "      <td>0</td>\n",
       "      <td>118514</td>\n",
       "      <td>автомобиль</td>\n",
       "    </tr>\n",
       "    <tr>\n",
       "      <td>13773</td>\n",
       "      <td>0</td>\n",
       "      <td>0</td>\n",
       "      <td>35</td>\n",
       "      <td>среднее</td>\n",
       "      <td>1</td>\n",
       "      <td>гражданский брак</td>\n",
       "      <td>1</td>\n",
       "      <td>F</td>\n",
       "      <td>сотрудник</td>\n",
       "      <td>0</td>\n",
       "      <td>142594</td>\n",
       "      <td>сыграть свадьбу</td>\n",
       "    </tr>\n",
       "    <tr>\n",
       "      <td>13878</td>\n",
       "      <td>1</td>\n",
       "      <td>0</td>\n",
       "      <td>31</td>\n",
       "      <td>среднее</td>\n",
       "      <td>1</td>\n",
       "      <td>женат / замужем</td>\n",
       "      <td>0</td>\n",
       "      <td>F</td>\n",
       "      <td>компаньон</td>\n",
       "      <td>0</td>\n",
       "      <td>172357</td>\n",
       "      <td>покупка жилья</td>\n",
       "    </tr>\n",
       "    <tr>\n",
       "      <td>13942</td>\n",
       "      <td>0</td>\n",
       "      <td>0</td>\n",
       "      <td>44</td>\n",
       "      <td>среднее</td>\n",
       "      <td>1</td>\n",
       "      <td>женат / замужем</td>\n",
       "      <td>0</td>\n",
       "      <td>F</td>\n",
       "      <td>сотрудник</td>\n",
       "      <td>0</td>\n",
       "      <td>142594</td>\n",
       "      <td>приобретение автомобиля</td>\n",
       "    </tr>\n",
       "    <tr>\n",
       "      <td>14432</td>\n",
       "      <td>2</td>\n",
       "      <td>0</td>\n",
       "      <td>36</td>\n",
       "      <td>высшее</td>\n",
       "      <td>0</td>\n",
       "      <td>женат / замужем</td>\n",
       "      <td>0</td>\n",
       "      <td>F</td>\n",
       "      <td>госслужащий</td>\n",
       "      <td>0</td>\n",
       "      <td>150447</td>\n",
       "      <td>получение образования</td>\n",
       "    </tr>\n",
       "    <tr>\n",
       "      <td>14832</td>\n",
       "      <td>0</td>\n",
       "      <td>0</td>\n",
       "      <td>50</td>\n",
       "      <td>среднее</td>\n",
       "      <td>1</td>\n",
       "      <td>Не женат / не замужем</td>\n",
       "      <td>4</td>\n",
       "      <td>F</td>\n",
       "      <td>сотрудник</td>\n",
       "      <td>0</td>\n",
       "      <td>142594</td>\n",
       "      <td>недвижимость</td>\n",
       "    </tr>\n",
       "    <tr>\n",
       "      <td>15091</td>\n",
       "      <td>0</td>\n",
       "      <td>0</td>\n",
       "      <td>58</td>\n",
       "      <td>среднее</td>\n",
       "      <td>1</td>\n",
       "      <td>гражданский брак</td>\n",
       "      <td>1</td>\n",
       "      <td>M</td>\n",
       "      <td>сотрудник</td>\n",
       "      <td>0</td>\n",
       "      <td>142594</td>\n",
       "      <td>на проведение свадьбы</td>\n",
       "    </tr>\n",
       "    <tr>\n",
       "      <td>15188</td>\n",
       "      <td>0</td>\n",
       "      <td>0</td>\n",
       "      <td>60</td>\n",
       "      <td>среднее</td>\n",
       "      <td>1</td>\n",
       "      <td>женат / замужем</td>\n",
       "      <td>0</td>\n",
       "      <td>M</td>\n",
       "      <td>сотрудник</td>\n",
       "      <td>0</td>\n",
       "      <td>142594</td>\n",
       "      <td>покупка недвижимости</td>\n",
       "    </tr>\n",
       "    <tr>\n",
       "      <td>15273</td>\n",
       "      <td>0</td>\n",
       "      <td>0</td>\n",
       "      <td>57</td>\n",
       "      <td>среднее</td>\n",
       "      <td>1</td>\n",
       "      <td>гражданский брак</td>\n",
       "      <td>1</td>\n",
       "      <td>F</td>\n",
       "      <td>пенсионер</td>\n",
       "      <td>0</td>\n",
       "      <td>118514</td>\n",
       "      <td>свадьба</td>\n",
       "    </tr>\n",
       "    <tr>\n",
       "      <td>16176</td>\n",
       "      <td>0</td>\n",
       "      <td>0</td>\n",
       "      <td>47</td>\n",
       "      <td>среднее</td>\n",
       "      <td>1</td>\n",
       "      <td>женат / замужем</td>\n",
       "      <td>0</td>\n",
       "      <td>F</td>\n",
       "      <td>сотрудник</td>\n",
       "      <td>0</td>\n",
       "      <td>142594</td>\n",
       "      <td>ремонт жилью</td>\n",
       "    </tr>\n",
       "    <tr>\n",
       "      <td>16378</td>\n",
       "      <td>0</td>\n",
       "      <td>0</td>\n",
       "      <td>46</td>\n",
       "      <td>среднее</td>\n",
       "      <td>1</td>\n",
       "      <td>женат / замужем</td>\n",
       "      <td>0</td>\n",
       "      <td>F</td>\n",
       "      <td>сотрудник</td>\n",
       "      <td>0</td>\n",
       "      <td>142594</td>\n",
       "      <td>высшее образование</td>\n",
       "    </tr>\n",
       "    <tr>\n",
       "      <td>16902</td>\n",
       "      <td>2</td>\n",
       "      <td>0</td>\n",
       "      <td>39</td>\n",
       "      <td>среднее</td>\n",
       "      <td>1</td>\n",
       "      <td>гражданский брак</td>\n",
       "      <td>1</td>\n",
       "      <td>F</td>\n",
       "      <td>сотрудник</td>\n",
       "      <td>0</td>\n",
       "      <td>142594</td>\n",
       "      <td>сыграть свадьбу</td>\n",
       "    </tr>\n",
       "    <tr>\n",
       "      <td>16904</td>\n",
       "      <td>1</td>\n",
       "      <td>0</td>\n",
       "      <td>32</td>\n",
       "      <td>высшее</td>\n",
       "      <td>0</td>\n",
       "      <td>женат / замужем</td>\n",
       "      <td>0</td>\n",
       "      <td>F</td>\n",
       "      <td>сотрудник</td>\n",
       "      <td>0</td>\n",
       "      <td>142594</td>\n",
       "      <td>на покупку подержанного автомобиля</td>\n",
       "    </tr>\n",
       "    <tr>\n",
       "      <td>17379</td>\n",
       "      <td>0</td>\n",
       "      <td>0</td>\n",
       "      <td>54</td>\n",
       "      <td>высшее</td>\n",
       "      <td>0</td>\n",
       "      <td>женат / замужем</td>\n",
       "      <td>0</td>\n",
       "      <td>M</td>\n",
       "      <td>компаньон</td>\n",
       "      <td>0</td>\n",
       "      <td>172357</td>\n",
       "      <td>операции с коммерческой недвижимостью</td>\n",
       "    </tr>\n",
       "    <tr>\n",
       "      <td>17755</td>\n",
       "      <td>1</td>\n",
       "      <td>0</td>\n",
       "      <td>43</td>\n",
       "      <td>среднее</td>\n",
       "      <td>1</td>\n",
       "      <td>женат / замужем</td>\n",
       "      <td>0</td>\n",
       "      <td>M</td>\n",
       "      <td>сотрудник</td>\n",
       "      <td>0</td>\n",
       "      <td>142594</td>\n",
       "      <td>заняться образованием</td>\n",
       "    </tr>\n",
       "    <tr>\n",
       "      <td>17774</td>\n",
       "      <td>1</td>\n",
       "      <td>0</td>\n",
       "      <td>40</td>\n",
       "      <td>среднее</td>\n",
       "      <td>1</td>\n",
       "      <td>гражданский брак</td>\n",
       "      <td>1</td>\n",
       "      <td>F</td>\n",
       "      <td>компаньон</td>\n",
       "      <td>0</td>\n",
       "      <td>172357</td>\n",
       "      <td>строительство жилой недвижимости</td>\n",
       "    </tr>\n",
       "    <tr>\n",
       "      <td>18328</td>\n",
       "      <td>0</td>\n",
       "      <td>0</td>\n",
       "      <td>29</td>\n",
       "      <td>высшее</td>\n",
       "      <td>0</td>\n",
       "      <td>женат / замужем</td>\n",
       "      <td>0</td>\n",
       "      <td>M</td>\n",
       "      <td>сотрудник</td>\n",
       "      <td>0</td>\n",
       "      <td>142594</td>\n",
       "      <td>покупка жилой недвижимости</td>\n",
       "    </tr>\n",
       "    <tr>\n",
       "      <td>18349</td>\n",
       "      <td>1</td>\n",
       "      <td>0</td>\n",
       "      <td>30</td>\n",
       "      <td>высшее</td>\n",
       "      <td>0</td>\n",
       "      <td>женат / замужем</td>\n",
       "      <td>0</td>\n",
       "      <td>F</td>\n",
       "      <td>госслужащий</td>\n",
       "      <td>0</td>\n",
       "      <td>150447</td>\n",
       "      <td>покупка жилья для семьи</td>\n",
       "    </tr>\n",
       "    <tr>\n",
       "      <td>18428</td>\n",
       "      <td>0</td>\n",
       "      <td>0</td>\n",
       "      <td>64</td>\n",
       "      <td>среднее</td>\n",
       "      <td>1</td>\n",
       "      <td>женат / замужем</td>\n",
       "      <td>0</td>\n",
       "      <td>F</td>\n",
       "      <td>пенсионер</td>\n",
       "      <td>0</td>\n",
       "      <td>118514</td>\n",
       "      <td>жилье</td>\n",
       "    </tr>\n",
       "    <tr>\n",
       "      <td>18521</td>\n",
       "      <td>0</td>\n",
       "      <td>0</td>\n",
       "      <td>56</td>\n",
       "      <td>среднее</td>\n",
       "      <td>1</td>\n",
       "      <td>гражданский брак</td>\n",
       "      <td>1</td>\n",
       "      <td>F</td>\n",
       "      <td>сотрудник</td>\n",
       "      <td>0</td>\n",
       "      <td>142594</td>\n",
       "      <td>сыграть свадьбу</td>\n",
       "    </tr>\n",
       "    <tr>\n",
       "      <td>18563</td>\n",
       "      <td>0</td>\n",
       "      <td>0</td>\n",
       "      <td>54</td>\n",
       "      <td>среднее</td>\n",
       "      <td>1</td>\n",
       "      <td>женат / замужем</td>\n",
       "      <td>0</td>\n",
       "      <td>F</td>\n",
       "      <td>сотрудник</td>\n",
       "      <td>0</td>\n",
       "      <td>142594</td>\n",
       "      <td>операции со своей недвижимостью</td>\n",
       "    </tr>\n",
       "    <tr>\n",
       "      <td>18755</td>\n",
       "      <td>0</td>\n",
       "      <td>0</td>\n",
       "      <td>58</td>\n",
       "      <td>среднее</td>\n",
       "      <td>1</td>\n",
       "      <td>женат / замужем</td>\n",
       "      <td>0</td>\n",
       "      <td>F</td>\n",
       "      <td>пенсионер</td>\n",
       "      <td>0</td>\n",
       "      <td>118514</td>\n",
       "      <td>заняться образованием</td>\n",
       "    </tr>\n",
       "    <tr>\n",
       "      <td>19041</td>\n",
       "      <td>0</td>\n",
       "      <td>0</td>\n",
       "      <td>56</td>\n",
       "      <td>среднее</td>\n",
       "      <td>1</td>\n",
       "      <td>гражданский брак</td>\n",
       "      <td>1</td>\n",
       "      <td>F</td>\n",
       "      <td>сотрудник</td>\n",
       "      <td>0</td>\n",
       "      <td>142594</td>\n",
       "      <td>на проведение свадьбы</td>\n",
       "    </tr>\n",
       "    <tr>\n",
       "      <td>19184</td>\n",
       "      <td>0</td>\n",
       "      <td>0</td>\n",
       "      <td>46</td>\n",
       "      <td>среднее</td>\n",
       "      <td>1</td>\n",
       "      <td>женат / замужем</td>\n",
       "      <td>0</td>\n",
       "      <td>F</td>\n",
       "      <td>сотрудник</td>\n",
       "      <td>0</td>\n",
       "      <td>142594</td>\n",
       "      <td>свой автомобиль</td>\n",
       "    </tr>\n",
       "    <tr>\n",
       "      <td>19321</td>\n",
       "      <td>0</td>\n",
       "      <td>0</td>\n",
       "      <td>23</td>\n",
       "      <td>среднее</td>\n",
       "      <td>1</td>\n",
       "      <td>Не женат / не замужем</td>\n",
       "      <td>4</td>\n",
       "      <td>F</td>\n",
       "      <td>сотрудник</td>\n",
       "      <td>0</td>\n",
       "      <td>142594</td>\n",
       "      <td>сделка с подержанным автомобилем</td>\n",
       "    </tr>\n",
       "    <tr>\n",
       "      <td>19387</td>\n",
       "      <td>0</td>\n",
       "      <td>0</td>\n",
       "      <td>38</td>\n",
       "      <td>высшее</td>\n",
       "      <td>0</td>\n",
       "      <td>гражданский брак</td>\n",
       "      <td>1</td>\n",
       "      <td>F</td>\n",
       "      <td>компаньон</td>\n",
       "      <td>0</td>\n",
       "      <td>172357</td>\n",
       "      <td>на проведение свадьбы</td>\n",
       "    </tr>\n",
       "    <tr>\n",
       "      <td>19688</td>\n",
       "      <td>0</td>\n",
       "      <td>0</td>\n",
       "      <td>61</td>\n",
       "      <td>среднее</td>\n",
       "      <td>1</td>\n",
       "      <td>женат / замужем</td>\n",
       "      <td>0</td>\n",
       "      <td>F</td>\n",
       "      <td>пенсионер</td>\n",
       "      <td>0</td>\n",
       "      <td>118514</td>\n",
       "      <td>операции с недвижимостью</td>\n",
       "    </tr>\n",
       "    <tr>\n",
       "      <td>19832</td>\n",
       "      <td>0</td>\n",
       "      <td>0</td>\n",
       "      <td>48</td>\n",
       "      <td>среднее</td>\n",
       "      <td>1</td>\n",
       "      <td>женат / замужем</td>\n",
       "      <td>0</td>\n",
       "      <td>F</td>\n",
       "      <td>сотрудник</td>\n",
       "      <td>0</td>\n",
       "      <td>142594</td>\n",
       "      <td>ремонт жилью</td>\n",
       "    </tr>\n",
       "    <tr>\n",
       "      <td>19946</td>\n",
       "      <td>0</td>\n",
       "      <td>0</td>\n",
       "      <td>57</td>\n",
       "      <td>среднее</td>\n",
       "      <td>1</td>\n",
       "      <td>женат / замужем</td>\n",
       "      <td>0</td>\n",
       "      <td>F</td>\n",
       "      <td>сотрудник</td>\n",
       "      <td>0</td>\n",
       "      <td>142594</td>\n",
       "      <td>сделка с подержанным автомобилем</td>\n",
       "    </tr>\n",
       "    <tr>\n",
       "      <td>20116</td>\n",
       "      <td>0</td>\n",
       "      <td>0</td>\n",
       "      <td>57</td>\n",
       "      <td>среднее</td>\n",
       "      <td>1</td>\n",
       "      <td>гражданский брак</td>\n",
       "      <td>1</td>\n",
       "      <td>M</td>\n",
       "      <td>пенсионер</td>\n",
       "      <td>0</td>\n",
       "      <td>118514</td>\n",
       "      <td>свадьба</td>\n",
       "    </tr>\n",
       "    <tr>\n",
       "      <td>20165</td>\n",
       "      <td>0</td>\n",
       "      <td>0</td>\n",
       "      <td>42</td>\n",
       "      <td>среднее</td>\n",
       "      <td>1</td>\n",
       "      <td>женат / замужем</td>\n",
       "      <td>0</td>\n",
       "      <td>F</td>\n",
       "      <td>сотрудник</td>\n",
       "      <td>0</td>\n",
       "      <td>142594</td>\n",
       "      <td>покупка жилья для семьи</td>\n",
       "    </tr>\n",
       "    <tr>\n",
       "      <td>20702</td>\n",
       "      <td>0</td>\n",
       "      <td>0</td>\n",
       "      <td>64</td>\n",
       "      <td>среднее</td>\n",
       "      <td>1</td>\n",
       "      <td>женат / замужем</td>\n",
       "      <td>0</td>\n",
       "      <td>F</td>\n",
       "      <td>пенсионер</td>\n",
       "      <td>0</td>\n",
       "      <td>118514</td>\n",
       "      <td>дополнительное образование</td>\n",
       "    </tr>\n",
       "    <tr>\n",
       "      <td>21032</td>\n",
       "      <td>0</td>\n",
       "      <td>0</td>\n",
       "      <td>60</td>\n",
       "      <td>среднее</td>\n",
       "      <td>1</td>\n",
       "      <td>женат / замужем</td>\n",
       "      <td>0</td>\n",
       "      <td>F</td>\n",
       "      <td>пенсионер</td>\n",
       "      <td>0</td>\n",
       "      <td>118514</td>\n",
       "      <td>заняться образованием</td>\n",
       "    </tr>\n",
       "    <tr>\n",
       "      <td>21132</td>\n",
       "      <td>0</td>\n",
       "      <td>0</td>\n",
       "      <td>47</td>\n",
       "      <td>среднее</td>\n",
       "      <td>1</td>\n",
       "      <td>женат / замужем</td>\n",
       "      <td>0</td>\n",
       "      <td>F</td>\n",
       "      <td>сотрудник</td>\n",
       "      <td>0</td>\n",
       "      <td>142594</td>\n",
       "      <td>ремонт жилью</td>\n",
       "    </tr>\n",
       "    <tr>\n",
       "      <td>21281</td>\n",
       "      <td>1</td>\n",
       "      <td>0</td>\n",
       "      <td>30</td>\n",
       "      <td>высшее</td>\n",
       "      <td>0</td>\n",
       "      <td>женат / замужем</td>\n",
       "      <td>0</td>\n",
       "      <td>F</td>\n",
       "      <td>сотрудник</td>\n",
       "      <td>0</td>\n",
       "      <td>142594</td>\n",
       "      <td>покупка коммерческой недвижимости</td>\n",
       "    </tr>\n",
       "    <tr>\n",
       "      <td>21415</td>\n",
       "      <td>0</td>\n",
       "      <td>0</td>\n",
       "      <td>54</td>\n",
       "      <td>среднее</td>\n",
       "      <td>1</td>\n",
       "      <td>женат / замужем</td>\n",
       "      <td>0</td>\n",
       "      <td>F</td>\n",
       "      <td>пенсионер</td>\n",
       "      <td>0</td>\n",
       "      <td>118514</td>\n",
       "      <td>операции с жильем</td>\n",
       "    </tr>\n",
       "  </tbody>\n",
       "</table>\n",
       "</div>"
      ],
      "text/plain": [
       "       children  days_employed  dob_years education  education_id  \\\n",
       "2849          0              0         41   среднее             1   \n",
       "4182          1              0         34    ВЫСШЕЕ             0   \n",
       "4851          0              0         60   среднее             1   \n",
       "5557          0              0         58   среднее             1   \n",
       "7808          0              0         57   среднее             1   \n",
       "8583          0              0         58    высшее             0   \n",
       "9238          2              0         34   среднее             1   \n",
       "9528          0              0         66   среднее             1   \n",
       "9627          0              0         56   среднее             1   \n",
       "10462         0              0         62   среднее             1   \n",
       "10697         0              0         40   среднее             1   \n",
       "10864         0              0         62   среднее             1   \n",
       "10994         0              0         62   среднее             1   \n",
       "11791         0              0         47   среднее             1   \n",
       "12373         0              0         58   среднее             1   \n",
       "12375         1              0         37   среднее             1   \n",
       "12736         0              0         59   среднее             1   \n",
       "13025         1              0         44   среднее             1   \n",
       "13639         0              0         64   среднее             1   \n",
       "13773         0              0         35   среднее             1   \n",
       "13878         1              0         31   среднее             1   \n",
       "13942         0              0         44   среднее             1   \n",
       "14432         2              0         36    высшее             0   \n",
       "14832         0              0         50   среднее             1   \n",
       "15091         0              0         58   среднее             1   \n",
       "15188         0              0         60   среднее             1   \n",
       "15273         0              0         57   среднее             1   \n",
       "16176         0              0         47   среднее             1   \n",
       "16378         0              0         46   среднее             1   \n",
       "16902         2              0         39   среднее             1   \n",
       "16904         1              0         32    высшее             0   \n",
       "17379         0              0         54    высшее             0   \n",
       "17755         1              0         43   среднее             1   \n",
       "17774         1              0         40   среднее             1   \n",
       "18328         0              0         29    высшее             0   \n",
       "18349         1              0         30    высшее             0   \n",
       "18428         0              0         64   среднее             1   \n",
       "18521         0              0         56   среднее             1   \n",
       "18563         0              0         54   среднее             1   \n",
       "18755         0              0         58   среднее             1   \n",
       "19041         0              0         56   среднее             1   \n",
       "19184         0              0         46   среднее             1   \n",
       "19321         0              0         23   среднее             1   \n",
       "19387         0              0         38    высшее             0   \n",
       "19688         0              0         61   среднее             1   \n",
       "19832         0              0         48   среднее             1   \n",
       "19946         0              0         57   среднее             1   \n",
       "20116         0              0         57   среднее             1   \n",
       "20165         0              0         42   среднее             1   \n",
       "20702         0              0         64   среднее             1   \n",
       "21032         0              0         60   среднее             1   \n",
       "21132         0              0         47   среднее             1   \n",
       "21281         1              0         30    высшее             0   \n",
       "21415         0              0         54   среднее             1   \n",
       "\n",
       "               family_status  family_status_id gender  income_type  debt  \\\n",
       "2849         женат / замужем                 0      F    сотрудник     0   \n",
       "4182        гражданский брак                 1      F    сотрудник     0   \n",
       "4851        гражданский брак                 1      F    пенсионер     0   \n",
       "5557        гражданский брак                 1      F    пенсионер     0   \n",
       "7808        гражданский брак                 1      F    пенсионер     0   \n",
       "8583   Не женат / не замужем                 4      F    пенсионер     0   \n",
       "9238         женат / замужем                 0      F    сотрудник     0   \n",
       "9528          вдовец / вдова                 2      F    пенсионер     0   \n",
       "9627         женат / замужем                 0      F    пенсионер     0   \n",
       "10462        женат / замужем                 0      F    пенсионер     0   \n",
       "10697       гражданский брак                 1      F    компаньон     0   \n",
       "10864        женат / замужем                 0      F    пенсионер     0   \n",
       "10994        женат / замужем                 0      F    пенсионер     0   \n",
       "11791        женат / замужем                 0      F    сотрудник     0   \n",
       "12373        женат / замужем                 0      M    сотрудник     0   \n",
       "12375        женат / замужем                 0      F    сотрудник     0   \n",
       "12736        женат / замужем                 0      F    пенсионер     0   \n",
       "13025        женат / замужем                 0      F    сотрудник     0   \n",
       "13639        женат / замужем                 0      F    пенсионер     0   \n",
       "13773       гражданский брак                 1      F    сотрудник     0   \n",
       "13878        женат / замужем                 0      F    компаньон     0   \n",
       "13942        женат / замужем                 0      F    сотрудник     0   \n",
       "14432        женат / замужем                 0      F  госслужащий     0   \n",
       "14832  Не женат / не замужем                 4      F    сотрудник     0   \n",
       "15091       гражданский брак                 1      M    сотрудник     0   \n",
       "15188        женат / замужем                 0      M    сотрудник     0   \n",
       "15273       гражданский брак                 1      F    пенсионер     0   \n",
       "16176        женат / замужем                 0      F    сотрудник     0   \n",
       "16378        женат / замужем                 0      F    сотрудник     0   \n",
       "16902       гражданский брак                 1      F    сотрудник     0   \n",
       "16904        женат / замужем                 0      F    сотрудник     0   \n",
       "17379        женат / замужем                 0      M    компаньон     0   \n",
       "17755        женат / замужем                 0      M    сотрудник     0   \n",
       "17774       гражданский брак                 1      F    компаньон     0   \n",
       "18328        женат / замужем                 0      M    сотрудник     0   \n",
       "18349        женат / замужем                 0      F  госслужащий     0   \n",
       "18428        женат / замужем                 0      F    пенсионер     0   \n",
       "18521       гражданский брак                 1      F    сотрудник     0   \n",
       "18563        женат / замужем                 0      F    сотрудник     0   \n",
       "18755        женат / замужем                 0      F    пенсионер     0   \n",
       "19041       гражданский брак                 1      F    сотрудник     0   \n",
       "19184        женат / замужем                 0      F    сотрудник     0   \n",
       "19321  Не женат / не замужем                 4      F    сотрудник     0   \n",
       "19387       гражданский брак                 1      F    компаньон     0   \n",
       "19688        женат / замужем                 0      F    пенсионер     0   \n",
       "19832        женат / замужем                 0      F    сотрудник     0   \n",
       "19946        женат / замужем                 0      F    сотрудник     0   \n",
       "20116       гражданский брак                 1      M    пенсионер     0   \n",
       "20165        женат / замужем                 0      F    сотрудник     0   \n",
       "20702        женат / замужем                 0      F    пенсионер     0   \n",
       "21032        женат / замужем                 0      F    пенсионер     0   \n",
       "21132        женат / замужем                 0      F    сотрудник     0   \n",
       "21281        женат / замужем                 0      F    сотрудник     0   \n",
       "21415        женат / замужем                 0      F    пенсионер     0   \n",
       "\n",
       "       total_income                                purpose  \n",
       "2849         142594                покупка жилья для семьи  \n",
       "4182         142594                                свадьба  \n",
       "4851         118514                                свадьба  \n",
       "5557         118514                        сыграть свадьбу  \n",
       "7808         118514                  на проведение свадьбы  \n",
       "8583         118514             дополнительное образование  \n",
       "9238         142594                покупка жилья для сдачи  \n",
       "9528         118514        операции со своей недвижимостью  \n",
       "9627         118514        операции со своей недвижимостью  \n",
       "10462        118514      покупка коммерческой недвижимости  \n",
       "10697        172357                        сыграть свадьбу  \n",
       "10864        118514                           ремонт жилью  \n",
       "10994        118514                           ремонт жилью  \n",
       "11791        142594             строительство недвижимости  \n",
       "12373        142594                   покупка недвижимости  \n",
       "12375        142594                   покупка недвижимости  \n",
       "12736        118514                  заняться образованием  \n",
       "13025        142594       сделка с подержанным автомобилем  \n",
       "13639        118514                             автомобиль  \n",
       "13773        142594                        сыграть свадьбу  \n",
       "13878        172357                          покупка жилья  \n",
       "13942        142594                приобретение автомобиля  \n",
       "14432        150447                  получение образования  \n",
       "14832        142594                           недвижимость  \n",
       "15091        142594                  на проведение свадьбы  \n",
       "15188        142594                   покупка недвижимости  \n",
       "15273        118514                                свадьба  \n",
       "16176        142594                           ремонт жилью  \n",
       "16378        142594                     высшее образование  \n",
       "16902        142594                        сыграть свадьбу  \n",
       "16904        142594     на покупку подержанного автомобиля  \n",
       "17379        172357  операции с коммерческой недвижимостью  \n",
       "17755        142594                  заняться образованием  \n",
       "17774        172357       строительство жилой недвижимости  \n",
       "18328        142594             покупка жилой недвижимости  \n",
       "18349        150447                покупка жилья для семьи  \n",
       "18428        118514                                  жилье  \n",
       "18521        142594                        сыграть свадьбу  \n",
       "18563        142594        операции со своей недвижимостью  \n",
       "18755        118514                  заняться образованием  \n",
       "19041        142594                  на проведение свадьбы  \n",
       "19184        142594                        свой автомобиль  \n",
       "19321        142594       сделка с подержанным автомобилем  \n",
       "19387        172357                  на проведение свадьбы  \n",
       "19688        118514               операции с недвижимостью  \n",
       "19832        142594                           ремонт жилью  \n",
       "19946        142594       сделка с подержанным автомобилем  \n",
       "20116        118514                                свадьба  \n",
       "20165        142594                покупка жилья для семьи  \n",
       "20702        118514             дополнительное образование  \n",
       "21032        118514                  заняться образованием  \n",
       "21132        142594                           ремонт жилью  \n",
       "21281        142594      покупка коммерческой недвижимости  \n",
       "21415        118514                      операции с жильем  "
      ]
     },
     "execution_count": 13,
     "metadata": {},
     "output_type": "execute_result"
    }
   ],
   "source": [
    "data[data.duplicated()]"
   ]
  },
  {
   "cell_type": "markdown",
   "metadata": {},
   "source": [
    "Посчитаем количество дубликатов, добавив в комбинации к предыдущему метод *.sum()*:"
   ]
  },
  {
   "cell_type": "code",
   "execution_count": 14,
   "metadata": {},
   "outputs": [
    {
     "data": {
      "text/plain": [
       "54"
      ]
     },
     "execution_count": 14,
     "metadata": {},
     "output_type": "execute_result"
    }
   ],
   "source": [
    "data.duplicated().sum()"
   ]
  },
  {
   "cell_type": "markdown",
   "metadata": {},
   "source": [
    "В данных присутствуют 54 повторяющиеся строки."
   ]
  },
  {
   "cell_type": "markdown",
   "metadata": {},
   "source": [
    "Также заметно, что в столбце с образованием присутствуют одинаковые варианты с разным регистром. Просмотрим все использованные в этом столбце варианты, применив *.value_counts()* к столбцу Образование."
   ]
  },
  {
   "cell_type": "code",
   "execution_count": 15,
   "metadata": {},
   "outputs": [
    {
     "name": "stdout",
     "output_type": "stream",
     "text": [
      "среднее                13750\n",
      "высшее                  4718\n",
      "СРЕДНЕЕ                  772\n",
      "Среднее                  711\n",
      "неоконченное высшее      668\n",
      "ВЫСШЕЕ                   274\n",
      "Высшее                   268\n",
      "начальное                250\n",
      "Неоконченное высшее       47\n",
      "НЕОКОНЧЕННОЕ ВЫСШЕЕ       29\n",
      "НАЧАЛЬНОЕ                 17\n",
      "Начальное                 15\n",
      "ученая степень             4\n",
      "УЧЕНАЯ СТЕПЕНЬ             1\n",
      "Ученая степень             1\n",
      "Name: education, dtype: int64\n"
     ]
    }
   ],
   "source": [
    "print(data['education'].value_counts())"
   ]
  },
  {
   "cell_type": "markdown",
   "metadata": {},
   "source": [
    "Скорректируем написание в столбце \"Образование\" в одном регистре. И заново проверим присутствующие в столбце варианты."
   ]
  },
  {
   "cell_type": "code",
   "execution_count": 16,
   "metadata": {},
   "outputs": [
    {
     "name": "stdout",
     "output_type": "stream",
     "text": [
      "среднее                15233\n",
      "высшее                  5260\n",
      "неоконченное высшее      744\n",
      "начальное                282\n",
      "ученая степень             6\n",
      "Name: education, dtype: int64\n"
     ]
    }
   ],
   "source": [
    "data['education'] = data['education'].str.lower()\n",
    "\n",
    "print(data['education'].value_counts())"
   ]
  },
  {
   "cell_type": "markdown",
   "metadata": {},
   "source": [
    "Теперь гораздо лучше, варианты не повторяются."
   ]
  },
  {
   "cell_type": "markdown",
   "metadata": {},
   "source": [
    "Проверим еще раз количество дубликатов, с учетом операции выше."
   ]
  },
  {
   "cell_type": "code",
   "execution_count": 17,
   "metadata": {},
   "outputs": [
    {
     "data": {
      "text/plain": [
       "71"
      ]
     },
     "execution_count": 17,
     "metadata": {},
     "output_type": "execute_result"
    }
   ],
   "source": [
    "data.duplicated().sum()"
   ]
  },
  {
   "cell_type": "markdown",
   "metadata": {},
   "source": [
    "Видим, что корректировка регистра помогла выявить еще несколько дубликатов.\n",
    "\n",
    "Удаляем дубликаты и дополнительно вызываем метод *reset_index()* для перезаписи индексов в порядке возрастания. Проверяем результат:"
   ]
  },
  {
   "cell_type": "code",
   "execution_count": 18,
   "metadata": {},
   "outputs": [
    {
     "data": {
      "text/plain": [
       "0"
      ]
     },
     "execution_count": 18,
     "metadata": {},
     "output_type": "execute_result"
    }
   ],
   "source": [
    "data = data.drop_duplicates().reset_index(drop=True)\n",
    "data.duplicated().sum()\n"
   ]
  },
  {
   "cell_type": "markdown",
   "metadata": {},
   "source": [
    "Дубликаты отсутствуют."
   ]
  },
  {
   "cell_type": "markdown",
   "metadata": {},
   "source": [
    "**Вывод**"
   ]
  },
  {
   "cell_type": "markdown",
   "metadata": {},
   "source": [
    "Часть дубликатов возникла из-за заполнения столбца \"Образование\" в разном регистре. Можно этого избежать, если составить ограниченный список для выбора при заполнении или переносе в электронную форму. Стоит разобраться с причинами появления остальных дубликатов."
   ]
  },
  {
   "cell_type": "markdown",
   "metadata": {},
   "source": [
    "### Лемматизация"
   ]
  },
  {
   "cell_type": "markdown",
   "metadata": {},
   "source": [
    "Столбец \"Цель кредита\" заполняется не типовыми значениями, в нем указаны произвольные варианты. Посчитаем количество возможных вариантов."
   ]
  },
  {
   "cell_type": "code",
   "execution_count": 19,
   "metadata": {},
   "outputs": [
    {
     "data": {
      "text/plain": [
       "38"
      ]
     },
     "metadata": {},
     "output_type": "display_data"
    }
   ],
   "source": [
    "display(len(data['purpose'].unique()))"
   ]
  },
  {
   "cell_type": "markdown",
   "metadata": {},
   "source": [
    "38 вариантов для анализа совсем не годится.\n",
    "Выведем список всех возможных значений, чтобы оценить разнообразие и определить дальнейшие действия по обработке"
   ]
  },
  {
   "cell_type": "code",
   "execution_count": 20,
   "metadata": {},
   "outputs": [
    {
     "data": {
      "text/plain": [
       "array(['покупка жилья', 'приобретение автомобиля',\n",
       "       'дополнительное образование', 'сыграть свадьбу',\n",
       "       'операции с жильем', 'образование', 'на проведение свадьбы',\n",
       "       'покупка жилья для семьи', 'покупка недвижимости',\n",
       "       'покупка коммерческой недвижимости', 'покупка жилой недвижимости',\n",
       "       'строительство собственной недвижимости', 'недвижимость',\n",
       "       'строительство недвижимости', 'на покупку подержанного автомобиля',\n",
       "       'на покупку своего автомобиля',\n",
       "       'операции с коммерческой недвижимостью',\n",
       "       'строительство жилой недвижимости', 'жилье',\n",
       "       'операции со своей недвижимостью', 'автомобили',\n",
       "       'заняться образованием', 'сделка с подержанным автомобилем',\n",
       "       'получение образования', 'автомобиль', 'свадьба',\n",
       "       'получение дополнительного образования', 'покупка своего жилья',\n",
       "       'операции с недвижимостью', 'получение высшего образования',\n",
       "       'свой автомобиль', 'сделка с автомобилем',\n",
       "       'профильное образование', 'высшее образование',\n",
       "       'покупка жилья для сдачи', 'на покупку автомобиля', 'ремонт жилью',\n",
       "       'заняться высшим образованием'], dtype=object)"
      ]
     },
     "metadata": {},
     "output_type": "display_data"
    }
   ],
   "source": [
    "display(data['purpose'].unique())"
   ]
  },
  {
   "cell_type": "markdown",
   "metadata": {},
   "source": [
    "\n",
    "Информация в таком виде не удобна для анализа. Обработаем их для дальнейшей категоризации.\n",
    "Воспользуемся лемматизацией, т.е. процессом приведение слова к его словарной форме (лемме).\n",
    "Для этого выделим леммы и выведем их в отдельный столбец **'lemmas'**."
   ]
  },
  {
   "cell_type": "code",
   "execution_count": 21,
   "metadata": {
    "scrolled": true
   },
   "outputs": [
    {
     "data": {
      "text/html": [
       "<div>\n",
       "<style scoped>\n",
       "    .dataframe tbody tr th:only-of-type {\n",
       "        vertical-align: middle;\n",
       "    }\n",
       "\n",
       "    .dataframe tbody tr th {\n",
       "        vertical-align: top;\n",
       "    }\n",
       "\n",
       "    .dataframe thead th {\n",
       "        text-align: right;\n",
       "    }\n",
       "</style>\n",
       "<table border=\"1\" class=\"dataframe\">\n",
       "  <thead>\n",
       "    <tr style=\"text-align: right;\">\n",
       "      <th></th>\n",
       "      <th>children</th>\n",
       "      <th>days_employed</th>\n",
       "      <th>dob_years</th>\n",
       "      <th>education</th>\n",
       "      <th>education_id</th>\n",
       "      <th>family_status</th>\n",
       "      <th>family_status_id</th>\n",
       "      <th>gender</th>\n",
       "      <th>income_type</th>\n",
       "      <th>debt</th>\n",
       "      <th>total_income</th>\n",
       "      <th>purpose</th>\n",
       "      <th>lemmas</th>\n",
       "    </tr>\n",
       "  </thead>\n",
       "  <tbody>\n",
       "    <tr>\n",
       "      <td>18217</td>\n",
       "      <td>0</td>\n",
       "      <td>-813</td>\n",
       "      <td>29</td>\n",
       "      <td>среднее</td>\n",
       "      <td>1</td>\n",
       "      <td>гражданский брак</td>\n",
       "      <td>1</td>\n",
       "      <td>M</td>\n",
       "      <td>сотрудник</td>\n",
       "      <td>0</td>\n",
       "      <td>111228</td>\n",
       "      <td>на проведение свадьбы</td>\n",
       "      <td>[на,  , проведение,  , свадьба, \\n]</td>\n",
       "    </tr>\n",
       "    <tr>\n",
       "      <td>12468</td>\n",
       "      <td>2</td>\n",
       "      <td>-1324</td>\n",
       "      <td>32</td>\n",
       "      <td>высшее</td>\n",
       "      <td>0</td>\n",
       "      <td>женат / замужем</td>\n",
       "      <td>0</td>\n",
       "      <td>M</td>\n",
       "      <td>сотрудник</td>\n",
       "      <td>0</td>\n",
       "      <td>341733</td>\n",
       "      <td>заняться образованием</td>\n",
       "      <td>[заниматься,  , образование, \\n]</td>\n",
       "    </tr>\n",
       "    <tr>\n",
       "      <td>12235</td>\n",
       "      <td>0</td>\n",
       "      <td>-2793</td>\n",
       "      <td>38</td>\n",
       "      <td>среднее</td>\n",
       "      <td>1</td>\n",
       "      <td>гражданский брак</td>\n",
       "      <td>1</td>\n",
       "      <td>M</td>\n",
       "      <td>сотрудник</td>\n",
       "      <td>0</td>\n",
       "      <td>161758</td>\n",
       "      <td>свадьба</td>\n",
       "      <td>[свадьба, \\n]</td>\n",
       "    </tr>\n",
       "    <tr>\n",
       "      <td>14087</td>\n",
       "      <td>0</td>\n",
       "      <td>355656</td>\n",
       "      <td>59</td>\n",
       "      <td>среднее</td>\n",
       "      <td>1</td>\n",
       "      <td>Не женат / не замужем</td>\n",
       "      <td>4</td>\n",
       "      <td>F</td>\n",
       "      <td>пенсионер</td>\n",
       "      <td>0</td>\n",
       "      <td>86911</td>\n",
       "      <td>автомобили</td>\n",
       "      <td>[автомобиль, \\n]</td>\n",
       "    </tr>\n",
       "    <tr>\n",
       "      <td>3208</td>\n",
       "      <td>0</td>\n",
       "      <td>-3212</td>\n",
       "      <td>44</td>\n",
       "      <td>среднее</td>\n",
       "      <td>1</td>\n",
       "      <td>гражданский брак</td>\n",
       "      <td>1</td>\n",
       "      <td>F</td>\n",
       "      <td>сотрудник</td>\n",
       "      <td>0</td>\n",
       "      <td>116088</td>\n",
       "      <td>свадьба</td>\n",
       "      <td>[свадьба, \\n]</td>\n",
       "    </tr>\n",
       "  </tbody>\n",
       "</table>\n",
       "</div>"
      ],
      "text/plain": [
       "       children  days_employed  dob_years education  education_id  \\\n",
       "18217         0           -813         29   среднее             1   \n",
       "12468         2          -1324         32    высшее             0   \n",
       "12235         0          -2793         38   среднее             1   \n",
       "14087         0         355656         59   среднее             1   \n",
       "3208          0          -3212         44   среднее             1   \n",
       "\n",
       "               family_status  family_status_id gender income_type  debt  \\\n",
       "18217       гражданский брак                 1      M   сотрудник     0   \n",
       "12468        женат / замужем                 0      M   сотрудник     0   \n",
       "12235       гражданский брак                 1      M   сотрудник     0   \n",
       "14087  Не женат / не замужем                 4      F   пенсионер     0   \n",
       "3208        гражданский брак                 1      F   сотрудник     0   \n",
       "\n",
       "       total_income                purpose  \\\n",
       "18217        111228  на проведение свадьбы   \n",
       "12468        341733  заняться образованием   \n",
       "12235        161758                свадьба   \n",
       "14087         86911             автомобили   \n",
       "3208         116088                свадьба   \n",
       "\n",
       "                                    lemmas  \n",
       "18217  [на,  , проведение,  , свадьба, \\n]  \n",
       "12468     [заниматься,  , образование, \\n]  \n",
       "12235                        [свадьба, \\n]  \n",
       "14087                     [автомобиль, \\n]  \n",
       "3208                         [свадьба, \\n]  "
      ]
     },
     "metadata": {},
     "output_type": "display_data"
    }
   ],
   "source": [
    "from pymystem3 import Mystem #импортируем Mystem из библиотеки pymystem3 для анализа текста\n",
    "m = Mystem() \n",
    "\n",
    "data['lemmas'] = data['purpose'].apply(m.lemmatize)\n",
    "display(data.sample(5))"
   ]
  },
  {
   "cell_type": "markdown",
   "metadata": {},
   "source": [
    "**Вывод**"
   ]
  },
  {
   "cell_type": "markdown",
   "metadata": {},
   "source": [
    "Провели лемматизацию данных в столбце \"Цель кредита\". Это поможет выделить наиболее популярные цели и произвести группировку данных по этому критерию."
   ]
  },
  {
   "cell_type": "markdown",
   "metadata": {},
   "source": [
    "### Категоризация данных"
   ]
  },
  {
   "cell_type": "markdown",
   "metadata": {},
   "source": [
    "Для решения поставленной задачи, нам нужно проанализировать данные по семейному положению, количеству детей, доходу и цели кредита в контексте наличия просрочек. Часть данных уже разбита на удобные для анализа категории, в частности, семейное положение имеет 5 возможных вариантов. Можно сделать еще более крупные группы: например, объединить \"женат / замужем\" и \"гражданский брак\" в одну группу, а \"вдовец / вдова\" и \"в разводе\" в другую. Но в данном случае получим слишком крупную группировку, что может исказить результаты. Пять категорий вполне удобны для анализа. \n",
    "\n",
    "Для категоризации данных по количеству детей, доходу и цели кредита необходима дополнительная обработка."
   ]
  },
  {
   "cell_type": "markdown",
   "metadata": {},
   "source": [
    "**Группировка в зависимости от цели кредита**\n",
    "\n",
    "На основании столбца **'lemmas'** с полученными леммами выделим основные цели получения кредита.\n",
    "Посчитаем наиболее часто встречающиеся в цели слова."
   ]
  },
  {
   "cell_type": "code",
   "execution_count": 22,
   "metadata": {},
   "outputs": [
    {
     "name": "stdout",
     "output_type": "stream",
     "text": [
      "Counter({' ': 33570, '\\n': 21454, 'недвижимость': 6351, 'покупка': 5897, 'жилье': 4460, 'автомобиль': 4306, 'образование': 4013, 'с': 2918, 'операция': 2604, 'свадьба': 2324, 'свой': 2230, 'на': 2222, 'строительство': 1878, 'высокий': 1374, 'получение': 1314, 'коммерческий': 1311, 'для': 1289, 'жилой': 1230, 'сделка': 941, 'дополнительный': 906, 'заниматься': 904, 'проведение': 768, 'сыграть': 765, 'сдача': 651, 'семья': 638, 'собственный': 635, 'со': 627, 'ремонт': 607, 'подержанный': 486, 'подержать': 478, 'приобретение': 461, 'профильный': 436})\n"
     ]
    }
   ],
   "source": [
    "from collections import Counter #вызываем специальный контейнер Counter из модуля collections для подсчёта числа упоминаний слов в тексте\n",
    "print(Counter(data['lemmas'].sum()))\n"
   ]
  },
  {
   "cell_type": "markdown",
   "metadata": {},
   "source": [
    "Среди часто встречающихся вариантов слова \"покупка\", \"операция\". Они могут относится к разным целям, поэтому их игнорируем. Обратим внимание на более очевидные варианты.\n",
    "\n",
    "Слово \"недвижимость\" может встречаться в вариантах как для коммерческого использования, так и для жилья. Поэтому объединим жилье и недвижимость в одну категорию.\n",
    "Получаем основные цели кредита: жилье/недвижимость, автомобиль, образование, свадьба. Если есть цели, которые не попадают ни в одну из указанных категорий, объединим их в категорию \"Прочее\".\n",
    "Объявим  функцию для отнесения заемщика к одной из выделенных выше категорий и вызовем функцию для группировки наших данных."
   ]
  },
  {
   "cell_type": "code",
   "execution_count": 23,
   "metadata": {},
   "outputs": [],
   "source": [
    "def purpose_lemmas(purpose):\n",
    "    if 'недвижимость' in purpose or 'жилье' in purpose:\n",
    "        return 'недвижимость'\n",
    "    if 'автомобиль' in purpose:\n",
    "        return 'автомобиль'\n",
    "    if 'образование' in purpose:\n",
    "        return 'образование'\n",
    "    if 'свадьба' in purpose:\n",
    "        return 'свадьба'\n",
    "    return 'Прочее'\n",
    "         \n",
    "        \n",
    "data['purpose_main'] = data['lemmas'].apply(purpose_lemmas)\n",
    "        "
   ]
  },
  {
   "cell_type": "markdown",
   "metadata": {},
   "source": [
    "Выделили основной признак цели займа в отдельном столбце **'purpose_main'**.\n",
    "Посчитаем количество вариантов по выделенным группам. Также выведем общее количество элементов в столбце."
   ]
  },
  {
   "cell_type": "code",
   "execution_count": 24,
   "metadata": {
    "scrolled": false
   },
   "outputs": [
    {
     "name": "stdout",
     "output_type": "stream",
     "text": [
      "недвижимость    10811\n",
      "автомобиль       4306\n",
      "образование      4013\n",
      "свадьба          2324\n",
      "Name: purpose_main, dtype: int64\n",
      "21454\n"
     ]
    }
   ],
   "source": [
    "print(data['purpose_main'].value_counts())\n",
    "print(data['purpose_main'].count())"
   ]
  },
  {
   "cell_type": "markdown",
   "metadata": {},
   "source": [
    "Все данные попали одну из четырех указанных категорий. Категория \"прочее\" не пригодилась."
   ]
  },
  {
   "cell_type": "markdown",
   "metadata": {},
   "source": [
    "**Группировка в зависимости от дохода**\n",
    "\n",
    "Разобьем заёмщиков на группы в зависимости от дохода.\n",
    "Воспользуемся методом *describe()*, чтобы определить границы групп."
   ]
  },
  {
   "cell_type": "code",
   "execution_count": 25,
   "metadata": {},
   "outputs": [
    {
     "data": {
      "text/plain": [
       "count      21454.00\n",
       "mean      165319.57\n",
       "std        98187.30\n",
       "min        20667.00\n",
       "25%       107623.00\n",
       "50%       142594.00\n",
       "75%       195820.25\n",
       "max      2265604.00\n",
       "Name: total_income, dtype: float64"
      ]
     },
     "execution_count": 25,
     "metadata": {},
     "output_type": "execute_result"
    }
   ],
   "source": [
    "data['total_income'].describe().round(2)"
   ]
  },
  {
   "cell_type": "markdown",
   "metadata": {},
   "source": [
    "Метод *describe()* среди прочего дает возможность получить такую информацию, как процентиль.\n",
    "Чтобы группы получились примерно одинаковые по численности, установим следующие диапазоны доходов:\n",
    "\n",
    "**низкий**: от 0 до 107623р,\n",
    "\n",
    "**ниже среднего**: от 107624р до 142594р,\n",
    "\n",
    "**выше среднего**: от 142595р до 195820р\n",
    "\n",
    "**высокий**: более 195 821р\n",
    "\n",
    "В новом столбце **total_income_cut** укажем к какой из групп относится заемщик."
   ]
  },
  {
   "cell_type": "code",
   "execution_count": 26,
   "metadata": {
    "scrolled": true
   },
   "outputs": [
    {
     "data": {
      "text/html": [
       "<div>\n",
       "<style scoped>\n",
       "    .dataframe tbody tr th:only-of-type {\n",
       "        vertical-align: middle;\n",
       "    }\n",
       "\n",
       "    .dataframe tbody tr th {\n",
       "        vertical-align: top;\n",
       "    }\n",
       "\n",
       "    .dataframe thead th {\n",
       "        text-align: right;\n",
       "    }\n",
       "</style>\n",
       "<table border=\"1\" class=\"dataframe\">\n",
       "  <thead>\n",
       "    <tr style=\"text-align: right;\">\n",
       "      <th></th>\n",
       "      <th>children</th>\n",
       "      <th>days_employed</th>\n",
       "      <th>dob_years</th>\n",
       "      <th>education</th>\n",
       "      <th>education_id</th>\n",
       "      <th>family_status</th>\n",
       "      <th>family_status_id</th>\n",
       "      <th>gender</th>\n",
       "      <th>income_type</th>\n",
       "      <th>debt</th>\n",
       "      <th>total_income</th>\n",
       "      <th>purpose</th>\n",
       "      <th>lemmas</th>\n",
       "      <th>purpose_main</th>\n",
       "      <th>total_income_cut</th>\n",
       "    </tr>\n",
       "  </thead>\n",
       "  <tbody>\n",
       "    <tr>\n",
       "      <td>14688</td>\n",
       "      <td>1</td>\n",
       "      <td>-1053</td>\n",
       "      <td>43</td>\n",
       "      <td>среднее</td>\n",
       "      <td>1</td>\n",
       "      <td>женат / замужем</td>\n",
       "      <td>0</td>\n",
       "      <td>F</td>\n",
       "      <td>сотрудник</td>\n",
       "      <td>0</td>\n",
       "      <td>226527</td>\n",
       "      <td>покупка своего жилья</td>\n",
       "      <td>[покупка,  , свой,  , жилье, \\n]</td>\n",
       "      <td>недвижимость</td>\n",
       "      <td>высокий (более 196т.р.)</td>\n",
       "    </tr>\n",
       "    <tr>\n",
       "      <td>5027</td>\n",
       "      <td>0</td>\n",
       "      <td>-661</td>\n",
       "      <td>27</td>\n",
       "      <td>среднее</td>\n",
       "      <td>1</td>\n",
       "      <td>женат / замужем</td>\n",
       "      <td>0</td>\n",
       "      <td>F</td>\n",
       "      <td>госслужащий</td>\n",
       "      <td>0</td>\n",
       "      <td>45934</td>\n",
       "      <td>сделка с автомобилем</td>\n",
       "      <td>[сделка,  , с,  , автомобиль, \\n]</td>\n",
       "      <td>автомобиль</td>\n",
       "      <td>низкий (до 108т.р.)</td>\n",
       "    </tr>\n",
       "    <tr>\n",
       "      <td>7319</td>\n",
       "      <td>0</td>\n",
       "      <td>-3829</td>\n",
       "      <td>46</td>\n",
       "      <td>высшее</td>\n",
       "      <td>0</td>\n",
       "      <td>женат / замужем</td>\n",
       "      <td>0</td>\n",
       "      <td>M</td>\n",
       "      <td>сотрудник</td>\n",
       "      <td>0</td>\n",
       "      <td>221489</td>\n",
       "      <td>покупка недвижимости</td>\n",
       "      <td>[покупка,  , недвижимость, \\n]</td>\n",
       "      <td>недвижимость</td>\n",
       "      <td>высокий (более 196т.р.)</td>\n",
       "    </tr>\n",
       "    <tr>\n",
       "      <td>15407</td>\n",
       "      <td>0</td>\n",
       "      <td>-1107</td>\n",
       "      <td>54</td>\n",
       "      <td>среднее</td>\n",
       "      <td>1</td>\n",
       "      <td>вдовец / вдова</td>\n",
       "      <td>2</td>\n",
       "      <td>F</td>\n",
       "      <td>сотрудник</td>\n",
       "      <td>0</td>\n",
       "      <td>145871</td>\n",
       "      <td>недвижимость</td>\n",
       "      <td>[недвижимость, \\n]</td>\n",
       "      <td>недвижимость</td>\n",
       "      <td>выше среднего (143-196т.р.)</td>\n",
       "    </tr>\n",
       "    <tr>\n",
       "      <td>3417</td>\n",
       "      <td>0</td>\n",
       "      <td>-2026</td>\n",
       "      <td>58</td>\n",
       "      <td>среднее</td>\n",
       "      <td>1</td>\n",
       "      <td>Не женат / не замужем</td>\n",
       "      <td>4</td>\n",
       "      <td>F</td>\n",
       "      <td>госслужащий</td>\n",
       "      <td>0</td>\n",
       "      <td>52405</td>\n",
       "      <td>строительство собственной недвижимости</td>\n",
       "      <td>[строительство,  , собственный,  , недвижимост...</td>\n",
       "      <td>недвижимость</td>\n",
       "      <td>низкий (до 108т.р.)</td>\n",
       "    </tr>\n",
       "  </tbody>\n",
       "</table>\n",
       "</div>"
      ],
      "text/plain": [
       "       children  days_employed  dob_years education  education_id  \\\n",
       "14688         1          -1053         43   среднее             1   \n",
       "5027          0           -661         27   среднее             1   \n",
       "7319          0          -3829         46    высшее             0   \n",
       "15407         0          -1107         54   среднее             1   \n",
       "3417          0          -2026         58   среднее             1   \n",
       "\n",
       "               family_status  family_status_id gender  income_type  debt  \\\n",
       "14688        женат / замужем                 0      F    сотрудник     0   \n",
       "5027         женат / замужем                 0      F  госслужащий     0   \n",
       "7319         женат / замужем                 0      M    сотрудник     0   \n",
       "15407         вдовец / вдова                 2      F    сотрудник     0   \n",
       "3417   Не женат / не замужем                 4      F  госслужащий     0   \n",
       "\n",
       "       total_income                                 purpose  \\\n",
       "14688        226527                    покупка своего жилья   \n",
       "5027          45934                    сделка с автомобилем   \n",
       "7319         221489                    покупка недвижимости   \n",
       "15407        145871                            недвижимость   \n",
       "3417          52405  строительство собственной недвижимости   \n",
       "\n",
       "                                                  lemmas  purpose_main  \\\n",
       "14688                   [покупка,  , свой,  , жилье, \\n]  недвижимость   \n",
       "5027                   [сделка,  , с,  , автомобиль, \\n]    автомобиль   \n",
       "7319                      [покупка,  , недвижимость, \\n]  недвижимость   \n",
       "15407                                 [недвижимость, \\n]  недвижимость   \n",
       "3417   [строительство,  , собственный,  , недвижимост...  недвижимость   \n",
       "\n",
       "                  total_income_cut  \n",
       "14688      высокий (более 196т.р.)  \n",
       "5027           низкий (до 108т.р.)  \n",
       "7319       высокий (более 196т.р.)  \n",
       "15407  выше среднего (143-196т.р.)  \n",
       "3417           низкий (до 108т.р.)  "
      ]
     },
     "execution_count": 26,
     "metadata": {},
     "output_type": "execute_result"
    }
   ],
   "source": [
    "data['total_income_cut'] = pd.cut(data['total_income'],[0, data['total_income'].describe()['25%'], data['total_income'].describe()['50%'], data['total_income'].describe()['75%'], np.inf], \n",
    "                                  labels=[\"низкий (до 108т.р.)\", \"ниже среднего (108-143т.р.)\", \"выше среднего (143-196т.р.)\", \"высокий (более 196т.р.)\"])\n",
    "data.sample(5)"
   ]
  },
  {
   "cell_type": "markdown",
   "metadata": {},
   "source": [
    "Получили новый столбец **total_income_cut** с делением на категории в зависимости от уровня дохода \n",
    "\n"
   ]
  },
  {
   "cell_type": "markdown",
   "metadata": {},
   "source": [
    "**Группировка в зависимости от количества детей**\n",
    "\n",
    "Посмотрим варианты в столбце \"Количество детей\" и оценим потребность в корректировке или группировке."
   ]
  },
  {
   "cell_type": "code",
   "execution_count": 27,
   "metadata": {},
   "outputs": [
    {
     "name": "stdout",
     "output_type": "stream",
     "text": [
      "0    14091\n",
      "1     4855\n",
      "2     2128\n",
      "3      330\n",
      "4       41\n",
      "5        9\n",
      "Name: children, dtype: int64\n"
     ]
    }
   ],
   "source": [
    "print(data['children'].value_counts())"
   ]
  },
  {
   "cell_type": "markdown",
   "metadata": {},
   "source": [
    "Заёмщики с тремя и более детьми составляют небольшую долю в выборке. Объединим их в группу **\"Три и более\"**. Другие варианты оставим без группировки. Добавим названия для всех новых групп: **\"Нет детей\", \"Один ребенок\", \"Два ребенка\"**"
   ]
  },
  {
   "cell_type": "code",
   "execution_count": 28,
   "metadata": {
    "scrolled": true
   },
   "outputs": [
    {
     "data": {
      "text/html": [
       "<div>\n",
       "<style scoped>\n",
       "    .dataframe tbody tr th:only-of-type {\n",
       "        vertical-align: middle;\n",
       "    }\n",
       "\n",
       "    .dataframe tbody tr th {\n",
       "        vertical-align: top;\n",
       "    }\n",
       "\n",
       "    .dataframe thead th {\n",
       "        text-align: right;\n",
       "    }\n",
       "</style>\n",
       "<table border=\"1\" class=\"dataframe\">\n",
       "  <thead>\n",
       "    <tr style=\"text-align: right;\">\n",
       "      <th></th>\n",
       "      <th>children</th>\n",
       "      <th>days_employed</th>\n",
       "      <th>dob_years</th>\n",
       "      <th>education</th>\n",
       "      <th>education_id</th>\n",
       "      <th>family_status</th>\n",
       "      <th>family_status_id</th>\n",
       "      <th>gender</th>\n",
       "      <th>income_type</th>\n",
       "      <th>debt</th>\n",
       "      <th>total_income</th>\n",
       "      <th>purpose</th>\n",
       "      <th>lemmas</th>\n",
       "      <th>purpose_main</th>\n",
       "      <th>total_income_cut</th>\n",
       "      <th>children_grouped</th>\n",
       "    </tr>\n",
       "  </thead>\n",
       "  <tbody>\n",
       "    <tr>\n",
       "      <td>20552</td>\n",
       "      <td>1</td>\n",
       "      <td>-1709</td>\n",
       "      <td>31</td>\n",
       "      <td>среднее</td>\n",
       "      <td>1</td>\n",
       "      <td>женат / замужем</td>\n",
       "      <td>0</td>\n",
       "      <td>M</td>\n",
       "      <td>компаньон</td>\n",
       "      <td>0</td>\n",
       "      <td>152367</td>\n",
       "      <td>строительство собственной недвижимости</td>\n",
       "      <td>[строительство,  , собственный,  , недвижимост...</td>\n",
       "      <td>недвижимость</td>\n",
       "      <td>выше среднего (143-196т.р.)</td>\n",
       "      <td>Один ребенок</td>\n",
       "    </tr>\n",
       "    <tr>\n",
       "      <td>6704</td>\n",
       "      <td>0</td>\n",
       "      <td>374483</td>\n",
       "      <td>55</td>\n",
       "      <td>среднее</td>\n",
       "      <td>1</td>\n",
       "      <td>женат / замужем</td>\n",
       "      <td>0</td>\n",
       "      <td>F</td>\n",
       "      <td>пенсионер</td>\n",
       "      <td>0</td>\n",
       "      <td>232889</td>\n",
       "      <td>покупка жилой недвижимости</td>\n",
       "      <td>[покупка,  , жилой,  , недвижимость, \\n]</td>\n",
       "      <td>недвижимость</td>\n",
       "      <td>высокий (более 196т.р.)</td>\n",
       "      <td>Нет детей</td>\n",
       "    </tr>\n",
       "    <tr>\n",
       "      <td>4539</td>\n",
       "      <td>1</td>\n",
       "      <td>-1811</td>\n",
       "      <td>32</td>\n",
       "      <td>среднее</td>\n",
       "      <td>1</td>\n",
       "      <td>женат / замужем</td>\n",
       "      <td>0</td>\n",
       "      <td>F</td>\n",
       "      <td>сотрудник</td>\n",
       "      <td>0</td>\n",
       "      <td>160544</td>\n",
       "      <td>образование</td>\n",
       "      <td>[образование, \\n]</td>\n",
       "      <td>образование</td>\n",
       "      <td>выше среднего (143-196т.р.)</td>\n",
       "      <td>Один ребенок</td>\n",
       "    </tr>\n",
       "    <tr>\n",
       "      <td>15849</td>\n",
       "      <td>0</td>\n",
       "      <td>-610</td>\n",
       "      <td>26</td>\n",
       "      <td>среднее</td>\n",
       "      <td>1</td>\n",
       "      <td>Не женат / не замужем</td>\n",
       "      <td>4</td>\n",
       "      <td>F</td>\n",
       "      <td>сотрудник</td>\n",
       "      <td>0</td>\n",
       "      <td>115564</td>\n",
       "      <td>покупка жилья</td>\n",
       "      <td>[покупка,  , жилье, \\n]</td>\n",
       "      <td>недвижимость</td>\n",
       "      <td>ниже среднего (108-143т.р.)</td>\n",
       "      <td>Нет детей</td>\n",
       "    </tr>\n",
       "    <tr>\n",
       "      <td>12890</td>\n",
       "      <td>0</td>\n",
       "      <td>368124</td>\n",
       "      <td>61</td>\n",
       "      <td>начальное</td>\n",
       "      <td>3</td>\n",
       "      <td>вдовец / вдова</td>\n",
       "      <td>2</td>\n",
       "      <td>F</td>\n",
       "      <td>пенсионер</td>\n",
       "      <td>0</td>\n",
       "      <td>81273</td>\n",
       "      <td>покупка жилья для сдачи</td>\n",
       "      <td>[покупка,  , жилье,  , для,  , сдача, \\n]</td>\n",
       "      <td>недвижимость</td>\n",
       "      <td>низкий (до 108т.р.)</td>\n",
       "      <td>Нет детей</td>\n",
       "    </tr>\n",
       "  </tbody>\n",
       "</table>\n",
       "</div>"
      ],
      "text/plain": [
       "       children  days_employed  dob_years  education  education_id  \\\n",
       "20552         1          -1709         31    среднее             1   \n",
       "6704          0         374483         55    среднее             1   \n",
       "4539          1          -1811         32    среднее             1   \n",
       "15849         0           -610         26    среднее             1   \n",
       "12890         0         368124         61  начальное             3   \n",
       "\n",
       "               family_status  family_status_id gender income_type  debt  \\\n",
       "20552        женат / замужем                 0      M   компаньон     0   \n",
       "6704         женат / замужем                 0      F   пенсионер     0   \n",
       "4539         женат / замужем                 0      F   сотрудник     0   \n",
       "15849  Не женат / не замужем                 4      F   сотрудник     0   \n",
       "12890         вдовец / вдова                 2      F   пенсионер     0   \n",
       "\n",
       "       total_income                                 purpose  \\\n",
       "20552        152367  строительство собственной недвижимости   \n",
       "6704         232889              покупка жилой недвижимости   \n",
       "4539         160544                             образование   \n",
       "15849        115564                           покупка жилья   \n",
       "12890         81273                 покупка жилья для сдачи   \n",
       "\n",
       "                                                  lemmas  purpose_main  \\\n",
       "20552  [строительство,  , собственный,  , недвижимост...  недвижимость   \n",
       "6704            [покупка,  , жилой,  , недвижимость, \\n]  недвижимость   \n",
       "4539                                   [образование, \\n]   образование   \n",
       "15849                            [покупка,  , жилье, \\n]  недвижимость   \n",
       "12890          [покупка,  , жилье,  , для,  , сдача, \\n]  недвижимость   \n",
       "\n",
       "                  total_income_cut children_grouped  \n",
       "20552  выше среднего (143-196т.р.)     Один ребенок  \n",
       "6704       высокий (более 196т.р.)        Нет детей  \n",
       "4539   выше среднего (143-196т.р.)     Один ребенок  \n",
       "15849  ниже среднего (108-143т.р.)        Нет детей  \n",
       "12890          низкий (до 108т.р.)        Нет детей  "
      ]
     },
     "execution_count": 28,
     "metadata": {},
     "output_type": "execute_result"
    }
   ],
   "source": [
    "data['children_grouped'] = pd.cut(data['children'],[-0.1, 0.9, 1.9, 2.9, np.inf], labels=[\"Нет детей\", \"Один ребенок\", \"Два ребенка\", \"Три и более\"])\n",
    "data.sample(5)"
   ]
  },
  {
   "cell_type": "markdown",
   "metadata": {},
   "source": [
    "**Группировка по возрасту**\n",
    "\n",
    "Также сгруппируем заемщиков по возрасту. Сможем использовать это для детализации в дальнейшем."
   ]
  },
  {
   "cell_type": "code",
   "execution_count": 29,
   "metadata": {},
   "outputs": [
    {
     "data": {
      "text/plain": [
       "count    21454.0\n",
       "mean        43.0\n",
       "std         13.0\n",
       "min          0.0\n",
       "25%         33.0\n",
       "50%         42.0\n",
       "75%         53.0\n",
       "max         75.0\n",
       "Name: dob_years, dtype: float64"
      ]
     },
     "execution_count": 29,
     "metadata": {},
     "output_type": "execute_result"
    }
   ],
   "source": [
    "data['dob_years'].describe().round()"
   ]
  },
  {
   "cell_type": "markdown",
   "metadata": {},
   "source": [
    "Разделим на четыре примерно равные по объему части, воспользовавшись для определения диапазонов информацией из *describe()*."
   ]
  },
  {
   "cell_type": "code",
   "execution_count": 30,
   "metadata": {},
   "outputs": [
    {
     "data": {
      "text/html": [
       "<div>\n",
       "<style scoped>\n",
       "    .dataframe tbody tr th:only-of-type {\n",
       "        vertical-align: middle;\n",
       "    }\n",
       "\n",
       "    .dataframe tbody tr th {\n",
       "        vertical-align: top;\n",
       "    }\n",
       "\n",
       "    .dataframe thead th {\n",
       "        text-align: right;\n",
       "    }\n",
       "</style>\n",
       "<table border=\"1\" class=\"dataframe\">\n",
       "  <thead>\n",
       "    <tr style=\"text-align: right;\">\n",
       "      <th></th>\n",
       "      <th>children</th>\n",
       "      <th>days_employed</th>\n",
       "      <th>dob_years</th>\n",
       "      <th>education</th>\n",
       "      <th>education_id</th>\n",
       "      <th>family_status</th>\n",
       "      <th>family_status_id</th>\n",
       "      <th>gender</th>\n",
       "      <th>income_type</th>\n",
       "      <th>debt</th>\n",
       "      <th>total_income</th>\n",
       "      <th>purpose</th>\n",
       "      <th>lemmas</th>\n",
       "      <th>purpose_main</th>\n",
       "      <th>total_income_cut</th>\n",
       "      <th>children_grouped</th>\n",
       "      <th>dob_years_grouped</th>\n",
       "    </tr>\n",
       "  </thead>\n",
       "  <tbody>\n",
       "    <tr>\n",
       "      <td>2866</td>\n",
       "      <td>0</td>\n",
       "      <td>-809</td>\n",
       "      <td>46</td>\n",
       "      <td>среднее</td>\n",
       "      <td>1</td>\n",
       "      <td>женат / замужем</td>\n",
       "      <td>0</td>\n",
       "      <td>F</td>\n",
       "      <td>компаньон</td>\n",
       "      <td>0</td>\n",
       "      <td>297563</td>\n",
       "      <td>образование</td>\n",
       "      <td>[образование, \\n]</td>\n",
       "      <td>образование</td>\n",
       "      <td>высокий (более 196т.р.)</td>\n",
       "      <td>Нет детей</td>\n",
       "      <td>43-53 года</td>\n",
       "    </tr>\n",
       "    <tr>\n",
       "      <td>9813</td>\n",
       "      <td>0</td>\n",
       "      <td>-2105</td>\n",
       "      <td>35</td>\n",
       "      <td>среднее</td>\n",
       "      <td>1</td>\n",
       "      <td>Не женат / не замужем</td>\n",
       "      <td>4</td>\n",
       "      <td>F</td>\n",
       "      <td>госслужащий</td>\n",
       "      <td>0</td>\n",
       "      <td>138143</td>\n",
       "      <td>покупка жилой недвижимости</td>\n",
       "      <td>[покупка,  , жилой,  , недвижимость, \\n]</td>\n",
       "      <td>недвижимость</td>\n",
       "      <td>ниже среднего (108-143т.р.)</td>\n",
       "      <td>Нет детей</td>\n",
       "      <td>34-42 года</td>\n",
       "    </tr>\n",
       "    <tr>\n",
       "      <td>8407</td>\n",
       "      <td>2</td>\n",
       "      <td>-1371</td>\n",
       "      <td>0</td>\n",
       "      <td>среднее</td>\n",
       "      <td>1</td>\n",
       "      <td>женат / замужем</td>\n",
       "      <td>0</td>\n",
       "      <td>M</td>\n",
       "      <td>сотрудник</td>\n",
       "      <td>0</td>\n",
       "      <td>179138</td>\n",
       "      <td>покупка жилья для семьи</td>\n",
       "      <td>[покупка,  , жилье,  , для,  , семья, \\n]</td>\n",
       "      <td>недвижимость</td>\n",
       "      <td>выше среднего (143-196т.р.)</td>\n",
       "      <td>Два ребенка</td>\n",
       "      <td>NaN</td>\n",
       "    </tr>\n",
       "    <tr>\n",
       "      <td>16824</td>\n",
       "      <td>0</td>\n",
       "      <td>-498</td>\n",
       "      <td>58</td>\n",
       "      <td>среднее</td>\n",
       "      <td>1</td>\n",
       "      <td>гражданский брак</td>\n",
       "      <td>1</td>\n",
       "      <td>F</td>\n",
       "      <td>сотрудник</td>\n",
       "      <td>0</td>\n",
       "      <td>161079</td>\n",
       "      <td>свадьба</td>\n",
       "      <td>[свадьба, \\n]</td>\n",
       "      <td>свадьба</td>\n",
       "      <td>выше среднего (143-196т.р.)</td>\n",
       "      <td>Нет детей</td>\n",
       "      <td>старше 53</td>\n",
       "    </tr>\n",
       "    <tr>\n",
       "      <td>8937</td>\n",
       "      <td>2</td>\n",
       "      <td>-1114</td>\n",
       "      <td>35</td>\n",
       "      <td>среднее</td>\n",
       "      <td>1</td>\n",
       "      <td>женат / замужем</td>\n",
       "      <td>0</td>\n",
       "      <td>F</td>\n",
       "      <td>сотрудник</td>\n",
       "      <td>0</td>\n",
       "      <td>127636</td>\n",
       "      <td>жилье</td>\n",
       "      <td>[жилье, \\n]</td>\n",
       "      <td>недвижимость</td>\n",
       "      <td>ниже среднего (108-143т.р.)</td>\n",
       "      <td>Два ребенка</td>\n",
       "      <td>34-42 года</td>\n",
       "    </tr>\n",
       "  </tbody>\n",
       "</table>\n",
       "</div>"
      ],
      "text/plain": [
       "       children  days_employed  dob_years education  education_id  \\\n",
       "2866          0           -809         46   среднее             1   \n",
       "9813          0          -2105         35   среднее             1   \n",
       "8407          2          -1371          0   среднее             1   \n",
       "16824         0           -498         58   среднее             1   \n",
       "8937          2          -1114         35   среднее             1   \n",
       "\n",
       "               family_status  family_status_id gender  income_type  debt  \\\n",
       "2866         женат / замужем                 0      F    компаньон     0   \n",
       "9813   Не женат / не замужем                 4      F  госслужащий     0   \n",
       "8407         женат / замужем                 0      M    сотрудник     0   \n",
       "16824       гражданский брак                 1      F    сотрудник     0   \n",
       "8937         женат / замужем                 0      F    сотрудник     0   \n",
       "\n",
       "       total_income                     purpose  \\\n",
       "2866         297563                 образование   \n",
       "9813         138143  покупка жилой недвижимости   \n",
       "8407         179138     покупка жилья для семьи   \n",
       "16824        161079                     свадьба   \n",
       "8937         127636                       жилье   \n",
       "\n",
       "                                          lemmas  purpose_main  \\\n",
       "2866                           [образование, \\n]   образование   \n",
       "9813    [покупка,  , жилой,  , недвижимость, \\n]  недвижимость   \n",
       "8407   [покупка,  , жилье,  , для,  , семья, \\n]  недвижимость   \n",
       "16824                              [свадьба, \\n]       свадьба   \n",
       "8937                                 [жилье, \\n]  недвижимость   \n",
       "\n",
       "                  total_income_cut children_grouped dob_years_grouped  \n",
       "2866       высокий (более 196т.р.)        Нет детей        43-53 года  \n",
       "9813   ниже среднего (108-143т.р.)        Нет детей        34-42 года  \n",
       "8407   выше среднего (143-196т.р.)      Два ребенка               NaN  \n",
       "16824  выше среднего (143-196т.р.)        Нет детей         старше 53  \n",
       "8937   ниже среднего (108-143т.р.)      Два ребенка        34-42 года  "
      ]
     },
     "execution_count": 30,
     "metadata": {},
     "output_type": "execute_result"
    }
   ],
   "source": [
    "data['dob_years_grouped'] = pd.cut(data['dob_years'],[0, 33, 42, 53, np.inf], labels=[\"до 33 лет\", \"34-42 года\", \"43-53 года\", \"старше 53\"])\n",
    "data.sample(5)"
   ]
  },
  {
   "cell_type": "markdown",
   "metadata": {},
   "source": [
    "Сгруппируем на основании нового столбца."
   ]
  },
  {
   "cell_type": "code",
   "execution_count": 31,
   "metadata": {},
   "outputs": [
    {
     "data": {
      "text/html": [
       "<div>\n",
       "<style scoped>\n",
       "    .dataframe tbody tr th:only-of-type {\n",
       "        vertical-align: middle;\n",
       "    }\n",
       "\n",
       "    .dataframe tbody tr th {\n",
       "        vertical-align: top;\n",
       "    }\n",
       "\n",
       "    .dataframe thead th {\n",
       "        text-align: right;\n",
       "    }\n",
       "</style>\n",
       "<table border=\"1\" class=\"dataframe\">\n",
       "  <thead>\n",
       "    <tr style=\"text-align: right;\">\n",
       "      <th></th>\n",
       "      <th>dob_years_grouped</th>\n",
       "      <th>count</th>\n",
       "      <th>mean</th>\n",
       "    </tr>\n",
       "  </thead>\n",
       "  <tbody>\n",
       "    <tr>\n",
       "      <td>3</td>\n",
       "      <td>старше 53</td>\n",
       "      <td>5255</td>\n",
       "      <td>0.055947</td>\n",
       "    </tr>\n",
       "    <tr>\n",
       "      <td>2</td>\n",
       "      <td>43-53 года</td>\n",
       "      <td>5448</td>\n",
       "      <td>0.073238</td>\n",
       "    </tr>\n",
       "    <tr>\n",
       "      <td>1</td>\n",
       "      <td>34-42 года</td>\n",
       "      <td>5284</td>\n",
       "      <td>0.085731</td>\n",
       "    </tr>\n",
       "    <tr>\n",
       "      <td>0</td>\n",
       "      <td>до 33 лет</td>\n",
       "      <td>5366</td>\n",
       "      <td>0.109392</td>\n",
       "    </tr>\n",
       "  </tbody>\n",
       "</table>\n",
       "</div>"
      ],
      "text/plain": [
       "  dob_years_grouped  count      mean\n",
       "3         старше 53   5255  0.055947\n",
       "2        43-53 года   5448  0.073238\n",
       "1        34-42 года   5284  0.085731\n",
       "0         до 33 лет   5366  0.109392"
      ]
     },
     "execution_count": 31,
     "metadata": {},
     "output_type": "execute_result"
    }
   ],
   "source": [
    "data.groupby('dob_years_grouped')['debt'].agg(['count', 'mean']).reset_index().sort_values('mean')"
   ]
  },
  {
   "cell_type": "markdown",
   "metadata": {},
   "source": [
    "**Вывод**"
   ]
  },
  {
   "cell_type": "markdown",
   "metadata": {},
   "source": [
    "На этапе предобработки удалили дубликаты, заполнили пропуски, выделили категории для более удобной группировки данных.  Удалось сохранить все строки за исключение дубликатов, заполнив пропуски с использованием медианных значений.\n",
    "Данные готовы для финального этапа: анализа и ответана поставленные вопросы."
   ]
  },
  {
   "cell_type": "markdown",
   "metadata": {},
   "source": [
    "## Шаг 3. Анализируем закономерности"
   ]
  },
  {
   "cell_type": "markdown",
   "metadata": {},
   "source": [
    "**- Есть ли зависимость между наличием детей и возвратом кредита в срок?**"
   ]
  },
  {
   "cell_type": "markdown",
   "metadata": {},
   "source": [
    "Сгруппируем данные по количеству детей, используя **count** для подсчета количества заемщиков в каждой категории и **mean**, чтобы посчитать среднее. Т.к. в столбце **debt** значения из нулей и единиц, среднее значение будет являться долей просрочек по каждой категории. \n",
    "\n",
    "Отсортируем данные в таблице по столбцу в долей в порядк возрастания."
   ]
  },
  {
   "cell_type": "code",
   "execution_count": 32,
   "metadata": {
    "scrolled": true
   },
   "outputs": [
    {
     "data": {
      "text/html": [
       "<div>\n",
       "<style scoped>\n",
       "    .dataframe tbody tr th:only-of-type {\n",
       "        vertical-align: middle;\n",
       "    }\n",
       "\n",
       "    .dataframe tbody tr th {\n",
       "        vertical-align: top;\n",
       "    }\n",
       "\n",
       "    .dataframe thead th {\n",
       "        text-align: right;\n",
       "    }\n",
       "</style>\n",
       "<table border=\"1\" class=\"dataframe\">\n",
       "  <thead>\n",
       "    <tr style=\"text-align: right;\">\n",
       "      <th></th>\n",
       "      <th>children_grouped</th>\n",
       "      <th>count</th>\n",
       "      <th>mean</th>\n",
       "    </tr>\n",
       "  </thead>\n",
       "  <tbody>\n",
       "    <tr>\n",
       "      <td>0</td>\n",
       "      <td>Нет детей</td>\n",
       "      <td>14091</td>\n",
       "      <td>0.075438</td>\n",
       "    </tr>\n",
       "    <tr>\n",
       "      <td>3</td>\n",
       "      <td>Три и более</td>\n",
       "      <td>380</td>\n",
       "      <td>0.081579</td>\n",
       "    </tr>\n",
       "    <tr>\n",
       "      <td>1</td>\n",
       "      <td>Один ребенок</td>\n",
       "      <td>4855</td>\n",
       "      <td>0.091658</td>\n",
       "    </tr>\n",
       "    <tr>\n",
       "      <td>2</td>\n",
       "      <td>Два ребенка</td>\n",
       "      <td>2128</td>\n",
       "      <td>0.094925</td>\n",
       "    </tr>\n",
       "  </tbody>\n",
       "</table>\n",
       "</div>"
      ],
      "text/plain": [
       "  children_grouped  count      mean\n",
       "0        Нет детей  14091  0.075438\n",
       "3      Три и более    380  0.081579\n",
       "1     Один ребенок   4855  0.091658\n",
       "2      Два ребенка   2128  0.094925"
      ]
     },
     "execution_count": 32,
     "metadata": {},
     "output_type": "execute_result"
    }
   ],
   "source": [
    "data.groupby('children_grouped')['debt'].agg(['count', 'mean']).reset_index().sort_values('mean')"
   ]
  },
  {
   "cell_type": "markdown",
   "metadata": {},
   "source": [
    "**Вывод**"
   ]
  },
  {
   "cell_type": "markdown",
   "metadata": {},
   "source": [
    "Заемщиков с тремя и более детьми в выборке не так много, поэтому эти данные не очень репрезентативны. В этой группе количество просрочек на среднем уровне.\n",
    "\n",
    "Наибольшие проблемы с выплатами наблюдаются у заемщиков с детьми.\n",
    "Самая большая группа - без детей - имеет наилучший показатель.\n",
    "Можем сделать вывод, что заемщики без детей наиболее дисциплинировано расплачиваются по долгам. Возможно, это связано с тем, что они могут существенно урезать свои траты для погашения кредита в случае непредвиденных осложнений. Но причина может быть и в том, что заемщики без детей берут более мелкие суммы. Стоит рассмотреть этот показатель в связке с размером кредита и величиной дохода.  \n",
    "Можем сделать вывод, что зависимость между наличием детей и просрочками существует: при наличии детей вероятность появления просрочки повышается."
   ]
  },
  {
   "cell_type": "markdown",
   "metadata": {},
   "source": [
    "**- Есть ли зависимость между семейным положением и возвратом кредита в срок?**"
   ]
  },
  {
   "cell_type": "markdown",
   "metadata": {},
   "source": [
    "Проведем группировку по семейному положению."
   ]
  },
  {
   "cell_type": "code",
   "execution_count": 33,
   "metadata": {
    "scrolled": true
   },
   "outputs": [
    {
     "data": {
      "text/html": [
       "<div>\n",
       "<style scoped>\n",
       "    .dataframe tbody tr th:only-of-type {\n",
       "        vertical-align: middle;\n",
       "    }\n",
       "\n",
       "    .dataframe tbody tr th {\n",
       "        vertical-align: top;\n",
       "    }\n",
       "\n",
       "    .dataframe thead th {\n",
       "        text-align: right;\n",
       "    }\n",
       "</style>\n",
       "<table border=\"1\" class=\"dataframe\">\n",
       "  <thead>\n",
       "    <tr style=\"text-align: right;\">\n",
       "      <th></th>\n",
       "      <th>family_status</th>\n",
       "      <th>count</th>\n",
       "      <th>mean</th>\n",
       "    </tr>\n",
       "  </thead>\n",
       "  <tbody>\n",
       "    <tr>\n",
       "      <td>2</td>\n",
       "      <td>вдовец / вдова</td>\n",
       "      <td>959</td>\n",
       "      <td>0.065693</td>\n",
       "    </tr>\n",
       "    <tr>\n",
       "      <td>1</td>\n",
       "      <td>в разводе</td>\n",
       "      <td>1195</td>\n",
       "      <td>0.071130</td>\n",
       "    </tr>\n",
       "    <tr>\n",
       "      <td>4</td>\n",
       "      <td>женат / замужем</td>\n",
       "      <td>12339</td>\n",
       "      <td>0.075452</td>\n",
       "    </tr>\n",
       "    <tr>\n",
       "      <td>3</td>\n",
       "      <td>гражданский брак</td>\n",
       "      <td>4151</td>\n",
       "      <td>0.093471</td>\n",
       "    </tr>\n",
       "    <tr>\n",
       "      <td>0</td>\n",
       "      <td>Не женат / не замужем</td>\n",
       "      <td>2810</td>\n",
       "      <td>0.097509</td>\n",
       "    </tr>\n",
       "  </tbody>\n",
       "</table>\n",
       "</div>"
      ],
      "text/plain": [
       "           family_status  count      mean\n",
       "2         вдовец / вдова    959  0.065693\n",
       "1              в разводе   1195  0.071130\n",
       "4        женат / замужем  12339  0.075452\n",
       "3       гражданский брак   4151  0.093471\n",
       "0  Не женат / не замужем   2810  0.097509"
      ]
     },
     "execution_count": 33,
     "metadata": {},
     "output_type": "execute_result"
    }
   ],
   "source": [
    "data.groupby('family_status')['debt'].agg(['count', 'mean']).reset_index().sort_values('mean')"
   ]
  },
  {
   "cell_type": "markdown",
   "metadata": {},
   "source": [
    "Одинокие люди находятся в противоположных частях таблицы. Можно заметить, что наименьший процент просрочки среди вдовцов и находящихся в разводе. При этом люди, которые еще не вступали в брак, чаще всех допускают невыплаты. Вероятно, среди вдовцов и находящихся в разводе средний возраст выше, они более ответственны и обладают большим доходом, чем не женатые.\n",
    "\n",
    "Также примечательно существенное отличие между женатыми заемщиками и заемщиками, проживающими в гражданском браке.  Доля просрочек заемщиков, проживающих в гражданском браке, существенно выше.\n"
   ]
  },
  {
   "cell_type": "markdown",
   "metadata": {},
   "source": [
    "Построим сводную таблицу и взглянем на ситуацию с просрочками еще и в разрезе возрастных групп."
   ]
  },
  {
   "cell_type": "code",
   "execution_count": 34,
   "metadata": {
    "scrolled": true
   },
   "outputs": [
    {
     "data": {
      "text/html": [
       "<div>\n",
       "<style scoped>\n",
       "    .dataframe tbody tr th:only-of-type {\n",
       "        vertical-align: middle;\n",
       "    }\n",
       "\n",
       "    .dataframe tbody tr th {\n",
       "        vertical-align: top;\n",
       "    }\n",
       "\n",
       "    .dataframe thead th {\n",
       "        text-align: right;\n",
       "    }\n",
       "</style>\n",
       "<table border=\"1\" class=\"dataframe\">\n",
       "  <thead>\n",
       "    <tr style=\"text-align: right;\">\n",
       "      <th>dob_years_grouped</th>\n",
       "      <th>до 33 лет</th>\n",
       "      <th>34-42 года</th>\n",
       "      <th>43-53 года</th>\n",
       "      <th>старше 53</th>\n",
       "    </tr>\n",
       "    <tr>\n",
       "      <th>family_status</th>\n",
       "      <th></th>\n",
       "      <th></th>\n",
       "      <th></th>\n",
       "      <th></th>\n",
       "    </tr>\n",
       "  </thead>\n",
       "  <tbody>\n",
       "    <tr>\n",
       "      <td>Не женат / не замужем</td>\n",
       "      <td>0.119295</td>\n",
       "      <td>0.100182</td>\n",
       "      <td>0.089866</td>\n",
       "      <td>0.046512</td>\n",
       "    </tr>\n",
       "    <tr>\n",
       "      <td>в разводе</td>\n",
       "      <td>0.118644</td>\n",
       "      <td>0.063758</td>\n",
       "      <td>0.068602</td>\n",
       "      <td>0.057402</td>\n",
       "    </tr>\n",
       "    <tr>\n",
       "      <td>вдовец / вдова</td>\n",
       "      <td>0.076923</td>\n",
       "      <td>0.062500</td>\n",
       "      <td>0.058824</td>\n",
       "      <td>0.066865</td>\n",
       "    </tr>\n",
       "    <tr>\n",
       "      <td>гражданский брак</td>\n",
       "      <td>0.111309</td>\n",
       "      <td>0.100273</td>\n",
       "      <td>0.089423</td>\n",
       "      <td>0.066667</td>\n",
       "    </tr>\n",
       "    <tr>\n",
       "      <td>женат / замужем</td>\n",
       "      <td>0.103780</td>\n",
       "      <td>0.080891</td>\n",
       "      <td>0.066929</td>\n",
       "      <td>0.051582</td>\n",
       "    </tr>\n",
       "  </tbody>\n",
       "</table>\n",
       "</div>"
      ],
      "text/plain": [
       "dob_years_grouped      до 33 лет  34-42 года  43-53 года  старше 53\n",
       "family_status                                                      \n",
       "Не женат / не замужем   0.119295    0.100182    0.089866   0.046512\n",
       "в разводе               0.118644    0.063758    0.068602   0.057402\n",
       "вдовец / вдова          0.076923    0.062500    0.058824   0.066865\n",
       "гражданский брак        0.111309    0.100273    0.089423   0.066667\n",
       "женат / замужем         0.103780    0.080891    0.066929   0.051582"
      ]
     },
     "metadata": {},
     "output_type": "display_data"
    }
   ],
   "source": [
    "data_pivot = data.pivot_table(index=['family_status'], columns='dob_years_grouped', values='debt', aggfunc='mean')\n",
    "display(data_pivot)"
   ]
  },
  {
   "cell_type": "markdown",
   "metadata": {},
   "source": [
    "**Вывод**"
   ]
  },
  {
   "cell_type": "markdown",
   "metadata": {},
   "source": [
    "Наибольшие проблемы с просрочкой у молодых неженатых людей и/или живущих в гражданском браке. Среди людей старшего поколения количество просрочек существенно ниже."
   ]
  },
  {
   "cell_type": "markdown",
   "metadata": {},
   "source": [
    "**- Есть ли зависимость между уровнем дохода и возвратом кредита в срок?**"
   ]
  },
  {
   "cell_type": "markdown",
   "metadata": {},
   "source": [
    "Используем тот же метот для построения сводной таблицы по уровню дохода."
   ]
  },
  {
   "cell_type": "code",
   "execution_count": 35,
   "metadata": {
    "scrolled": true
   },
   "outputs": [
    {
     "data": {
      "text/html": [
       "<div>\n",
       "<style scoped>\n",
       "    .dataframe tbody tr th:only-of-type {\n",
       "        vertical-align: middle;\n",
       "    }\n",
       "\n",
       "    .dataframe tbody tr th {\n",
       "        vertical-align: top;\n",
       "    }\n",
       "\n",
       "    .dataframe thead th {\n",
       "        text-align: right;\n",
       "    }\n",
       "</style>\n",
       "<table border=\"1\" class=\"dataframe\">\n",
       "  <thead>\n",
       "    <tr style=\"text-align: right;\">\n",
       "      <th></th>\n",
       "      <th>total_income_cut</th>\n",
       "      <th>count</th>\n",
       "      <th>mean</th>\n",
       "    </tr>\n",
       "  </thead>\n",
       "  <tbody>\n",
       "    <tr>\n",
       "      <td>3</td>\n",
       "      <td>высокий (более 196т.р.)</td>\n",
       "      <td>5364</td>\n",
       "      <td>0.071402</td>\n",
       "    </tr>\n",
       "    <tr>\n",
       "      <td>0</td>\n",
       "      <td>низкий (до 108т.р.)</td>\n",
       "      <td>5364</td>\n",
       "      <td>0.079605</td>\n",
       "    </tr>\n",
       "    <tr>\n",
       "      <td>2</td>\n",
       "      <td>выше среднего (143-196т.р.)</td>\n",
       "      <td>5247</td>\n",
       "      <td>0.085382</td>\n",
       "    </tr>\n",
       "    <tr>\n",
       "      <td>1</td>\n",
       "      <td>ниже среднего (108-143т.р.)</td>\n",
       "      <td>5479</td>\n",
       "      <td>0.088155</td>\n",
       "    </tr>\n",
       "  </tbody>\n",
       "</table>\n",
       "</div>"
      ],
      "text/plain": [
       "              total_income_cut  count      mean\n",
       "3      высокий (более 196т.р.)   5364  0.071402\n",
       "0          низкий (до 108т.р.)   5364  0.079605\n",
       "2  выше среднего (143-196т.р.)   5247  0.085382\n",
       "1  ниже среднего (108-143т.р.)   5479  0.088155"
      ]
     },
     "execution_count": 35,
     "metadata": {},
     "output_type": "execute_result"
    }
   ],
   "source": [
    "data.groupby('total_income_cut')['debt'].agg(['count', 'mean']).reset_index().sort_values('mean')"
   ]
  },
  {
   "cell_type": "markdown",
   "metadata": {},
   "source": [
    "Попробуем дополнительно рассмотреть в разрезе возрастных групп. "
   ]
  },
  {
   "cell_type": "code",
   "execution_count": 36,
   "metadata": {},
   "outputs": [
    {
     "data": {
      "text/html": [
       "<div>\n",
       "<style scoped>\n",
       "    .dataframe tbody tr th:only-of-type {\n",
       "        vertical-align: middle;\n",
       "    }\n",
       "\n",
       "    .dataframe tbody tr th {\n",
       "        vertical-align: top;\n",
       "    }\n",
       "\n",
       "    .dataframe thead th {\n",
       "        text-align: right;\n",
       "    }\n",
       "</style>\n",
       "<table border=\"1\" class=\"dataframe\">\n",
       "  <thead>\n",
       "    <tr style=\"text-align: right;\">\n",
       "      <th>dob_years_grouped</th>\n",
       "      <th>до 33 лет</th>\n",
       "      <th>34-42 года</th>\n",
       "      <th>43-53 года</th>\n",
       "      <th>старше 53</th>\n",
       "    </tr>\n",
       "    <tr>\n",
       "      <th>total_income_cut</th>\n",
       "      <th></th>\n",
       "      <th></th>\n",
       "      <th></th>\n",
       "      <th></th>\n",
       "    </tr>\n",
       "  </thead>\n",
       "  <tbody>\n",
       "    <tr>\n",
       "      <td>низкий (до 108т.р.)</td>\n",
       "      <td>0.111806</td>\n",
       "      <td>0.093085</td>\n",
       "      <td>0.074367</td>\n",
       "      <td>0.049880</td>\n",
       "    </tr>\n",
       "    <tr>\n",
       "      <td>ниже среднего (108-143т.р.)</td>\n",
       "      <td>0.129291</td>\n",
       "      <td>0.098193</td>\n",
       "      <td>0.072646</td>\n",
       "      <td>0.055328</td>\n",
       "    </tr>\n",
       "    <tr>\n",
       "      <td>выше среднего (143-196т.р.)</td>\n",
       "      <td>0.107168</td>\n",
       "      <td>0.087146</td>\n",
       "      <td>0.074405</td>\n",
       "      <td>0.067457</td>\n",
       "    </tr>\n",
       "    <tr>\n",
       "      <td>высокий (более 196т.р.)</td>\n",
       "      <td>0.088617</td>\n",
       "      <td>0.068393</td>\n",
       "      <td>0.071764</td>\n",
       "      <td>0.054369</td>\n",
       "    </tr>\n",
       "  </tbody>\n",
       "</table>\n",
       "</div>"
      ],
      "text/plain": [
       "dob_years_grouped            до 33 лет  34-42 года  43-53 года  старше 53\n",
       "total_income_cut                                                         \n",
       "низкий (до 108т.р.)           0.111806    0.093085    0.074367   0.049880\n",
       "ниже среднего (108-143т.р.)   0.129291    0.098193    0.072646   0.055328\n",
       "выше среднего (143-196т.р.)   0.107168    0.087146    0.074405   0.067457\n",
       "высокий (более 196т.р.)       0.088617    0.068393    0.071764   0.054369"
      ]
     },
     "metadata": {},
     "output_type": "display_data"
    }
   ],
   "source": [
    "data_pivot = data.pivot_table(index=['total_income_cut'], columns='dob_years_grouped', values='debt', aggfunc='mean')\n",
    "display(data_pivot)"
   ]
  },
  {
   "cell_type": "markdown",
   "metadata": {},
   "source": [
    "**Вывод**"
   ]
  },
  {
   "cell_type": "markdown",
   "metadata": {},
   "source": [
    "Прямой зависимости между величиной дохода и надежностью заемщиков нет. Самый низкий процент наличия просрочек у наиболее обеспеченной группы. Заёмщики с низким доходом (до 108 000р) выплачивают кредит более дисциплинировано, чем заемщики со средним доходом. \n",
    "И снова наблюдаем, что среди самой младшей категории заемщиков наибольший процент неплатежей."
   ]
  },
  {
   "cell_type": "markdown",
   "metadata": {},
   "source": [
    "**- Как разные цели кредита влияют на его возврат в срок?**"
   ]
  },
  {
   "cell_type": "markdown",
   "metadata": {},
   "source": [
    "Сгруппируем данные исходя из различных целей получения кредита. "
   ]
  },
  {
   "cell_type": "code",
   "execution_count": 37,
   "metadata": {},
   "outputs": [
    {
     "data": {
      "text/html": [
       "<div>\n",
       "<style scoped>\n",
       "    .dataframe tbody tr th:only-of-type {\n",
       "        vertical-align: middle;\n",
       "    }\n",
       "\n",
       "    .dataframe tbody tr th {\n",
       "        vertical-align: top;\n",
       "    }\n",
       "\n",
       "    .dataframe thead th {\n",
       "        text-align: right;\n",
       "    }\n",
       "</style>\n",
       "<table border=\"1\" class=\"dataframe\">\n",
       "  <thead>\n",
       "    <tr style=\"text-align: right;\">\n",
       "      <th></th>\n",
       "      <th>purpose_main</th>\n",
       "      <th>count</th>\n",
       "      <th>mean</th>\n",
       "    </tr>\n",
       "  </thead>\n",
       "  <tbody>\n",
       "    <tr>\n",
       "      <td>1</td>\n",
       "      <td>недвижимость</td>\n",
       "      <td>10811</td>\n",
       "      <td>0.072334</td>\n",
       "    </tr>\n",
       "    <tr>\n",
       "      <td>3</td>\n",
       "      <td>свадьба</td>\n",
       "      <td>2324</td>\n",
       "      <td>0.080034</td>\n",
       "    </tr>\n",
       "    <tr>\n",
       "      <td>2</td>\n",
       "      <td>образование</td>\n",
       "      <td>4013</td>\n",
       "      <td>0.092200</td>\n",
       "    </tr>\n",
       "    <tr>\n",
       "      <td>0</td>\n",
       "      <td>автомобиль</td>\n",
       "      <td>4306</td>\n",
       "      <td>0.093590</td>\n",
       "    </tr>\n",
       "  </tbody>\n",
       "</table>\n",
       "</div>"
      ],
      "text/plain": [
       "   purpose_main  count      mean\n",
       "1  недвижимость  10811  0.072334\n",
       "3       свадьба   2324  0.080034\n",
       "2   образование   4013  0.092200\n",
       "0    автомобиль   4306  0.093590"
      ]
     },
     "execution_count": 37,
     "metadata": {},
     "output_type": "execute_result"
    }
   ],
   "source": [
    "data.groupby('purpose_main')['debt'].agg(['count', 'mean']).reset_index().sort_values('mean')"
   ]
  },
  {
   "cell_type": "markdown",
   "metadata": {},
   "source": [
    "**Вывод**"
   ]
  },
  {
   "cell_type": "markdown",
   "metadata": {},
   "source": [
    "Хуже всего ситуация с кредитами на приобретение автомобиля и образование. Возможно люди не рассчитывают свои возможности при покупке авто, так же это могут быть спонтанные решения. \n",
    "\n",
    "Кредиты на образование - при сочетании обучения и работы, у большой части заемщиков может быть не высокий и/или не стабильный доход, и образование - как раз попытка решить эту проблему. Но на момент обучения возникают сложности с оплатой. \n",
    "\n",
    "Кредиты на свадьбу выплачиваются заметно лучше. Это может быть связано с тем, что это не большие суммы, и после свадьбы молодожены могут погасить часть долга за счет полученных в качестве подарка денежных средств.\n",
    "\n",
    "Лучше всего ситуация с выплатами по кредитам, связанным с недвижимостью. Это самая большая категория - примерно половина от общего количества. Недвижимость - это крупная покупка, люди ответственнее и более взвешенно подходят к такому решению. Также по ипотечным кредитам чаще всего более низкий процент.\n"
   ]
  },
  {
   "cell_type": "markdown",
   "metadata": {},
   "source": [
    "## Шаг 4. Общий вывод"
   ]
  },
  {
   "cell_type": "markdown",
   "metadata": {},
   "source": [
    "Наиболее дисциплинированы заемщики старшего возраста, на их долю приходится минимальное количество просрочек. Причем наблюдается обратная корреляция между возрастом и долей просрочек: чем моложе, тем больше случаев неуплаты вовремя.\n",
    "Заёмщики без детей чаще платят согласно установленному графику, а у заемщиков с детьми чаще возникают проблемы с оплатой.\n",
    "Вдовцы и находящиеся в разводе платят стабильнее, чем неженатые.\n",
    "\n",
    "Интересен факт, что высокий процент просрочек у заемщиков со средними доходами, а заемщики с низкими и высокими доходами погашают долги стабильнее.\n",
    "Наибольшая доля просрочек по автокредитам, а самыми надежными являются кредиты связанные с недвижимостью. \n",
    "\n",
    "\n",
    "Для более глубоких выводов можно провести анализ, сгруппировав заемщиков по нескольким критериям. \n",
    "\n",
    "Полезными для анализа были бы данные о величине кредита и его сроке. Стоит рассмотреть возможность добавления этих данных в базу."
   ]
  }
 ],
 "metadata": {
  "ExecuteTimeLog": [
   {
    "duration": 523,
    "start_time": "2021-06-17T18:05:01.960Z"
   },
   {
    "duration": 857,
    "start_time": "2021-06-17T18:05:09.621Z"
   },
   {
    "duration": 596,
    "start_time": "2022-01-19T07:45:06.649Z"
   },
   {
    "duration": 11,
    "start_time": "2022-01-19T07:45:09.603Z"
   },
   {
    "duration": 57,
    "start_time": "2022-01-19T07:50:47.093Z"
   },
   {
    "duration": 596,
    "start_time": "2022-01-19T07:51:12.056Z"
   },
   {
    "duration": 11,
    "start_time": "2022-01-19T07:51:12.654Z"
   },
   {
    "duration": 23,
    "start_time": "2022-01-19T07:51:12.667Z"
   },
   {
    "duration": 28,
    "start_time": "2022-01-19T07:51:12.692Z"
   },
   {
    "duration": 10,
    "start_time": "2022-01-19T07:51:12.722Z"
   },
   {
    "duration": 31,
    "start_time": "2022-01-19T07:51:12.733Z"
   },
   {
    "duration": 23,
    "start_time": "2022-01-19T07:51:12.765Z"
   },
   {
    "duration": 25,
    "start_time": "2022-01-19T07:51:12.790Z"
   },
   {
    "duration": 18,
    "start_time": "2022-01-19T07:51:12.818Z"
   },
   {
    "duration": 22,
    "start_time": "2022-01-19T07:51:12.838Z"
   },
   {
    "duration": 27,
    "start_time": "2022-01-19T07:51:12.861Z"
   },
   {
    "duration": 30,
    "start_time": "2022-01-19T07:51:12.890Z"
   },
   {
    "duration": 42,
    "start_time": "2022-01-19T07:51:12.921Z"
   },
   {
    "duration": 14,
    "start_time": "2022-01-19T07:51:12.964Z"
   },
   {
    "duration": 12,
    "start_time": "2022-01-19T07:51:12.980Z"
   },
   {
    "duration": 32,
    "start_time": "2022-01-19T07:51:12.994Z"
   },
   {
    "duration": 39,
    "start_time": "2022-01-19T07:51:13.028Z"
   },
   {
    "duration": 43,
    "start_time": "2022-01-19T07:51:13.068Z"
   },
   {
    "duration": 5,
    "start_time": "2022-01-19T07:51:13.113Z"
   },
   {
    "duration": 26,
    "start_time": "2022-01-19T07:51:13.120Z"
   },
   {
    "duration": 3415,
    "start_time": "2022-01-19T07:51:13.148Z"
   },
   {
    "duration": 5362,
    "start_time": "2022-01-19T07:51:16.565Z"
   },
   {
    "duration": 22,
    "start_time": "2022-01-19T07:51:21.928Z"
   },
   {
    "duration": 18,
    "start_time": "2022-01-19T07:51:21.952Z"
   },
   {
    "duration": 27,
    "start_time": "2022-01-19T07:51:21.972Z"
   },
   {
    "duration": 40,
    "start_time": "2022-01-19T07:51:22.001Z"
   },
   {
    "duration": 7,
    "start_time": "2022-01-19T07:51:22.044Z"
   },
   {
    "duration": 22,
    "start_time": "2022-01-19T07:51:22.052Z"
   },
   {
    "duration": 42,
    "start_time": "2022-01-19T07:51:22.075Z"
   },
   {
    "duration": 19,
    "start_time": "2022-01-19T07:51:22.118Z"
   },
   {
    "duration": 31,
    "start_time": "2022-01-19T07:51:22.139Z"
   },
   {
    "duration": 16,
    "start_time": "2022-01-19T07:51:22.172Z"
   },
   {
    "duration": 12,
    "start_time": "2022-01-19T07:51:22.190Z"
   },
   {
    "duration": 18,
    "start_time": "2022-01-19T07:51:22.203Z"
   },
   {
    "duration": 26,
    "start_time": "2022-01-19T07:51:22.222Z"
   },
   {
    "duration": 24,
    "start_time": "2022-01-19T07:51:22.249Z"
   },
   {
    "duration": 21,
    "start_time": "2022-01-19T07:51:22.275Z"
   },
   {
    "duration": 22,
    "start_time": "2022-01-19T07:51:22.298Z"
   },
   {
    "duration": 13,
    "start_time": "2022-01-19T07:51:22.322Z"
   },
   {
    "duration": 629,
    "start_time": "2022-01-19T07:58:11.913Z"
   },
   {
    "duration": 10,
    "start_time": "2022-01-19T07:58:12.544Z"
   },
   {
    "duration": 38,
    "start_time": "2022-01-19T07:58:12.556Z"
   },
   {
    "duration": 41,
    "start_time": "2022-01-19T07:58:12.595Z"
   },
   {
    "duration": 17,
    "start_time": "2022-01-19T07:58:12.638Z"
   },
   {
    "duration": 26,
    "start_time": "2022-01-19T07:58:12.657Z"
   },
   {
    "duration": 31,
    "start_time": "2022-01-19T07:58:12.685Z"
   },
   {
    "duration": 37,
    "start_time": "2022-01-19T07:58:12.719Z"
   },
   {
    "duration": 31,
    "start_time": "2022-01-19T07:58:12.758Z"
   },
   {
    "duration": 19,
    "start_time": "2022-01-19T07:58:12.790Z"
   },
   {
    "duration": 25,
    "start_time": "2022-01-19T07:58:12.811Z"
   },
   {
    "duration": 51,
    "start_time": "2022-01-19T07:58:12.837Z"
   },
   {
    "duration": 50,
    "start_time": "2022-01-19T07:58:12.889Z"
   },
   {
    "duration": 26,
    "start_time": "2022-01-19T07:58:12.941Z"
   },
   {
    "duration": 27,
    "start_time": "2022-01-19T07:58:12.969Z"
   },
   {
    "duration": 54,
    "start_time": "2022-01-19T07:58:12.998Z"
   },
   {
    "duration": 39,
    "start_time": "2022-01-19T07:58:13.054Z"
   },
   {
    "duration": 42,
    "start_time": "2022-01-19T07:58:13.095Z"
   },
   {
    "duration": 6,
    "start_time": "2022-01-19T07:58:13.138Z"
   },
   {
    "duration": 53,
    "start_time": "2022-01-19T07:58:13.145Z"
   },
   {
    "duration": 3463,
    "start_time": "2022-01-19T07:58:13.200Z"
   },
   {
    "duration": 5555,
    "start_time": "2022-01-19T07:58:16.665Z"
   },
   {
    "duration": 47,
    "start_time": "2022-01-19T07:58:22.223Z"
   },
   {
    "duration": 21,
    "start_time": "2022-01-19T07:58:22.273Z"
   },
   {
    "duration": 41,
    "start_time": "2022-01-19T07:58:22.296Z"
   },
   {
    "duration": 58,
    "start_time": "2022-01-19T07:58:22.339Z"
   },
   {
    "duration": 24,
    "start_time": "2022-01-19T07:58:22.399Z"
   },
   {
    "duration": 41,
    "start_time": "2022-01-19T07:58:22.425Z"
   },
   {
    "duration": 19,
    "start_time": "2022-01-19T07:58:22.468Z"
   },
   {
    "duration": 19,
    "start_time": "2022-01-19T07:58:22.489Z"
   },
   {
    "duration": 12,
    "start_time": "2022-01-19T07:58:22.510Z"
   },
   {
    "duration": 12,
    "start_time": "2022-01-19T07:58:22.524Z"
   },
   {
    "duration": 13,
    "start_time": "2022-01-19T07:58:22.537Z"
   },
   {
    "duration": 57,
    "start_time": "2022-01-19T07:58:22.552Z"
   },
   {
    "duration": 13,
    "start_time": "2022-01-19T07:58:22.611Z"
   },
   {
    "duration": 22,
    "start_time": "2022-01-19T07:58:22.626Z"
   },
   {
    "duration": 21,
    "start_time": "2022-01-19T07:58:22.650Z"
   }
  ],
  "kernelspec": {
   "display_name": "Python 3",
   "language": "python",
   "name": "python3"
  },
  "language_info": {
   "codemirror_mode": {
    "name": "ipython",
    "version": 3
   },
   "file_extension": ".py",
   "mimetype": "text/x-python",
   "name": "python",
   "nbconvert_exporter": "python",
   "pygments_lexer": "ipython3",
   "version": "3.7.8"
  },
  "toc": {
   "base_numbering": 1,
   "nav_menu": {},
   "number_sections": true,
   "sideBar": true,
   "skip_h1_title": true,
   "title_cell": "Table of Contents",
   "title_sidebar": "Contents",
   "toc_cell": false,
   "toc_position": {},
   "toc_section_display": true,
   "toc_window_display": true
  }
 },
 "nbformat": 4,
 "nbformat_minor": 2
}
