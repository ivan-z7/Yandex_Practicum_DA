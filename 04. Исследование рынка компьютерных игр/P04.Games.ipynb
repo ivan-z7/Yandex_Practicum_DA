{
 "cells": [
  {
   "cell_type": "markdown",
   "metadata": {},
   "source": [
    "# Исследование рынка компьютерных игр"
   ]
  },
  {
   "cell_type": "markdown",
   "metadata": {},
   "source": [
    "Для анализа предоставлен набор исторических данных о продажах игр, включая оценки пользователей и экспертов, жанры и платформы. \n",
    "\n",
    "Задача: на основе имеющихся данных выявить критерии и характеристики, которые определяют популярность игры, чтобы на основании этой информации прогнозировать успешность продукта.\n"
   ]
  },
  {
   "cell_type": "markdown",
   "metadata": {},
   "source": [
    "## Изучение данных "
   ]
  },
  {
   "cell_type": "markdown",
   "metadata": {},
   "source": [
    "Импортируем необходимые для проекта библиотеки:"
   ]
  },
  {
   "cell_type": "code",
   "execution_count": 1,
   "metadata": {},
   "outputs": [],
   "source": [
    "import pandas as pd\n",
    "import numpy as np\n",
    "import math\n",
    "import matplotlib.pyplot as plt \n",
    "from scipy import stats as st\n",
    "from pymystem3 import Mystem"
   ]
  },
  {
   "cell_type": "markdown",
   "metadata": {},
   "source": [
    "Прочитаем таблицу, содержащую исходные данные, и сохраним в переменной **df**. Чтобы провести предварительную оценку данных, посмотрим первые строки и общую информацию."
   ]
  },
  {
   "cell_type": "code",
   "execution_count": 2,
   "metadata": {},
   "outputs": [
    {
     "data": {
      "text/html": [
       "<div>\n",
       "<style scoped>\n",
       "    .dataframe tbody tr th:only-of-type {\n",
       "        vertical-align: middle;\n",
       "    }\n",
       "\n",
       "    .dataframe tbody tr th {\n",
       "        vertical-align: top;\n",
       "    }\n",
       "\n",
       "    .dataframe thead th {\n",
       "        text-align: right;\n",
       "    }\n",
       "</style>\n",
       "<table border=\"1\" class=\"dataframe\">\n",
       "  <thead>\n",
       "    <tr style=\"text-align: right;\">\n",
       "      <th></th>\n",
       "      <th>Name</th>\n",
       "      <th>Platform</th>\n",
       "      <th>Year_of_Release</th>\n",
       "      <th>Genre</th>\n",
       "      <th>NA_sales</th>\n",
       "      <th>EU_sales</th>\n",
       "      <th>JP_sales</th>\n",
       "      <th>Other_sales</th>\n",
       "      <th>Critic_Score</th>\n",
       "      <th>User_Score</th>\n",
       "      <th>Rating</th>\n",
       "    </tr>\n",
       "  </thead>\n",
       "  <tbody>\n",
       "    <tr>\n",
       "      <td>0</td>\n",
       "      <td>Wii Sports</td>\n",
       "      <td>Wii</td>\n",
       "      <td>2006.0</td>\n",
       "      <td>Sports</td>\n",
       "      <td>41.36</td>\n",
       "      <td>28.96</td>\n",
       "      <td>3.77</td>\n",
       "      <td>8.45</td>\n",
       "      <td>76.0</td>\n",
       "      <td>8</td>\n",
       "      <td>E</td>\n",
       "    </tr>\n",
       "    <tr>\n",
       "      <td>1</td>\n",
       "      <td>Super Mario Bros.</td>\n",
       "      <td>NES</td>\n",
       "      <td>1985.0</td>\n",
       "      <td>Platform</td>\n",
       "      <td>29.08</td>\n",
       "      <td>3.58</td>\n",
       "      <td>6.81</td>\n",
       "      <td>0.77</td>\n",
       "      <td>NaN</td>\n",
       "      <td>NaN</td>\n",
       "      <td>NaN</td>\n",
       "    </tr>\n",
       "    <tr>\n",
       "      <td>2</td>\n",
       "      <td>Mario Kart Wii</td>\n",
       "      <td>Wii</td>\n",
       "      <td>2008.0</td>\n",
       "      <td>Racing</td>\n",
       "      <td>15.68</td>\n",
       "      <td>12.76</td>\n",
       "      <td>3.79</td>\n",
       "      <td>3.29</td>\n",
       "      <td>82.0</td>\n",
       "      <td>8.3</td>\n",
       "      <td>E</td>\n",
       "    </tr>\n",
       "    <tr>\n",
       "      <td>3</td>\n",
       "      <td>Wii Sports Resort</td>\n",
       "      <td>Wii</td>\n",
       "      <td>2009.0</td>\n",
       "      <td>Sports</td>\n",
       "      <td>15.61</td>\n",
       "      <td>10.93</td>\n",
       "      <td>3.28</td>\n",
       "      <td>2.95</td>\n",
       "      <td>80.0</td>\n",
       "      <td>8</td>\n",
       "      <td>E</td>\n",
       "    </tr>\n",
       "    <tr>\n",
       "      <td>4</td>\n",
       "      <td>Pokemon Red/Pokemon Blue</td>\n",
       "      <td>GB</td>\n",
       "      <td>1996.0</td>\n",
       "      <td>Role-Playing</td>\n",
       "      <td>11.27</td>\n",
       "      <td>8.89</td>\n",
       "      <td>10.22</td>\n",
       "      <td>1.00</td>\n",
       "      <td>NaN</td>\n",
       "      <td>NaN</td>\n",
       "      <td>NaN</td>\n",
       "    </tr>\n",
       "    <tr>\n",
       "      <td>5</td>\n",
       "      <td>Tetris</td>\n",
       "      <td>GB</td>\n",
       "      <td>1989.0</td>\n",
       "      <td>Puzzle</td>\n",
       "      <td>23.20</td>\n",
       "      <td>2.26</td>\n",
       "      <td>4.22</td>\n",
       "      <td>0.58</td>\n",
       "      <td>NaN</td>\n",
       "      <td>NaN</td>\n",
       "      <td>NaN</td>\n",
       "    </tr>\n",
       "    <tr>\n",
       "      <td>6</td>\n",
       "      <td>New Super Mario Bros.</td>\n",
       "      <td>DS</td>\n",
       "      <td>2006.0</td>\n",
       "      <td>Platform</td>\n",
       "      <td>11.28</td>\n",
       "      <td>9.14</td>\n",
       "      <td>6.50</td>\n",
       "      <td>2.88</td>\n",
       "      <td>89.0</td>\n",
       "      <td>8.5</td>\n",
       "      <td>E</td>\n",
       "    </tr>\n",
       "    <tr>\n",
       "      <td>7</td>\n",
       "      <td>Wii Play</td>\n",
       "      <td>Wii</td>\n",
       "      <td>2006.0</td>\n",
       "      <td>Misc</td>\n",
       "      <td>13.96</td>\n",
       "      <td>9.18</td>\n",
       "      <td>2.93</td>\n",
       "      <td>2.84</td>\n",
       "      <td>58.0</td>\n",
       "      <td>6.6</td>\n",
       "      <td>E</td>\n",
       "    </tr>\n",
       "    <tr>\n",
       "      <td>8</td>\n",
       "      <td>New Super Mario Bros. Wii</td>\n",
       "      <td>Wii</td>\n",
       "      <td>2009.0</td>\n",
       "      <td>Platform</td>\n",
       "      <td>14.44</td>\n",
       "      <td>6.94</td>\n",
       "      <td>4.70</td>\n",
       "      <td>2.24</td>\n",
       "      <td>87.0</td>\n",
       "      <td>8.4</td>\n",
       "      <td>E</td>\n",
       "    </tr>\n",
       "    <tr>\n",
       "      <td>9</td>\n",
       "      <td>Duck Hunt</td>\n",
       "      <td>NES</td>\n",
       "      <td>1984.0</td>\n",
       "      <td>Shooter</td>\n",
       "      <td>26.93</td>\n",
       "      <td>0.63</td>\n",
       "      <td>0.28</td>\n",
       "      <td>0.47</td>\n",
       "      <td>NaN</td>\n",
       "      <td>NaN</td>\n",
       "      <td>NaN</td>\n",
       "    </tr>\n",
       "  </tbody>\n",
       "</table>\n",
       "</div>"
      ],
      "text/plain": [
       "                        Name Platform  Year_of_Release         Genre  \\\n",
       "0                 Wii Sports      Wii           2006.0        Sports   \n",
       "1          Super Mario Bros.      NES           1985.0      Platform   \n",
       "2             Mario Kart Wii      Wii           2008.0        Racing   \n",
       "3          Wii Sports Resort      Wii           2009.0        Sports   \n",
       "4   Pokemon Red/Pokemon Blue       GB           1996.0  Role-Playing   \n",
       "5                     Tetris       GB           1989.0        Puzzle   \n",
       "6      New Super Mario Bros.       DS           2006.0      Platform   \n",
       "7                   Wii Play      Wii           2006.0          Misc   \n",
       "8  New Super Mario Bros. Wii      Wii           2009.0      Platform   \n",
       "9                  Duck Hunt      NES           1984.0       Shooter   \n",
       "\n",
       "   NA_sales  EU_sales  JP_sales  Other_sales  Critic_Score User_Score Rating  \n",
       "0     41.36     28.96      3.77         8.45          76.0          8      E  \n",
       "1     29.08      3.58      6.81         0.77           NaN        NaN    NaN  \n",
       "2     15.68     12.76      3.79         3.29          82.0        8.3      E  \n",
       "3     15.61     10.93      3.28         2.95          80.0          8      E  \n",
       "4     11.27      8.89     10.22         1.00           NaN        NaN    NaN  \n",
       "5     23.20      2.26      4.22         0.58           NaN        NaN    NaN  \n",
       "6     11.28      9.14      6.50         2.88          89.0        8.5      E  \n",
       "7     13.96      9.18      2.93         2.84          58.0        6.6      E  \n",
       "8     14.44      6.94      4.70         2.24          87.0        8.4      E  \n",
       "9     26.93      0.63      0.28         0.47           NaN        NaN    NaN  "
      ]
     },
     "metadata": {},
     "output_type": "display_data"
    },
    {
     "name": "stdout",
     "output_type": "stream",
     "text": [
      "<class 'pandas.core.frame.DataFrame'>\n",
      "RangeIndex: 16715 entries, 0 to 16714\n",
      "Data columns (total 11 columns):\n",
      "Name               16713 non-null object\n",
      "Platform           16715 non-null object\n",
      "Year_of_Release    16446 non-null float64\n",
      "Genre              16713 non-null object\n",
      "NA_sales           16715 non-null float64\n",
      "EU_sales           16715 non-null float64\n",
      "JP_sales           16715 non-null float64\n",
      "Other_sales        16715 non-null float64\n",
      "Critic_Score       8137 non-null float64\n",
      "User_Score         10014 non-null object\n",
      "Rating             9949 non-null object\n",
      "dtypes: float64(6), object(5)\n",
      "memory usage: 1.4+ MB\n"
     ]
    }
   ],
   "source": [
    "df = pd.read_csv('/datasets/games.csv')\n",
    "pd.set_option(\"display.max_columns\", None) #для отображения всех столбцов\n",
    "\n",
    "display(df.head(10))\n",
    "df.info()"
   ]
  },
  {
   "cell_type": "markdown",
   "metadata": {},
   "source": [
    "Таблица состоит из 11 столбцов разного типа:\n",
    "- Name — название игры\n",
    "- Platform — платформа\n",
    "- Year_of_Release — год выпуска\n",
    "- Genre — жанр игры\n",
    "- NA_sales — продажи в Северной Америке (миллионы проданных копий)\n",
    "- EU_sales — продажи в Европе (миллионы проданных копий)\n",
    "- JP_sales — продажи в Японии (миллионы проданных копий)\n",
    "- Other_sales — продажи в других странах (миллионы проданных копий)\n",
    "- Critic_Score — оценка критиков (максимум 100)\n",
    "- User_Score — оценка пользователей (максимум 10)\n",
    "- Rating — рейтинг от организации ESRB (англ. Entertainment Software Rating Board)\n",
    "\n",
    "В нескольких столбцах присутствуют пропуски. В заголовках присутствует разный регистр, желательно это исправить.\n",
    "\n",
    "Посмотрим некоторые характеристики датасета, используя метод `describe`."
   ]
  },
  {
   "cell_type": "code",
   "execution_count": 3,
   "metadata": {
    "scrolled": true
   },
   "outputs": [
    {
     "data": {
      "text/html": [
       "<div>\n",
       "<style scoped>\n",
       "    .dataframe tbody tr th:only-of-type {\n",
       "        vertical-align: middle;\n",
       "    }\n",
       "\n",
       "    .dataframe tbody tr th {\n",
       "        vertical-align: top;\n",
       "    }\n",
       "\n",
       "    .dataframe thead th {\n",
       "        text-align: right;\n",
       "    }\n",
       "</style>\n",
       "<table border=\"1\" class=\"dataframe\">\n",
       "  <thead>\n",
       "    <tr style=\"text-align: right;\">\n",
       "      <th></th>\n",
       "      <th>Year_of_Release</th>\n",
       "      <th>NA_sales</th>\n",
       "      <th>EU_sales</th>\n",
       "      <th>JP_sales</th>\n",
       "      <th>Other_sales</th>\n",
       "      <th>Critic_Score</th>\n",
       "    </tr>\n",
       "  </thead>\n",
       "  <tbody>\n",
       "    <tr>\n",
       "      <td>count</td>\n",
       "      <td>16446.000000</td>\n",
       "      <td>16715.000000</td>\n",
       "      <td>16715.000000</td>\n",
       "      <td>16715.000000</td>\n",
       "      <td>16715.000000</td>\n",
       "      <td>8137.000000</td>\n",
       "    </tr>\n",
       "    <tr>\n",
       "      <td>mean</td>\n",
       "      <td>2006.484616</td>\n",
       "      <td>0.263377</td>\n",
       "      <td>0.145060</td>\n",
       "      <td>0.077617</td>\n",
       "      <td>0.047342</td>\n",
       "      <td>68.967679</td>\n",
       "    </tr>\n",
       "    <tr>\n",
       "      <td>std</td>\n",
       "      <td>5.877050</td>\n",
       "      <td>0.813604</td>\n",
       "      <td>0.503339</td>\n",
       "      <td>0.308853</td>\n",
       "      <td>0.186731</td>\n",
       "      <td>13.938165</td>\n",
       "    </tr>\n",
       "    <tr>\n",
       "      <td>min</td>\n",
       "      <td>1980.000000</td>\n",
       "      <td>0.000000</td>\n",
       "      <td>0.000000</td>\n",
       "      <td>0.000000</td>\n",
       "      <td>0.000000</td>\n",
       "      <td>13.000000</td>\n",
       "    </tr>\n",
       "    <tr>\n",
       "      <td>25%</td>\n",
       "      <td>2003.000000</td>\n",
       "      <td>0.000000</td>\n",
       "      <td>0.000000</td>\n",
       "      <td>0.000000</td>\n",
       "      <td>0.000000</td>\n",
       "      <td>60.000000</td>\n",
       "    </tr>\n",
       "    <tr>\n",
       "      <td>50%</td>\n",
       "      <td>2007.000000</td>\n",
       "      <td>0.080000</td>\n",
       "      <td>0.020000</td>\n",
       "      <td>0.000000</td>\n",
       "      <td>0.010000</td>\n",
       "      <td>71.000000</td>\n",
       "    </tr>\n",
       "    <tr>\n",
       "      <td>75%</td>\n",
       "      <td>2010.000000</td>\n",
       "      <td>0.240000</td>\n",
       "      <td>0.110000</td>\n",
       "      <td>0.040000</td>\n",
       "      <td>0.030000</td>\n",
       "      <td>79.000000</td>\n",
       "    </tr>\n",
       "    <tr>\n",
       "      <td>max</td>\n",
       "      <td>2016.000000</td>\n",
       "      <td>41.360000</td>\n",
       "      <td>28.960000</td>\n",
       "      <td>10.220000</td>\n",
       "      <td>10.570000</td>\n",
       "      <td>98.000000</td>\n",
       "    </tr>\n",
       "  </tbody>\n",
       "</table>\n",
       "</div>"
      ],
      "text/plain": [
       "       Year_of_Release      NA_sales      EU_sales      JP_sales  \\\n",
       "count     16446.000000  16715.000000  16715.000000  16715.000000   \n",
       "mean       2006.484616      0.263377      0.145060      0.077617   \n",
       "std           5.877050      0.813604      0.503339      0.308853   \n",
       "min        1980.000000      0.000000      0.000000      0.000000   \n",
       "25%        2003.000000      0.000000      0.000000      0.000000   \n",
       "50%        2007.000000      0.080000      0.020000      0.000000   \n",
       "75%        2010.000000      0.240000      0.110000      0.040000   \n",
       "max        2016.000000     41.360000     28.960000     10.220000   \n",
       "\n",
       "        Other_sales  Critic_Score  \n",
       "count  16715.000000   8137.000000  \n",
       "mean       0.047342     68.967679  \n",
       "std        0.186731     13.938165  \n",
       "min        0.000000     13.000000  \n",
       "25%        0.000000     60.000000  \n",
       "50%        0.010000     71.000000  \n",
       "75%        0.030000     79.000000  \n",
       "max       10.570000     98.000000  "
      ]
     },
     "execution_count": 3,
     "metadata": {},
     "output_type": "execute_result"
    }
   ],
   "source": [
    "df.describe()"
   ]
  },
  {
   "cell_type": "markdown",
   "metadata": {},
   "source": [
    "В таблице предоставлены данные за 1980-2016 годы. Основные продажи в Северной Америке и Европе. На Японию и другие регионы приходится не очень большая часть."
   ]
  },
  {
   "cell_type": "markdown",
   "metadata": {},
   "source": [
    "## Предобработка данных"
   ]
  },
  {
   "cell_type": "markdown",
   "metadata": {},
   "source": [
    "Столбцы названы с использованием разного регистра. Скорректируем, чтобы все названия были в нижнем регистре."
   ]
  },
  {
   "cell_type": "code",
   "execution_count": 4,
   "metadata": {},
   "outputs": [],
   "source": [
    "df.columns = df.columns.str.lower()"
   ]
  },
  {
   "cell_type": "markdown",
   "metadata": {},
   "source": [
    "Заполним пропуски и изменим тип данных в некоторых столбцах.\n",
    "\n",
    "В столбце с названием есть два пропуска. Посмотрим, есть ли информация в других столбцах по этим позициям, которая может оказаться нам полезной."
   ]
  },
  {
   "cell_type": "code",
   "execution_count": 5,
   "metadata": {},
   "outputs": [
    {
     "data": {
      "text/html": [
       "<div>\n",
       "<style scoped>\n",
       "    .dataframe tbody tr th:only-of-type {\n",
       "        vertical-align: middle;\n",
       "    }\n",
       "\n",
       "    .dataframe tbody tr th {\n",
       "        vertical-align: top;\n",
       "    }\n",
       "\n",
       "    .dataframe thead th {\n",
       "        text-align: right;\n",
       "    }\n",
       "</style>\n",
       "<table border=\"1\" class=\"dataframe\">\n",
       "  <thead>\n",
       "    <tr style=\"text-align: right;\">\n",
       "      <th></th>\n",
       "      <th>name</th>\n",
       "      <th>platform</th>\n",
       "      <th>year_of_release</th>\n",
       "      <th>genre</th>\n",
       "      <th>na_sales</th>\n",
       "      <th>eu_sales</th>\n",
       "      <th>jp_sales</th>\n",
       "      <th>other_sales</th>\n",
       "      <th>critic_score</th>\n",
       "      <th>user_score</th>\n",
       "      <th>rating</th>\n",
       "    </tr>\n",
       "  </thead>\n",
       "  <tbody>\n",
       "    <tr>\n",
       "      <td>659</td>\n",
       "      <td>NaN</td>\n",
       "      <td>GEN</td>\n",
       "      <td>1993.0</td>\n",
       "      <td>NaN</td>\n",
       "      <td>1.78</td>\n",
       "      <td>0.53</td>\n",
       "      <td>0.00</td>\n",
       "      <td>0.08</td>\n",
       "      <td>NaN</td>\n",
       "      <td>NaN</td>\n",
       "      <td>NaN</td>\n",
       "    </tr>\n",
       "    <tr>\n",
       "      <td>14244</td>\n",
       "      <td>NaN</td>\n",
       "      <td>GEN</td>\n",
       "      <td>1993.0</td>\n",
       "      <td>NaN</td>\n",
       "      <td>0.00</td>\n",
       "      <td>0.00</td>\n",
       "      <td>0.03</td>\n",
       "      <td>0.00</td>\n",
       "      <td>NaN</td>\n",
       "      <td>NaN</td>\n",
       "      <td>NaN</td>\n",
       "    </tr>\n",
       "  </tbody>\n",
       "</table>\n",
       "</div>"
      ],
      "text/plain": [
       "      name platform  year_of_release genre  na_sales  eu_sales  jp_sales  \\\n",
       "659    NaN      GEN           1993.0   NaN      1.78      0.53      0.00   \n",
       "14244  NaN      GEN           1993.0   NaN      0.00      0.00      0.03   \n",
       "\n",
       "       other_sales  critic_score user_score rating  \n",
       "659           0.08           NaN        NaN    NaN  \n",
       "14244         0.00           NaN        NaN    NaN  "
      ]
     },
     "execution_count": 5,
     "metadata": {},
     "output_type": "execute_result"
    }
   ],
   "source": [
    "df.query('name != name')"
   ]
  },
  {
   "cell_type": "markdown",
   "metadata": {},
   "source": [
    "Пропуски присутствуют и в некоторых других столбцах, удалим эти позиции."
   ]
  },
  {
   "cell_type": "code",
   "execution_count": 6,
   "metadata": {},
   "outputs": [],
   "source": [
    "df.dropna(subset = ['name'], inplace = True)\n"
   ]
  },
  {
   "cell_type": "markdown",
   "metadata": {},
   "source": [
    "В столбце с годом выпуска присутствуют пропуски по 269 позициям. Но в названии некоторых игр присутствует год. Попробуем использовать год из названия, чтобы заполнить часть пропусков. \n",
    "\n",
    "Бывает, что релиз игры происходит в конце года и в названии указывается уже следующий год. В данном случае, это не окажет критического влияния. Будем считать, что год в названии соответствует году релиза.\n",
    "\n",
    "Напишем функцию `get_year`, которая будет лемматизировать столбец с названием и брать оттуда числа, если они попадают в диапазон 1980-2017. И если по данной строке есть пропуск в столбце с годом релиза, то будем подставлять туда это значение."
   ]
  },
  {
   "cell_type": "code",
   "execution_count": 7,
   "metadata": {},
   "outputs": [
    {
     "data": {
      "text/html": [
       "<div>\n",
       "<style scoped>\n",
       "    .dataframe tbody tr th:only-of-type {\n",
       "        vertical-align: middle;\n",
       "    }\n",
       "\n",
       "    .dataframe tbody tr th {\n",
       "        vertical-align: top;\n",
       "    }\n",
       "\n",
       "    .dataframe thead th {\n",
       "        text-align: right;\n",
       "    }\n",
       "</style>\n",
       "<table border=\"1\" class=\"dataframe\">\n",
       "  <thead>\n",
       "    <tr style=\"text-align: right;\">\n",
       "      <th></th>\n",
       "      <th>name</th>\n",
       "      <th>platform</th>\n",
       "      <th>year_of_release</th>\n",
       "      <th>genre</th>\n",
       "      <th>na_sales</th>\n",
       "      <th>eu_sales</th>\n",
       "      <th>jp_sales</th>\n",
       "      <th>other_sales</th>\n",
       "      <th>critic_score</th>\n",
       "      <th>user_score</th>\n",
       "      <th>rating</th>\n",
       "    </tr>\n",
       "  </thead>\n",
       "  <tbody>\n",
       "    <tr>\n",
       "      <td>0</td>\n",
       "      <td>Wii Sports</td>\n",
       "      <td>Wii</td>\n",
       "      <td>2006.0</td>\n",
       "      <td>Sports</td>\n",
       "      <td>41.36</td>\n",
       "      <td>28.96</td>\n",
       "      <td>3.77</td>\n",
       "      <td>8.45</td>\n",
       "      <td>76.0</td>\n",
       "      <td>8</td>\n",
       "      <td>E</td>\n",
       "    </tr>\n",
       "    <tr>\n",
       "      <td>1</td>\n",
       "      <td>Super Mario Bros.</td>\n",
       "      <td>NES</td>\n",
       "      <td>1985.0</td>\n",
       "      <td>Platform</td>\n",
       "      <td>29.08</td>\n",
       "      <td>3.58</td>\n",
       "      <td>6.81</td>\n",
       "      <td>0.77</td>\n",
       "      <td>NaN</td>\n",
       "      <td>NaN</td>\n",
       "      <td>NaN</td>\n",
       "    </tr>\n",
       "    <tr>\n",
       "      <td>2</td>\n",
       "      <td>Mario Kart Wii</td>\n",
       "      <td>Wii</td>\n",
       "      <td>2008.0</td>\n",
       "      <td>Racing</td>\n",
       "      <td>15.68</td>\n",
       "      <td>12.76</td>\n",
       "      <td>3.79</td>\n",
       "      <td>3.29</td>\n",
       "      <td>82.0</td>\n",
       "      <td>8.3</td>\n",
       "      <td>E</td>\n",
       "    </tr>\n",
       "    <tr>\n",
       "      <td>3</td>\n",
       "      <td>Wii Sports Resort</td>\n",
       "      <td>Wii</td>\n",
       "      <td>2009.0</td>\n",
       "      <td>Sports</td>\n",
       "      <td>15.61</td>\n",
       "      <td>10.93</td>\n",
       "      <td>3.28</td>\n",
       "      <td>2.95</td>\n",
       "      <td>80.0</td>\n",
       "      <td>8</td>\n",
       "      <td>E</td>\n",
       "    </tr>\n",
       "    <tr>\n",
       "      <td>4</td>\n",
       "      <td>Pokemon Red/Pokemon Blue</td>\n",
       "      <td>GB</td>\n",
       "      <td>1996.0</td>\n",
       "      <td>Role-Playing</td>\n",
       "      <td>11.27</td>\n",
       "      <td>8.89</td>\n",
       "      <td>10.22</td>\n",
       "      <td>1.00</td>\n",
       "      <td>NaN</td>\n",
       "      <td>NaN</td>\n",
       "      <td>NaN</td>\n",
       "    </tr>\n",
       "    <tr>\n",
       "      <td>5</td>\n",
       "      <td>Tetris</td>\n",
       "      <td>GB</td>\n",
       "      <td>1989.0</td>\n",
       "      <td>Puzzle</td>\n",
       "      <td>23.20</td>\n",
       "      <td>2.26</td>\n",
       "      <td>4.22</td>\n",
       "      <td>0.58</td>\n",
       "      <td>NaN</td>\n",
       "      <td>NaN</td>\n",
       "      <td>NaN</td>\n",
       "    </tr>\n",
       "    <tr>\n",
       "      <td>6</td>\n",
       "      <td>New Super Mario Bros.</td>\n",
       "      <td>DS</td>\n",
       "      <td>2006.0</td>\n",
       "      <td>Platform</td>\n",
       "      <td>11.28</td>\n",
       "      <td>9.14</td>\n",
       "      <td>6.50</td>\n",
       "      <td>2.88</td>\n",
       "      <td>89.0</td>\n",
       "      <td>8.5</td>\n",
       "      <td>E</td>\n",
       "    </tr>\n",
       "    <tr>\n",
       "      <td>7</td>\n",
       "      <td>Wii Play</td>\n",
       "      <td>Wii</td>\n",
       "      <td>2006.0</td>\n",
       "      <td>Misc</td>\n",
       "      <td>13.96</td>\n",
       "      <td>9.18</td>\n",
       "      <td>2.93</td>\n",
       "      <td>2.84</td>\n",
       "      <td>58.0</td>\n",
       "      <td>6.6</td>\n",
       "      <td>E</td>\n",
       "    </tr>\n",
       "    <tr>\n",
       "      <td>8</td>\n",
       "      <td>New Super Mario Bros. Wii</td>\n",
       "      <td>Wii</td>\n",
       "      <td>2009.0</td>\n",
       "      <td>Platform</td>\n",
       "      <td>14.44</td>\n",
       "      <td>6.94</td>\n",
       "      <td>4.70</td>\n",
       "      <td>2.24</td>\n",
       "      <td>87.0</td>\n",
       "      <td>8.4</td>\n",
       "      <td>E</td>\n",
       "    </tr>\n",
       "    <tr>\n",
       "      <td>9</td>\n",
       "      <td>Duck Hunt</td>\n",
       "      <td>NES</td>\n",
       "      <td>1984.0</td>\n",
       "      <td>Shooter</td>\n",
       "      <td>26.93</td>\n",
       "      <td>0.63</td>\n",
       "      <td>0.28</td>\n",
       "      <td>0.47</td>\n",
       "      <td>NaN</td>\n",
       "      <td>NaN</td>\n",
       "      <td>NaN</td>\n",
       "    </tr>\n",
       "  </tbody>\n",
       "</table>\n",
       "</div>"
      ],
      "text/plain": [
       "                        name platform  year_of_release         genre  \\\n",
       "0                 Wii Sports      Wii           2006.0        Sports   \n",
       "1          Super Mario Bros.      NES           1985.0      Platform   \n",
       "2             Mario Kart Wii      Wii           2008.0        Racing   \n",
       "3          Wii Sports Resort      Wii           2009.0        Sports   \n",
       "4   Pokemon Red/Pokemon Blue       GB           1996.0  Role-Playing   \n",
       "5                     Tetris       GB           1989.0        Puzzle   \n",
       "6      New Super Mario Bros.       DS           2006.0      Platform   \n",
       "7                   Wii Play      Wii           2006.0          Misc   \n",
       "8  New Super Mario Bros. Wii      Wii           2009.0      Platform   \n",
       "9                  Duck Hunt      NES           1984.0       Shooter   \n",
       "\n",
       "   na_sales  eu_sales  jp_sales  other_sales  critic_score user_score rating  \n",
       "0     41.36     28.96      3.77         8.45          76.0          8      E  \n",
       "1     29.08      3.58      6.81         0.77           NaN        NaN    NaN  \n",
       "2     15.68     12.76      3.79         3.29          82.0        8.3      E  \n",
       "3     15.61     10.93      3.28         2.95          80.0          8      E  \n",
       "4     11.27      8.89     10.22         1.00           NaN        NaN    NaN  \n",
       "5     23.20      2.26      4.22         0.58           NaN        NaN    NaN  \n",
       "6     11.28      9.14      6.50         2.88          89.0        8.5      E  \n",
       "7     13.96      9.18      2.93         2.84          58.0        6.6      E  \n",
       "8     14.44      6.94      4.70         2.24          87.0        8.4      E  \n",
       "9     26.93      0.63      0.28         0.47           NaN        NaN    NaN  "
      ]
     },
     "metadata": {},
     "output_type": "display_data"
    },
    {
     "name": "stdout",
     "output_type": "stream",
     "text": [
      "<class 'pandas.core.frame.DataFrame'>\n",
      "Int64Index: 16713 entries, 0 to 16714\n",
      "Data columns (total 11 columns):\n",
      "name               16713 non-null object\n",
      "platform           16713 non-null object\n",
      "year_of_release    16461 non-null float64\n",
      "genre              16713 non-null object\n",
      "na_sales           16713 non-null float64\n",
      "eu_sales           16713 non-null float64\n",
      "jp_sales           16713 non-null float64\n",
      "other_sales        16713 non-null float64\n",
      "critic_score       8137 non-null float64\n",
      "user_score         10014 non-null object\n",
      "rating             9949 non-null object\n",
      "dtypes: float64(6), object(5)\n",
      "memory usage: 1.5+ MB\n"
     ]
    }
   ],
   "source": [
    "m = Mystem() \n",
    "\n",
    "def get_year(row):\n",
    "    year = 0\n",
    "    if row['year_of_release'] != row['year_of_release']:\n",
    "        \n",
    "        for word in m.lemmatize(row['name']):\n",
    "            if word.isnumeric() and 1980 < int(word) < 2017:\n",
    "                return int(word)\n",
    "                \n",
    "    else:\n",
    "        return row['year_of_release'] \n",
    " \n",
    "\n",
    "df['year_of_release'] = df.apply(get_year, axis = 1)   \n",
    "\n",
    "display(df.head(10))\n",
    "df.info()"
   ]
  },
  {
   "cell_type": "markdown",
   "metadata": {},
   "source": [
    "Смогли заполнить всего 17 пропусков.\n",
    "Заполним остальные пропуски значениями-маркерами, чтобы в дальнейшем можно было их исключать при анализе по годам, при этом не потеряв данные в других столбцах. \n",
    "\n",
    "Чтобы можно было привести столбец к целочисленному типу, в качестве маркера используем целое число - `7777`. И сразу же скорректируем тип."
   ]
  },
  {
   "cell_type": "code",
   "execution_count": 8,
   "metadata": {
    "scrolled": true
   },
   "outputs": [
    {
     "data": {
      "text/plain": [
       "name                  0\n",
       "platform              0\n",
       "year_of_release       0\n",
       "genre                 0\n",
       "na_sales              0\n",
       "eu_sales              0\n",
       "jp_sales              0\n",
       "other_sales           0\n",
       "critic_score       8576\n",
       "user_score         6699\n",
       "rating             6764\n",
       "dtype: int64"
      ]
     },
     "execution_count": 8,
     "metadata": {},
     "output_type": "execute_result"
    }
   ],
   "source": [
    "df['year_of_release'] = df['year_of_release'].fillna(7777)\n",
    "df[['year_of_release']] = df[['year_of_release']].astype(int)\n",
    "df.isnull().sum() #проверим оставшееся количество нулевых значений"
   ]
  },
  {
   "cell_type": "markdown",
   "metadata": {},
   "source": [
    "Остались пропуски в оценке критиков, пользователей и рейтинге. Причем доля очень большая.\n",
    "\n",
    "Используем маркеры для заполнения пустых значений:\n",
    "- для столбца **critic_score** - `777`\n",
    "- для столбца **user_score** - `77`\n",
    "- для столбца **rating** - `no_rating`"
   ]
  },
  {
   "cell_type": "code",
   "execution_count": 9,
   "metadata": {},
   "outputs": [
    {
     "data": {
      "text/plain": [
       "name               0\n",
       "platform           0\n",
       "year_of_release    0\n",
       "genre              0\n",
       "na_sales           0\n",
       "eu_sales           0\n",
       "jp_sales           0\n",
       "other_sales        0\n",
       "critic_score       0\n",
       "user_score         0\n",
       "rating             0\n",
       "dtype: int64"
      ]
     },
     "execution_count": 9,
     "metadata": {},
     "output_type": "execute_result"
    }
   ],
   "source": [
    "df['critic_score'] = df['critic_score'].fillna(777)\n",
    "df['user_score'] = df['user_score'].fillna(77)\n",
    "df['rating'] = df['rating'].fillna('no_rating')\n",
    "df.isnull().sum()"
   ]
  },
  {
   "cell_type": "markdown",
   "metadata": {},
   "source": [
    "Пропусков не осталось.\n",
    "\n",
    "Скорректируем тип данных в столбце **user_score**. У него странный для числового столбца тип *object*. Проверим какие значения в этом столбце."
   ]
  },
  {
   "cell_type": "code",
   "execution_count": 10,
   "metadata": {},
   "outputs": [
    {
     "name": "stdout",
     "output_type": "stream",
     "text": [
      "77     6699\n",
      "tbd    2424\n",
      "7.8     324\n",
      "8       290\n",
      "8.2     282\n",
      "       ... \n",
      "1.9       2\n",
      "0.6       2\n",
      "2.3       2\n",
      "0         1\n",
      "9.7       1\n",
      "Name: user_score, Length: 97, dtype: int64\n"
     ]
    }
   ],
   "source": [
    "print(df['user_score'].value_counts())"
   ]
  },
  {
   "cell_type": "markdown",
   "metadata": {},
   "source": [
    "В 2 424 случаях в качестве оценки указано `tbd`. Это может означать To Be Determined (будет определено) или To Be Decided (будет решено). Т.е. оценки на момент внесения данных не было.\n",
    "\n",
    "Чтобы изменить тип данных на числовой, заменим эти значения тем же маркером, что и ранее - `77`"
   ]
  },
  {
   "cell_type": "code",
   "execution_count": 11,
   "metadata": {},
   "outputs": [
    {
     "name": "stdout",
     "output_type": "stream",
     "text": [
      "<class 'pandas.core.frame.DataFrame'>\n",
      "Int64Index: 16713 entries, 0 to 16714\n",
      "Data columns (total 11 columns):\n",
      "name               16713 non-null object\n",
      "platform           16713 non-null object\n",
      "year_of_release    16713 non-null int64\n",
      "genre              16713 non-null object\n",
      "na_sales           16713 non-null float64\n",
      "eu_sales           16713 non-null float64\n",
      "jp_sales           16713 non-null float64\n",
      "other_sales        16713 non-null float64\n",
      "critic_score       16713 non-null float64\n",
      "user_score         16713 non-null float64\n",
      "rating             16713 non-null object\n",
      "dtypes: float64(6), int64(1), object(4)\n",
      "memory usage: 1.5+ MB\n"
     ]
    }
   ],
   "source": [
    "df['user_score'] = df['user_score'].replace('tbd', '77')\n",
    "df[['user_score']] = df[['user_score']].astype(float)\n",
    "df.info()"
   ]
  },
  {
   "cell_type": "markdown",
   "metadata": {},
   "source": [
    "Заменили пропуски на маркеры, скорректировали тип данных."
   ]
  },
  {
   "cell_type": "markdown",
   "metadata": {},
   "source": [
    "Проверим нет ли проблем с заполнение столбца рейтиг."
   ]
  },
  {
   "cell_type": "code",
   "execution_count": 12,
   "metadata": {},
   "outputs": [
    {
     "name": "stdout",
     "output_type": "stream",
     "text": [
      "no_rating    6764\n",
      "E            3990\n",
      "T            2961\n",
      "M            1563\n",
      "E10+         1420\n",
      "EC              8\n",
      "K-A             3\n",
      "RP              3\n",
      "AO              1\n",
      "Name: rating, dtype: int64\n"
     ]
    }
   ],
   "source": [
    "print(df['rating'].value_counts())"
   ]
  },
  {
   "cell_type": "markdown",
   "metadata": {},
   "source": [
    "Краткое описание рейтинга:\n",
    "- **E** («Everyone») — «Для всех»: Содержание вполне подходит для возрастной категории от 6 лет Первоначально **K-A** (\"Kids to Adults\").\n",
    "- **EC** («Early childhood») — «Для детей младшего возраста»: Игра подходит для детей от 3 лет\n",
    "- **E10+** («Everyone 10 and older») — «Для всех от 10 лет и старше»\n",
    "- **T** («Teen») — «Подросткам»: Игра подходит для лиц от 13 лет. \n",
    "- **M** («Mature») — «Для взрослых»: Материалы игры не подходят для подростков младше 17 лет.\n",
    "- **AO** («Adults Only 18+») — «Только для взрослых»: Содержание игры только для взрослых старше 18 лет.\n",
    "\n",
    "- **RP** («Rating Pending») — «Рейтинг ожидается»: Продукт был отправлен в ESRB и ожидает присвоения рейтинга."
   ]
  },
  {
   "cell_type": "markdown",
   "metadata": {},
   "source": [
    "Есть несколько редких вариантов рейтинга, скорректируем их, чтобы не плодить лишние группы, тем более, часть из них можно безболезненно добавить в одну из более крупных групп:\n",
    "*EC* и *K-A* добавить в *E*, *AO* объединить с *M*, а *RP* заменить на введенный ранее маркер *no_rating*."
   ]
  },
  {
   "cell_type": "code",
   "execution_count": 13,
   "metadata": {
    "scrolled": true
   },
   "outputs": [
    {
     "name": "stdout",
     "output_type": "stream",
     "text": [
      "no_rating    6767\n",
      "E            4001\n",
      "T            2961\n",
      "M            1564\n",
      "E10+         1420\n",
      "Name: rating, dtype: int64\n"
     ]
    }
   ],
   "source": [
    "df['rating'] = df['rating'].replace(['EC', 'K-A'], 'E')\n",
    "df['rating'] = df['rating'].replace('AO', 'M')\n",
    "df['rating'] = df['rating'].replace('RP', 'no_rating')\n",
    "print(df['rating'].value_counts())"
   ]
  },
  {
   "cell_type": "markdown",
   "metadata": {},
   "source": [
    "Лишних или повторяющихся рейтингов не осталось."
   ]
  },
  {
   "cell_type": "markdown",
   "metadata": {},
   "source": [
    "\n",
    "Оценим, нет ли проблем с названиями жанров."
   ]
  },
  {
   "cell_type": "code",
   "execution_count": 14,
   "metadata": {},
   "outputs": [
    {
     "name": "stdout",
     "output_type": "stream",
     "text": [
      "Action          3369\n",
      "Sports          2348\n",
      "Misc            1750\n",
      "Role-Playing    1498\n",
      "Shooter         1323\n",
      "Adventure       1303\n",
      "Racing          1249\n",
      "Platform         888\n",
      "Simulation       873\n",
      "Fighting         849\n",
      "Strategy         683\n",
      "Puzzle           580\n",
      "Name: genre, dtype: int64\n"
     ]
    }
   ],
   "source": [
    "print(df['genre'].value_counts())"
   ]
  },
  {
   "cell_type": "markdown",
   "metadata": {},
   "source": [
    "С жанрами всё нормально.\n",
    "Посмотрим нет ли в имеющихся данных дубликатов."
   ]
  },
  {
   "cell_type": "code",
   "execution_count": 15,
   "metadata": {},
   "outputs": [
    {
     "name": "stdout",
     "output_type": "stream",
     "text": [
      "0\n"
     ]
    }
   ],
   "source": [
    "print(df.duplicated().sum())"
   ]
  },
  {
   "cell_type": "markdown",
   "metadata": {},
   "source": [
    "Явных дубликатов нет.\n"
   ]
  },
  {
   "cell_type": "markdown",
   "metadata": {},
   "source": [
    "Данные по продажам в таблице представлены по регионам. Посчитаем суммарный объем проданных копий и добавим его в столбец `sum_sales` "
   ]
  },
  {
   "cell_type": "code",
   "execution_count": 16,
   "metadata": {},
   "outputs": [
    {
     "data": {
      "text/html": [
       "<div>\n",
       "<style scoped>\n",
       "    .dataframe tbody tr th:only-of-type {\n",
       "        vertical-align: middle;\n",
       "    }\n",
       "\n",
       "    .dataframe tbody tr th {\n",
       "        vertical-align: top;\n",
       "    }\n",
       "\n",
       "    .dataframe thead th {\n",
       "        text-align: right;\n",
       "    }\n",
       "</style>\n",
       "<table border=\"1\" class=\"dataframe\">\n",
       "  <thead>\n",
       "    <tr style=\"text-align: right;\">\n",
       "      <th></th>\n",
       "      <th>name</th>\n",
       "      <th>platform</th>\n",
       "      <th>year_of_release</th>\n",
       "      <th>genre</th>\n",
       "      <th>na_sales</th>\n",
       "      <th>eu_sales</th>\n",
       "      <th>jp_sales</th>\n",
       "      <th>other_sales</th>\n",
       "      <th>critic_score</th>\n",
       "      <th>user_score</th>\n",
       "      <th>rating</th>\n",
       "      <th>sum_sales</th>\n",
       "    </tr>\n",
       "  </thead>\n",
       "  <tbody>\n",
       "    <tr>\n",
       "      <td>0</td>\n",
       "      <td>Wii Sports</td>\n",
       "      <td>Wii</td>\n",
       "      <td>2006</td>\n",
       "      <td>Sports</td>\n",
       "      <td>41.36</td>\n",
       "      <td>28.96</td>\n",
       "      <td>3.77</td>\n",
       "      <td>8.45</td>\n",
       "      <td>76.0</td>\n",
       "      <td>8.0</td>\n",
       "      <td>E</td>\n",
       "      <td>82.54</td>\n",
       "    </tr>\n",
       "    <tr>\n",
       "      <td>1</td>\n",
       "      <td>Super Mario Bros.</td>\n",
       "      <td>NES</td>\n",
       "      <td>1985</td>\n",
       "      <td>Platform</td>\n",
       "      <td>29.08</td>\n",
       "      <td>3.58</td>\n",
       "      <td>6.81</td>\n",
       "      <td>0.77</td>\n",
       "      <td>777.0</td>\n",
       "      <td>77.0</td>\n",
       "      <td>no_rating</td>\n",
       "      <td>40.24</td>\n",
       "    </tr>\n",
       "    <tr>\n",
       "      <td>2</td>\n",
       "      <td>Mario Kart Wii</td>\n",
       "      <td>Wii</td>\n",
       "      <td>2008</td>\n",
       "      <td>Racing</td>\n",
       "      <td>15.68</td>\n",
       "      <td>12.76</td>\n",
       "      <td>3.79</td>\n",
       "      <td>3.29</td>\n",
       "      <td>82.0</td>\n",
       "      <td>8.3</td>\n",
       "      <td>E</td>\n",
       "      <td>35.52</td>\n",
       "    </tr>\n",
       "    <tr>\n",
       "      <td>3</td>\n",
       "      <td>Wii Sports Resort</td>\n",
       "      <td>Wii</td>\n",
       "      <td>2009</td>\n",
       "      <td>Sports</td>\n",
       "      <td>15.61</td>\n",
       "      <td>10.93</td>\n",
       "      <td>3.28</td>\n",
       "      <td>2.95</td>\n",
       "      <td>80.0</td>\n",
       "      <td>8.0</td>\n",
       "      <td>E</td>\n",
       "      <td>32.77</td>\n",
       "    </tr>\n",
       "    <tr>\n",
       "      <td>4</td>\n",
       "      <td>Pokemon Red/Pokemon Blue</td>\n",
       "      <td>GB</td>\n",
       "      <td>1996</td>\n",
       "      <td>Role-Playing</td>\n",
       "      <td>11.27</td>\n",
       "      <td>8.89</td>\n",
       "      <td>10.22</td>\n",
       "      <td>1.00</td>\n",
       "      <td>777.0</td>\n",
       "      <td>77.0</td>\n",
       "      <td>no_rating</td>\n",
       "      <td>31.38</td>\n",
       "    </tr>\n",
       "  </tbody>\n",
       "</table>\n",
       "</div>"
      ],
      "text/plain": [
       "                       name platform  year_of_release         genre  na_sales  \\\n",
       "0                Wii Sports      Wii             2006        Sports     41.36   \n",
       "1         Super Mario Bros.      NES             1985      Platform     29.08   \n",
       "2            Mario Kart Wii      Wii             2008        Racing     15.68   \n",
       "3         Wii Sports Resort      Wii             2009        Sports     15.61   \n",
       "4  Pokemon Red/Pokemon Blue       GB             1996  Role-Playing     11.27   \n",
       "\n",
       "   eu_sales  jp_sales  other_sales  critic_score  user_score     rating  \\\n",
       "0     28.96      3.77         8.45          76.0         8.0          E   \n",
       "1      3.58      6.81         0.77         777.0        77.0  no_rating   \n",
       "2     12.76      3.79         3.29          82.0         8.3          E   \n",
       "3     10.93      3.28         2.95          80.0         8.0          E   \n",
       "4      8.89     10.22         1.00         777.0        77.0  no_rating   \n",
       "\n",
       "   sum_sales  \n",
       "0      82.54  \n",
       "1      40.24  \n",
       "2      35.52  \n",
       "3      32.77  \n",
       "4      31.38  "
      ]
     },
     "metadata": {},
     "output_type": "display_data"
    }
   ],
   "source": [
    "df['sum_sales'] = df['na_sales'] + df['eu_sales'] + df['jp_sales'] + df['other_sales']\n",
    "display(df.head())"
   ]
  },
  {
   "cell_type": "markdown",
   "metadata": {},
   "source": [
    "Провели предварительную обработку данных: заполнили пропуски, исправили заголовки."
   ]
  },
  {
   "cell_type": "markdown",
   "metadata": {},
   "source": [
    "## Анализ данных"
   ]
  },
  {
   "cell_type": "markdown",
   "metadata": {},
   "source": [
    "### Выпуск игр по годам"
   ]
  },
  {
   "cell_type": "markdown",
   "metadata": {},
   "source": [
    "Посмотрим сколько игр выпускалось в разные годы."
   ]
  },
  {
   "cell_type": "code",
   "execution_count": 17,
   "metadata": {},
   "outputs": [
    {
     "data": {
      "text/plain": [
       "year_of_release\n",
       "1980       9\n",
       "1981      46\n",
       "1982      36\n",
       "1983      17\n",
       "1984      14\n",
       "1985      14\n",
       "1986      21\n",
       "1987      16\n",
       "1988      15\n",
       "1989      17\n",
       "1990      16\n",
       "1991      41\n",
       "1992      43\n",
       "1993      60\n",
       "1994     121\n",
       "1995     219\n",
       "1996     263\n",
       "1997     289\n",
       "1998     379\n",
       "1999     338\n",
       "2000     350\n",
       "2001     482\n",
       "2002     830\n",
       "2003     779\n",
       "2004     764\n",
       "2005     941\n",
       "2006    1008\n",
       "2007    1198\n",
       "2008    1429\n",
       "2009    1427\n",
       "2010    1255\n",
       "2011    1137\n",
       "2012     653\n",
       "2013     545\n",
       "2014     581\n",
       "2015     606\n",
       "2016     502\n",
       "7777     252\n",
       "Name: year_of_release, dtype: int64"
      ]
     },
     "execution_count": 17,
     "metadata": {},
     "output_type": "execute_result"
    }
   ],
   "source": [
    "df.groupby('year_of_release')['year_of_release'].count()"
   ]
  },
  {
   "cell_type": "markdown",
   "metadata": {},
   "source": [
    "Взглянем на эти данные визуально с помощью гистограммы."
   ]
  },
  {
   "cell_type": "code",
   "execution_count": 18,
   "metadata": {},
   "outputs": [
    {
     "data": {
      "text/plain": [
       "<matplotlib.axes._subplots.AxesSubplot at 0x7f6d1b585b10>"
      ]
     },
     "execution_count": 18,
     "metadata": {},
     "output_type": "execute_result"
    },
    {
     "data": {
      "image/png": "[encoded data removed]",
      "text/plain": [
       "<Figure size 432x288 with 1 Axes>"
      ]
     },
     "metadata": {
      "needs_background": "light"
     },
     "output_type": "display_data"
    }
   ],
   "source": [
    "pd.Series(df.query('year_of_release != 7777')['year_of_release']).hist(bins=36)"
   ]
  },
  {
   "cell_type": "markdown",
   "metadata": {},
   "source": [
    "С начала 90-х наблюдается рост. Пик пришелся на 2005-2012 годы, затем небольшой спад и в 2016 снова существенный рост.\n",
    "Так же взглянем на изменения количества копий по годам.\n",
    "\n"
   ]
  },
  {
   "cell_type": "code",
   "execution_count": 19,
   "metadata": {},
   "outputs": [
    {
     "data": {
      "image/png": "[encoded data removed]",
      "text/plain": [
       "<Figure size 720x360 with 1 Axes>"
      ]
     },
     "metadata": {
      "needs_background": "light"
     },
     "output_type": "display_data"
    }
   ],
   "source": [
    "(df.query('year_of_release != 7777')\n",
    " .groupby('year_of_release')['sum_sales'].agg('sum')\n",
    " .plot(kind='bar', figsize=(10, 5), title='Количество проданных копий по годам', grid=True))\n",
    "plt.show()"
   ]
  },
  {
   "cell_type": "markdown",
   "metadata": {},
   "source": [
    "По количеству проданных копий картина похожая, но здесь спад с пиков 2008-2009 гг продолжается, и 2016 год наименее удачный за последние 20 лет, хотя по количеству игр был рост. Возможно, часть игр выходили в конце года, и результат будет заметен уже в 2017-м. Также нужно учитывать, что за 2016 год на текущий момент могут быть не полные данные, что в большей степени касается как раз продаж: релиз игры уже состоялся, а данных о продажах или еще нет, или большая часть продаж игры будет уже в 2017-м."
   ]
  },
  {
   "cell_type": "markdown",
   "metadata": {},
   "source": [
    "### Распределение игр по платформам."
   ]
  },
  {
   "cell_type": "markdown",
   "metadata": {},
   "source": [
    "Посчитаем, у каких из платформ наибольший объем продаж."
   ]
  },
  {
   "cell_type": "code",
   "execution_count": 20,
   "metadata": {},
   "outputs": [
    {
     "data": {
      "image/png": "[encoded data removed]",
      "text/plain": [
       "<Figure size 576x576 with 1 Axes>"
      ]
     },
     "metadata": {
      "needs_background": "light"
     },
     "output_type": "display_data"
    }
   ],
   "source": [
    "(df.groupby('platform')['sum_sales'].agg('sum').sort_values()\n",
    " .plot(kind='barh', figsize=(8, 8), title='Количество проданных копий по платформам', grid=True))\n",
    "plt.show()"
   ]
  },
  {
   "cell_type": "markdown",
   "metadata": {},
   "source": [
    "Можно выделить 6 лидеров. На первом месте с заметным отрывом **PS2**, также в шестерке **X360, PS3, Wii, DS и PS**."
   ]
  },
  {
   "cell_type": "markdown",
   "metadata": {},
   "source": [
    "Посмотрим количество игр, выходивших на лидирующих платформах, по годам. Начнем смотреть с 1994 года, т.к. ранее было совсем мало релизов."
   ]
  },
  {
   "cell_type": "code",
   "execution_count": 21,
   "metadata": {},
   "outputs": [
    {
     "data": {
      "image/png": "[encoded data removed]",
      "text/plain": [
       "<Figure size 1008x360 with 1 Axes>"
      ]
     },
     "metadata": {
      "needs_background": "light"
     },
     "output_type": "display_data"
    }
   ],
   "source": [
    "(\n",
    "    df.query('year_of_release != 7777 & year_of_release >1993 & platform == [\"PS2\", \"X360\", \"PS3\", \"Wii\", \"DS\", \"PS\"]')\n",
    "    .pivot_table(index='year_of_release', columns='platform', values='name', aggfunc='count')\n",
    "    .plot(grid=True, figsize=(14, 5), title = 'Количество выпускаемых игр по платформам 1994-2016, шт', x_compat=True)\n",
    ") \n",
    "plt.xticks(np.arange(1994,2017,2))\n",
    "plt.show()"
   ]
  },
  {
   "cell_type": "markdown",
   "metadata": {},
   "source": [
    "Посмотрим на показатели выручки в таком же разрезе"
   ]
  },
  {
   "cell_type": "code",
   "execution_count": 22,
   "metadata": {
    "scrolled": true
   },
   "outputs": [
    {
     "data": {
      "image/png": "[encoded data removed]",
      "text/plain": [
       "<Figure size 1008x360 with 1 Axes>"
      ]
     },
     "metadata": {
      "needs_background": "light"
     },
     "output_type": "display_data"
    }
   ],
   "source": [
    "(\n",
    "    df.query('year_of_release != 7777 & year_of_release >1993 & platform == [\"PS2\", \"X360\", \"PS3\", \"Wii\", \"DS\", \"PS\"]')\n",
    "    .pivot_table(index='year_of_release', columns='platform', values='sum_sales', aggfunc='sum')\n",
    "    .plot(grid=True, figsize=(14, 5), title = 'Динамика продаж по платформам 1994-2016, шт', x_compat=True)\n",
    ") \n",
    "plt.xticks(np.arange(1994,2017,2))\n",
    "plt.show()"
   ]
  },
  {
   "cell_type": "markdown",
   "metadata": {},
   "source": [
    "На графиках заметно, что у разных платформ схожий жизненный цикл. \n",
    "\n",
    "В среднем игровая платформа живет около 10 лет, после чего ей на смену приходят другие. Эта смена хорошо заметна на примере **PS**: в районе 2000-го года идет спад PS, и ей на смену появляется PS2, которая в свою очередь сменяется PS3. \n",
    "\n",
    "Выделяется **DS**, которая резко взлетела и на пике в 2008 году существенно превосходила конкурентов по количеству игр. Но её популярность так же быстро закончилась. При этом даже на пике она не превосходила своих основных конкурентов по количеству проданных копий, т.е. игр выпускалось много, но тиражи были не очень большие. \n",
    "\n",
    "На графике заметно, что жизненные циклы отобранных наиболее популярных платформ находятся на спаде. За последние три года (2013-2016) выпускались игры только для Wii, X360 и PS3, но и они были на минимальных отметках.\n",
    "\n",
    "Это говорит о том, что рассматривая лидеров за весь период, мы упустили новые платформы, которые популярны сейчас или находятся на стадии роста, и которые более интересны для оценки перспектив.\n",
    "\n",
    "Исходя из того, что жизненный цикл платформы не более 10 лет, нас интересуют компании, находящиеся на пике, либо растущие. Взглянем еще раз на распределение продаж, но ограничим период последними шестью годами.\n",
    "\n"
   ]
  },
  {
   "cell_type": "code",
   "execution_count": 23,
   "metadata": {},
   "outputs": [
    {
     "data": {
      "text/html": [
       "<div>\n",
       "<style scoped>\n",
       "    .dataframe tbody tr th:only-of-type {\n",
       "        vertical-align: middle;\n",
       "    }\n",
       "\n",
       "    .dataframe tbody tr th {\n",
       "        vertical-align: top;\n",
       "    }\n",
       "\n",
       "    .dataframe thead th {\n",
       "        text-align: right;\n",
       "    }\n",
       "</style>\n",
       "<table border=\"1\" class=\"dataframe\">\n",
       "  <thead>\n",
       "    <tr style=\"text-align: right;\">\n",
       "      <th></th>\n",
       "      <th>platform</th>\n",
       "      <th>max_year</th>\n",
       "      <th>min_year</th>\n",
       "      <th>lifetime</th>\n",
       "    </tr>\n",
       "  </thead>\n",
       "  <tbody>\n",
       "    <tr>\n",
       "      <td>0</td>\n",
       "      <td>2600</td>\n",
       "      <td>1989</td>\n",
       "      <td>1980</td>\n",
       "      <td>9</td>\n",
       "    </tr>\n",
       "    <tr>\n",
       "      <td>1</td>\n",
       "      <td>3DO</td>\n",
       "      <td>1995</td>\n",
       "      <td>1994</td>\n",
       "      <td>1</td>\n",
       "    </tr>\n",
       "    <tr>\n",
       "      <td>2</td>\n",
       "      <td>3DS</td>\n",
       "      <td>2016</td>\n",
       "      <td>2011</td>\n",
       "      <td>5</td>\n",
       "    </tr>\n",
       "    <tr>\n",
       "      <td>3</td>\n",
       "      <td>DC</td>\n",
       "      <td>2008</td>\n",
       "      <td>1998</td>\n",
       "      <td>10</td>\n",
       "    </tr>\n",
       "    <tr>\n",
       "      <td>4</td>\n",
       "      <td>DS</td>\n",
       "      <td>2013</td>\n",
       "      <td>1985</td>\n",
       "      <td>28</td>\n",
       "    </tr>\n",
       "    <tr>\n",
       "      <td>5</td>\n",
       "      <td>GB</td>\n",
       "      <td>2001</td>\n",
       "      <td>1988</td>\n",
       "      <td>13</td>\n",
       "    </tr>\n",
       "    <tr>\n",
       "      <td>6</td>\n",
       "      <td>GBA</td>\n",
       "      <td>2007</td>\n",
       "      <td>2000</td>\n",
       "      <td>7</td>\n",
       "    </tr>\n",
       "    <tr>\n",
       "      <td>7</td>\n",
       "      <td>GC</td>\n",
       "      <td>2007</td>\n",
       "      <td>2001</td>\n",
       "      <td>6</td>\n",
       "    </tr>\n",
       "    <tr>\n",
       "      <td>8</td>\n",
       "      <td>GEN</td>\n",
       "      <td>1994</td>\n",
       "      <td>1990</td>\n",
       "      <td>4</td>\n",
       "    </tr>\n",
       "    <tr>\n",
       "      <td>9</td>\n",
       "      <td>GG</td>\n",
       "      <td>1992</td>\n",
       "      <td>1992</td>\n",
       "      <td>0</td>\n",
       "    </tr>\n",
       "    <tr>\n",
       "      <td>10</td>\n",
       "      <td>N64</td>\n",
       "      <td>2002</td>\n",
       "      <td>1996</td>\n",
       "      <td>6</td>\n",
       "    </tr>\n",
       "    <tr>\n",
       "      <td>11</td>\n",
       "      <td>NES</td>\n",
       "      <td>1994</td>\n",
       "      <td>1983</td>\n",
       "      <td>11</td>\n",
       "    </tr>\n",
       "    <tr>\n",
       "      <td>12</td>\n",
       "      <td>NG</td>\n",
       "      <td>1996</td>\n",
       "      <td>1993</td>\n",
       "      <td>3</td>\n",
       "    </tr>\n",
       "    <tr>\n",
       "      <td>13</td>\n",
       "      <td>PC</td>\n",
       "      <td>2016</td>\n",
       "      <td>1985</td>\n",
       "      <td>31</td>\n",
       "    </tr>\n",
       "    <tr>\n",
       "      <td>14</td>\n",
       "      <td>PCFX</td>\n",
       "      <td>1996</td>\n",
       "      <td>1996</td>\n",
       "      <td>0</td>\n",
       "    </tr>\n",
       "    <tr>\n",
       "      <td>15</td>\n",
       "      <td>PS</td>\n",
       "      <td>2003</td>\n",
       "      <td>1994</td>\n",
       "      <td>9</td>\n",
       "    </tr>\n",
       "    <tr>\n",
       "      <td>16</td>\n",
       "      <td>PS2</td>\n",
       "      <td>2011</td>\n",
       "      <td>2000</td>\n",
       "      <td>11</td>\n",
       "    </tr>\n",
       "    <tr>\n",
       "      <td>17</td>\n",
       "      <td>PS3</td>\n",
       "      <td>2016</td>\n",
       "      <td>2006</td>\n",
       "      <td>10</td>\n",
       "    </tr>\n",
       "    <tr>\n",
       "      <td>18</td>\n",
       "      <td>PS4</td>\n",
       "      <td>2016</td>\n",
       "      <td>2013</td>\n",
       "      <td>3</td>\n",
       "    </tr>\n",
       "    <tr>\n",
       "      <td>19</td>\n",
       "      <td>PSP</td>\n",
       "      <td>2015</td>\n",
       "      <td>2004</td>\n",
       "      <td>11</td>\n",
       "    </tr>\n",
       "    <tr>\n",
       "      <td>20</td>\n",
       "      <td>PSV</td>\n",
       "      <td>2016</td>\n",
       "      <td>2011</td>\n",
       "      <td>5</td>\n",
       "    </tr>\n",
       "    <tr>\n",
       "      <td>21</td>\n",
       "      <td>SAT</td>\n",
       "      <td>1999</td>\n",
       "      <td>1994</td>\n",
       "      <td>5</td>\n",
       "    </tr>\n",
       "    <tr>\n",
       "      <td>22</td>\n",
       "      <td>SCD</td>\n",
       "      <td>1994</td>\n",
       "      <td>1993</td>\n",
       "      <td>1</td>\n",
       "    </tr>\n",
       "    <tr>\n",
       "      <td>23</td>\n",
       "      <td>SNES</td>\n",
       "      <td>1999</td>\n",
       "      <td>1990</td>\n",
       "      <td>9</td>\n",
       "    </tr>\n",
       "    <tr>\n",
       "      <td>24</td>\n",
       "      <td>TG16</td>\n",
       "      <td>1995</td>\n",
       "      <td>1995</td>\n",
       "      <td>0</td>\n",
       "    </tr>\n",
       "    <tr>\n",
       "      <td>25</td>\n",
       "      <td>WS</td>\n",
       "      <td>2001</td>\n",
       "      <td>1999</td>\n",
       "      <td>2</td>\n",
       "    </tr>\n",
       "    <tr>\n",
       "      <td>26</td>\n",
       "      <td>Wii</td>\n",
       "      <td>2016</td>\n",
       "      <td>2006</td>\n",
       "      <td>10</td>\n",
       "    </tr>\n",
       "    <tr>\n",
       "      <td>27</td>\n",
       "      <td>WiiU</td>\n",
       "      <td>2016</td>\n",
       "      <td>2012</td>\n",
       "      <td>4</td>\n",
       "    </tr>\n",
       "    <tr>\n",
       "      <td>28</td>\n",
       "      <td>X360</td>\n",
       "      <td>2016</td>\n",
       "      <td>2005</td>\n",
       "      <td>11</td>\n",
       "    </tr>\n",
       "    <tr>\n",
       "      <td>29</td>\n",
       "      <td>XB</td>\n",
       "      <td>2008</td>\n",
       "      <td>2000</td>\n",
       "      <td>8</td>\n",
       "    </tr>\n",
       "    <tr>\n",
       "      <td>30</td>\n",
       "      <td>XOne</td>\n",
       "      <td>2016</td>\n",
       "      <td>2013</td>\n",
       "      <td>3</td>\n",
       "    </tr>\n",
       "  </tbody>\n",
       "</table>\n",
       "</div>"
      ],
      "text/plain": [
       "   platform  max_year  min_year  lifetime\n",
       "0      2600      1989      1980         9\n",
       "1       3DO      1995      1994         1\n",
       "2       3DS      2016      2011         5\n",
       "3        DC      2008      1998        10\n",
       "4        DS      2013      1985        28\n",
       "5        GB      2001      1988        13\n",
       "6       GBA      2007      2000         7\n",
       "7        GC      2007      2001         6\n",
       "8       GEN      1994      1990         4\n",
       "9        GG      1992      1992         0\n",
       "10      N64      2002      1996         6\n",
       "11      NES      1994      1983        11\n",
       "12       NG      1996      1993         3\n",
       "13       PC      2016      1985        31\n",
       "14     PCFX      1996      1996         0\n",
       "15       PS      2003      1994         9\n",
       "16      PS2      2011      2000        11\n",
       "17      PS3      2016      2006        10\n",
       "18      PS4      2016      2013         3\n",
       "19      PSP      2015      2004        11\n",
       "20      PSV      2016      2011         5\n",
       "21      SAT      1999      1994         5\n",
       "22      SCD      1994      1993         1\n",
       "23     SNES      1999      1990         9\n",
       "24     TG16      1995      1995         0\n",
       "25       WS      2001      1999         2\n",
       "26      Wii      2016      2006        10\n",
       "27     WiiU      2016      2012         4\n",
       "28     X360      2016      2005        11\n",
       "29       XB      2008      2000         8\n",
       "30     XOne      2016      2013         3"
      ]
     },
     "metadata": {},
     "output_type": "display_data"
    },
    {
     "name": "stdout",
     "output_type": "stream",
     "text": [
      "Средняя продолжительность жизни платформы  8.9 лет\n"
     ]
    }
   ],
   "source": [
    "df_lifetime = df.query('year_of_release != 7777').pivot_table(index = 'platform', values = 'year_of_release', aggfunc = ['max', 'min']).reset_index()\n",
    "df_lifetime = df_lifetime.rename(columns={\"year_of_release\":\"\", \"max\":\"max_year\", \"min\":\"min_year\"}) #уберем двойные названия столбцов и переименуем столбцы\n",
    "df_lifetime.columns = [t[0] if t[0] else t[1] for t in df_lifetime.columns]\n",
    "df_lifetime['lifetime'] = df_lifetime['max_year'] - df_lifetime['min_year']\n",
    "display(df_lifetime)\n",
    "print('Средняя продолжительность жизни платформы ', df_lifetime.query('max_year < 2016 & lifetime >1')['lifetime'].mean().round(1), 'лет') \n"
   ]
  },
  {
   "cell_type": "markdown",
   "metadata": {},
   "source": [
    "Взглянем на продажи."
   ]
  },
  {
   "cell_type": "code",
   "execution_count": 24,
   "metadata": {},
   "outputs": [
    {
     "data": {
      "image/png": "[encoded data removed]",
      "text/plain": [
       "<Figure size 576x576 with 1 Axes>"
      ]
     },
     "metadata": {
      "needs_background": "light"
     },
     "output_type": "display_data"
    }
   ],
   "source": [
    "\n",
    "(df.query('year_of_release != 7777 & year_of_release >2009').groupby('platform')['sum_sales'].agg('sum').sort_values()\n",
    " .plot(kind='barh', figsize=(8, 8), title='Количество проданных копий по платформам', grid=True))\n",
    "plt.show()"
   ]
  },
  {
   "cell_type": "markdown",
   "metadata": {},
   "source": [
    "Данный график статичен, нам более интересна динамика. Построим график с выручкой, скорректированный на данные за последние 6 лет. Выберем лидеров на основании графика выше, но с учетом того, что рассмотренные ранее PS3, Wii и X360 уже в низшей точке - их исключим."
   ]
  },
  {
   "cell_type": "code",
   "execution_count": 25,
   "metadata": {},
   "outputs": [
    {
     "data": {
      "image/png": "[encoded data removed]",
      "text/plain": [
       "<Figure size 1008x360 with 1 Axes>"
      ]
     },
     "metadata": {
      "needs_background": "light"
     },
     "output_type": "display_data"
    }
   ],
   "source": [
    "(\n",
    "    df.query('year_of_release != 7777 & year_of_release >2010 & platform == [\"PS4\", \"XOne\", \"PC\", \"WiiU\", \"3DS\", \"PSP\", \"PSV\"]')\n",
    "    .pivot_table(index='year_of_release', columns='platform', values='name', aggfunc='count')\n",
    "    .plot(grid=True, figsize=(14, 5), title = 'Количество выпускаемых игр по платформам 2010-2016, шт', x_compat=True)\n",
    ") \n",
    "plt.xticks(np.arange(2010,2017,2))\n",
    "plt.show()"
   ]
  },
  {
   "cell_type": "markdown",
   "metadata": {},
   "source": [
    "В таком разрезе мы уже видим иные результаты. Явным лидером является PS4, причем похоже, что это только начальная стадия роста. Похожую динамику, но гораздо более медленную показывает XOne. Эти платформы стартовали в одно время, но по итогам 2016 года PS4 примерно в два раза обходит своего конкурента по количеству выпускаемых игр."
   ]
  },
  {
   "cell_type": "code",
   "execution_count": 26,
   "metadata": {},
   "outputs": [
    {
     "data": {
      "image/png": "[encoded data removed]",
      "text/plain": [
       "<Figure size 1008x360 with 1 Axes>"
      ]
     },
     "metadata": {
      "needs_background": "light"
     },
     "output_type": "display_data"
    }
   ],
   "source": [
    "(\n",
    "    df.query('year_of_release != 7777 & year_of_release >2010 & platform == [\"PS4\", \"XOne\", \"PC\", \"WiiU\", \"3DS\", \"PSP\", \"PSV\"]')\n",
    "    .pivot_table(index='year_of_release', columns='platform', values='sum_sales', aggfunc='sum')\n",
    "    .plot(grid=True, figsize=(14, 5), title = 'Динамика количества проданных копий по платформам 2010-2016, шт', x_compat=True)\n",
    ") \n",
    "plt.xticks(np.arange(2010,2017,2))\n",
    "plt.show()"
   ]
  },
  {
   "cell_type": "markdown",
   "metadata": {},
   "source": [
    "Видим подтверждени выводов, сделанных ранее по общей выборке: количество релизов по некоторым платформам растет, а продажи падают. Даже у лидеров роста последних лет PS4 и XOne. Есть какие-то факторы, которые негативно влияют на весь рынок целиком, а не только на отдельных представителей. либо проблема всё же в неполных данных за 2016 год."
   ]
  },
  {
   "cell_type": "markdown",
   "metadata": {},
   "source": [
    "Для построения прогнозов на 2017 и последующие периоды стоит использовать данные за последние 3-5 лет, т.к. актуальность довольно быстро теряется.\n",
    "\n",
    "Создадим новый датафрейм, в котором оставим только данные за 2013-2016 годы, когда на рынке уже были представлены все лидеры, которые у нас есть на конец 2016. "
   ]
  },
  {
   "cell_type": "code",
   "execution_count": 27,
   "metadata": {},
   "outputs": [
    {
     "name": "stdout",
     "output_type": "stream",
     "text": [
      "<class 'pandas.core.frame.DataFrame'>\n",
      "Int64Index: 2234 entries, 16 to 16714\n",
      "Data columns (total 12 columns):\n",
      "name               2234 non-null object\n",
      "platform           2234 non-null object\n",
      "year_of_release    2234 non-null int64\n",
      "genre              2234 non-null object\n",
      "na_sales           2234 non-null float64\n",
      "eu_sales           2234 non-null float64\n",
      "jp_sales           2234 non-null float64\n",
      "other_sales        2234 non-null float64\n",
      "critic_score       2234 non-null float64\n",
      "user_score         2234 non-null float64\n",
      "rating             2234 non-null object\n",
      "sum_sales          2234 non-null float64\n",
      "dtypes: float64(7), int64(1), object(4)\n",
      "memory usage: 226.9+ KB\n"
     ]
    }
   ],
   "source": [
    "df_four_years = df.query('year_of_release != 7777 & year_of_release >2012')\n",
    "df_four_years.info()"
   ]
  },
  {
   "cell_type": "markdown",
   "metadata": {},
   "source": [
    "В усеченном датафрейме осталось 2 234 позиции. \n",
    "Посмотрим на распределение продаж по платформам с помощью боксплота."
   ]
  },
  {
   "cell_type": "code",
   "execution_count": 28,
   "metadata": {},
   "outputs": [
    {
     "name": "stderr",
     "output_type": "stream",
     "text": [
      "/opt/conda/lib/python3.7/site-packages/numpy/core/_asarray.py:83: VisibleDeprecationWarning: Creating an ndarray from ragged nested sequences (which is a list-or-tuple of lists-or-tuples-or ndarrays with different lengths or shapes) is deprecated. If you meant to do this, you must specify 'dtype=object' when creating the ndarray\n",
      "  return array(a, dtype, copy=False, order=order)\n"
     ]
    },
    {
     "data": {
      "image/png": "[encoded data removed]",
      "text/plain": [
       "<Figure size 1080x720 with 1 Axes>"
      ]
     },
     "metadata": {
      "needs_background": "light"
     },
     "output_type": "display_data"
    }
   ],
   "source": [
    "\n",
    "df_four_years.boxplot('sum_sales', by='platform', figsize=(15,10)).set_ylim(0, 2)\n",
    "\n",
    "import warnings\n",
    "warnings.filterwarnings('ignore') "
   ]
  },
  {
   "cell_type": "markdown",
   "metadata": {},
   "source": [
    "По некоторым платформам (DS, PSP, PSV) разброс не очень большой. \n",
    "Если судить по медианному значению, лидерами по продажам являются *X360* и *XOne*. Но если первая платформа, как мы видели ранее, уже идет на спад и её высокий показатель получен за 2013-2014гг, то *XOne* довольно успешно заменила её. Боксплоты этих платформ очень походи: медиана в районе 0,25млн. копий, верхний ус примерно 1,6-1,7млн.копий. Основным конкурентом является *PS4*.\n",
    "\n",
    "Еще один из лидеров по количеству выпускаемых игр - *PSV* - здесь показывает не очень хорошие результаты: медианное значение меньше 0,05млн.копий, а тиражом более 0,25млн.копий продаются лишь отдельные экземпляры. Это подтверждает предыдущие результаты: по количеству новых игр *PSV* один из лидеров последних лет, а вот по количеству проданных копий наоборот, один из аутсайдеров.\n",
    "\n",
    "*PC* и *3DS* имеют схожие распределелния. Медианное значение ниже лидеров, и разброс не столь велик. Тиражом более 0,6млн.копий продаются не так много игр, при том что для лидеров это даже меньше границы верхнего квартиля."
   ]
  },
  {
   "cell_type": "markdown",
   "metadata": {},
   "source": [
    "### Зависимость продаж и оценок пользователей и критиков."
   ]
  },
  {
   "cell_type": "markdown",
   "metadata": {},
   "source": [
    "Оценим зависимость продаж от оценок пользователей и критиков. Для анализа возьмем одну из наиболее популярных платформ последних лет - *PS4*.\n",
    "\n",
    "Построим диаграмму рассеяния и посмотрим на возможные зависимости. Вначале рассмотрим количество проданных копий в привязке к оценке критиков."
   ]
  },
  {
   "cell_type": "code",
   "execution_count": 29,
   "metadata": {
    "scrolled": false
   },
   "outputs": [
    {
     "data": {
      "image/png": "[encoded data removed]",
      "text/plain": [
       "<Figure size 720x432 with 1 Axes>"
      ]
     },
     "metadata": {
      "needs_background": "light"
     },
     "output_type": "display_data"
    },
    {
     "name": "stdout",
     "output_type": "stream",
     "text": [
      "Коэффициент корреляции между продажами и оценками критиков 0.41\n"
     ]
    }
   ],
   "source": [
    "df_ps4_sorted_cr = df.query('platform == \"PS4\" & critic_score != 777 ').sort_values('critic_score')\n",
    "\n",
    "df_ps4_sorted_cr.plot(x='critic_score', y='sum_sales', kind='scatter', title='Зависимость продаж от оценок критиков', \n",
    "                    ylim=(-1, 13), grid=True, figsize=(10, 6), alpha = 0.4)\n",
    "\n",
    "z = np.polyfit(df_ps4_sorted_cr['critic_score'], df_ps4_sorted_cr['sum_sales'], 2)\n",
    "p = np.poly1d(z)\n",
    "plt.plot(df_ps4_sorted_cr['critic_score'], p(df_ps4_sorted_cr['critic_score']),\"r--\")\n",
    "plt.show()\n",
    "print('Коэффициент корреляции между продажами и оценками критиков', df_ps4_sorted_cr['critic_score'].corr(df_ps4_sorted_cr['sum_sales']).round(2)) #посчитаем корреляцию между отзывами и продажами"
   ]
  },
  {
   "cell_type": "markdown",
   "metadata": {},
   "source": [
    "Определенная зависимость просматривается: среди игр, проданных большим тиражом, большинство имеют высокую оценку критиков. Но при этом и среди высоко оцененных игр очень много позиций с низкими продажами. И коэффициент корреляции равен 0,4 - т.е. прямой зависимость есть, но не очень сильная.\n",
    "\n",
    "Теперь построим аналогичную диаграмму, но уже в контексте оценок пользователей. "
   ]
  },
  {
   "cell_type": "code",
   "execution_count": 30,
   "metadata": {},
   "outputs": [
    {
     "data": {
      "image/png": "[encoded data removed]",
      "text/plain": [
       "<Figure size 720x432 with 1 Axes>"
      ]
     },
     "metadata": {
      "needs_background": "light"
     },
     "output_type": "display_data"
    },
    {
     "name": "stdout",
     "output_type": "stream",
     "text": [
      "Коэффициент корреляции между продажами и оценками пользователей -0.07\n"
     ]
    }
   ],
   "source": [
    "df_ps4_sorted_user = df.query('platform == \"PS4\" & user_score != 77').sort_values('user_score')\n",
    "\n",
    "df_ps4_sorted_user.plot(x='user_score', y='sum_sales', kind='scatter', title='Зависимость продаж от оценок пользователей', \n",
    "                    ylim=(-1, 13), grid=True, figsize=(10, 6), alpha = 0.4)\n",
    "\n",
    "z = np.polyfit(df_ps4_sorted_user['user_score'], df_ps4_sorted_user['sum_sales'], 2)\n",
    "p = np.poly1d(z)\n",
    "plt.plot(df_ps4_sorted_user['user_score'], p(df_ps4_sorted_user['user_score']),\"r--\")\n",
    "plt.show()\n",
    "print('Коэффициент корреляции между продажами и оценками пользователей', df_ps4_sorted_cr['user_score'].corr(df_ps4_sorted_cr['sum_sales']).round(2)) "
   ]
  },
  {
   "cell_type": "markdown",
   "metadata": {},
   "source": [
    "Здесь зависимость совсем не просматроивается.Большинство игр продаются низким тиражом не зависимо от оценки. При этом среди игр, проданных большим количеством копий,  есть как с высокими оценками, так и с очень низкими. Например, на 2-4 местах по количеству продаж находятся игры с оценкой пользователей от 4 до 6 по 10 бальной шкале.  "
   ]
  },
  {
   "cell_type": "markdown",
   "metadata": {},
   "source": [
    "Если о зависимости оценок критиков на продажи мы можем говорить, то связи между оценкой пользователей и продажами нет. Это можно объяснить, т.к. оценки критиков чаще всего появляются раньше, в районе даты выхода игры или в короткий срок после, и многие покупают основываясь на них. А затем пользователи пробуют, получают собственное впечатление, и выставляют свои оценки. Также нельзя исключать такого фактора, что критики могут быть заинтересованы в выставлении определенных оценок, или намеренном завышении рейтинга определенных игр. "
   ]
  },
  {
   "cell_type": "markdown",
   "metadata": {},
   "source": [
    "Построим такие же диаграммы, но уже для всех платформ за актуальный период - 2013-2016 гг."
   ]
  },
  {
   "cell_type": "code",
   "execution_count": 31,
   "metadata": {
    "scrolled": false
   },
   "outputs": [
    {
     "data": {
      "image/png": "[encoded data removed]",
      "text/plain": [
       "<Figure size 720x432 with 1 Axes>"
      ]
     },
     "metadata": {
      "needs_background": "light"
     },
     "output_type": "display_data"
    },
    {
     "name": "stdout",
     "output_type": "stream",
     "text": [
      "Коэффициент корреляции между продажами и оценками критиков 0.31\n"
     ]
    }
   ],
   "source": [
    "df_sorted_cr = df_four_years.query('critic_score != 777 ').sort_values('critic_score')\n",
    "\n",
    "df_sorted_cr.plot(x='critic_score', y='sum_sales', kind='scatter', title='Зависимость продаж от оценок критиков', \n",
    "                    ylim=(-1, 13), grid=True, figsize=(10, 6), alpha = 0.4)\n",
    "\n",
    "z = np.polyfit(df_sorted_cr['critic_score'], df_sorted_cr['sum_sales'], 2)\n",
    "p = np.poly1d(z)\n",
    "plt.plot(df_sorted_cr['critic_score'], p(df_sorted_cr['critic_score']),\"r--\")\n",
    "plt.show()\n",
    "print('Коэффициент корреляции между продажами и оценками критиков', df_sorted_cr['critic_score'].corr(df_sorted_cr['sum_sales']).round(2)) #посчитаем корреляцию между отзывами и продажами"
   ]
  },
  {
   "cell_type": "markdown",
   "metadata": {},
   "source": [
    "Зависимость просматривается еще слабее. Да и коэффициент корреляции  ниже.\n",
    "Посмотрим отличаются ли зависимость от оценок пользователей. "
   ]
  },
  {
   "cell_type": "code",
   "execution_count": 32,
   "metadata": {},
   "outputs": [
    {
     "data": {
      "image/png": "[encoded data removed]",
      "text/plain": [
       "<Figure size 720x432 with 1 Axes>"
      ]
     },
     "metadata": {
      "needs_background": "light"
     },
     "output_type": "display_data"
    },
    {
     "name": "stdout",
     "output_type": "stream",
     "text": [
      "Коэффициент корреляции между продажами и оценками пользователей -0.0\n"
     ]
    }
   ],
   "source": [
    "df_sorted_user = df_four_years.query('user_score != 77').sort_values('user_score')\n",
    "\n",
    "df_sorted_user.plot(x='user_score', y='sum_sales', kind='scatter', title='Зависимость продаж от оценок пользователей', \n",
    "                    ylim=(-1, 13), grid=True, figsize=(10, 6), alpha = 0.4)\n",
    "\n",
    "z = np.polyfit(df_sorted_user['user_score'], df_sorted_user['sum_sales'], 2)\n",
    "p = np.poly1d(z)\n",
    "plt.plot(df_sorted_user['user_score'], p(df_sorted_user['user_score']),\"r--\")\n",
    "plt.show()\n",
    "print('Коэффициент корреляции между продажами и оценками пользователей', df_sorted_user['user_score'].corr(df_sorted_user['sum_sales']).round(2)) "
   ]
  },
  {
   "cell_type": "markdown",
   "metadata": {},
   "source": [
    "И здесь похожая картина - зависимости между количеством проданных копий и оценками пользователей нет."
   ]
  },
  {
   "cell_type": "markdown",
   "metadata": {},
   "source": [
    "### Анализ по жанрам."
   ]
  },
  {
   "cell_type": "markdown",
   "metadata": {},
   "source": [
    "Посмотрим игры каких жанров наиболее часто выходили в последние годы."
   ]
  },
  {
   "cell_type": "code",
   "execution_count": 33,
   "metadata": {},
   "outputs": [
    {
     "name": "stdout",
     "output_type": "stream",
     "text": [
      "Action          767\n",
      "Role-Playing    292\n",
      "Adventure       245\n",
      "Sports          214\n",
      "Shooter         187\n",
      "Misc            155\n",
      "Racing           85\n",
      "Fighting         80\n",
      "Platform         74\n",
      "Simulation       62\n",
      "Strategy         56\n",
      "Puzzle           17\n",
      "Name: genre, dtype: int64\n"
     ]
    }
   ],
   "source": [
    "print(df_four_years['genre'].value_counts()) "
   ]
  },
  {
   "cell_type": "markdown",
   "metadata": {},
   "source": [
    "С большим отрывом лидирует `action`. \n",
    "\n",
    "Оценим среднее количество продаж по жанрам. Используем для этого медиану, чтобы исключить влияние выбросов. "
   ]
  },
  {
   "cell_type": "code",
   "execution_count": 34,
   "metadata": {},
   "outputs": [
    {
     "name": "stdout",
     "output_type": "stream",
     "text": [
      "genre\n",
      "Shooter         0.450\n",
      "Sports          0.240\n",
      "Platform        0.225\n",
      "Role-Playing    0.125\n",
      "Fighting        0.125\n",
      "Racing          0.120\n",
      "Action          0.110\n",
      "Simulation      0.100\n",
      "Misc            0.100\n",
      "Strategy        0.080\n",
      "Puzzle          0.060\n",
      "Adventure       0.030\n",
      "Name: sum_sales, dtype: float64\n"
     ]
    }
   ],
   "source": [
    "print(df_four_years.groupby('genre')['sum_sales'].median().sort_values(ascending=False))"
   ]
  },
  {
   "cell_type": "code",
   "execution_count": 35,
   "metadata": {},
   "outputs": [
    {
     "data": {
      "image/png": "[encoded data removed]",
      "text/plain": [
       "<Figure size 576x576 with 1 Axes>"
      ]
     },
     "metadata": {
      "needs_background": "light"
     },
     "output_type": "display_data"
    }
   ],
   "source": [
    "(df_four_years.groupby('genre')['sum_sales'].median().sort_values()\n",
    " .plot(kind='barh', figsize=(8, 8), title='Средние продажи по жанрам', grid=True))\n",
    "plt.show()"
   ]
  },
  {
   "cell_type": "markdown",
   "metadata": {},
   "source": [
    "И хотя `action` впереди по количеству релизов, по среднему числу проданных копий этот жанр лишь в середине рейтинга в последние годы. Лучше всего продаются игры из жанра `Shooter`, они обходят ближайших конкурентов  `Sports` и `Platform` примерно в 2 раза.\n",
    "\n",
    "`Strategy` и `Puzzle` находятся внизу рейтинга как по количеству выпущенных игр, так и по средним продажам. Вероятно, из-за низкой популярности эти игры не пользуются спросом у разработчиков."
   ]
  },
  {
   "cell_type": "markdown",
   "metadata": {},
   "source": [
    "### Анализ по регионам."
   ]
  },
  {
   "cell_type": "markdown",
   "metadata": {},
   "source": [
    "Проанализируем характерные признаки для пользователей в разных регионах.\n",
    "\n",
    "Сгруппируем данные по платформам."
   ]
  },
  {
   "cell_type": "code",
   "execution_count": 36,
   "metadata": {
    "scrolled": true
   },
   "outputs": [
    {
     "data": {
      "text/html": [
       "<div>\n",
       "<style scoped>\n",
       "    .dataframe tbody tr th:only-of-type {\n",
       "        vertical-align: middle;\n",
       "    }\n",
       "\n",
       "    .dataframe tbody tr th {\n",
       "        vertical-align: top;\n",
       "    }\n",
       "\n",
       "    .dataframe thead th {\n",
       "        text-align: right;\n",
       "    }\n",
       "</style>\n",
       "<table border=\"1\" class=\"dataframe\">\n",
       "  <thead>\n",
       "    <tr style=\"text-align: right;\">\n",
       "      <th></th>\n",
       "      <th>na_sales</th>\n",
       "      <th>eu_sales</th>\n",
       "      <th>jp_sales</th>\n",
       "      <th>other_sales</th>\n",
       "    </tr>\n",
       "    <tr>\n",
       "      <th>platform</th>\n",
       "      <th></th>\n",
       "      <th></th>\n",
       "      <th></th>\n",
       "      <th></th>\n",
       "    </tr>\n",
       "  </thead>\n",
       "  <tbody>\n",
       "    <tr>\n",
       "      <td>3DS</td>\n",
       "      <td>38.20</td>\n",
       "      <td>30.96</td>\n",
       "      <td>67.81</td>\n",
       "      <td>6.28</td>\n",
       "    </tr>\n",
       "    <tr>\n",
       "      <td>DS</td>\n",
       "      <td>0.57</td>\n",
       "      <td>0.85</td>\n",
       "      <td>0.00</td>\n",
       "      <td>0.12</td>\n",
       "    </tr>\n",
       "    <tr>\n",
       "      <td>PC</td>\n",
       "      <td>11.17</td>\n",
       "      <td>25.61</td>\n",
       "      <td>0.00</td>\n",
       "      <td>3.00</td>\n",
       "    </tr>\n",
       "    <tr>\n",
       "      <td>PS3</td>\n",
       "      <td>63.50</td>\n",
       "      <td>67.81</td>\n",
       "      <td>23.35</td>\n",
       "      <td>26.77</td>\n",
       "    </tr>\n",
       "    <tr>\n",
       "      <td>PS4</td>\n",
       "      <td>108.74</td>\n",
       "      <td>141.09</td>\n",
       "      <td>15.96</td>\n",
       "      <td>48.35</td>\n",
       "    </tr>\n",
       "    <tr>\n",
       "      <td>PSP</td>\n",
       "      <td>0.00</td>\n",
       "      <td>0.17</td>\n",
       "      <td>3.29</td>\n",
       "      <td>0.04</td>\n",
       "    </tr>\n",
       "    <tr>\n",
       "      <td>PSV</td>\n",
       "      <td>5.04</td>\n",
       "      <td>6.10</td>\n",
       "      <td>18.59</td>\n",
       "      <td>3.26</td>\n",
       "    </tr>\n",
       "    <tr>\n",
       "      <td>Wii</td>\n",
       "      <td>6.56</td>\n",
       "      <td>5.93</td>\n",
       "      <td>0.05</td>\n",
       "      <td>1.12</td>\n",
       "    </tr>\n",
       "    <tr>\n",
       "      <td>WiiU</td>\n",
       "      <td>29.21</td>\n",
       "      <td>19.85</td>\n",
       "      <td>10.88</td>\n",
       "      <td>4.69</td>\n",
       "    </tr>\n",
       "    <tr>\n",
       "      <td>X360</td>\n",
       "      <td>81.66</td>\n",
       "      <td>42.52</td>\n",
       "      <td>0.51</td>\n",
       "      <td>12.11</td>\n",
       "    </tr>\n",
       "    <tr>\n",
       "      <td>XOne</td>\n",
       "      <td>93.12</td>\n",
       "      <td>51.59</td>\n",
       "      <td>0.34</td>\n",
       "      <td>14.27</td>\n",
       "    </tr>\n",
       "  </tbody>\n",
       "</table>\n",
       "</div>"
      ],
      "text/plain": [
       "          na_sales  eu_sales  jp_sales  other_sales\n",
       "platform                                           \n",
       "3DS          38.20     30.96     67.81         6.28\n",
       "DS            0.57      0.85      0.00         0.12\n",
       "PC           11.17     25.61      0.00         3.00\n",
       "PS3          63.50     67.81     23.35        26.77\n",
       "PS4         108.74    141.09     15.96        48.35\n",
       "PSP           0.00      0.17      3.29         0.04\n",
       "PSV           5.04      6.10     18.59         3.26\n",
       "Wii           6.56      5.93      0.05         1.12\n",
       "WiiU         29.21     19.85     10.88         4.69\n",
       "X360         81.66     42.52      0.51        12.11\n",
       "XOne         93.12     51.59      0.34        14.27"
      ]
     },
     "metadata": {},
     "output_type": "display_data"
    }
   ],
   "source": [
    "df_sales_grouped = df_four_years.groupby('platform')[['na_sales', 'eu_sales', 'jp_sales', 'other_sales']].sum() \n",
    "display(df_sales_grouped)"
   ]
  },
  {
   "cell_type": "markdown",
   "metadata": {},
   "source": [
    "Построим гистограммы количества проданных копий по платформам по основным регионам."
   ]
  },
  {
   "cell_type": "code",
   "execution_count": 37,
   "metadata": {},
   "outputs": [
    {
     "data": {
      "text/plain": [
       "<matplotlib.axes._subplots.AxesSubplot at 0x7f6d7d8f7510>"
      ]
     },
     "execution_count": 37,
     "metadata": {},
     "output_type": "execute_result"
    },
    {
     "data": {
      "image/png": "[encoded data removed]",
      "text/plain": [
       "<Figure size 1296x432 with 3 Axes>"
      ]
     },
     "metadata": {
      "needs_background": "light"
     },
     "output_type": "display_data"
    }
   ],
   "source": [
    "\n",
    "fig, axes = plt.subplots(1, 3, figsize=(18, 6))\n",
    "fig.suptitle('Продажи по платформам, млн.шт')\n",
    "df_sales_grouped[\"na_sales\"].sort_values().plot(ax=axes[0], kind='barh', title='Северная Америка', grid=True)\n",
    "plt.xlabel(\"Проданно копий\")\n",
    "df_sales_grouped[\"eu_sales\"].sort_values().plot(ax=axes[1], kind='barh', title='Европа', grid=True);\n",
    "df_sales_grouped[\"jp_sales\"].sort_values().plot(ax=axes[2], kind='barh', title='Япония', grid=True)\n"
   ]
  },
  {
   "cell_type": "markdown",
   "metadata": {},
   "source": [
    "Лидер по продажам в Европе и Северной Америке (СА) один и тот же - *PS4*. Но если в Европе эта платформа обгоняет ближайшего конкурента более чем в два раза, то в СА разрывы не столь велики. Пятерка лидеров в этих регионах одинаковая, отличается только порядок распределения мест. В Японии же другой лидер, и также с отрывом - *3DS*, который занимает лишь пятое место в других двух рассматриваемых регионах. При этом *PS4* здесь лишь на четвертом месте.\n",
    "\n",
    "Вероятно, в СА и Европе охотнее пробуют новые платформы. А у Японии же существенный потенциал для роста новых платформ *PS4* и *XOne*."
   ]
  },
  {
   "cell_type": "markdown",
   "metadata": {},
   "source": [
    "Посмотрим на эти же данные не в абсолютных значениях, а в долях. Рассчитаем доли продаж по платформам в каждом из регионов."
   ]
  },
  {
   "cell_type": "code",
   "execution_count": 38,
   "metadata": {},
   "outputs": [
    {
     "data": {
      "text/html": [
       "<div>\n",
       "<style scoped>\n",
       "    .dataframe tbody tr th:only-of-type {\n",
       "        vertical-align: middle;\n",
       "    }\n",
       "\n",
       "    .dataframe tbody tr th {\n",
       "        vertical-align: top;\n",
       "    }\n",
       "\n",
       "    .dataframe thead th {\n",
       "        text-align: right;\n",
       "    }\n",
       "</style>\n",
       "<table border=\"1\" class=\"dataframe\">\n",
       "  <thead>\n",
       "    <tr style=\"text-align: right;\">\n",
       "      <th></th>\n",
       "      <th>na_sales</th>\n",
       "      <th>eu_sales</th>\n",
       "      <th>jp_sales</th>\n",
       "      <th>other_sales</th>\n",
       "      <th>na_shares</th>\n",
       "      <th>eu_shares</th>\n",
       "      <th>jp_shares</th>\n",
       "    </tr>\n",
       "    <tr>\n",
       "      <th>platform</th>\n",
       "      <th></th>\n",
       "      <th></th>\n",
       "      <th></th>\n",
       "      <th></th>\n",
       "      <th></th>\n",
       "      <th></th>\n",
       "      <th></th>\n",
       "    </tr>\n",
       "  </thead>\n",
       "  <tbody>\n",
       "    <tr>\n",
       "      <td>3DS</td>\n",
       "      <td>38.20</td>\n",
       "      <td>30.96</td>\n",
       "      <td>67.81</td>\n",
       "      <td>6.28</td>\n",
       "      <td>0.09</td>\n",
       "      <td>0.08</td>\n",
       "      <td>0.48</td>\n",
       "    </tr>\n",
       "    <tr>\n",
       "      <td>DS</td>\n",
       "      <td>0.57</td>\n",
       "      <td>0.85</td>\n",
       "      <td>0.00</td>\n",
       "      <td>0.12</td>\n",
       "      <td>0.00</td>\n",
       "      <td>0.00</td>\n",
       "      <td>0.00</td>\n",
       "    </tr>\n",
       "    <tr>\n",
       "      <td>PC</td>\n",
       "      <td>11.17</td>\n",
       "      <td>25.61</td>\n",
       "      <td>0.00</td>\n",
       "      <td>3.00</td>\n",
       "      <td>0.03</td>\n",
       "      <td>0.07</td>\n",
       "      <td>0.00</td>\n",
       "    </tr>\n",
       "    <tr>\n",
       "      <td>PS3</td>\n",
       "      <td>63.50</td>\n",
       "      <td>67.81</td>\n",
       "      <td>23.35</td>\n",
       "      <td>26.77</td>\n",
       "      <td>0.15</td>\n",
       "      <td>0.17</td>\n",
       "      <td>0.17</td>\n",
       "    </tr>\n",
       "    <tr>\n",
       "      <td>PS4</td>\n",
       "      <td>108.74</td>\n",
       "      <td>141.09</td>\n",
       "      <td>15.96</td>\n",
       "      <td>48.35</td>\n",
       "      <td>0.25</td>\n",
       "      <td>0.36</td>\n",
       "      <td>0.11</td>\n",
       "    </tr>\n",
       "    <tr>\n",
       "      <td>PSP</td>\n",
       "      <td>0.00</td>\n",
       "      <td>0.17</td>\n",
       "      <td>3.29</td>\n",
       "      <td>0.04</td>\n",
       "      <td>0.00</td>\n",
       "      <td>0.00</td>\n",
       "      <td>0.02</td>\n",
       "    </tr>\n",
       "    <tr>\n",
       "      <td>PSV</td>\n",
       "      <td>5.04</td>\n",
       "      <td>6.10</td>\n",
       "      <td>18.59</td>\n",
       "      <td>3.26</td>\n",
       "      <td>0.01</td>\n",
       "      <td>0.02</td>\n",
       "      <td>0.13</td>\n",
       "    </tr>\n",
       "    <tr>\n",
       "      <td>Wii</td>\n",
       "      <td>6.56</td>\n",
       "      <td>5.93</td>\n",
       "      <td>0.05</td>\n",
       "      <td>1.12</td>\n",
       "      <td>0.01</td>\n",
       "      <td>0.02</td>\n",
       "      <td>0.00</td>\n",
       "    </tr>\n",
       "    <tr>\n",
       "      <td>WiiU</td>\n",
       "      <td>29.21</td>\n",
       "      <td>19.85</td>\n",
       "      <td>10.88</td>\n",
       "      <td>4.69</td>\n",
       "      <td>0.07</td>\n",
       "      <td>0.05</td>\n",
       "      <td>0.08</td>\n",
       "    </tr>\n",
       "    <tr>\n",
       "      <td>X360</td>\n",
       "      <td>81.66</td>\n",
       "      <td>42.52</td>\n",
       "      <td>0.51</td>\n",
       "      <td>12.11</td>\n",
       "      <td>0.19</td>\n",
       "      <td>0.11</td>\n",
       "      <td>0.00</td>\n",
       "    </tr>\n",
       "    <tr>\n",
       "      <td>XOne</td>\n",
       "      <td>93.12</td>\n",
       "      <td>51.59</td>\n",
       "      <td>0.34</td>\n",
       "      <td>14.27</td>\n",
       "      <td>0.21</td>\n",
       "      <td>0.13</td>\n",
       "      <td>0.00</td>\n",
       "    </tr>\n",
       "  </tbody>\n",
       "</table>\n",
       "</div>"
      ],
      "text/plain": [
       "          na_sales  eu_sales  jp_sales  other_sales  na_shares  eu_shares  \\\n",
       "platform                                                                    \n",
       "3DS          38.20     30.96     67.81         6.28       0.09       0.08   \n",
       "DS            0.57      0.85      0.00         0.12       0.00       0.00   \n",
       "PC           11.17     25.61      0.00         3.00       0.03       0.07   \n",
       "PS3          63.50     67.81     23.35        26.77       0.15       0.17   \n",
       "PS4         108.74    141.09     15.96        48.35       0.25       0.36   \n",
       "PSP           0.00      0.17      3.29         0.04       0.00       0.00   \n",
       "PSV           5.04      6.10     18.59         3.26       0.01       0.02   \n",
       "Wii           6.56      5.93      0.05         1.12       0.01       0.02   \n",
       "WiiU         29.21     19.85     10.88         4.69       0.07       0.05   \n",
       "X360         81.66     42.52      0.51        12.11       0.19       0.11   \n",
       "XOne         93.12     51.59      0.34        14.27       0.21       0.13   \n",
       "\n",
       "          jp_shares  \n",
       "platform             \n",
       "3DS            0.48  \n",
       "DS             0.00  \n",
       "PC             0.00  \n",
       "PS3            0.17  \n",
       "PS4            0.11  \n",
       "PSP            0.02  \n",
       "PSV            0.13  \n",
       "Wii            0.00  \n",
       "WiiU           0.08  \n",
       "X360           0.00  \n",
       "XOne           0.00  "
      ]
     },
     "metadata": {},
     "output_type": "display_data"
    }
   ],
   "source": [
    "df_sales_grouped['na_shares'] = (df_sales_grouped['na_sales']/df_sales_grouped['na_sales'].sum()).round(2)\n",
    "df_sales_grouped['eu_shares'] = (df_sales_grouped['eu_sales']/df_sales_grouped['eu_sales'].sum()).round(2)\n",
    "df_sales_grouped['jp_shares'] = (df_sales_grouped['jp_sales']/df_sales_grouped['jp_sales'].sum()).round(2)\n",
    "display(df_sales_grouped)"
   ]
  },
  {
   "cell_type": "code",
   "execution_count": 39,
   "metadata": {},
   "outputs": [
    {
     "data": {
      "text/plain": [
       "<matplotlib.axes._subplots.AxesSubplot at 0x7f6d7d245cd0>"
      ]
     },
     "execution_count": 39,
     "metadata": {},
     "output_type": "execute_result"
    },
    {
     "data": {
      "image/png": "[encoded data removed]",
      "text/plain": [
       "<Figure size 1296x432 with 3 Axes>"
      ]
     },
     "metadata": {},
     "output_type": "display_data"
    }
   ],
   "source": [
    "fig, axes = plt.subplots(1, 3, figsize=(18, 6))\n",
    "df_sales_grouped[\"na_shares\"].sort_values().plot(ax=axes[0], kind='pie', autopct='%1.0f%%', title='Доли продаж в Северной Америке', grid=True)\n",
    "df_sales_grouped[\"eu_shares\"].sort_values().plot(ax=axes[1], kind='pie', autopct='%1.0f%%', title='Доли продаж в Европе')\n",
    "df_sales_grouped[\"jp_shares\"].sort_values().plot(ax=axes[2], kind='pie', autopct='%1.0f%%', title='Доли продаж в Японии')\n"
   ]
  },
  {
   "cell_type": "markdown",
   "metadata": {},
   "source": [
    "В каждом из регионов пятерка лидеров занимает подавляющую часть рынка, а тройка занимает минимум две трети. Стоит ориентироваться на эти платформы. При этом нужно учитывать, что Япония медленне воспринимает нововведени и следует с некоторым опозданием. "
   ]
  },
  {
   "cell_type": "markdown",
   "metadata": {},
   "source": [
    "### Анализ по жанрам."
   ]
  },
  {
   "cell_type": "markdown",
   "metadata": {},
   "source": [
    "Взглянем какие жанры популярны в разных регионах. Для этого также воспользуемся `groupby`."
   ]
  },
  {
   "cell_type": "code",
   "execution_count": 40,
   "metadata": {},
   "outputs": [
    {
     "data": {
      "text/html": [
       "<div>\n",
       "<style scoped>\n",
       "    .dataframe tbody tr th:only-of-type {\n",
       "        vertical-align: middle;\n",
       "    }\n",
       "\n",
       "    .dataframe tbody tr th {\n",
       "        vertical-align: top;\n",
       "    }\n",
       "\n",
       "    .dataframe thead th {\n",
       "        text-align: right;\n",
       "    }\n",
       "</style>\n",
       "<table border=\"1\" class=\"dataframe\">\n",
       "  <thead>\n",
       "    <tr style=\"text-align: right;\">\n",
       "      <th></th>\n",
       "      <th>na_sales</th>\n",
       "      <th>eu_sales</th>\n",
       "      <th>jp_sales</th>\n",
       "      <th>other_sales</th>\n",
       "    </tr>\n",
       "    <tr>\n",
       "      <th>genre</th>\n",
       "      <th></th>\n",
       "      <th></th>\n",
       "      <th></th>\n",
       "      <th></th>\n",
       "    </tr>\n",
       "  </thead>\n",
       "  <tbody>\n",
       "    <tr>\n",
       "      <td>Action</td>\n",
       "      <td>126.11</td>\n",
       "      <td>118.38</td>\n",
       "      <td>40.49</td>\n",
       "      <td>37.24</td>\n",
       "    </tr>\n",
       "    <tr>\n",
       "      <td>Adventure</td>\n",
       "      <td>7.14</td>\n",
       "      <td>8.25</td>\n",
       "      <td>5.82</td>\n",
       "      <td>2.43</td>\n",
       "    </tr>\n",
       "    <tr>\n",
       "      <td>Fighting</td>\n",
       "      <td>15.55</td>\n",
       "      <td>8.55</td>\n",
       "      <td>7.65</td>\n",
       "      <td>3.56</td>\n",
       "    </tr>\n",
       "    <tr>\n",
       "      <td>Misc</td>\n",
       "      <td>27.49</td>\n",
       "      <td>20.04</td>\n",
       "      <td>9.20</td>\n",
       "      <td>6.09</td>\n",
       "    </tr>\n",
       "    <tr>\n",
       "      <td>Platform</td>\n",
       "      <td>18.14</td>\n",
       "      <td>15.58</td>\n",
       "      <td>4.79</td>\n",
       "      <td>4.12</td>\n",
       "    </tr>\n",
       "    <tr>\n",
       "      <td>Puzzle</td>\n",
       "      <td>0.83</td>\n",
       "      <td>1.00</td>\n",
       "      <td>1.18</td>\n",
       "      <td>0.16</td>\n",
       "    </tr>\n",
       "    <tr>\n",
       "      <td>Racing</td>\n",
       "      <td>12.96</td>\n",
       "      <td>20.19</td>\n",
       "      <td>2.30</td>\n",
       "      <td>4.44</td>\n",
       "    </tr>\n",
       "    <tr>\n",
       "      <td>Role-Playing</td>\n",
       "      <td>46.40</td>\n",
       "      <td>36.97</td>\n",
       "      <td>51.04</td>\n",
       "      <td>11.48</td>\n",
       "    </tr>\n",
       "    <tr>\n",
       "      <td>Shooter</td>\n",
       "      <td>109.74</td>\n",
       "      <td>87.86</td>\n",
       "      <td>6.61</td>\n",
       "      <td>28.77</td>\n",
       "    </tr>\n",
       "    <tr>\n",
       "      <td>Simulation</td>\n",
       "      <td>4.86</td>\n",
       "      <td>10.92</td>\n",
       "      <td>4.52</td>\n",
       "      <td>1.46</td>\n",
       "    </tr>\n",
       "    <tr>\n",
       "      <td>Sports</td>\n",
       "      <td>65.27</td>\n",
       "      <td>60.52</td>\n",
       "      <td>5.41</td>\n",
       "      <td>19.45</td>\n",
       "    </tr>\n",
       "    <tr>\n",
       "      <td>Strategy</td>\n",
       "      <td>3.28</td>\n",
       "      <td>4.22</td>\n",
       "      <td>1.77</td>\n",
       "      <td>0.81</td>\n",
       "    </tr>\n",
       "  </tbody>\n",
       "</table>\n",
       "</div>"
      ],
      "text/plain": [
       "              na_sales  eu_sales  jp_sales  other_sales\n",
       "genre                                                  \n",
       "Action          126.11    118.38     40.49        37.24\n",
       "Adventure         7.14      8.25      5.82         2.43\n",
       "Fighting         15.55      8.55      7.65         3.56\n",
       "Misc             27.49     20.04      9.20         6.09\n",
       "Platform         18.14     15.58      4.79         4.12\n",
       "Puzzle            0.83      1.00      1.18         0.16\n",
       "Racing           12.96     20.19      2.30         4.44\n",
       "Role-Playing     46.40     36.97     51.04        11.48\n",
       "Shooter         109.74     87.86      6.61        28.77\n",
       "Simulation        4.86     10.92      4.52         1.46\n",
       "Sports           65.27     60.52      5.41        19.45\n",
       "Strategy          3.28      4.22      1.77         0.81"
      ]
     },
     "metadata": {},
     "output_type": "display_data"
    }
   ],
   "source": [
    "df_sales_grouped_genre = df_four_years.groupby('genre')[['na_sales', 'eu_sales', 'jp_sales', 'other_sales']].sum() \n",
    "display(df_sales_grouped_genre)"
   ]
  },
  {
   "cell_type": "code",
   "execution_count": 41,
   "metadata": {},
   "outputs": [
    {
     "data": {
      "text/plain": [
       "<matplotlib.axes._subplots.AxesSubplot at 0x7f6d7d5b4c50>"
      ]
     },
     "execution_count": 41,
     "metadata": {},
     "output_type": "execute_result"
    },
    {
     "data": {
      "image/png": "[encoded data removed]",
      "text/plain": [
       "<Figure size 1512x432 with 3 Axes>"
      ]
     },
     "metadata": {
      "needs_background": "light"
     },
     "output_type": "display_data"
    }
   ],
   "source": [
    "fig, axes = plt.subplots(1, 3, figsize=(21, 6))\n",
    "fig.suptitle('Продажи по жанрам, млн.шт')\n",
    "df_sales_grouped_genre[\"na_sales\"].sort_values().plot(ax=axes[0], kind='barh', title='Северная Америка', grid=True)\n",
    "plt.xlabel(\"Проданно копий\")\n",
    "df_sales_grouped_genre[\"eu_sales\"].sort_values().plot(ax=axes[1], kind='barh', title='Европа', grid=True);\n",
    "df_sales_grouped_genre[\"jp_sales\"].sort_values().plot(ax=axes[2], kind='barh', title='Япония', grid=True)"
   ]
  },
  {
   "cell_type": "markdown",
   "metadata": {},
   "source": [
    "И здесь видим схожесть вкусов пользователей Северной Америки и Европы, и заметное отличие пользователей в Японии.\n",
    "\n",
    "Первая четверка в Европе и СА абсолютно одинаковая, и даже распределение по количеству продаж похожи. В Японии же два лидера: `Role-Playing\t` и `Action`, которые в разы превосходят остальных. При чем продажи `Role-Playing` в абсолютном выражении превосходят Европу и СА, хотя общий объем рынка в Японии меньше."
   ]
  },
  {
   "cell_type": "markdown",
   "metadata": {},
   "source": [
    "### Влияние рейтинга на продажи."
   ]
  },
  {
   "cell_type": "markdown",
   "metadata": {},
   "source": [
    "Изучим оказывает ли влияние рейтинг на продажи в разных регионах.\n",
    "\n",
    "Краткое описание рейтинга:\n",
    "- **E** («Everyone») — «Для всех»: Содержание вполне подходит для возрастной категории от 6 лет.\n",
    "- **E10+** («Everyone 10 and older») — «Для всех от 10 лет и старше»\n",
    "- **T** («Teen») — «Подросткам»: Игра подходит для лиц от 13 лет. \n",
    "- **M** («Mature») — «Для взрослых»: Материалы игры не подходят для подростков младше 17 лет.\n",
    "\n",
    "У части игр рейтинг не определен или был пропущен, мы заменили его маркером **no_rating**. Оставим эти данные для понимания общей картины.\n"
   ]
  },
  {
   "cell_type": "code",
   "execution_count": 42,
   "metadata": {},
   "outputs": [
    {
     "data": {
      "text/html": [
       "<div>\n",
       "<style scoped>\n",
       "    .dataframe tbody tr th:only-of-type {\n",
       "        vertical-align: middle;\n",
       "    }\n",
       "\n",
       "    .dataframe tbody tr th {\n",
       "        vertical-align: top;\n",
       "    }\n",
       "\n",
       "    .dataframe thead th {\n",
       "        text-align: right;\n",
       "    }\n",
       "</style>\n",
       "<table border=\"1\" class=\"dataframe\">\n",
       "  <thead>\n",
       "    <tr style=\"text-align: right;\">\n",
       "      <th></th>\n",
       "      <th>na_sales</th>\n",
       "      <th>eu_sales</th>\n",
       "      <th>jp_sales</th>\n",
       "      <th>other_sales</th>\n",
       "    </tr>\n",
       "    <tr>\n",
       "      <th>rating</th>\n",
       "      <th></th>\n",
       "      <th></th>\n",
       "      <th></th>\n",
       "      <th></th>\n",
       "    </tr>\n",
       "  </thead>\n",
       "  <tbody>\n",
       "    <tr>\n",
       "      <td>E</td>\n",
       "      <td>79.05</td>\n",
       "      <td>83.36</td>\n",
       "      <td>15.14</td>\n",
       "      <td>22.61</td>\n",
       "    </tr>\n",
       "    <tr>\n",
       "      <td>E10+</td>\n",
       "      <td>54.24</td>\n",
       "      <td>42.69</td>\n",
       "      <td>5.89</td>\n",
       "      <td>12.57</td>\n",
       "    </tr>\n",
       "    <tr>\n",
       "      <td>M</td>\n",
       "      <td>165.27</td>\n",
       "      <td>145.57</td>\n",
       "      <td>14.11</td>\n",
       "      <td>47.08</td>\n",
       "    </tr>\n",
       "    <tr>\n",
       "      <td>T</td>\n",
       "      <td>49.79</td>\n",
       "      <td>41.95</td>\n",
       "      <td>20.59</td>\n",
       "      <td>14.29</td>\n",
       "    </tr>\n",
       "    <tr>\n",
       "      <td>no_rating</td>\n",
       "      <td>89.42</td>\n",
       "      <td>78.91</td>\n",
       "      <td>85.05</td>\n",
       "      <td>23.46</td>\n",
       "    </tr>\n",
       "  </tbody>\n",
       "</table>\n",
       "</div>"
      ],
      "text/plain": [
       "           na_sales  eu_sales  jp_sales  other_sales\n",
       "rating                                              \n",
       "E             79.05     83.36     15.14        22.61\n",
       "E10+          54.24     42.69      5.89        12.57\n",
       "M            165.27    145.57     14.11        47.08\n",
       "T             49.79     41.95     20.59        14.29\n",
       "no_rating     89.42     78.91     85.05        23.46"
      ]
     },
     "metadata": {},
     "output_type": "display_data"
    }
   ],
   "source": [
    "df_sales_grouped_rating = df_four_years.groupby('rating')[['na_sales', 'eu_sales', 'jp_sales', 'other_sales']].sum() \n",
    "display(df_sales_grouped_rating)"
   ]
  },
  {
   "cell_type": "code",
   "execution_count": 43,
   "metadata": {},
   "outputs": [
    {
     "data": {
      "text/plain": [
       "<matplotlib.axes._subplots.AxesSubplot at 0x7f6d7d577390>"
      ]
     },
     "execution_count": 43,
     "metadata": {},
     "output_type": "execute_result"
    },
    {
     "data": {
      "image/png": "[encoded data removed]",
      "text/plain": [
       "<Figure size 1512x432 with 3 Axes>"
      ]
     },
     "metadata": {
      "needs_background": "light"
     },
     "output_type": "display_data"
    }
   ],
   "source": [
    "fig, axes = plt.subplots(1, 3, figsize=(21, 6))\n",
    "fig.suptitle('Продажи в зависимости от рейтинга, млн.шт')\n",
    "df_sales_grouped_rating[\"na_sales\"].sort_values().plot(ax=axes[0], kind='barh', title='Северная Америка', grid=True)\n",
    "plt.xlabel(\"Проданно копий\")\n",
    "df_sales_grouped_rating[\"eu_sales\"].sort_values().plot(ax=axes[1], kind='barh', title='Европа', grid=True);\n",
    "df_sales_grouped_rating[\"jp_sales\"].sort_values().plot(ax=axes[2], kind='barh', title='Япония', grid=True)"
   ]
  },
  {
   "cell_type": "markdown",
   "metadata": {},
   "source": [
    "И снова очень похожие картины в СА и Европе: лидируют игры \"17+\", довольно большую долю составляют игры, в которых рейтинг не определен или отсутствует.\n",
    "В Японии же подобные игры составляют абсолютное большинство - суммарно превосходят остальные 4 категории. \n",
    "\n",
    "На основании предыдущего анализа уже можно сделать вывод, что интересы пользователей в Японии отличаются от СА и Европы. Вероятно, в Японии популярны некоторые игры, которые малопопулярны или не популярны совсем в СА и Европе, и ассоциация, определяющая возрастной рейтинг компьютерных игр, просто не присваивала им рейтинг в связи с низкой популярностью."
   ]
  },
  {
   "cell_type": "markdown",
   "metadata": {},
   "source": [
    "## Выдвижение и проверка гипотез"
   ]
  },
  {
   "cell_type": "markdown",
   "metadata": {},
   "source": [
    "Выдвинем две гипотезы и проверим их на предоставленных данных. Для анализа используем актуальные данные за последние 4 года."
   ]
  },
  {
   "cell_type": "markdown",
   "metadata": {},
   "source": [
    "### Гипотеза №1 Средние пользовательские рейтинги платформ Xbox One и PC одинаковые. "
   ]
  },
  {
   "cell_type": "markdown",
   "metadata": {},
   "source": [
    "Сравним пользовательские рейтинги платформ Xbox One и PC. Сформулируем нулевую и альтернативную гипотезы. В нулевой гипотезе должен присутствовать знак равенства: \n",
    "\n",
    "**Нулевая гипотеза $Н_{0}$** - Средние пользовательские рейтинги платформ Xbox One и PC одинаковые.\n",
    "\n",
    "**Альтернативная гипотеза $Н_{1}$** - Средние пользовательские рейтинги платформ Xbox One и PC различается. Альтернативная гипотеза двухсторонняя - нам не важно в какую сторону будет отклонение, важен сам факт наличия отклонения, т.е. то, что пользовательские рейтинги не равны.\n",
    "\n",
    "Принимать или отвергать нулевую гипотезу будем по **p-value** - это вероятность получить наблюдаемый или ещё более далёкий от предполагаемого результат при условии, что нулевая гипотеза верна.\n",
    "\n",
    "Установим уровень значимости — суммарную вероятность того, что измеренное эмпирически значение окажется далеко от среднего - равным 0,05.\n",
    "\n",
    "Т.к. проверяем гипотезу о равенстве среднего двух генеральных совокупностей по взятым из них выборкам, применим метод scipy.stats.ttest_ind "
   ]
  },
  {
   "cell_type": "code",
   "execution_count": 44,
   "metadata": {},
   "outputs": [
    {
     "name": "stdout",
     "output_type": "stream",
     "text": [
      "p-значение:  0.163904\n",
      "Не получилось отвергнуть нулевую гипотезу\n"
     ]
    }
   ],
   "source": [
    "alpha = 0.05 \n",
    "\n",
    "results = st.ttest_ind(df_four_years.query('platform == \"XOne\" & user_score != 77')['user_score'], df_four_years.query('platform == \"PC\" & user_score != 77')['user_score']) \n",
    "\n",
    "print('p-значение: ', results.pvalue.round(6))\n",
    "\n",
    "if (results.pvalue < alpha):\n",
    "    print(\"Отвергаем нулевую гипотезу\")\n",
    "else:\n",
    "    print(\"Не получилось отвергнуть нулевую гипотезу\")"
   ]
  },
  {
   "cell_type": "markdown",
   "metadata": {},
   "source": [
    "Мы не можем подтвердить данную гипотезу, но результаты также не дают нам оснований отвергнуть её."
   ]
  },
  {
   "cell_type": "markdown",
   "metadata": {},
   "source": [
    "### Гипотеза №2 Средние пользовательские рейтинги жанров Action и Sports разные."
   ]
  },
  {
   "cell_type": "markdown",
   "metadata": {},
   "source": [
    "Сравним пользовательские рейтинги по двум популярным жанрам: Action и Sports. \n",
    "\n",
    "**Нулевая гипотеза $Н_{0}$** - Средние пользовательские рейтинги жанров Action и Sports одинаковые.\n",
    "\n",
    "**Альтернативная гипотеза $Н_{1}$** - Средние пользовательские рейтинги жанров Action и Sports различаются. Альтернативная гипотеза снова двухсторонняя.\n",
    "\n",
    "\n",
    "Установим уровень значимости alpha таким же 0,05.\n"
   ]
  },
  {
   "cell_type": "code",
   "execution_count": 45,
   "metadata": {},
   "outputs": [
    {
     "name": "stdout",
     "output_type": "stream",
     "text": [
      "p-значение:  0.0\n",
      "Отвергаем нулевую гипотезу\n"
     ]
    }
   ],
   "source": [
    "alpha = 0.05 \n",
    "\n",
    "results = st.ttest_ind(df_four_years.query('genre == \"Action\" & user_score != 77')['user_score'], df_four_years.query('genre == \"Sports\" & user_score != 77')['user_score']) \n",
    "\n",
    "print('p-значение: ', results.pvalue.round(6))\n",
    "\n",
    "if (results.pvalue < alpha):\n",
    "    print(\"Отвергаем нулевую гипотезу\")\n",
    "else:\n",
    "    print(\"Не получилось отвергнуть нулевую гипотезу\")"
   ]
  },
  {
   "cell_type": "markdown",
   "metadata": {},
   "source": [
    "Вероятность такого события равна нулю или мала настолько, что близка к нулю. Мы можем отвергнуть нулевую гипотезу - средние пользовательские рейтинги жанров Action и Sports различаются."
   ]
  },
  {
   "cell_type": "markdown",
   "metadata": {},
   "source": [
    "## Общий вывод."
   ]
  },
  {
   "cell_type": "markdown",
   "metadata": {},
   "source": [
    "Провели исследование рынка компьютерных игр на основании данных о релизах и продажах за 1980-2016 годы.\n",
    "\n",
    "Пик релизов пришёлся на 2005-2012 годы, затем наметился небольшой спад.\n",
    "\n",
    "Жизненный цикл платформы в среднем составляет около 10 лет, при этом после 5-6 года начинается существенный спад. На текущий момент актуальны следующие платформы: *PS4*, *XOne*, *PC*, *3DS*, *PSV*. При выпуске новых игр следует ориентироваться на них, особенно на первые две платформы.\n",
    "\n",
    "Рейтинг пользователей никак не влияет на продажи, среди лидеров по количеству реализованных копий есть как игры с высокой оценкой, так и с оценками ниже среднего. При этом можно говорить о некоторой зависимости между величиной продаж и оценкой критиков: большинство высокотиражных игр имеют высокую оценку критиков. При начале продаж новых игр стоит обратить внимание на работу с критиками: предоставить им пробные версии, дать описание игр с указанием особенностей и т.д.\n",
    "\n",
    "Среди жанров абсолютным фаворитом является `Action`, также популярны `Role-Playing` и `Adventure`. При этом игр этих жанров нет в топе по продажам, они занимают лишь 7, 4 и 12 (места) места соответственно.\n",
    "\n",
    "По продажам же лидируют `Shooter`,`Sports` и `Platform`. которые находятся в середине рейтинга по количеству релизов. Здесь можно говорить о расхождении оценки популярности со стороны разработчиков и пользователей: разработчики выпускают не те жанры, которые актуальны и интересны пользователям. \n",
    "\n",
    "Игр в жанрах `Action`, `Role-Playing` и `Adventure` выпускается довольно много, конкуренция высока. При это они не пользуются большой популярностью. Стоит обратить внимание на жанры, которые хорошо продаются, но где не столь много релизов. При этом также могут действовать и другие участники рынка, поэтому данную информацию стоит периодически актуализировать.\n",
    "\n",
    "При анализе по регионам можно говорить, что Северная Америка и Европа очень похожи, а Япония существенно отличается:\n",
    "- в Японии медленнее внедряются новые платформы, это происходит с некоторой задержкой;\n",
    "- в Японии очень популярна платформа *3DS*, которая не пользуется спросом в других регионах;\n",
    "- по жанрам различия тоже заметны, но не столь сильно выражены: в СА и Европе абсолютно одинаковая первая пятерка лидеров, в Японии же в лидерах присутствуют схожие жанры, но их порядок и разрывы между ними отличаются. \n",
    "- в СА и Европе лидируют игры с возрастным рейтингом M («Mature»), в Японии же большинство игр без указания рейтинга - возможно это какие-то специфические местные продукты.\n",
    "\n",
    "\n",
    "Некоторое искажение в данные вносит то, что за 2016 год пока имеется не полная информация.\n",
    "\n",
    "\n",
    "Рассмотрели гипотезы о равенстве средних пользовательских рейтингов платформ Xbox One и PC, а также о равенстве средних пользовательских рейтингов жанров Action и Sports. Первую гипотезу не удалось отвергнуть, вероятность же второй близка к нулю.\n"
   ]
  }
 ],
 "metadata": {
  "ExecuteTimeLog": [
   {
    "duration": 1375,
    "start_time": "2021-07-05T16:07:50.816Z"
   },
   {
    "duration": 546,
    "start_time": "2021-07-05T16:07:53.023Z"
   },
   {
    "duration": 73,
    "start_time": "2021-07-05T16:08:20.786Z"
   },
   {
    "duration": 18,
    "start_time": "2021-07-05T16:10:37.698Z"
   },
   {
    "duration": 403,
    "start_time": "2021-07-05T16:11:16.070Z"
   },
   {
    "duration": 352,
    "start_time": "2021-07-05T16:11:36.451Z"
   },
   {
    "duration": 10,
    "start_time": "2021-07-05T16:12:32.284Z"
   },
   {
    "duration": 31,
    "start_time": "2021-07-05T16:18:13.355Z"
   },
   {
    "duration": 34,
    "start_time": "2021-07-05T16:21:20.872Z"
   },
   {
    "duration": 21,
    "start_time": "2021-07-05T16:27:12.238Z"
   },
   {
    "duration": 623,
    "start_time": "2021-07-05T16:44:28.951Z"
   },
   {
    "duration": 532,
    "start_time": "2021-07-05T16:56:20.057Z"
   },
   {
    "duration": 676,
    "start_time": "2021-07-05T16:57:00.713Z"
   },
   {
    "duration": 134,
    "start_time": "2021-07-05T17:04:54.378Z"
   },
   {
    "duration": 1849,
    "start_time": "2021-07-05T17:05:02.978Z"
   },
   {
    "duration": 8,
    "start_time": "2021-07-05T17:06:24.819Z"
   },
   {
    "duration": 12,
    "start_time": "2021-07-05T17:07:59.741Z"
   },
   {
    "duration": 3406,
    "start_time": "2021-07-05T17:08:01.062Z"
   },
   {
    "duration": 11,
    "start_time": "2021-07-05T17:08:44.134Z"
   },
   {
    "duration": 15,
    "start_time": "2021-07-05T17:09:53.296Z"
   },
   {
    "duration": 1923,
    "start_time": "2021-07-05T17:11:33.663Z"
   },
   {
    "duration": 1581,
    "start_time": "2021-07-05T17:12:02.835Z"
   },
   {
    "duration": 1546,
    "start_time": "2021-07-05T17:12:38.995Z"
   },
   {
    "duration": 3677,
    "start_time": "2021-07-05T17:13:03.900Z"
   },
   {
    "duration": 4865,
    "start_time": "2021-07-05T17:13:15.348Z"
   },
   {
    "duration": 16,
    "start_time": "2021-07-05T17:13:29.339Z"
   },
   {
    "duration": 9,
    "start_time": "2021-07-05T17:13:52.909Z"
   },
   {
    "duration": 295,
    "start_time": "2021-07-05T17:19:55.212Z"
   },
   {
    "duration": 517,
    "start_time": "2021-07-05T17:25:42.798Z"
   },
   {
    "duration": 702,
    "start_time": "2021-07-05T17:25:56.333Z"
   },
   {
    "duration": 91,
    "start_time": "2021-07-05T17:30:53.666Z"
   },
   {
    "duration": 590,
    "start_time": "2021-07-05T17:31:08.682Z"
   },
   {
    "duration": 700,
    "start_time": "2021-07-05T17:32:27.948Z"
   },
   {
    "duration": 1324,
    "start_time": "2021-07-05T17:32:53.203Z"
   },
   {
    "duration": 80,
    "start_time": "2021-07-05T17:32:54.530Z"
   },
   {
    "duration": 10,
    "start_time": "2021-07-05T17:32:54.613Z"
   },
   {
    "duration": 54,
    "start_time": "2021-07-05T17:32:54.626Z"
   },
   {
    "duration": 15,
    "start_time": "2021-07-05T17:32:54.683Z"
   },
   {
    "duration": 817,
    "start_time": "2021-07-05T17:32:54.700Z"
   },
   {
    "duration": -1498,
    "start_time": "2021-07-05T17:32:57.019Z"
   },
   {
    "duration": -1498,
    "start_time": "2021-07-05T17:32:57.022Z"
   },
   {
    "duration": -1500,
    "start_time": "2021-07-05T17:32:57.026Z"
   },
   {
    "duration": -1500,
    "start_time": "2021-07-05T17:32:57.028Z"
   },
   {
    "duration": 11,
    "start_time": "2021-07-05T17:33:11.678Z"
   },
   {
    "duration": 3506,
    "start_time": "2021-07-05T17:33:12.983Z"
   },
   {
    "duration": 5348,
    "start_time": "2021-07-05T17:33:21.255Z"
   },
   {
    "duration": -1500,
    "start_time": "2021-07-05T17:33:28.106Z"
   },
   {
    "duration": 9,
    "start_time": "2021-07-05T17:33:30.503Z"
   },
   {
    "duration": 671,
    "start_time": "2021-07-05T17:33:33.063Z"
   },
   {
    "duration": 1353,
    "start_time": "2021-07-05T17:46:33.079Z"
   },
   {
    "duration": 80,
    "start_time": "2021-07-05T17:46:34.435Z"
   },
   {
    "duration": 11,
    "start_time": "2021-07-05T17:46:34.518Z"
   },
   {
    "duration": 55,
    "start_time": "2021-07-05T17:46:34.533Z"
   },
   {
    "duration": 16,
    "start_time": "2021-07-05T17:46:34.591Z"
   },
   {
    "duration": 815,
    "start_time": "2021-07-05T17:46:34.610Z"
   },
   {
    "duration": -1479,
    "start_time": "2021-07-05T17:46:36.908Z"
   },
   {
    "duration": 11,
    "start_time": "2021-07-05T17:47:35.229Z"
   },
   {
    "duration": 2323,
    "start_time": "2021-07-05T17:47:37.932Z"
   },
   {
    "duration": 1391,
    "start_time": "2021-07-05T17:48:38.183Z"
   },
   {
    "duration": 89,
    "start_time": "2021-07-05T17:48:39.577Z"
   },
   {
    "duration": 14,
    "start_time": "2021-07-05T17:48:39.670Z"
   },
   {
    "duration": 74,
    "start_time": "2021-07-05T17:48:39.688Z"
   },
   {
    "duration": 24,
    "start_time": "2021-07-05T17:48:39.766Z"
   },
   {
    "duration": 16,
    "start_time": "2021-07-05T17:48:46.133Z"
   },
   {
    "duration": 2797,
    "start_time": "2021-07-05T17:48:47.470Z"
   },
   {
    "duration": 424,
    "start_time": "2021-07-05T17:50:14.711Z"
   },
   {
    "duration": 2944,
    "start_time": "2021-07-05T17:50:34.800Z"
   },
   {
    "duration": 1770,
    "start_time": "2021-07-05T17:50:53.459Z"
   },
   {
    "duration": 80,
    "start_time": "2021-07-05T17:50:55.232Z"
   },
   {
    "duration": 9,
    "start_time": "2021-07-05T17:50:55.315Z"
   },
   {
    "duration": 61,
    "start_time": "2021-07-05T17:50:55.326Z"
   },
   {
    "duration": 13,
    "start_time": "2021-07-05T17:51:01.338Z"
   },
   {
    "duration": 3177,
    "start_time": "2021-07-05T17:51:02.634Z"
   },
   {
    "duration": 2417,
    "start_time": "2021-07-05T17:51:42.389Z"
   },
   {
    "duration": 221,
    "start_time": "2021-07-06T07:44:27.304Z"
   },
   {
    "duration": 1051,
    "start_time": "2021-07-06T07:44:39.722Z"
   },
   {
    "duration": 64,
    "start_time": "2021-07-06T07:44:40.775Z"
   },
   {
    "duration": 7,
    "start_time": "2021-07-06T07:44:40.842Z"
   },
   {
    "duration": 40,
    "start_time": "2021-07-06T07:44:40.851Z"
   },
   {
    "duration": 12,
    "start_time": "2021-07-06T07:44:40.893Z"
   },
   {
    "duration": 8,
    "start_time": "2021-07-06T07:44:40.907Z"
   },
   {
    "duration": 1630,
    "start_time": "2021-07-06T07:44:40.917Z"
   },
   {
    "duration": 334,
    "start_time": "2021-07-06T07:44:42.550Z"
   },
   {
    "duration": -49,
    "start_time": "2021-07-06T07:44:42.936Z"
   },
   {
    "duration": -50,
    "start_time": "2021-07-06T07:44:42.939Z"
   },
   {
    "duration": 2533,
    "start_time": "2021-07-06T07:44:48.563Z"
   },
   {
    "duration": 18,
    "start_time": "2021-07-06T07:46:04.716Z"
   },
   {
    "duration": 25,
    "start_time": "2021-07-06T07:46:21.270Z"
   },
   {
    "duration": 1700,
    "start_time": "2021-07-06T07:48:41.131Z"
   },
   {
    "duration": 1243,
    "start_time": "2021-07-06T07:49:12.577Z"
   },
   {
    "duration": 10,
    "start_time": "2021-07-06T12:37:44.296Z"
   },
   {
    "duration": 22,
    "start_time": "2021-07-06T12:38:18.768Z"
   },
   {
    "duration": 27,
    "start_time": "2021-07-06T12:40:03.900Z"
   },
   {
    "duration": 202,
    "start_time": "2021-07-06T12:47:15.826Z"
   },
   {
    "duration": 25,
    "start_time": "2021-07-06T12:47:25.098Z"
   },
   {
    "duration": 31,
    "start_time": "2021-07-06T12:50:27.696Z"
   },
   {
    "duration": 174,
    "start_time": "2021-07-06T16:38:37.819Z"
   },
   {
    "duration": 177,
    "start_time": "2021-07-06T16:40:35.675Z"
   },
   {
    "duration": 3,
    "start_time": "2021-07-06T16:40:58.317Z"
   },
   {
    "duration": 228,
    "start_time": "2021-07-06T16:41:08.457Z"
   },
   {
    "duration": 31,
    "start_time": "2021-07-06T16:41:37.014Z"
   },
   {
    "duration": 11,
    "start_time": "2021-07-06T16:46:42.469Z"
   },
   {
    "duration": 1006,
    "start_time": "2021-07-06T16:47:02.668Z"
   },
   {
    "duration": 64,
    "start_time": "2021-07-06T16:47:03.676Z"
   },
   {
    "duration": 3,
    "start_time": "2021-07-06T16:47:03.743Z"
   },
   {
    "duration": 17,
    "start_time": "2021-07-06T16:47:07.958Z"
   },
   {
    "duration": 9,
    "start_time": "2021-07-06T16:48:16.823Z"
   },
   {
    "duration": 265,
    "start_time": "2021-07-06T16:58:53.007Z"
   },
   {
    "duration": 5,
    "start_time": "2021-07-06T16:59:02.285Z"
   },
   {
    "duration": 1118,
    "start_time": "2021-07-06T16:59:05.574Z"
   },
   {
    "duration": 23,
    "start_time": "2021-07-06T17:00:18.870Z"
   },
   {
    "duration": 23,
    "start_time": "2021-07-06T17:00:41.090Z"
   },
   {
    "duration": 23,
    "start_time": "2021-07-06T17:00:48.248Z"
   },
   {
    "duration": 25,
    "start_time": "2021-07-06T17:01:08.313Z"
   },
   {
    "duration": 31,
    "start_time": "2021-07-06T17:01:14.530Z"
   },
   {
    "duration": 3,
    "start_time": "2021-07-06T17:01:31.345Z"
   },
   {
    "duration": 4,
    "start_time": "2021-07-06T17:14:07.850Z"
   },
   {
    "duration": 17,
    "start_time": "2021-07-06T17:14:08.623Z"
   },
   {
    "duration": 10,
    "start_time": "2021-07-06T17:14:35.520Z"
   },
   {
    "duration": 10,
    "start_time": "2021-07-06T17:15:16.360Z"
   },
   {
    "duration": 14,
    "start_time": "2021-07-06T17:28:41.922Z"
   },
   {
    "duration": 184,
    "start_time": "2021-07-06T17:34:09.043Z"
   },
   {
    "duration": 186,
    "start_time": "2021-07-06T17:34:23.450Z"
   },
   {
    "duration": 6,
    "start_time": "2021-07-06T17:37:03.354Z"
   },
   {
    "duration": 7,
    "start_time": "2021-07-06T17:37:24.563Z"
   },
   {
    "duration": 4,
    "start_time": "2021-07-06T17:43:40.453Z"
   },
   {
    "duration": 10,
    "start_time": "2021-07-06T17:43:42.252Z"
   },
   {
    "duration": 19,
    "start_time": "2021-07-06T17:44:03.604Z"
   },
   {
    "duration": 1351,
    "start_time": "2021-07-07T08:18:42.770Z"
   },
   {
    "duration": 80,
    "start_time": "2021-07-07T08:18:45.873Z"
   },
   {
    "duration": 5,
    "start_time": "2021-07-07T08:37:26.624Z"
   },
   {
    "duration": 66,
    "start_time": "2021-07-07T08:37:30.056Z"
   },
   {
    "duration": 11,
    "start_time": "2021-07-07T08:49:59.357Z"
   },
   {
    "duration": 1580,
    "start_time": "2021-07-07T08:55:11.094Z"
   },
   {
    "duration": 18,
    "start_time": "2021-07-07T08:55:27.445Z"
   },
   {
    "duration": 18,
    "start_time": "2021-07-07T08:55:58.926Z"
   },
   {
    "duration": 9,
    "start_time": "2021-07-07T08:56:37.423Z"
   },
   {
    "duration": 20,
    "start_time": "2021-07-07T08:57:07.577Z"
   },
   {
    "duration": 33,
    "start_time": "2021-07-07T09:00:43.670Z"
   },
   {
    "duration": 36,
    "start_time": "2021-07-07T09:01:21.090Z"
   },
   {
    "duration": 31,
    "start_time": "2021-07-07T09:13:39.211Z"
   },
   {
    "duration": 38,
    "start_time": "2021-07-07T09:14:18.235Z"
   },
   {
    "duration": 18,
    "start_time": "2021-07-07T09:16:12.500Z"
   },
   {
    "duration": 407,
    "start_time": "2021-07-07T09:24:12.945Z"
   },
   {
    "duration": 1333,
    "start_time": "2021-07-07T09:36:13.472Z"
   },
   {
    "duration": 82,
    "start_time": "2021-07-07T09:36:14.807Z"
   },
   {
    "duration": 5,
    "start_time": "2021-07-07T09:36:14.894Z"
   },
   {
    "duration": 30,
    "start_time": "2021-07-07T09:36:14.902Z"
   },
   {
    "duration": 31,
    "start_time": "2021-07-07T09:36:14.935Z"
   },
   {
    "duration": 1621,
    "start_time": "2021-07-07T09:36:14.968Z"
   },
   {
    "duration": 18,
    "start_time": "2021-07-07T09:36:16.592Z"
   },
   {
    "duration": 433,
    "start_time": "2021-07-07T09:36:25.621Z"
   },
   {
    "duration": 364,
    "start_time": "2021-07-07T09:37:38.813Z"
   },
   {
    "duration": 398,
    "start_time": "2021-07-07T09:38:11.605Z"
   },
   {
    "duration": 328,
    "start_time": "2021-07-07T09:39:31.504Z"
   },
   {
    "duration": 376,
    "start_time": "2021-07-07T09:39:56.895Z"
   },
   {
    "duration": 28,
    "start_time": "2021-07-07T09:41:23.049Z"
   },
   {
    "duration": 1336,
    "start_time": "2021-07-07T09:41:47.873Z"
   },
   {
    "duration": 82,
    "start_time": "2021-07-07T09:41:49.212Z"
   },
   {
    "duration": 4,
    "start_time": "2021-07-07T09:41:49.298Z"
   },
   {
    "duration": 50,
    "start_time": "2021-07-07T09:41:49.305Z"
   },
   {
    "duration": 11,
    "start_time": "2021-07-07T09:41:49.358Z"
   },
   {
    "duration": 1666,
    "start_time": "2021-07-07T09:41:49.371Z"
   },
   {
    "duration": 17,
    "start_time": "2021-07-07T09:42:01.428Z"
   },
   {
    "duration": 27,
    "start_time": "2021-07-07T09:42:04.261Z"
   },
   {
    "duration": 42,
    "start_time": "2021-07-07T09:42:36.592Z"
   },
   {
    "duration": 1361,
    "start_time": "2021-07-07T11:17:25.245Z"
   },
   {
    "duration": 92,
    "start_time": "2021-07-07T11:17:26.609Z"
   },
   {
    "duration": 5,
    "start_time": "2021-07-07T11:17:26.704Z"
   },
   {
    "duration": 33,
    "start_time": "2021-07-07T11:17:26.712Z"
   },
   {
    "duration": 15,
    "start_time": "2021-07-07T11:17:26.747Z"
   },
   {
    "duration": 1729,
    "start_time": "2021-07-07T11:17:26.765Z"
   },
   {
    "duration": 17,
    "start_time": "2021-07-07T11:17:28.497Z"
   },
   {
    "duration": 19,
    "start_time": "2021-07-07T11:17:36.037Z"
   },
   {
    "duration": 10,
    "start_time": "2021-07-07T11:17:39.620Z"
   },
   {
    "duration": 22,
    "start_time": "2021-07-07T11:17:47.173Z"
   },
   {
    "duration": 39,
    "start_time": "2021-07-07T11:17:52.109Z"
   },
   {
    "duration": 9,
    "start_time": "2021-07-07T11:28:19.131Z"
   },
   {
    "duration": 7,
    "start_time": "2021-07-07T11:31:48.991Z"
   },
   {
    "duration": 9,
    "start_time": "2021-07-07T11:34:07.497Z"
   },
   {
    "duration": 29,
    "start_time": "2021-07-07T13:53:56.472Z"
   },
   {
    "duration": 49,
    "start_time": "2021-07-07T13:54:30.391Z"
   },
   {
    "duration": 48,
    "start_time": "2021-07-07T14:06:16.957Z"
   },
   {
    "duration": 1383,
    "start_time": "2021-07-07T14:08:14.224Z"
   },
   {
    "duration": 91,
    "start_time": "2021-07-07T14:08:15.610Z"
   },
   {
    "duration": 5,
    "start_time": "2021-07-07T14:08:15.705Z"
   },
   {
    "duration": 65,
    "start_time": "2021-07-07T14:08:15.713Z"
   },
   {
    "duration": 15,
    "start_time": "2021-07-07T14:10:20.028Z"
   },
   {
    "duration": 13,
    "start_time": "2021-07-07T14:10:47.750Z"
   },
   {
    "duration": 26,
    "start_time": "2021-07-07T14:11:13.342Z"
   },
   {
    "duration": 26,
    "start_time": "2021-07-07T14:11:34.222Z"
   },
   {
    "duration": 19,
    "start_time": "2021-07-07T14:13:46.882Z"
   },
   {
    "duration": 17,
    "start_time": "2021-07-07T14:14:42.482Z"
   },
   {
    "duration": 4,
    "start_time": "2021-07-07T14:22:04.429Z"
   },
   {
    "duration": 88,
    "start_time": "2021-07-07T14:22:04.440Z"
   },
   {
    "duration": 67,
    "start_time": "2021-07-07T14:22:04.532Z"
   },
   {
    "duration": 5,
    "start_time": "2021-07-07T14:22:04.603Z"
   },
   {
    "duration": 51,
    "start_time": "2021-07-07T14:22:04.611Z"
   },
   {
    "duration": 12,
    "start_time": "2021-07-07T14:22:04.665Z"
   },
   {
    "duration": 1620,
    "start_time": "2021-07-07T14:22:04.680Z"
   },
   {
    "duration": 20,
    "start_time": "2021-07-07T14:22:06.303Z"
   },
   {
    "duration": 45,
    "start_time": "2021-07-07T14:22:06.327Z"
   },
   {
    "duration": 10,
    "start_time": "2021-07-07T14:22:06.375Z"
   },
   {
    "duration": 26,
    "start_time": "2021-07-07T14:22:06.388Z"
   },
   {
    "duration": 41,
    "start_time": "2021-07-07T14:22:06.417Z"
   },
   {
    "duration": 22,
    "start_time": "2021-07-07T14:22:06.461Z"
   },
   {
    "duration": 21,
    "start_time": "2021-07-07T14:25:21.819Z"
   },
   {
    "duration": 1468,
    "start_time": "2021-07-07T14:25:54.087Z"
   },
   {
    "duration": 86,
    "start_time": "2021-07-07T14:25:55.558Z"
   },
   {
    "duration": 55,
    "start_time": "2021-07-07T14:25:55.647Z"
   },
   {
    "duration": 4,
    "start_time": "2021-07-07T14:25:55.705Z"
   },
   {
    "duration": 61,
    "start_time": "2021-07-07T14:25:55.711Z"
   },
   {
    "duration": 11,
    "start_time": "2021-07-07T14:25:55.774Z"
   },
   {
    "duration": 1809,
    "start_time": "2021-07-07T14:25:55.788Z"
   },
   {
    "duration": 17,
    "start_time": "2021-07-07T14:25:57.601Z"
   },
   {
    "duration": 51,
    "start_time": "2021-07-07T14:25:57.621Z"
   },
   {
    "duration": 9,
    "start_time": "2021-07-07T14:25:57.674Z"
   },
   {
    "duration": 42,
    "start_time": "2021-07-07T14:25:57.685Z"
   },
   {
    "duration": 17,
    "start_time": "2021-07-07T14:25:57.730Z"
   },
   {
    "duration": 34,
    "start_time": "2021-07-07T14:25:57.749Z"
   },
   {
    "duration": 33,
    "start_time": "2021-07-07T14:27:24.238Z"
   },
   {
    "duration": 10,
    "start_time": "2021-07-07T16:05:54.796Z"
   },
   {
    "duration": 403,
    "start_time": "2021-07-07T16:07:24.346Z"
   },
   {
    "duration": 398,
    "start_time": "2021-07-07T16:08:35.059Z"
   },
   {
    "duration": 50,
    "start_time": "2021-07-07T16:28:08.919Z"
   },
   {
    "duration": 544,
    "start_time": "2021-07-07T16:33:09.968Z"
   },
   {
    "duration": 600,
    "start_time": "2021-07-07T16:33:38.593Z"
   },
   {
    "duration": 546,
    "start_time": "2021-07-07T16:33:49.233Z"
   },
   {
    "duration": 1019,
    "start_time": "2021-07-09T06:32:18.991Z"
   },
   {
    "duration": 58,
    "start_time": "2021-07-09T06:32:20.012Z"
   },
   {
    "duration": 28,
    "start_time": "2021-07-09T06:32:20.072Z"
   },
   {
    "duration": 3,
    "start_time": "2021-07-09T06:32:20.101Z"
   },
   {
    "duration": 19,
    "start_time": "2021-07-09T06:32:20.106Z"
   },
   {
    "duration": 9,
    "start_time": "2021-07-09T06:32:20.142Z"
   },
   {
    "duration": 1093,
    "start_time": "2021-07-09T06:32:20.153Z"
   },
   {
    "duration": 15,
    "start_time": "2021-07-09T06:32:21.249Z"
   },
   {
    "duration": 11,
    "start_time": "2021-07-09T06:32:21.266Z"
   },
   {
    "duration": 6,
    "start_time": "2021-07-09T06:32:21.278Z"
   },
   {
    "duration": 16,
    "start_time": "2021-07-09T06:32:21.285Z"
   },
   {
    "duration": 5,
    "start_time": "2021-07-09T06:32:21.303Z"
   },
   {
    "duration": 47,
    "start_time": "2021-07-09T06:32:21.309Z"
   },
   {
    "duration": 14,
    "start_time": "2021-07-09T06:32:21.357Z"
   },
   {
    "duration": 6,
    "start_time": "2021-07-09T06:32:21.372Z"
   },
   {
    "duration": 246,
    "start_time": "2021-07-09T06:32:21.380Z"
   },
   {
    "duration": 290,
    "start_time": "2021-07-09T06:32:41.734Z"
   },
   {
    "duration": 197,
    "start_time": "2021-07-09T06:39:50.866Z"
   },
   {
    "duration": 209,
    "start_time": "2021-07-09T06:40:26.132Z"
   },
   {
    "duration": 532,
    "start_time": "2021-07-09T06:41:32.817Z"
   },
   {
    "duration": 97,
    "start_time": "2021-07-09T06:52:23.332Z"
   },
   {
    "duration": 9,
    "start_time": "2021-07-09T06:52:43.126Z"
   },
   {
    "duration": 8,
    "start_time": "2021-07-09T06:52:56.879Z"
   },
   {
    "duration": 8,
    "start_time": "2021-07-09T06:53:40.719Z"
   },
   {
    "duration": 287,
    "start_time": "2021-07-09T06:54:07.304Z"
   },
   {
    "duration": 14,
    "start_time": "2021-07-09T07:02:48.057Z"
   },
   {
    "duration": 14,
    "start_time": "2021-07-09T07:03:27.644Z"
   },
   {
    "duration": 442,
    "start_time": "2021-07-09T07:03:51.858Z"
   },
   {
    "duration": 9,
    "start_time": "2021-07-09T07:18:25.128Z"
   },
   {
    "duration": 10,
    "start_time": "2021-07-09T07:18:48.475Z"
   },
   {
    "duration": 215,
    "start_time": "2021-07-09T07:19:15.836Z"
   },
   {
    "duration": 747,
    "start_time": "2021-07-09T07:20:33.039Z"
   },
   {
    "duration": 753,
    "start_time": "2021-07-09T07:21:11.790Z"
   },
   {
    "duration": 177,
    "start_time": "2021-07-09T07:21:22.488Z"
   },
   {
    "duration": 9,
    "start_time": "2021-07-09T07:22:36.513Z"
   },
   {
    "duration": 276,
    "start_time": "2021-07-09T07:26:29.819Z"
   },
   {
    "duration": 344,
    "start_time": "2021-07-09T07:27:16.951Z"
   },
   {
    "duration": 338,
    "start_time": "2021-07-09T07:28:03.143Z"
   },
   {
    "duration": 240,
    "start_time": "2021-07-09T07:28:31.304Z"
   },
   {
    "duration": 23,
    "start_time": "2021-07-09T07:29:38.616Z"
   },
   {
    "duration": 251,
    "start_time": "2021-07-09T07:32:27.948Z"
   },
   {
    "duration": 273,
    "start_time": "2021-07-09T07:42:51.244Z"
   },
   {
    "duration": 262,
    "start_time": "2021-07-09T07:43:50.273Z"
   },
   {
    "duration": 518,
    "start_time": "2021-07-09T07:49:44.664Z"
   },
   {
    "duration": 608,
    "start_time": "2021-07-09T07:49:58.657Z"
   },
   {
    "duration": 95,
    "start_time": "2021-07-09T07:51:24.974Z"
   },
   {
    "duration": 291,
    "start_time": "2021-07-09T07:51:33.617Z"
   },
   {
    "duration": 248,
    "start_time": "2021-07-09T07:52:38.467Z"
   },
   {
    "duration": 265,
    "start_time": "2021-07-09T07:52:57.419Z"
   },
   {
    "duration": 208,
    "start_time": "2021-07-09T08:10:15.840Z"
   },
   {
    "duration": 107,
    "start_time": "2021-07-09T08:33:31.938Z"
   },
   {
    "duration": 258,
    "start_time": "2021-07-09T08:33:56.189Z"
   },
   {
    "duration": 249,
    "start_time": "2021-07-09T08:34:23.517Z"
   },
   {
    "duration": 257,
    "start_time": "2021-07-09T08:34:35.996Z"
   },
   {
    "duration": 243,
    "start_time": "2021-07-09T08:34:57.366Z"
   },
   {
    "duration": 249,
    "start_time": "2021-07-09T08:35:05.492Z"
   },
   {
    "duration": 265,
    "start_time": "2021-07-09T08:35:15.053Z"
   },
   {
    "duration": 355,
    "start_time": "2021-07-09T08:35:53.686Z"
   },
   {
    "duration": 238,
    "start_time": "2021-07-09T08:42:45.598Z"
   },
   {
    "duration": 274,
    "start_time": "2021-07-09T08:43:32.150Z"
   },
   {
    "duration": 270,
    "start_time": "2021-07-09T08:46:04.833Z"
   },
   {
    "duration": 195,
    "start_time": "2021-07-09T08:54:48.363Z"
   },
   {
    "duration": 192,
    "start_time": "2021-07-09T08:56:33.878Z"
   },
   {
    "duration": 344,
    "start_time": "2021-07-09T09:00:32.378Z"
   },
   {
    "duration": 379,
    "start_time": "2021-07-09T09:00:50.186Z"
   },
   {
    "duration": 468,
    "start_time": "2021-07-09T09:01:03.378Z"
   },
   {
    "duration": 300,
    "start_time": "2021-07-09T09:02:07.068Z"
   },
   {
    "duration": 366,
    "start_time": "2021-07-09T09:02:22.188Z"
   },
   {
    "duration": 313,
    "start_time": "2021-07-09T09:03:12.246Z"
   },
   {
    "duration": 322,
    "start_time": "2021-07-09T09:03:24.830Z"
   },
   {
    "duration": 287,
    "start_time": "2021-07-09T09:15:15.269Z"
   },
   {
    "duration": 246,
    "start_time": "2021-07-09T09:15:25.884Z"
   },
   {
    "duration": 237,
    "start_time": "2021-07-09T09:15:31.036Z"
   },
   {
    "duration": 10,
    "start_time": "2021-07-09T09:58:22.501Z"
   },
   {
    "duration": 312,
    "start_time": "2021-07-09T10:02:35.548Z"
   },
   {
    "duration": 388,
    "start_time": "2021-07-09T10:03:25.613Z"
   },
   {
    "duration": 28,
    "start_time": "2021-07-09T10:04:08.246Z"
   },
   {
    "duration": 24,
    "start_time": "2021-07-09T10:05:00.002Z"
   },
   {
    "duration": 259,
    "start_time": "2021-07-09T10:05:05.318Z"
   },
   {
    "duration": 9038,
    "start_time": "2021-07-09T10:13:12.278Z"
   },
   {
    "duration": 9309,
    "start_time": "2021-07-09T10:13:24.207Z"
   },
   {
    "duration": 18,
    "start_time": "2021-07-09T10:14:00.052Z"
   },
   {
    "duration": 9200,
    "start_time": "2021-07-09T10:14:03.689Z"
   },
   {
    "duration": 268,
    "start_time": "2021-07-09T10:35:34.578Z"
   },
   {
    "duration": 719,
    "start_time": "2021-07-09T10:35:40.889Z"
   },
   {
    "duration": 461,
    "start_time": "2021-07-09T10:35:58.122Z"
   },
   {
    "duration": 411,
    "start_time": "2021-07-09T10:36:32.467Z"
   },
   {
    "duration": 1464,
    "start_time": "2021-07-10T13:45:38.070Z"
   },
   {
    "duration": 88,
    "start_time": "2021-07-10T13:45:39.537Z"
   },
   {
    "duration": 62,
    "start_time": "2021-07-10T13:45:39.629Z"
   },
   {
    "duration": 5,
    "start_time": "2021-07-10T13:45:39.695Z"
   },
   {
    "duration": 25,
    "start_time": "2021-07-10T13:45:39.703Z"
   },
   {
    "duration": 39,
    "start_time": "2021-07-10T13:45:39.730Z"
   },
   {
    "duration": 1669,
    "start_time": "2021-07-10T13:45:39.772Z"
   },
   {
    "duration": 28,
    "start_time": "2021-07-10T13:45:41.445Z"
   },
   {
    "duration": 17,
    "start_time": "2021-07-10T13:45:41.476Z"
   },
   {
    "duration": 10,
    "start_time": "2021-07-10T13:45:41.496Z"
   },
   {
    "duration": 22,
    "start_time": "2021-07-10T13:45:41.508Z"
   },
   {
    "duration": 39,
    "start_time": "2021-07-10T13:45:41.532Z"
   },
   {
    "duration": 29,
    "start_time": "2021-07-10T13:45:41.574Z"
   },
   {
    "duration": 26,
    "start_time": "2021-07-10T13:45:41.606Z"
   },
   {
    "duration": 40,
    "start_time": "2021-07-10T13:45:41.635Z"
   },
   {
    "duration": 418,
    "start_time": "2021-07-10T13:45:41.677Z"
   },
   {
    "duration": 625,
    "start_time": "2021-07-10T13:45:42.098Z"
   },
   {
    "duration": 544,
    "start_time": "2021-07-10T13:45:42.726Z"
   },
   {
    "duration": 481,
    "start_time": "2021-07-10T13:45:43.273Z"
   },
   {
    "duration": 481,
    "start_time": "2021-07-10T13:45:43.757Z"
   },
   {
    "duration": 388,
    "start_time": "2021-07-10T13:45:44.240Z"
   },
   {
    "duration": 455,
    "start_time": "2021-07-10T13:45:44.630Z"
   },
   {
    "duration": 521,
    "start_time": "2021-07-10T13:45:45.089Z"
   },
   {
    "duration": 15,
    "start_time": "2021-07-10T13:45:45.612Z"
   },
   {
    "duration": 3,
    "start_time": "2021-07-10T13:45:45.629Z"
   },
   {
    "duration": 788,
    "start_time": "2021-07-10T13:45:45.635Z"
   },
   {
    "duration": 8,
    "start_time": "2021-07-10T13:45:46.425Z"
   },
   {
    "duration": 99,
    "start_time": "2021-07-10T13:46:45.173Z"
   },
   {
    "duration": 453,
    "start_time": "2021-07-10T13:46:54.708Z"
   },
   {
    "duration": 372,
    "start_time": "2021-07-10T13:48:16.287Z"
   },
   {
    "duration": 473,
    "start_time": "2021-07-10T13:49:40.997Z"
   },
   {
    "duration": 904,
    "start_time": "2021-07-10T13:50:10.769Z"
   },
   {
    "duration": 370,
    "start_time": "2021-07-10T13:50:42.681Z"
   },
   {
    "duration": 374,
    "start_time": "2021-07-10T13:51:08.986Z"
   },
   {
    "duration": 424,
    "start_time": "2021-07-10T13:56:07.232Z"
   },
   {
    "duration": 869,
    "start_time": "2021-07-10T14:00:17.277Z"
   },
   {
    "duration": 394,
    "start_time": "2021-07-10T14:00:27.950Z"
   },
   {
    "duration": 460,
    "start_time": "2021-07-10T14:00:40.088Z"
   },
   {
    "duration": 835,
    "start_time": "2021-07-10T14:02:42.698Z"
   },
   {
    "duration": 743,
    "start_time": "2021-07-10T14:02:57.968Z"
   },
   {
    "duration": 757,
    "start_time": "2021-07-10T14:05:09.315Z"
   },
   {
    "duration": 960,
    "start_time": "2021-07-10T14:06:18.678Z"
   },
   {
    "duration": 709,
    "start_time": "2021-07-10T14:09:49.288Z"
   },
   {
    "duration": 765,
    "start_time": "2021-07-10T14:10:24.217Z"
   },
   {
    "duration": 826,
    "start_time": "2021-07-10T14:12:28.395Z"
   },
   {
    "duration": 971,
    "start_time": "2021-07-10T14:13:33.184Z"
   },
   {
    "duration": 507,
    "start_time": "2021-07-10T14:16:49.532Z"
   },
   {
    "duration": 477,
    "start_time": "2021-07-10T14:17:06.993Z"
   },
   {
    "duration": 514,
    "start_time": "2021-07-10T14:22:16.815Z"
   },
   {
    "duration": 500,
    "start_time": "2021-07-10T14:23:03.016Z"
   },
   {
    "duration": 512,
    "start_time": "2021-07-10T14:24:07.674Z"
   },
   {
    "duration": 791,
    "start_time": "2021-07-10T14:26:19.344Z"
   },
   {
    "duration": 854,
    "start_time": "2021-07-10T14:26:35.132Z"
   },
   {
    "duration": 1312,
    "start_time": "2021-07-10T14:27:46.389Z"
   },
   {
    "duration": 768,
    "start_time": "2021-07-10T14:27:56.550Z"
   },
   {
    "duration": 746,
    "start_time": "2021-07-10T14:30:51.125Z"
   },
   {
    "duration": 772,
    "start_time": "2021-07-10T14:31:03.195Z"
   },
   {
    "duration": 770,
    "start_time": "2021-07-10T14:45:08.986Z"
   },
   {
    "duration": 908,
    "start_time": "2021-07-10T14:45:25.883Z"
   },
   {
    "duration": 466,
    "start_time": "2021-07-10T14:52:40.379Z"
   },
   {
    "duration": 1158,
    "start_time": "2021-07-10T14:55:12.877Z"
   },
   {
    "duration": 986,
    "start_time": "2021-07-10T14:56:44.249Z"
   },
   {
    "duration": 931,
    "start_time": "2021-07-10T14:57:30.914Z"
   },
   {
    "duration": 722,
    "start_time": "2021-07-10T14:58:36.035Z"
   },
   {
    "duration": 1087,
    "start_time": "2021-07-10T15:09:58.893Z"
   },
   {
    "duration": 2757,
    "start_time": "2021-07-10T15:10:19.002Z"
   },
   {
    "duration": 813,
    "start_time": "2021-07-10T15:10:30.402Z"
   },
   {
    "duration": 780,
    "start_time": "2021-07-10T15:10:40.065Z"
   },
   {
    "duration": 817,
    "start_time": "2021-07-10T15:11:08.010Z"
   },
   {
    "duration": 700,
    "start_time": "2021-07-10T15:11:36.154Z"
   },
   {
    "duration": 1403,
    "start_time": "2021-07-10T15:12:06.936Z"
   },
   {
    "duration": 82,
    "start_time": "2021-07-10T15:12:08.342Z"
   },
   {
    "duration": 62,
    "start_time": "2021-07-10T15:12:08.428Z"
   },
   {
    "duration": 5,
    "start_time": "2021-07-10T15:12:08.494Z"
   },
   {
    "duration": 25,
    "start_time": "2021-07-10T15:12:08.502Z"
   },
   {
    "duration": 46,
    "start_time": "2021-07-10T15:12:08.530Z"
   },
   {
    "duration": 1638,
    "start_time": "2021-07-10T15:12:08.579Z"
   },
   {
    "duration": 18,
    "start_time": "2021-07-10T15:12:10.223Z"
   },
   {
    "duration": 38,
    "start_time": "2021-07-10T15:12:10.245Z"
   },
   {
    "duration": 8,
    "start_time": "2021-07-10T15:12:10.286Z"
   },
   {
    "duration": 20,
    "start_time": "2021-07-10T15:12:10.297Z"
   },
   {
    "duration": 8,
    "start_time": "2021-07-10T15:12:10.319Z"
   },
   {
    "duration": 20,
    "start_time": "2021-07-10T15:12:10.368Z"
   },
   {
    "duration": 24,
    "start_time": "2021-07-10T15:12:10.390Z"
   },
   {
    "duration": 10,
    "start_time": "2021-07-10T15:12:10.416Z"
   },
   {
    "duration": 444,
    "start_time": "2021-07-10T15:12:10.428Z"
   },
   {
    "duration": 608,
    "start_time": "2021-07-10T15:12:10.874Z"
   },
   {
    "duration": 547,
    "start_time": "2021-07-10T15:12:11.484Z"
   },
   {
    "duration": 491,
    "start_time": "2021-07-10T15:12:12.033Z"
   },
   {
    "duration": 487,
    "start_time": "2021-07-10T15:12:12.526Z"
   },
   {
    "duration": 398,
    "start_time": "2021-07-10T15:12:13.016Z"
   },
   {
    "duration": 458,
    "start_time": "2021-07-10T15:12:13.417Z"
   },
   {
    "duration": 531,
    "start_time": "2021-07-10T15:12:13.880Z"
   },
   {
    "duration": 15,
    "start_time": "2021-07-10T15:12:14.414Z"
   },
   {
    "duration": 3,
    "start_time": "2021-07-10T15:12:14.432Z"
   },
   {
    "duration": 793,
    "start_time": "2021-07-10T15:12:14.437Z"
   },
   {
    "duration": 7,
    "start_time": "2021-07-10T15:12:15.232Z"
   },
   {
    "duration": 470,
    "start_time": "2021-07-10T15:12:15.242Z"
   },
   {
    "duration": 820,
    "start_time": "2021-07-10T15:12:15.715Z"
   },
   {
    "duration": 847,
    "start_time": "2021-07-10T15:12:16.569Z"
   },
   {
    "duration": 539,
    "start_time": "2021-07-10T15:12:20.724Z"
   },
   {
    "duration": 789,
    "start_time": "2021-07-10T15:12:37.380Z"
   },
   {
    "duration": 796,
    "start_time": "2021-07-10T15:12:49.485Z"
   },
   {
    "duration": 758,
    "start_time": "2021-07-10T15:14:23.717Z"
   },
   {
    "duration": 717,
    "start_time": "2021-07-10T15:14:54.750Z"
   },
   {
    "duration": 719,
    "start_time": "2021-07-10T15:17:24.178Z"
   },
   {
    "duration": 807,
    "start_time": "2021-07-10T15:18:22.714Z"
   },
   {
    "duration": 792,
    "start_time": "2021-07-10T15:18:44.051Z"
   },
   {
    "duration": 731,
    "start_time": "2021-07-10T15:20:34.326Z"
   },
   {
    "duration": 25,
    "start_time": "2021-07-10T15:21:24.213Z"
   },
   {
    "duration": 25,
    "start_time": "2021-07-10T15:22:26.574Z"
   },
   {
    "duration": 24,
    "start_time": "2021-07-10T15:22:48.098Z"
   },
   {
    "duration": 26,
    "start_time": "2021-07-10T15:23:26.633Z"
   },
   {
    "duration": 26,
    "start_time": "2021-07-10T15:23:36.386Z"
   },
   {
    "duration": 27,
    "start_time": "2021-07-10T15:23:47.041Z"
   },
   {
    "duration": 27,
    "start_time": "2021-07-10T15:24:01.130Z"
   },
   {
    "duration": 37,
    "start_time": "2021-07-10T15:24:08.490Z"
   },
   {
    "duration": 25,
    "start_time": "2021-07-10T15:25:16.212Z"
   },
   {
    "duration": 1057,
    "start_time": "2021-07-10T15:26:05.931Z"
   },
   {
    "duration": 921,
    "start_time": "2021-07-10T15:26:23.603Z"
   },
   {
    "duration": 825,
    "start_time": "2021-07-10T15:26:54.742Z"
   },
   {
    "duration": 709,
    "start_time": "2021-07-10T15:27:40.293Z"
   },
   {
    "duration": 508,
    "start_time": "2021-07-10T15:29:02.087Z"
   },
   {
    "duration": 1043,
    "start_time": "2021-07-10T15:31:36.066Z"
   },
   {
    "duration": 848,
    "start_time": "2021-07-10T15:32:58.132Z"
   },
   {
    "duration": 843,
    "start_time": "2021-07-10T15:33:28.348Z"
   },
   {
    "duration": 1073,
    "start_time": "2021-07-10T15:33:43.668Z"
   },
   {
    "duration": 715,
    "start_time": "2021-07-10T15:34:26.670Z"
   },
   {
    "duration": 541,
    "start_time": "2021-07-10T15:37:51.826Z"
   },
   {
    "duration": 842,
    "start_time": "2021-07-10T15:39:10.932Z"
   },
   {
    "duration": 958,
    "start_time": "2021-07-10T15:39:21.198Z"
   },
   {
    "duration": 831,
    "start_time": "2021-07-10T15:39:47.828Z"
   },
   {
    "duration": 788,
    "start_time": "2021-07-10T15:40:13.333Z"
   },
   {
    "duration": 732,
    "start_time": "2021-07-10T15:41:53.550Z"
   },
   {
    "duration": 922,
    "start_time": "2021-07-10T15:42:04.390Z"
   },
   {
    "duration": 1338,
    "start_time": "2021-07-10T15:43:26.605Z"
   },
   {
    "duration": 82,
    "start_time": "2021-07-10T15:43:27.945Z"
   },
   {
    "duration": 60,
    "start_time": "2021-07-10T15:43:28.029Z"
   },
   {
    "duration": 4,
    "start_time": "2021-07-10T15:43:28.092Z"
   },
   {
    "duration": 24,
    "start_time": "2021-07-10T15:43:28.099Z"
   },
   {
    "duration": 11,
    "start_time": "2021-07-10T15:43:28.126Z"
   },
   {
    "duration": 1657,
    "start_time": "2021-07-10T15:43:28.168Z"
   },
   {
    "duration": 16,
    "start_time": "2021-07-10T15:43:29.829Z"
   },
   {
    "duration": 35,
    "start_time": "2021-07-10T15:43:29.848Z"
   },
   {
    "duration": 10,
    "start_time": "2021-07-10T15:43:29.886Z"
   },
   {
    "duration": 33,
    "start_time": "2021-07-10T15:43:29.899Z"
   },
   {
    "duration": 38,
    "start_time": "2021-07-10T15:43:29.935Z"
   },
   {
    "duration": 28,
    "start_time": "2021-07-10T15:43:29.976Z"
   },
   {
    "duration": 24,
    "start_time": "2021-07-10T15:43:30.007Z"
   },
   {
    "duration": 44,
    "start_time": "2021-07-10T15:43:30.033Z"
   },
   {
    "duration": 533,
    "start_time": "2021-07-10T15:43:30.080Z"
   },
   {
    "duration": 628,
    "start_time": "2021-07-10T15:43:30.616Z"
   },
   {
    "duration": 571,
    "start_time": "2021-07-10T15:43:31.248Z"
   },
   {
    "duration": 519,
    "start_time": "2021-07-10T15:43:31.822Z"
   },
   {
    "duration": 486,
    "start_time": "2021-07-10T15:43:32.344Z"
   },
   {
    "duration": 407,
    "start_time": "2021-07-10T15:43:32.833Z"
   },
   {
    "duration": 457,
    "start_time": "2021-07-10T15:43:33.243Z"
   },
   {
    "duration": 546,
    "start_time": "2021-07-10T15:43:33.706Z"
   },
   {
    "duration": 25,
    "start_time": "2021-07-10T15:43:34.256Z"
   },
   {
    "duration": 4,
    "start_time": "2021-07-10T15:43:34.284Z"
   },
   {
    "duration": 792,
    "start_time": "2021-07-10T15:43:34.291Z"
   },
   {
    "duration": 8,
    "start_time": "2021-07-10T15:43:35.086Z"
   },
   {
    "duration": 444,
    "start_time": "2021-07-10T15:43:35.097Z"
   },
   {
    "duration": 776,
    "start_time": "2021-07-10T15:43:35.543Z"
   },
   {
    "duration": 739,
    "start_time": "2021-07-10T15:43:39.923Z"
   },
   {
    "duration": 892,
    "start_time": "2021-07-10T15:44:16.180Z"
   },
   {
    "duration": 489,
    "start_time": "2021-07-10T15:46:10.062Z"
   },
   {
    "duration": 404,
    "start_time": "2021-07-10T15:46:22.590Z"
   },
   {
    "duration": 527,
    "start_time": "2021-07-10T15:46:30.927Z"
   },
   {
    "duration": 503,
    "start_time": "2021-07-10T15:47:35.168Z"
   },
   {
    "duration": 603,
    "start_time": "2021-07-10T15:48:24.264Z"
   },
   {
    "duration": 882,
    "start_time": "2021-07-10T15:48:58.751Z"
   },
   {
    "duration": 512,
    "start_time": "2021-07-10T15:50:08.499Z"
   },
   {
    "duration": 514,
    "start_time": "2021-07-10T15:50:37.828Z"
   },
   {
    "duration": 452,
    "start_time": "2021-07-10T15:51:03.500Z"
   },
   {
    "duration": 465,
    "start_time": "2021-07-10T15:51:10.547Z"
   },
   {
    "duration": 446,
    "start_time": "2021-07-10T15:51:19.788Z"
   },
   {
    "duration": 487,
    "start_time": "2021-07-10T15:51:29.552Z"
   },
   {
    "duration": 468,
    "start_time": "2021-07-10T15:51:45.019Z"
   },
   {
    "duration": 1037,
    "start_time": "2021-07-10T15:53:15.190Z"
   },
   {
    "duration": 1045,
    "start_time": "2021-07-10T15:53:58.238Z"
   },
   {
    "duration": 821,
    "start_time": "2021-07-10T15:54:20.920Z"
   },
   {
    "duration": 552,
    "start_time": "2021-07-10T17:08:40.119Z"
   },
   {
    "duration": 487,
    "start_time": "2021-07-10T17:09:15.704Z"
   },
   {
    "duration": 471,
    "start_time": "2021-07-10T17:09:27.496Z"
   },
   {
    "duration": 572,
    "start_time": "2021-07-10T17:13:37.181Z"
   },
   {
    "duration": 499,
    "start_time": "2021-07-10T17:14:06.278Z"
   },
   {
    "duration": 502,
    "start_time": "2021-07-10T17:14:20.318Z"
   },
   {
    "duration": 565,
    "start_time": "2021-07-10T17:21:06.927Z"
   },
   {
    "duration": 819,
    "start_time": "2021-07-10T17:22:19.352Z"
   },
   {
    "duration": 499,
    "start_time": "2021-07-10T17:22:45.841Z"
   },
   {
    "duration": 7,
    "start_time": "2021-07-10T17:37:25.306Z"
   },
   {
    "duration": 574,
    "start_time": "2021-07-10T17:41:26.607Z"
   },
   {
    "duration": 8,
    "start_time": "2021-07-10T17:41:52.978Z"
   },
   {
    "duration": 9,
    "start_time": "2021-07-10T17:42:13.343Z"
   },
   {
    "duration": 8,
    "start_time": "2021-07-10T17:43:37.733Z"
   },
   {
    "duration": 387,
    "start_time": "2021-07-10T17:49:34.824Z"
   },
   {
    "duration": 379,
    "start_time": "2021-07-10T17:49:44.601Z"
   },
   {
    "duration": 18150,
    "start_time": "2021-07-10T18:02:35.560Z"
   },
   {
    "duration": 2847,
    "start_time": "2021-07-10T18:03:08.608Z"
   },
   {
    "duration": 135,
    "start_time": "2021-07-10T18:03:54.773Z"
   },
   {
    "duration": 30,
    "start_time": "2021-07-10T18:04:13.358Z"
   },
   {
    "duration": 2246,
    "start_time": "2021-07-10T18:05:58.799Z"
   },
   {
    "duration": 21,
    "start_time": "2021-07-10T18:08:18.088Z"
   },
   {
    "duration": 19,
    "start_time": "2021-07-10T18:08:51.458Z"
   },
   {
    "duration": 26,
    "start_time": "2021-07-10T18:09:13.835Z"
   },
   {
    "duration": 1067,
    "start_time": "2021-07-11T08:38:40.437Z"
   },
   {
    "duration": 58,
    "start_time": "2021-07-11T08:38:41.506Z"
   },
   {
    "duration": 37,
    "start_time": "2021-07-11T08:38:41.566Z"
   },
   {
    "duration": 4,
    "start_time": "2021-07-11T08:38:41.605Z"
   },
   {
    "duration": 32,
    "start_time": "2021-07-11T08:38:41.610Z"
   },
   {
    "duration": 9,
    "start_time": "2021-07-11T08:38:41.643Z"
   },
   {
    "duration": 1106,
    "start_time": "2021-07-11T08:38:41.654Z"
   },
   {
    "duration": 11,
    "start_time": "2021-07-11T08:38:42.763Z"
   },
   {
    "duration": 13,
    "start_time": "2021-07-11T08:38:42.776Z"
   },
   {
    "duration": 7,
    "start_time": "2021-07-11T08:38:42.790Z"
   },
   {
    "duration": 45,
    "start_time": "2021-07-11T08:38:42.798Z"
   },
   {
    "duration": 6,
    "start_time": "2021-07-11T08:38:42.844Z"
   },
   {
    "duration": 14,
    "start_time": "2021-07-11T08:38:42.852Z"
   },
   {
    "duration": 20,
    "start_time": "2021-07-11T08:38:42.868Z"
   },
   {
    "duration": 9,
    "start_time": "2021-07-11T08:38:42.890Z"
   },
   {
    "duration": 374,
    "start_time": "2021-07-11T08:38:42.901Z"
   },
   {
    "duration": 520,
    "start_time": "2021-07-11T08:38:43.278Z"
   },
   {
    "duration": 555,
    "start_time": "2021-07-11T08:38:43.799Z"
   },
   {
    "duration": 411,
    "start_time": "2021-07-11T08:38:44.356Z"
   },
   {
    "duration": 414,
    "start_time": "2021-07-11T08:38:44.769Z"
   },
   {
    "duration": 234,
    "start_time": "2021-07-11T08:38:45.186Z"
   },
   {
    "duration": 359,
    "start_time": "2021-07-11T08:38:45.422Z"
   },
   {
    "duration": 316,
    "start_time": "2021-07-11T08:38:45.785Z"
   },
   {
    "duration": 11,
    "start_time": "2021-07-11T08:38:46.104Z"
   },
   {
    "duration": 3,
    "start_time": "2021-07-11T08:38:46.116Z"
   },
   {
    "duration": 471,
    "start_time": "2021-07-11T08:38:46.121Z"
   },
   {
    "duration": 6,
    "start_time": "2021-07-11T08:38:46.593Z"
   },
   {
    "duration": 435,
    "start_time": "2021-07-11T08:38:46.601Z"
   },
   {
    "duration": 367,
    "start_time": "2021-07-11T08:38:47.038Z"
   },
   {
    "duration": 379,
    "start_time": "2021-07-11T08:38:47.407Z"
   },
   {
    "duration": 332,
    "start_time": "2021-07-11T08:38:47.788Z"
   },
   {
    "duration": 86,
    "start_time": "2021-07-11T08:38:48.121Z"
   },
   {
    "duration": -32,
    "start_time": "2021-07-11T08:38:48.241Z"
   },
   {
    "duration": -40,
    "start_time": "2021-07-11T08:38:48.250Z"
   },
   {
    "duration": -47,
    "start_time": "2021-07-11T08:38:48.258Z"
   },
   {
    "duration": 14,
    "start_time": "2021-07-11T08:38:52.874Z"
   },
   {
    "duration": 336,
    "start_time": "2021-07-11T08:39:11.195Z"
   },
   {
    "duration": 15,
    "start_time": "2021-07-11T08:39:55.843Z"
   },
   {
    "duration": 668,
    "start_time": "2021-07-11T08:59:39.554Z"
   },
   {
    "duration": 617,
    "start_time": "2021-07-11T09:00:04.185Z"
   },
   {
    "duration": 667,
    "start_time": "2021-07-11T09:01:52.761Z"
   },
   {
    "duration": 713,
    "start_time": "2021-07-11T09:02:18.209Z"
   },
   {
    "duration": 5,
    "start_time": "2021-07-11T09:06:22.885Z"
   },
   {
    "duration": 12,
    "start_time": "2021-07-11T09:06:36.392Z"
   },
   {
    "duration": 471,
    "start_time": "2021-07-11T09:07:02.968Z"
   },
   {
    "duration": 551,
    "start_time": "2021-07-11T09:23:07.469Z"
   },
   {
    "duration": 209,
    "start_time": "2021-07-11T09:26:01.822Z"
   },
   {
    "duration": 270,
    "start_time": "2021-07-11T09:26:51.635Z"
   },
   {
    "duration": 240,
    "start_time": "2021-07-11T09:27:39.687Z"
   },
   {
    "duration": 228,
    "start_time": "2021-07-11T09:27:47.623Z"
   },
   {
    "duration": 100,
    "start_time": "2021-07-11T09:37:05.373Z"
   },
   {
    "duration": 82,
    "start_time": "2021-07-11T09:37:15.578Z"
   },
   {
    "duration": 262,
    "start_time": "2021-07-11T09:37:26.058Z"
   },
   {
    "duration": 301,
    "start_time": "2021-07-11T09:38:02.731Z"
   },
   {
    "duration": 251,
    "start_time": "2021-07-11T09:38:24.460Z"
   },
   {
    "duration": 214,
    "start_time": "2021-07-11T09:38:36.142Z"
   },
   {
    "duration": 676,
    "start_time": "2021-07-11T09:39:15.900Z"
   },
   {
    "duration": 253,
    "start_time": "2021-07-11T09:39:51.991Z"
   },
   {
    "duration": 294,
    "start_time": "2021-07-11T09:40:07.198Z"
   },
   {
    "duration": 459,
    "start_time": "2021-07-11T09:47:35.761Z"
   },
   {
    "duration": 991,
    "start_time": "2021-07-11T09:47:46.423Z"
   },
   {
    "duration": 57,
    "start_time": "2021-07-11T09:47:47.416Z"
   },
   {
    "duration": 25,
    "start_time": "2021-07-11T09:47:47.475Z"
   },
   {
    "duration": 3,
    "start_time": "2021-07-11T09:47:47.502Z"
   },
   {
    "duration": 19,
    "start_time": "2021-07-11T09:47:47.506Z"
   },
   {
    "duration": 18,
    "start_time": "2021-07-11T09:47:47.526Z"
   },
   {
    "duration": 1029,
    "start_time": "2021-07-11T09:47:47.545Z"
   },
   {
    "duration": 11,
    "start_time": "2021-07-11T09:47:48.576Z"
   },
   {
    "duration": 11,
    "start_time": "2021-07-11T09:47:48.589Z"
   },
   {
    "duration": 6,
    "start_time": "2021-07-11T09:47:48.602Z"
   },
   {
    "duration": 40,
    "start_time": "2021-07-11T09:47:48.610Z"
   },
   {
    "duration": 5,
    "start_time": "2021-07-11T09:47:48.652Z"
   },
   {
    "duration": 25,
    "start_time": "2021-07-11T09:47:48.658Z"
   },
   {
    "duration": 14,
    "start_time": "2021-07-11T09:47:48.685Z"
   },
   {
    "duration": 6,
    "start_time": "2021-07-11T09:47:48.700Z"
   },
   {
    "duration": 246,
    "start_time": "2021-07-11T09:47:48.707Z"
   },
   {
    "duration": 334,
    "start_time": "2021-07-11T09:47:48.955Z"
   },
   {
    "duration": 294,
    "start_time": "2021-07-11T09:47:49.291Z"
   },
   {
    "duration": 276,
    "start_time": "2021-07-11T09:47:49.587Z"
   },
   {
    "duration": 271,
    "start_time": "2021-07-11T09:47:49.865Z"
   },
   {
    "duration": 220,
    "start_time": "2021-07-11T09:47:50.140Z"
   },
   {
    "duration": 251,
    "start_time": "2021-07-11T09:47:50.362Z"
   },
   {
    "duration": 326,
    "start_time": "2021-07-11T09:47:50.617Z"
   },
   {
    "duration": 12,
    "start_time": "2021-07-11T09:47:50.945Z"
   },
   {
    "duration": 2,
    "start_time": "2021-07-11T09:47:50.959Z"
   },
   {
    "duration": 433,
    "start_time": "2021-07-11T09:47:50.963Z"
   },
   {
    "duration": 6,
    "start_time": "2021-07-11T09:47:51.398Z"
   },
   {
    "duration": 419,
    "start_time": "2021-07-11T09:47:51.406Z"
   },
   {
    "duration": 359,
    "start_time": "2021-07-11T09:47:51.827Z"
   },
   {
    "duration": 316,
    "start_time": "2021-07-11T09:47:52.187Z"
   },
   {
    "duration": 382,
    "start_time": "2021-07-11T09:47:52.505Z"
   },
   {
    "duration": 5,
    "start_time": "2021-07-11T09:47:52.888Z"
   },
   {
    "duration": 20,
    "start_time": "2021-07-11T09:47:52.894Z"
   },
   {
    "duration": 217,
    "start_time": "2021-07-11T09:47:52.916Z"
   },
   {
    "duration": 19,
    "start_time": "2021-07-11T09:47:53.135Z"
   },
   {
    "duration": 18,
    "start_time": "2021-07-11T09:47:53.155Z"
   },
   {
    "duration": 494,
    "start_time": "2021-07-11T09:47:53.175Z"
   },
   {
    "duration": 905,
    "start_time": "2021-07-11T09:47:53.670Z"
   },
   {
    "duration": 817,
    "start_time": "2021-07-11T09:48:37.276Z"
   },
   {
    "duration": 299,
    "start_time": "2021-07-11T09:49:22.790Z"
   },
   {
    "duration": 408,
    "start_time": "2021-07-11T09:50:50.015Z"
   },
   {
    "duration": 394,
    "start_time": "2021-07-11T09:51:09.372Z"
   },
   {
    "duration": 621,
    "start_time": "2021-07-11T09:52:04.152Z"
   },
   {
    "duration": 465,
    "start_time": "2021-07-11T09:52:12.612Z"
   },
   {
    "duration": 577,
    "start_time": "2021-07-11T09:52:27.495Z"
   },
   {
    "duration": 371,
    "start_time": "2021-07-11T09:52:40.144Z"
   },
   {
    "duration": 348,
    "start_time": "2021-07-11T09:52:48.208Z"
   },
   {
    "duration": 418,
    "start_time": "2021-07-11T09:53:42.066Z"
   },
   {
    "duration": 908,
    "start_time": "2021-07-11T09:53:53.035Z"
   },
   {
    "duration": 81,
    "start_time": "2021-07-11T10:06:28.651Z"
   },
   {
    "duration": 100,
    "start_time": "2021-07-11T10:06:54.588Z"
   },
   {
    "duration": 468,
    "start_time": "2021-07-11T10:07:17.364Z"
   },
   {
    "duration": 648,
    "start_time": "2021-07-11T10:10:10.294Z"
   },
   {
    "duration": 752,
    "start_time": "2021-07-11T10:11:40.986Z"
   },
   {
    "duration": 629,
    "start_time": "2021-07-11T10:13:03.773Z"
   },
   {
    "duration": 493,
    "start_time": "2021-07-11T10:13:41.753Z"
   },
   {
    "duration": 604,
    "start_time": "2021-07-11T10:14:24.746Z"
   },
   {
    "duration": 83,
    "start_time": "2021-07-11T10:30:25.791Z"
   },
   {
    "duration": 83,
    "start_time": "2021-07-11T10:30:35.300Z"
   },
   {
    "duration": 87,
    "start_time": "2021-07-11T10:30:45.132Z"
   },
   {
    "duration": 87,
    "start_time": "2021-07-11T10:31:01.236Z"
   },
   {
    "duration": 84,
    "start_time": "2021-07-11T10:31:54.678Z"
   },
   {
    "duration": 1175,
    "start_time": "2021-07-11T10:40:13.882Z"
   },
   {
    "duration": 9,
    "start_time": "2021-07-11T10:52:59.656Z"
   },
   {
    "duration": 11,
    "start_time": "2021-07-11T10:54:35.873Z"
   },
   {
    "duration": 11,
    "start_time": "2021-07-11T10:54:54.594Z"
   },
   {
    "duration": 11,
    "start_time": "2021-07-11T10:55:10.947Z"
   },
   {
    "duration": 13,
    "start_time": "2021-07-11T10:57:46.478Z"
   },
   {
    "duration": 15,
    "start_time": "2021-07-11T11:16:04.012Z"
   },
   {
    "duration": 15,
    "start_time": "2021-07-11T11:16:52.951Z"
   },
   {
    "duration": 65,
    "start_time": "2021-07-11T11:17:30.173Z"
   },
   {
    "duration": 19,
    "start_time": "2021-07-11T11:18:05.405Z"
   },
   {
    "duration": 260,
    "start_time": "2021-07-11T11:20:42.561Z"
   },
   {
    "duration": 85,
    "start_time": "2021-07-11T11:22:55.203Z"
   },
   {
    "duration": 440,
    "start_time": "2021-07-11T11:23:08.690Z"
   },
   {
    "duration": 491,
    "start_time": "2021-07-11T11:24:17.004Z"
   },
   {
    "duration": 364,
    "start_time": "2021-07-11T11:26:20.254Z"
   },
   {
    "duration": 240,
    "start_time": "2021-07-11T11:39:19.561Z"
   },
   {
    "duration": 14,
    "start_time": "2021-07-11T11:40:03.086Z"
   },
   {
    "duration": 11,
    "start_time": "2021-07-11T11:40:18.855Z"
   },
   {
    "duration": 528,
    "start_time": "2021-07-11T11:41:07.415Z"
   },
   {
    "duration": 645,
    "start_time": "2021-07-11T11:42:33.977Z"
   },
   {
    "duration": 566,
    "start_time": "2021-07-11T11:42:53.680Z"
   },
   {
    "duration": 499,
    "start_time": "2021-07-11T11:43:37.115Z"
   },
   {
    "duration": 518,
    "start_time": "2021-07-11T11:44:02.707Z"
   },
   {
    "duration": 636,
    "start_time": "2021-07-11T11:48:58.096Z"
   },
   {
    "duration": 537,
    "start_time": "2021-07-11T11:49:08.481Z"
   },
   {
    "duration": 751,
    "start_time": "2021-07-11T12:07:18.150Z"
   },
   {
    "duration": 305,
    "start_time": "2021-07-11T12:07:48.144Z"
   },
   {
    "duration": 241,
    "start_time": "2021-07-11T12:11:45.740Z"
   },
   {
    "duration": 12,
    "start_time": "2021-07-11T12:12:13.972Z"
   },
   {
    "duration": 11,
    "start_time": "2021-07-11T12:12:24.860Z"
   },
   {
    "duration": 459,
    "start_time": "2021-07-11T12:18:09.218Z"
   },
   {
    "duration": 10,
    "start_time": "2021-07-11T12:38:47.492Z"
   },
   {
    "duration": 11,
    "start_time": "2021-07-11T12:59:39.158Z"
   },
   {
    "duration": 12,
    "start_time": "2021-07-11T12:59:59.947Z"
   },
   {
    "duration": 11,
    "start_time": "2021-07-11T13:00:09.299Z"
   },
   {
    "duration": 12,
    "start_time": "2021-07-11T13:00:15.563Z"
   },
   {
    "duration": 10,
    "start_time": "2021-07-11T13:00:22.158Z"
   },
   {
    "duration": 11,
    "start_time": "2021-07-11T13:00:38.733Z"
   },
   {
    "duration": 12,
    "start_time": "2021-07-11T13:01:21.669Z"
   },
   {
    "duration": 1008,
    "start_time": "2021-07-11T13:14:38.664Z"
   },
   {
    "duration": 53,
    "start_time": "2021-07-11T13:14:39.674Z"
   },
   {
    "duration": 30,
    "start_time": "2021-07-11T13:14:39.729Z"
   },
   {
    "duration": 2,
    "start_time": "2021-07-11T13:14:39.761Z"
   },
   {
    "duration": 20,
    "start_time": "2021-07-11T13:14:39.765Z"
   },
   {
    "duration": 6,
    "start_time": "2021-07-11T13:14:39.787Z"
   },
   {
    "duration": 1036,
    "start_time": "2021-07-11T13:14:39.795Z"
   },
   {
    "duration": 17,
    "start_time": "2021-07-11T13:14:40.833Z"
   },
   {
    "duration": 12,
    "start_time": "2021-07-11T13:14:40.852Z"
   },
   {
    "duration": 7,
    "start_time": "2021-07-11T13:14:40.865Z"
   },
   {
    "duration": 15,
    "start_time": "2021-07-11T13:14:40.873Z"
   },
   {
    "duration": 5,
    "start_time": "2021-07-11T13:14:40.890Z"
   },
   {
    "duration": 13,
    "start_time": "2021-07-11T13:14:40.897Z"
   },
   {
    "duration": 14,
    "start_time": "2021-07-11T13:14:40.940Z"
   },
   {
    "duration": 7,
    "start_time": "2021-07-11T13:14:40.956Z"
   },
   {
    "duration": 241,
    "start_time": "2021-07-11T13:14:40.964Z"
   },
   {
    "duration": 326,
    "start_time": "2021-07-11T13:14:41.207Z"
   },
   {
    "duration": 298,
    "start_time": "2021-07-11T13:14:41.534Z"
   },
   {
    "duration": 272,
    "start_time": "2021-07-11T13:14:41.834Z"
   },
   {
    "duration": 271,
    "start_time": "2021-07-11T13:14:42.108Z"
   },
   {
    "duration": 220,
    "start_time": "2021-07-11T13:14:42.380Z"
   },
   {
    "duration": 251,
    "start_time": "2021-07-11T13:14:42.602Z"
   },
   {
    "duration": 317,
    "start_time": "2021-07-11T13:14:42.856Z"
   },
   {
    "duration": 10,
    "start_time": "2021-07-11T13:14:43.175Z"
   },
   {
    "duration": 2,
    "start_time": "2021-07-11T13:14:43.187Z"
   },
   {
    "duration": 434,
    "start_time": "2021-07-11T13:14:43.191Z"
   },
   {
    "duration": 5,
    "start_time": "2021-07-11T13:14:43.626Z"
   },
   {
    "duration": 392,
    "start_time": "2021-07-11T13:14:43.641Z"
   },
   {
    "duration": 338,
    "start_time": "2021-07-11T13:14:44.035Z"
   },
   {
    "duration": 311,
    "start_time": "2021-07-11T13:14:44.375Z"
   },
   {
    "duration": 310,
    "start_time": "2021-07-11T13:14:44.688Z"
   },
   {
    "duration": 4,
    "start_time": "2021-07-11T13:14:45.000Z"
   },
   {
    "duration": 14,
    "start_time": "2021-07-11T13:14:45.006Z"
   },
   {
    "duration": 220,
    "start_time": "2021-07-11T13:14:45.022Z"
   },
   {
    "duration": 10,
    "start_time": "2021-07-11T13:14:45.244Z"
   },
   {
    "duration": 540,
    "start_time": "2021-07-11T13:14:45.255Z"
   },
   {
    "duration": 16,
    "start_time": "2021-07-11T13:14:45.797Z"
   },
   {
    "duration": 442,
    "start_time": "2021-07-11T13:14:45.815Z"
   },
   {
    "duration": 13,
    "start_time": "2021-07-11T13:14:46.259Z"
   },
   {
    "duration": 576,
    "start_time": "2021-07-11T13:14:46.274Z"
   },
   {
    "duration": 10,
    "start_time": "2021-07-11T13:14:46.851Z"
   },
   {
    "duration": 473,
    "start_time": "2021-07-11T13:14:46.863Z"
   },
   {
    "duration": 14,
    "start_time": "2021-07-11T13:14:47.341Z"
   },
   {
    "duration": 10,
    "start_time": "2021-07-11T13:14:51.619Z"
   },
   {
    "duration": 403,
    "start_time": "2021-07-11T14:25:24.874Z"
   },
   {
    "duration": 473,
    "start_time": "2021-07-11T14:26:55.716Z"
   },
   {
    "duration": 3,
    "start_time": "2021-07-11T15:33:23.328Z"
   },
   {
    "duration": 52,
    "start_time": "2021-07-11T15:33:23.335Z"
   },
   {
    "duration": 24,
    "start_time": "2021-07-11T15:33:23.389Z"
   },
   {
    "duration": 3,
    "start_time": "2021-07-11T15:33:23.415Z"
   },
   {
    "duration": 25,
    "start_time": "2021-07-11T15:33:23.419Z"
   },
   {
    "duration": 7,
    "start_time": "2021-07-11T15:33:23.445Z"
   },
   {
    "duration": 1090,
    "start_time": "2021-07-11T15:33:23.453Z"
   },
   {
    "duration": 10,
    "start_time": "2021-07-11T15:33:24.545Z"
   },
   {
    "duration": 11,
    "start_time": "2021-07-11T15:33:24.558Z"
   },
   {
    "duration": 7,
    "start_time": "2021-07-11T15:33:24.571Z"
   },
   {
    "duration": 16,
    "start_time": "2021-07-11T15:33:24.579Z"
   },
   {
    "duration": 5,
    "start_time": "2021-07-11T15:33:24.597Z"
   },
   {
    "duration": 48,
    "start_time": "2021-07-11T15:33:24.603Z"
   },
   {
    "duration": 15,
    "start_time": "2021-07-11T15:33:24.652Z"
   },
   {
    "duration": 7,
    "start_time": "2021-07-11T15:33:24.669Z"
   },
   {
    "duration": 245,
    "start_time": "2021-07-11T15:33:24.678Z"
   },
   {
    "duration": 419,
    "start_time": "2021-07-11T15:33:24.925Z"
   },
   {
    "duration": 306,
    "start_time": "2021-07-11T15:33:25.346Z"
   },
   {
    "duration": 281,
    "start_time": "2021-07-11T15:33:25.654Z"
   },
   {
    "duration": 269,
    "start_time": "2021-07-11T15:33:25.940Z"
   },
   {
    "duration": 211,
    "start_time": "2021-07-11T15:33:26.211Z"
   },
   {
    "duration": 254,
    "start_time": "2021-07-11T15:33:26.424Z"
   },
   {
    "duration": 253,
    "start_time": "2021-07-11T15:33:26.679Z"
   },
   {
    "duration": 14,
    "start_time": "2021-07-11T15:33:26.935Z"
   },
   {
    "duration": 408,
    "start_time": "2021-07-11T15:33:26.950Z"
   },
   {
    "duration": 363,
    "start_time": "2021-07-11T15:33:27.360Z"
   },
   {
    "duration": 443,
    "start_time": "2021-07-11T15:33:27.725Z"
   },
   {
    "duration": 311,
    "start_time": "2021-07-11T15:33:28.170Z"
   },
   {
    "duration": 310,
    "start_time": "2021-07-11T15:33:28.483Z"
   },
   {
    "duration": 5,
    "start_time": "2021-07-11T15:33:28.795Z"
   },
   {
    "duration": 8,
    "start_time": "2021-07-11T15:33:28.801Z"
   },
   {
    "duration": 220,
    "start_time": "2021-07-11T15:33:28.811Z"
   },
   {
    "duration": 15,
    "start_time": "2021-07-11T15:33:29.033Z"
   },
   {
    "duration": 515,
    "start_time": "2021-07-11T15:33:29.050Z"
   },
   {
    "duration": 14,
    "start_time": "2021-07-11T15:33:29.567Z"
   },
   {
    "duration": 378,
    "start_time": "2021-07-11T15:33:29.583Z"
   },
   {
    "duration": 11,
    "start_time": "2021-07-11T15:33:29.963Z"
   },
   {
    "duration": 603,
    "start_time": "2021-07-11T15:33:29.976Z"
   },
   {
    "duration": 12,
    "start_time": "2021-07-11T15:33:30.580Z"
   },
   {
    "duration": 565,
    "start_time": "2021-07-11T15:33:30.593Z"
   },
   {
    "duration": 10,
    "start_time": "2021-07-11T15:33:31.160Z"
   },
   {
    "duration": 16,
    "start_time": "2021-07-11T15:33:31.172Z"
   },
   {
    "duration": 981,
    "start_time": "2021-07-11T15:33:41.439Z"
   },
   {
    "duration": 55,
    "start_time": "2021-07-11T15:33:42.422Z"
   },
   {
    "duration": 25,
    "start_time": "2021-07-11T15:33:42.479Z"
   },
   {
    "duration": 3,
    "start_time": "2021-07-11T15:33:42.506Z"
   },
   {
    "duration": 31,
    "start_time": "2021-07-11T15:33:42.510Z"
   },
   {
    "duration": 7,
    "start_time": "2021-07-11T15:33:42.542Z"
   },
   {
    "duration": 1054,
    "start_time": "2021-07-11T15:33:42.550Z"
   },
   {
    "duration": 13,
    "start_time": "2021-07-11T15:33:43.606Z"
   },
   {
    "duration": 25,
    "start_time": "2021-07-11T15:33:43.621Z"
   },
   {
    "duration": 6,
    "start_time": "2021-07-11T15:33:43.648Z"
   },
   {
    "duration": 16,
    "start_time": "2021-07-11T15:33:43.655Z"
   },
   {
    "duration": 5,
    "start_time": "2021-07-11T15:33:43.673Z"
   },
   {
    "duration": 15,
    "start_time": "2021-07-11T15:33:43.679Z"
   },
   {
    "duration": 13,
    "start_time": "2021-07-11T15:33:43.696Z"
   },
   {
    "duration": 35,
    "start_time": "2021-07-11T15:33:43.711Z"
   },
   {
    "duration": 234,
    "start_time": "2021-07-11T15:33:43.747Z"
   },
   {
    "duration": 330,
    "start_time": "2021-07-11T15:33:43.982Z"
   },
   {
    "duration": 312,
    "start_time": "2021-07-11T15:33:44.313Z"
   },
   {
    "duration": 276,
    "start_time": "2021-07-11T15:33:44.627Z"
   },
   {
    "duration": 276,
    "start_time": "2021-07-11T15:33:44.904Z"
   },
   {
    "duration": 223,
    "start_time": "2021-07-11T15:33:45.182Z"
   },
   {
    "duration": 250,
    "start_time": "2021-07-11T15:33:45.407Z"
   },
   {
    "duration": 315,
    "start_time": "2021-07-11T15:33:45.661Z"
   },
   {
    "duration": 11,
    "start_time": "2021-07-11T15:33:45.978Z"
   },
   {
    "duration": 422,
    "start_time": "2021-07-11T15:33:45.991Z"
   },
   {
    "duration": 405,
    "start_time": "2021-07-11T15:33:46.415Z"
   },
   {
    "duration": 346,
    "start_time": "2021-07-11T15:33:46.821Z"
   },
   {
    "duration": 313,
    "start_time": "2021-07-11T15:33:47.169Z"
   },
   {
    "duration": 306,
    "start_time": "2021-07-11T15:33:47.483Z"
   },
   {
    "duration": 5,
    "start_time": "2021-07-11T15:33:47.790Z"
   },
   {
    "duration": 8,
    "start_time": "2021-07-11T15:33:47.796Z"
   },
   {
    "duration": 215,
    "start_time": "2021-07-11T15:33:47.805Z"
   },
   {
    "duration": 20,
    "start_time": "2021-07-11T15:33:48.022Z"
   },
   {
    "duration": 512,
    "start_time": "2021-07-11T15:33:48.043Z"
   },
   {
    "duration": 14,
    "start_time": "2021-07-11T15:33:48.557Z"
   },
   {
    "duration": 453,
    "start_time": "2021-07-11T15:33:48.572Z"
   },
   {
    "duration": 17,
    "start_time": "2021-07-11T15:33:49.026Z"
   },
   {
    "duration": 578,
    "start_time": "2021-07-11T15:33:49.045Z"
   },
   {
    "duration": 19,
    "start_time": "2021-07-11T15:33:49.625Z"
   },
   {
    "duration": 484,
    "start_time": "2021-07-11T15:33:49.646Z"
   },
   {
    "duration": 15,
    "start_time": "2021-07-11T15:33:50.132Z"
   },
   {
    "duration": 12,
    "start_time": "2021-07-11T15:33:50.149Z"
   },
   {
    "duration": 113,
    "start_time": "2021-07-11T18:13:35.138Z"
   },
   {
    "duration": 1387,
    "start_time": "2021-07-13T18:39:19.309Z"
   },
   {
    "duration": 80,
    "start_time": "2021-07-13T18:39:20.698Z"
   },
   {
    "duration": 45,
    "start_time": "2021-07-13T18:39:20.781Z"
   },
   {
    "duration": 4,
    "start_time": "2021-07-13T18:39:20.828Z"
   },
   {
    "duration": 53,
    "start_time": "2021-07-13T18:39:20.834Z"
   },
   {
    "duration": 11,
    "start_time": "2021-07-13T18:39:20.889Z"
   },
   {
    "duration": 2268,
    "start_time": "2021-07-13T18:39:20.903Z"
   },
   {
    "duration": 17,
    "start_time": "2021-07-13T18:39:23.175Z"
   },
   {
    "duration": 27,
    "start_time": "2021-07-13T18:39:23.195Z"
   },
   {
    "duration": 10,
    "start_time": "2021-07-13T18:39:23.225Z"
   },
   {
    "duration": 24,
    "start_time": "2021-07-13T18:39:23.268Z"
   },
   {
    "duration": 7,
    "start_time": "2021-07-13T18:39:23.295Z"
   },
   {
    "duration": 24,
    "start_time": "2021-07-13T18:39:23.305Z"
   },
   {
    "duration": 53,
    "start_time": "2021-07-13T18:39:23.331Z"
   },
   {
    "duration": 9,
    "start_time": "2021-07-13T18:39:23.387Z"
   },
   {
    "duration": 416,
    "start_time": "2021-07-13T18:39:23.399Z"
   },
   {
    "duration": 628,
    "start_time": "2021-07-13T18:39:23.817Z"
   },
   {
    "duration": 544,
    "start_time": "2021-07-13T18:39:24.447Z"
   },
   {
    "duration": 489,
    "start_time": "2021-07-13T18:39:24.993Z"
   },
   {
    "duration": 475,
    "start_time": "2021-07-13T18:39:25.485Z"
   },
   {
    "duration": 388,
    "start_time": "2021-07-13T18:39:25.967Z"
   },
   {
    "duration": 448,
    "start_time": "2021-07-13T18:39:26.357Z"
   },
   {
    "duration": 526,
    "start_time": "2021-07-13T18:39:26.810Z"
   },
   {
    "duration": 32,
    "start_time": "2021-07-13T18:39:27.339Z"
   },
   {
    "duration": 757,
    "start_time": "2021-07-13T18:39:27.374Z"
   },
   {
    "duration": 576,
    "start_time": "2021-07-13T18:39:28.133Z"
   },
   {
    "duration": 533,
    "start_time": "2021-07-13T18:39:28.712Z"
   },
   {
    "duration": 494,
    "start_time": "2021-07-13T18:39:29.248Z"
   },
   {
    "duration": 515,
    "start_time": "2021-07-13T18:39:29.744Z"
   },
   {
    "duration": 9,
    "start_time": "2021-07-13T18:39:30.267Z"
   },
   {
    "duration": 14,
    "start_time": "2021-07-13T18:39:30.279Z"
   },
   {
    "duration": 411,
    "start_time": "2021-07-13T18:39:30.296Z"
   },
   {
    "duration": 18,
    "start_time": "2021-07-13T18:39:30.710Z"
   },
   {
    "duration": 964,
    "start_time": "2021-07-13T18:39:30.731Z"
   },
   {
    "duration": 33,
    "start_time": "2021-07-13T18:39:31.697Z"
   },
   {
    "duration": 797,
    "start_time": "2021-07-13T18:39:31.733Z"
   },
   {
    "duration": 18,
    "start_time": "2021-07-13T18:39:32.532Z"
   },
   {
    "duration": 1030,
    "start_time": "2021-07-13T18:39:32.566Z"
   },
   {
    "duration": 17,
    "start_time": "2021-07-13T18:39:33.599Z"
   },
   {
    "duration": 879,
    "start_time": "2021-07-13T18:39:33.619Z"
   },
   {
    "duration": 15,
    "start_time": "2021-07-13T18:39:34.500Z"
   },
   {
    "duration": 24,
    "start_time": "2021-07-13T18:39:34.518Z"
   },
   {
    "duration": 304,
    "start_time": "2021-07-14T06:26:15.707Z"
   },
   {
    "duration": 973,
    "start_time": "2021-07-14T06:26:28.595Z"
   },
   {
    "duration": 56,
    "start_time": "2021-07-14T06:26:29.570Z"
   },
   {
    "duration": 27,
    "start_time": "2021-07-14T06:26:29.628Z"
   },
   {
    "duration": 3,
    "start_time": "2021-07-14T06:26:29.657Z"
   },
   {
    "duration": 33,
    "start_time": "2021-07-14T06:26:29.661Z"
   },
   {
    "duration": 7,
    "start_time": "2021-07-14T06:26:29.695Z"
   },
   {
    "duration": 1089,
    "start_time": "2021-07-14T06:26:29.704Z"
   },
   {
    "duration": 12,
    "start_time": "2021-07-14T06:26:30.795Z"
   },
   {
    "duration": 11,
    "start_time": "2021-07-14T06:26:30.809Z"
   },
   {
    "duration": 6,
    "start_time": "2021-07-14T06:26:30.821Z"
   },
   {
    "duration": 15,
    "start_time": "2021-07-14T06:26:30.829Z"
   },
   {
    "duration": 5,
    "start_time": "2021-07-14T06:26:30.846Z"
   },
   {
    "duration": 36,
    "start_time": "2021-07-14T06:26:30.853Z"
   },
   {
    "duration": 18,
    "start_time": "2021-07-14T06:26:30.891Z"
   },
   {
    "duration": 14,
    "start_time": "2021-07-14T06:26:30.910Z"
   },
   {
    "duration": 6,
    "start_time": "2021-07-14T06:26:30.926Z"
   },
   {
    "duration": 272,
    "start_time": "2021-07-14T06:26:30.933Z"
   },
   {
    "duration": 373,
    "start_time": "2021-07-14T06:26:31.207Z"
   },
   {
    "duration": 315,
    "start_time": "2021-07-14T06:26:31.584Z"
   },
   {
    "duration": 292,
    "start_time": "2021-07-14T06:26:31.901Z"
   },
   {
    "duration": 318,
    "start_time": "2021-07-14T06:26:32.195Z"
   },
   {
    "duration": 233,
    "start_time": "2021-07-14T06:26:32.515Z"
   },
   {
    "duration": 283,
    "start_time": "2021-07-14T06:26:32.751Z"
   },
   {
    "duration": 429,
    "start_time": "2021-07-14T06:26:33.036Z"
   },
   {
    "duration": 18,
    "start_time": "2021-07-14T06:26:33.467Z"
   },
   {
    "duration": 499,
    "start_time": "2021-07-14T06:26:33.486Z"
   },
   {
    "duration": 409,
    "start_time": "2021-07-14T06:26:33.986Z"
   },
   {
    "duration": 353,
    "start_time": "2021-07-14T06:26:34.396Z"
   },
   {
    "duration": 379,
    "start_time": "2021-07-14T06:26:34.751Z"
   },
   {
    "duration": 327,
    "start_time": "2021-07-14T06:26:35.132Z"
   },
   {
    "duration": 5,
    "start_time": "2021-07-14T06:26:35.461Z"
   },
   {
    "duration": 20,
    "start_time": "2021-07-14T06:26:35.468Z"
   },
   {
    "duration": 227,
    "start_time": "2021-07-14T06:26:35.490Z"
   },
   {
    "duration": 12,
    "start_time": "2021-07-14T06:26:35.718Z"
   },
   {
    "duration": 592,
    "start_time": "2021-07-14T06:26:35.731Z"
   },
   {
    "duration": 15,
    "start_time": "2021-07-14T06:26:36.325Z"
   },
   {
    "duration": 473,
    "start_time": "2021-07-14T06:26:36.342Z"
   },
   {
    "duration": 12,
    "start_time": "2021-07-14T06:26:36.816Z"
   },
   {
    "duration": 617,
    "start_time": "2021-07-14T06:26:36.830Z"
   },
   {
    "duration": 11,
    "start_time": "2021-07-14T06:26:37.448Z"
   },
   {
    "duration": 520,
    "start_time": "2021-07-14T06:26:37.461Z"
   },
   {
    "duration": 10,
    "start_time": "2021-07-14T06:26:37.983Z"
   },
   {
    "duration": 21,
    "start_time": "2021-07-14T06:26:37.994Z"
   },
   {
    "duration": 10,
    "start_time": "2021-07-14T06:58:37.337Z"
   },
   {
    "duration": 27,
    "start_time": "2021-07-14T07:18:30.816Z"
   },
   {
    "duration": 22,
    "start_time": "2021-07-14T07:18:45.313Z"
   },
   {
    "duration": 29,
    "start_time": "2021-07-14T07:52:09.391Z"
   },
   {
    "duration": 28,
    "start_time": "2021-07-14T07:52:25.535Z"
   },
   {
    "duration": 27,
    "start_time": "2021-07-14T07:52:42.971Z"
   },
   {
    "duration": 293,
    "start_time": "2021-07-14T07:58:13.433Z"
   },
   {
    "duration": 34,
    "start_time": "2021-07-14T07:58:24.471Z"
   },
   {
    "duration": 33,
    "start_time": "2021-07-14T07:59:17.334Z"
   },
   {
    "duration": 35,
    "start_time": "2021-07-14T08:04:54.305Z"
   },
   {
    "duration": 33,
    "start_time": "2021-07-14T08:05:19.269Z"
   },
   {
    "duration": 962,
    "start_time": "2021-07-14T08:20:10.609Z"
   },
   {
    "duration": 57,
    "start_time": "2021-07-14T08:20:11.572Z"
   },
   {
    "duration": 27,
    "start_time": "2021-07-14T08:20:11.631Z"
   },
   {
    "duration": 3,
    "start_time": "2021-07-14T08:20:11.660Z"
   },
   {
    "duration": 14,
    "start_time": "2021-07-14T08:20:11.684Z"
   },
   {
    "duration": 14,
    "start_time": "2021-07-14T08:20:11.700Z"
   },
   {
    "duration": 1082,
    "start_time": "2021-07-14T08:20:11.716Z"
   },
   {
    "duration": 11,
    "start_time": "2021-07-14T08:20:12.801Z"
   },
   {
    "duration": 22,
    "start_time": "2021-07-14T08:20:12.815Z"
   },
   {
    "duration": 6,
    "start_time": "2021-07-14T08:20:12.838Z"
   },
   {
    "duration": 29,
    "start_time": "2021-07-14T08:20:12.846Z"
   },
   {
    "duration": 12,
    "start_time": "2021-07-14T08:20:12.876Z"
   },
   {
    "duration": 13,
    "start_time": "2021-07-14T08:20:12.889Z"
   },
   {
    "duration": 13,
    "start_time": "2021-07-14T08:20:12.904Z"
   },
   {
    "duration": 15,
    "start_time": "2021-07-14T08:20:12.918Z"
   },
   {
    "duration": 14,
    "start_time": "2021-07-14T08:20:12.934Z"
   },
   {
    "duration": 6,
    "start_time": "2021-07-14T08:20:12.949Z"
   },
   {
    "duration": 273,
    "start_time": "2021-07-14T08:20:12.957Z"
   },
   {
    "duration": 366,
    "start_time": "2021-07-14T08:20:13.231Z"
   },
   {
    "duration": 328,
    "start_time": "2021-07-14T08:20:13.599Z"
   },
   {
    "duration": 311,
    "start_time": "2021-07-14T08:20:13.928Z"
   },
   {
    "duration": 294,
    "start_time": "2021-07-14T08:20:14.241Z"
   },
   {
    "duration": 46,
    "start_time": "2021-07-14T08:20:14.538Z"
   },
   {
    "duration": 240,
    "start_time": "2021-07-14T08:20:14.586Z"
   },
   {
    "duration": 290,
    "start_time": "2021-07-14T08:20:14.827Z"
   },
   {
    "duration": 336,
    "start_time": "2021-07-14T08:20:15.119Z"
   },
   {
    "duration": 9,
    "start_time": "2021-07-14T08:20:15.456Z"
   },
   {
    "duration": 466,
    "start_time": "2021-07-14T08:20:15.467Z"
   },
   {
    "duration": 429,
    "start_time": "2021-07-14T08:20:15.935Z"
   },
   {
    "duration": 366,
    "start_time": "2021-07-14T08:20:16.366Z"
   },
   {
    "duration": 324,
    "start_time": "2021-07-14T08:20:16.734Z"
   },
   {
    "duration": 381,
    "start_time": "2021-07-14T08:20:17.060Z"
   },
   {
    "duration": 5,
    "start_time": "2021-07-14T08:20:17.443Z"
   },
   {
    "duration": 9,
    "start_time": "2021-07-14T08:20:17.450Z"
   },
   {
    "duration": 247,
    "start_time": "2021-07-14T08:20:17.461Z"
   },
   {
    "duration": 12,
    "start_time": "2021-07-14T08:20:17.710Z"
   },
   {
    "duration": 574,
    "start_time": "2021-07-14T08:20:17.724Z"
   },
   {
    "duration": 15,
    "start_time": "2021-07-14T08:20:18.299Z"
   },
   {
    "duration": 465,
    "start_time": "2021-07-14T08:20:18.315Z"
   },
   {
    "duration": 12,
    "start_time": "2021-07-14T08:20:18.784Z"
   },
   {
    "duration": 607,
    "start_time": "2021-07-14T08:20:18.798Z"
   },
   {
    "duration": 11,
    "start_time": "2021-07-14T08:20:19.407Z"
   },
   {
    "duration": 525,
    "start_time": "2021-07-14T08:20:19.420Z"
   },
   {
    "duration": 11,
    "start_time": "2021-07-14T08:20:19.947Z"
   },
   {
    "duration": 26,
    "start_time": "2021-07-14T08:20:19.959Z"
   },
   {
    "duration": 1439,
    "start_time": "2021-07-14T21:51:01.679Z"
   },
   {
    "duration": 79,
    "start_time": "2021-07-14T21:51:03.120Z"
   },
   {
    "duration": 55,
    "start_time": "2021-07-14T21:51:03.202Z"
   },
   {
    "duration": 4,
    "start_time": "2021-07-14T21:51:03.259Z"
   },
   {
    "duration": 35,
    "start_time": "2021-07-14T21:51:03.265Z"
   },
   {
    "duration": 11,
    "start_time": "2021-07-14T21:51:03.303Z"
   },
   {
    "duration": 2316,
    "start_time": "2021-07-14T21:51:03.316Z"
   },
   {
    "duration": 21,
    "start_time": "2021-07-14T21:51:05.636Z"
   },
   {
    "duration": 20,
    "start_time": "2021-07-14T21:51:05.659Z"
   },
   {
    "duration": 9,
    "start_time": "2021-07-14T21:51:05.681Z"
   },
   {
    "duration": 22,
    "start_time": "2021-07-14T21:51:05.693Z"
   },
   {
    "duration": 9,
    "start_time": "2021-07-14T21:51:05.718Z"
   },
   {
    "duration": 27,
    "start_time": "2021-07-14T21:51:05.729Z"
   },
   {
    "duration": 8,
    "start_time": "2021-07-14T21:51:05.758Z"
   },
   {
    "duration": 30,
    "start_time": "2021-07-14T21:51:05.768Z"
   },
   {
    "duration": 23,
    "start_time": "2021-07-14T21:51:05.800Z"
   },
   {
    "duration": 10,
    "start_time": "2021-07-14T21:51:05.857Z"
   },
   {
    "duration": 622,
    "start_time": "2021-07-14T21:51:05.869Z"
   },
   {
    "duration": 606,
    "start_time": "2021-07-14T21:51:06.494Z"
   },
   {
    "duration": 539,
    "start_time": "2021-07-14T21:51:07.103Z"
   },
   {
    "duration": 468,
    "start_time": "2021-07-14T21:51:07.644Z"
   },
   {
    "duration": 464,
    "start_time": "2021-07-14T21:51:08.114Z"
   },
   {
    "duration": 73,
    "start_time": "2021-07-14T21:51:08.583Z"
   },
   {
    "duration": 372,
    "start_time": "2021-07-14T21:51:08.660Z"
   },
   {
    "duration": 437,
    "start_time": "2021-07-14T21:51:09.035Z"
   },
   {
    "duration": 510,
    "start_time": "2021-07-14T21:51:09.475Z"
   },
   {
    "duration": 15,
    "start_time": "2021-07-14T21:51:09.988Z"
   },
   {
    "duration": 761,
    "start_time": "2021-07-14T21:51:10.006Z"
   },
   {
    "duration": 547,
    "start_time": "2021-07-14T21:51:10.770Z"
   },
   {
    "duration": 511,
    "start_time": "2021-07-14T21:51:11.320Z"
   },
   {
    "duration": 531,
    "start_time": "2021-07-14T21:51:11.834Z"
   },
   {
    "duration": 469,
    "start_time": "2021-07-14T21:51:12.367Z"
   },
   {
    "duration": 6,
    "start_time": "2021-07-14T21:51:12.839Z"
   },
   {
    "duration": 10,
    "start_time": "2021-07-14T21:51:12.857Z"
   },
   {
    "duration": 385,
    "start_time": "2021-07-14T21:51:12.871Z"
   },
   {
    "duration": 20,
    "start_time": "2021-07-14T21:51:13.258Z"
   },
   {
    "duration": 923,
    "start_time": "2021-07-14T21:51:13.280Z"
   },
   {
    "duration": 22,
    "start_time": "2021-07-14T21:51:14.205Z"
   },
   {
    "duration": 733,
    "start_time": "2021-07-14T21:51:14.230Z"
   },
   {
    "duration": 20,
    "start_time": "2021-07-14T21:51:14.967Z"
   },
   {
    "duration": 955,
    "start_time": "2021-07-14T21:51:14.989Z"
   },
   {
    "duration": 21,
    "start_time": "2021-07-14T21:51:15.946Z"
   },
   {
    "duration": 836,
    "start_time": "2021-07-14T21:51:15.970Z"
   },
   {
    "duration": 15,
    "start_time": "2021-07-14T21:51:16.809Z"
   },
   {
    "duration": 38,
    "start_time": "2021-07-14T21:51:16.827Z"
   },
   {
    "duration": 502,
    "start_time": "2021-07-14T21:51:25.943Z"
   },
   {
    "duration": 54,
    "start_time": "2021-07-14T21:51:39.552Z"
   },
   {
    "duration": 462,
    "start_time": "2021-07-14T21:51:44.357Z"
   },
   {
    "duration": 6878,
    "start_time": "2021-07-14T21:52:06.585Z"
   },
   {
    "duration": 6934,
    "start_time": "2021-07-14T21:52:31.869Z"
   },
   {
    "duration": 343,
    "start_time": "2021-07-14T21:52:48.490Z"
   },
   {
    "duration": 50,
    "start_time": "2021-07-14T21:53:29.703Z"
   },
   {
    "duration": 7659,
    "start_time": "2021-07-14T21:53:47.026Z"
   },
   {
    "duration": 472,
    "start_time": "2021-07-14T21:54:07.252Z"
   },
   {
    "duration": 383,
    "start_time": "2021-07-14T21:54:33.495Z"
   },
   {
    "duration": 56,
    "start_time": "2021-07-14T21:54:38.207Z"
   },
   {
    "duration": 502,
    "start_time": "2021-07-14T21:54:46.311Z"
   },
   {
    "duration": 52,
    "start_time": "2021-07-14T21:54:54.577Z"
   },
   {
    "duration": 39,
    "start_time": "2021-07-14T21:57:21.597Z"
   },
   {
    "duration": 45,
    "start_time": "2021-07-14T21:57:45.457Z"
   },
   {
    "duration": 61,
    "start_time": "2021-07-14T21:57:52.593Z"
   },
   {
    "duration": 59,
    "start_time": "2021-07-14T21:57:56.795Z"
   },
   {
    "duration": 64,
    "start_time": "2021-07-14T21:57:57.459Z"
   },
   {
    "duration": 40,
    "start_time": "2021-07-14T21:58:02.941Z"
   },
   {
    "duration": 281,
    "start_time": "2021-07-14T21:58:22.934Z"
   },
   {
    "duration": 32,
    "start_time": "2021-07-14T21:58:32.323Z"
   },
   {
    "duration": 38,
    "start_time": "2021-07-14T21:59:08.659Z"
   },
   {
    "duration": 25,
    "start_time": "2021-07-14T22:00:50.558Z"
   },
   {
    "duration": 60,
    "start_time": "2021-07-14T22:01:14.428Z"
   },
   {
    "duration": 24,
    "start_time": "2021-07-14T22:01:18.730Z"
   },
   {
    "duration": 33,
    "start_time": "2021-07-14T22:01:31.488Z"
   },
   {
    "duration": 37,
    "start_time": "2021-07-14T22:01:47.058Z"
   },
   {
    "duration": 42,
    "start_time": "2021-07-14T22:17:11.483Z"
   },
   {
    "duration": 37,
    "start_time": "2021-07-14T22:17:19.043Z"
   },
   {
    "duration": 41,
    "start_time": "2021-07-14T22:17:26.695Z"
   },
   {
    "duration": 43,
    "start_time": "2021-07-14T22:17:35.550Z"
   },
   {
    "duration": 40,
    "start_time": "2021-07-14T22:17:41.647Z"
   },
   {
    "duration": 583,
    "start_time": "2021-08-18T20:15:53.313Z"
   },
   {
    "duration": 1057,
    "start_time": "2022-01-19T12:43:33.428Z"
   },
   {
    "duration": 60,
    "start_time": "2022-01-19T12:43:34.487Z"
   },
   {
    "duration": 32,
    "start_time": "2022-01-19T12:43:34.549Z"
   },
   {
    "duration": 4,
    "start_time": "2022-01-19T12:43:34.597Z"
   },
   {
    "duration": 31,
    "start_time": "2022-01-19T12:43:34.603Z"
   },
   {
    "duration": 12,
    "start_time": "2022-01-19T12:43:34.637Z"
   },
   {
    "duration": 1148,
    "start_time": "2022-01-19T12:43:34.652Z"
   },
   {
    "duration": 13,
    "start_time": "2022-01-19T12:43:35.805Z"
   },
   {
    "duration": 14,
    "start_time": "2022-01-19T12:43:35.821Z"
   },
   {
    "duration": 8,
    "start_time": "2022-01-19T12:43:35.837Z"
   },
   {
    "duration": 51,
    "start_time": "2022-01-19T12:43:35.846Z"
   },
   {
    "duration": 7,
    "start_time": "2022-01-19T12:43:35.899Z"
   },
   {
    "duration": 23,
    "start_time": "2022-01-19T12:43:35.908Z"
   },
   {
    "duration": 18,
    "start_time": "2022-01-19T12:43:35.933Z"
   },
   {
    "duration": 27,
    "start_time": "2022-01-19T12:43:35.952Z"
   },
   {
    "duration": 18,
    "start_time": "2022-01-19T12:43:35.981Z"
   },
   {
    "duration": 8,
    "start_time": "2022-01-19T12:43:36.001Z"
   },
   {
    "duration": 289,
    "start_time": "2022-01-19T12:43:36.010Z"
   },
   {
    "duration": 399,
    "start_time": "2022-01-19T12:43:36.301Z"
   },
   {
    "duration": 374,
    "start_time": "2022-01-19T12:43:36.702Z"
   },
   {
    "duration": 327,
    "start_time": "2022-01-19T12:43:37.078Z"
   },
   {
    "duration": 330,
    "start_time": "2022-01-19T12:43:37.407Z"
   },
   {
    "duration": 37,
    "start_time": "2022-01-19T12:43:37.741Z"
   },
   {
    "duration": 271,
    "start_time": "2022-01-19T12:43:37.780Z"
   },
   {
    "duration": 305,
    "start_time": "2022-01-19T12:43:38.053Z"
   },
   {
    "duration": 372,
    "start_time": "2022-01-19T12:43:38.360Z"
   },
   {
    "duration": 11,
    "start_time": "2022-01-19T12:43:38.734Z"
   },
   {
    "duration": 493,
    "start_time": "2022-01-19T12:43:38.747Z"
   },
   {
    "duration": 420,
    "start_time": "2022-01-19T12:43:39.242Z"
   },
   {
    "duration": 389,
    "start_time": "2022-01-19T12:43:39.664Z"
   },
   {
    "duration": 349,
    "start_time": "2022-01-19T12:43:40.055Z"
   },
   {
    "duration": 372,
    "start_time": "2022-01-19T12:43:40.405Z"
   },
   {
    "duration": 5,
    "start_time": "2022-01-19T12:43:40.779Z"
   },
   {
    "duration": 11,
    "start_time": "2022-01-19T12:43:40.798Z"
   },
   {
    "duration": 264,
    "start_time": "2022-01-19T12:43:40.810Z"
   },
   {
    "duration": 23,
    "start_time": "2022-01-19T12:43:41.075Z"
   },
   {
    "duration": 586,
    "start_time": "2022-01-19T12:43:41.100Z"
   },
   {
    "duration": 21,
    "start_time": "2022-01-19T12:43:41.688Z"
   },
   {
    "duration": 639,
    "start_time": "2022-01-19T12:43:41.711Z"
   },
   {
    "duration": 13,
    "start_time": "2022-01-19T12:43:42.352Z"
   },
   {
    "duration": 654,
    "start_time": "2022-01-19T12:43:42.366Z"
   },
   {
    "duration": 12,
    "start_time": "2022-01-19T12:43:43.022Z"
   },
   {
    "duration": 563,
    "start_time": "2022-01-19T12:43:43.035Z"
   },
   {
    "duration": 12,
    "start_time": "2022-01-19T12:43:43.600Z"
   },
   {
    "duration": 16,
    "start_time": "2022-01-19T12:43:43.613Z"
   }
  ],
  "kernelspec": {
   "display_name": "Python 3",
   "language": "python",
   "name": "python3"
  },
  "language_info": {
   "codemirror_mode": {
    "name": "ipython",
    "version": 3
   },
   "file_extension": ".py",
   "mimetype": "text/x-python",
   "name": "python",
   "nbconvert_exporter": "python",
   "pygments_lexer": "ipython3",
   "version": "3.7.8"
  },
  "toc": {
   "base_numbering": 1,
   "nav_menu": {},
   "number_sections": true,
   "sideBar": true,
   "skip_h1_title": true,
   "title_cell": "Table of Contents",
   "title_sidebar": "Contents",
   "toc_cell": false,
   "toc_position": {
    "height": "calc(100% - 180px)",
    "left": "10px",
    "top": "150px",
    "width": "366.388px"
   },
   "toc_section_display": true,
   "toc_window_display": true
  }
 },
 "nbformat": 4,
 "nbformat_minor": 2
}
